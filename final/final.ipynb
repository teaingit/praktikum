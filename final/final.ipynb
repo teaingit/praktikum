{
 "cells": [
  {
   "cell_type": "markdown",
   "id": "c1cd4583",
   "metadata": {
    "toc": true
   },
   "source": [
    "<h1>Оглавление<span class=\"tocSkip\"></span></h1>\n",
    "<div class=\"toc\"><ul class=\"toc-item\"><li><span><a href=\"#Подготовка-данных\" data-toc-modified-id=\"Подготовка-данных-1\"><span class=\"toc-item-num\">1&nbsp;&nbsp;</span>Подготовка данных</a></span><ul class=\"toc-item\"><li><span><a href=\"#Электроды\" data-toc-modified-id=\"Электроды-1.1\"><span class=\"toc-item-num\">1.1&nbsp;&nbsp;</span>Электроды</a></span></li><li><span><a href=\"#Сыпучие-материалы\" data-toc-modified-id=\"Сыпучие-материалы-1.2\"><span class=\"toc-item-num\">1.2&nbsp;&nbsp;</span>Сыпучие материалы</a></span></li><li><span><a href=\"#Сыпучие-материалы-время\" data-toc-modified-id=\"Сыпучие-материалы-время-1.3\"><span class=\"toc-item-num\">1.3&nbsp;&nbsp;</span>Сыпучие материалы время</a></span></li><li><span><a href=\"#Продувка-газом\" data-toc-modified-id=\"Продувка-газом-1.4\"><span class=\"toc-item-num\">1.4&nbsp;&nbsp;</span>Продувка газом</a></span></li><li><span><a href=\"#Температуры\" data-toc-modified-id=\"Температуры-1.5\"><span class=\"toc-item-num\">1.5&nbsp;&nbsp;</span>Температуры</a></span></li><li><span><a href=\"#Проволочные-материалы\" data-toc-modified-id=\"Проволочные-материалы-1.6\"><span class=\"toc-item-num\">1.6&nbsp;&nbsp;</span>Проволочные материалы</a></span></li><li><span><a href=\"#Проволочные-материалы-время\" data-toc-modified-id=\"Проволочные-материалы-время-1.7\"><span class=\"toc-item-num\">1.7&nbsp;&nbsp;</span>Проволочные материалы время</a></span></li><li><span><a href=\"#Вывод\" data-toc-modified-id=\"Вывод-1.8\"><span class=\"toc-item-num\">1.8&nbsp;&nbsp;</span>Вывод</a></span></li></ul></li><li><span><a href=\"#Примерный-план-решения\" data-toc-modified-id=\"Примерный-план-решения-2\"><span class=\"toc-item-num\">2&nbsp;&nbsp;</span>Примерный план решения</a></span><ul class=\"toc-item\"><li><span><a href=\"#Дополнения\" data-toc-modified-id=\"Дополнения-2.1\"><span class=\"toc-item-num\">2.1&nbsp;&nbsp;</span>Дополнения</a></span></li></ul></li><li><span><a href=\"#Дополнительная-обработка-данных\" data-toc-modified-id=\"Дополнительная-обработка-данных-3\"><span class=\"toc-item-num\">3&nbsp;&nbsp;</span>Дополнительная обработка данных</a></span><ul class=\"toc-item\"><li><span><a href=\"#Полные-партии\" data-toc-modified-id=\"Полные-партии-3.1\"><span class=\"toc-item-num\">3.1&nbsp;&nbsp;</span>Полные партии</a></span></li><li><span><a href=\"#Мультиколлинеарность\" data-toc-modified-id=\"Мультиколлинеарность-3.2\"><span class=\"toc-item-num\">3.2&nbsp;&nbsp;</span>Мультиколлинеарность</a></span></li><li><span><a href=\"#Train,-Test\" data-toc-modified-id=\"Train,-Test-3.3\"><span class=\"toc-item-num\">3.3&nbsp;&nbsp;</span>Train, Test</a></span></li><li><span><a href=\"#Вывод\" data-toc-modified-id=\"Вывод-3.4\"><span class=\"toc-item-num\">3.4&nbsp;&nbsp;</span>Вывод</a></span></li></ul></li><li><span><a href=\"#Модели\" data-toc-modified-id=\"Модели-4\"><span class=\"toc-item-num\">4&nbsp;&nbsp;</span>Модели</a></span><ul class=\"toc-item\"><li><span><a href=\"#Простая-модель-для-проверки-адекватности\" data-toc-modified-id=\"Простая-модель-для-проверки-адекватности-4.1\"><span class=\"toc-item-num\">4.1&nbsp;&nbsp;</span>Простая модель для проверки адекватности</a></span></li><li><span><a href=\"#Линейная-регрессия\" data-toc-modified-id=\"Линейная-регрессия-4.2\"><span class=\"toc-item-num\">4.2&nbsp;&nbsp;</span>Линейная регрессия</a></span></li><li><span><a href=\"#Случайный-лес\" data-toc-modified-id=\"Случайный-лес-4.3\"><span class=\"toc-item-num\">4.3&nbsp;&nbsp;</span>Случайный лес</a></span></li><li><span><a href=\"#Catboost\" data-toc-modified-id=\"Catboost-4.4\"><span class=\"toc-item-num\">4.4&nbsp;&nbsp;</span>Catboost</a></span></li><li><span><a href=\"#LightGBM\" data-toc-modified-id=\"LightGBM-4.5\"><span class=\"toc-item-num\">4.5&nbsp;&nbsp;</span>LightGBM</a></span></li><li><span><a href=\"#Вывод\" data-toc-modified-id=\"Вывод-4.6\"><span class=\"toc-item-num\">4.6&nbsp;&nbsp;</span>Вывод</a></span></li></ul></li><li><span><a href=\"#Тест-лучшей-модели\" data-toc-modified-id=\"Тест-лучшей-модели-5\"><span class=\"toc-item-num\">5&nbsp;&nbsp;</span>Тест лучшей модели</a></span></li><li><span><a href=\"#Вывод\" data-toc-modified-id=\"Вывод-6\"><span class=\"toc-item-num\">6&nbsp;&nbsp;</span>Вывод</a></span></li><li><span><a href=\"#Отчет\" data-toc-modified-id=\"Отчет-7\"><span class=\"toc-item-num\">7&nbsp;&nbsp;</span>Отчет</a></span></li></ul></div>"
   ]
  },
  {
   "cell_type": "markdown",
   "id": "abbaed16",
   "metadata": {},
   "source": [
    "# Промышленность"
   ]
  },
  {
   "cell_type": "markdown",
   "id": "f8956c4d",
   "metadata": {},
   "source": [
    "Необходимо оптимизировать производственные расходы за счет снижения потребления э/э на этапе обработки стали для металлургического комбината ООО \"Так закаляем сталь\"."
   ]
  },
  {
   "cell_type": "markdown",
   "id": "7ff16e19",
   "metadata": {},
   "source": [
    "**Задача**  \n",
    "Построить модель, которая предскажет температуру стали."
   ]
  },
  {
   "cell_type": "markdown",
   "id": "eadc1a49",
   "metadata": {},
   "source": [
    "**Описание этапов обработки**  \n",
    "1. Расплавленную сталь заливают в специальный ковш, который вмещает около 100 тонн. Данный ковш облицован огнеупорным кирпичом и имеет графитовые электроды для подогрева расплавленной стали;\n",
    "2. Десульфурация стали, то есть удаление вредной примеси - серы. Сера снижает механическую прочность и свариваемость стали и ухудшает её свойства; \n",
    "3. Отбор проб;\n",
    "4. Повышение температуры;\n",
    "5. Легирование, путем добавление кусков сплава из бункера для сыпучих материалов или проволки через специальный трайб-аппарат;\n",
    "6. Продувка инетрным газом;\n",
    "7. Перемешивание;\n",
    "8. Отбор проб.\n",
    "\n",
    "Пункты 5,6,7,8 повторяют пока сталь не достигнет требуемого химического состава.  \n",
    "Далее расплавленная сталь отправляется на доводку металла или поступает в машину непрерывной разливки. Оттуда выходит готовый продукт в виде заготовок-слябов."
   ]
  },
  {
   "cell_type": "markdown",
   "id": "1d33b119",
   "metadata": {},
   "source": [
    "**Описание данных**\n",
    "Мы имеем следующие данные:\n",
    " - data_arc.csv — данные об электродах;\n",
    " - data_bulk.csv — данные о подаче сыпучих материалов (объём);\n",
    " - data_bulk_time.csv — данные о подаче сыпучих материалов (время);\n",
    " - data_gas.csv — данные о продувке сплава газом;\n",
    " - data_temp.csv — результаты измерения температуры;\n",
    " - data_wire.csv — данные о проволочных материалах (объём);\n",
    " - data_wire_time.csv — данные о проволочных материалах (время).\n",
    " \n",
    "Во всех файлах столбец *key* содержит номер партии. В файлах может быть несколько строк с одинаковым значением *key*: они соответствуют разным итерациям обработки."
   ]
  },
  {
   "cell_type": "markdown",
   "id": "7c8e2dd4",
   "metadata": {},
   "source": [
    "## Подготовка данных"
   ]
  },
  {
   "cell_type": "code",
   "execution_count": 1,
   "id": "1b6a2ee3",
   "metadata": {},
   "outputs": [],
   "source": [
    "# Импортируем библиотеки для первичной обработки данных\n",
    "# импортируем библиотеку пандас\n",
    "import pandas as pd \n",
    "# импортируем библиотеку для работы с графиками\n",
    "import matplotlib.pyplot as plt \n",
    "#Импортируем библиотеку сеаборн для построения множественных графиков.\n",
    "import seaborn as sns\n",
    "# библиотека для работы с числами\n",
    "import numpy as np\n",
    "import IPython.display \n",
    "# игнорим предупреждения \n",
    "import warnings\n",
    "warnings.filterwarnings('ignore')\n",
    "# импортируем библиотеку для расчета метрик\n",
    "from sklearn.metrics import mean_absolute_error as mae\n",
    "# импортируем библиотеку для разделение на выборки, кроссвалидацию \n",
    "from sklearn.model_selection import train_test_split, cross_val_score, GridSearchCV, KFold\n",
    "# импортируем библиотеку для линейной регрессии\n",
    "from sklearn.linear_model import LinearRegression\n",
    "# импортируем библиотеку для регрессии случайным лесом\n",
    "from sklearn.ensemble import RandomForestRegressor\n",
    "# импортируем библиотеку для масштабирования\n",
    "from sklearn.preprocessing import MinMaxScaler\n",
    "# импортируем библиотеку утилит\n",
    "from sklearn.utils import shuffle \n",
    "# библиотека для градиентного бустинга (лёгкая машина градиентного бустинга от MS)\n",
    "from lightgbm import LGBMRegressor\n",
    "# библиотека для градиентного бустинга (от Яндекса)\n",
    "from catboost import CatBoostRegressor, Pool, cv"
   ]
  },
  {
   "cell_type": "markdown",
   "id": "d97796c1",
   "metadata": {},
   "source": [
    "Посмотрим на данные"
   ]
  },
  {
   "cell_type": "code",
   "execution_count": 3,
   "id": "5691a692",
   "metadata": {},
   "outputs": [],
   "source": [
    "# Создадим функцию которая будет выдавать информацию каждой из таблиц данных\n",
    "def information(name, inf, graf = False):\n",
    "    #name - имя .csv файла\n",
    "    #inf - описание этого файла\n",
    "    #graf - выводить ли график \n",
    "    print(inf)\n",
    "    data = pd.read_csv('/datasets/final_steel/' + name + '.csv') # загружаем данные\n",
    "    #data = pd.read_csv('final_steel/' + name + '.csv') # загружаем данные\n",
    "    display(data.head())\n",
    "    display(data.info())\n",
    "    if(data.shape[1]>10): \n",
    "        display(data.iloc[:, 1:10].describe())\n",
    "        display(data.iloc[:, 10:].describe())\n",
    "    else: display(data.iloc[:, 1:].describe())\n",
    "    print('Дубликаты', data.duplicated().sum())#Посчитаем количество дубликатов\n",
    "    print('Количество пропусков, %:')\n",
    "    display((data.isnull().sum() / data.shape[0])*100)\n",
    "    if (graf):\n",
    "        plt.figure(figsize=(15,(data.shape[1]-1)))\n",
    "        sns.boxplot(data=data.iloc[:, 1:], orient=\"h\")\n",
    "        plt.title(inf)\n",
    "        plt.show()\n",
    "    return data"
   ]
  },
  {
   "cell_type": "markdown",
   "id": "624536de",
   "metadata": {},
   "source": [
    "### Электроды"
   ]
  },
  {
   "cell_type": "code",
   "execution_count": 4,
   "id": "e6b87264",
   "metadata": {
    "scrolled": false
   },
   "outputs": [
    {
     "name": "stdout",
     "output_type": "stream",
     "text": [
      "Данные об электродах\n"
     ]
    },
    {
     "data": {
      "text/html": [
       "<div>\n",
       "<style scoped>\n",
       "    .dataframe tbody tr th:only-of-type {\n",
       "        vertical-align: middle;\n",
       "    }\n",
       "\n",
       "    .dataframe tbody tr th {\n",
       "        vertical-align: top;\n",
       "    }\n",
       "\n",
       "    .dataframe thead th {\n",
       "        text-align: right;\n",
       "    }\n",
       "</style>\n",
       "<table border=\"1\" class=\"dataframe\">\n",
       "  <thead>\n",
       "    <tr style=\"text-align: right;\">\n",
       "      <th></th>\n",
       "      <th>key</th>\n",
       "      <th>Начало нагрева дугой</th>\n",
       "      <th>Конец нагрева дугой</th>\n",
       "      <th>Активная мощность</th>\n",
       "      <th>Реактивная мощность</th>\n",
       "    </tr>\n",
       "  </thead>\n",
       "  <tbody>\n",
       "    <tr>\n",
       "      <th>0</th>\n",
       "      <td>1</td>\n",
       "      <td>2019-05-03 11:02:14</td>\n",
       "      <td>2019-05-03 11:06:02</td>\n",
       "      <td>0.976059</td>\n",
       "      <td>0.687084</td>\n",
       "    </tr>\n",
       "    <tr>\n",
       "      <th>1</th>\n",
       "      <td>1</td>\n",
       "      <td>2019-05-03 11:07:28</td>\n",
       "      <td>2019-05-03 11:10:33</td>\n",
       "      <td>0.805607</td>\n",
       "      <td>0.520285</td>\n",
       "    </tr>\n",
       "    <tr>\n",
       "      <th>2</th>\n",
       "      <td>1</td>\n",
       "      <td>2019-05-03 11:11:44</td>\n",
       "      <td>2019-05-03 11:14:36</td>\n",
       "      <td>0.744363</td>\n",
       "      <td>0.498805</td>\n",
       "    </tr>\n",
       "    <tr>\n",
       "      <th>3</th>\n",
       "      <td>1</td>\n",
       "      <td>2019-05-03 11:18:14</td>\n",
       "      <td>2019-05-03 11:24:19</td>\n",
       "      <td>1.659363</td>\n",
       "      <td>1.062669</td>\n",
       "    </tr>\n",
       "    <tr>\n",
       "      <th>4</th>\n",
       "      <td>1</td>\n",
       "      <td>2019-05-03 11:26:09</td>\n",
       "      <td>2019-05-03 11:28:37</td>\n",
       "      <td>0.692755</td>\n",
       "      <td>0.414397</td>\n",
       "    </tr>\n",
       "  </tbody>\n",
       "</table>\n",
       "</div>"
      ],
      "text/plain": [
       "   key Начало нагрева дугой  Конец нагрева дугой  Активная мощность  \\\n",
       "0    1  2019-05-03 11:02:14  2019-05-03 11:06:02           0.976059   \n",
       "1    1  2019-05-03 11:07:28  2019-05-03 11:10:33           0.805607   \n",
       "2    1  2019-05-03 11:11:44  2019-05-03 11:14:36           0.744363   \n",
       "3    1  2019-05-03 11:18:14  2019-05-03 11:24:19           1.659363   \n",
       "4    1  2019-05-03 11:26:09  2019-05-03 11:28:37           0.692755   \n",
       "\n",
       "   Реактивная мощность  \n",
       "0             0.687084  \n",
       "1             0.520285  \n",
       "2             0.498805  \n",
       "3             1.062669  \n",
       "4             0.414397  "
      ]
     },
     "metadata": {},
     "output_type": "display_data"
    },
    {
     "name": "stdout",
     "output_type": "stream",
     "text": [
      "<class 'pandas.core.frame.DataFrame'>\n",
      "RangeIndex: 14876 entries, 0 to 14875\n",
      "Data columns (total 5 columns):\n",
      " #   Column                Non-Null Count  Dtype  \n",
      "---  ------                --------------  -----  \n",
      " 0   key                   14876 non-null  int64  \n",
      " 1   Начало нагрева дугой  14876 non-null  object \n",
      " 2   Конец нагрева дугой   14876 non-null  object \n",
      " 3   Активная мощность     14876 non-null  float64\n",
      " 4   Реактивная мощность   14876 non-null  float64\n",
      "dtypes: float64(2), int64(1), object(2)\n",
      "memory usage: 581.2+ KB\n"
     ]
    },
    {
     "data": {
      "text/plain": [
       "None"
      ]
     },
     "metadata": {},
     "output_type": "display_data"
    },
    {
     "data": {
      "text/html": [
       "<div>\n",
       "<style scoped>\n",
       "    .dataframe tbody tr th:only-of-type {\n",
       "        vertical-align: middle;\n",
       "    }\n",
       "\n",
       "    .dataframe tbody tr th {\n",
       "        vertical-align: top;\n",
       "    }\n",
       "\n",
       "    .dataframe thead th {\n",
       "        text-align: right;\n",
       "    }\n",
       "</style>\n",
       "<table border=\"1\" class=\"dataframe\">\n",
       "  <thead>\n",
       "    <tr style=\"text-align: right;\">\n",
       "      <th></th>\n",
       "      <th>Активная мощность</th>\n",
       "      <th>Реактивная мощность</th>\n",
       "    </tr>\n",
       "  </thead>\n",
       "  <tbody>\n",
       "    <tr>\n",
       "      <th>count</th>\n",
       "      <td>14876.000000</td>\n",
       "      <td>14876.000000</td>\n",
       "    </tr>\n",
       "    <tr>\n",
       "      <th>mean</th>\n",
       "      <td>0.670441</td>\n",
       "      <td>0.452592</td>\n",
       "    </tr>\n",
       "    <tr>\n",
       "      <th>std</th>\n",
       "      <td>0.408159</td>\n",
       "      <td>5.878702</td>\n",
       "    </tr>\n",
       "    <tr>\n",
       "      <th>min</th>\n",
       "      <td>0.030002</td>\n",
       "      <td>-715.504924</td>\n",
       "    </tr>\n",
       "    <tr>\n",
       "      <th>25%</th>\n",
       "      <td>0.395297</td>\n",
       "      <td>0.290991</td>\n",
       "    </tr>\n",
       "    <tr>\n",
       "      <th>50%</th>\n",
       "      <td>0.555517</td>\n",
       "      <td>0.415962</td>\n",
       "    </tr>\n",
       "    <tr>\n",
       "      <th>75%</th>\n",
       "      <td>0.857034</td>\n",
       "      <td>0.637371</td>\n",
       "    </tr>\n",
       "    <tr>\n",
       "      <th>max</th>\n",
       "      <td>3.731596</td>\n",
       "      <td>2.676388</td>\n",
       "    </tr>\n",
       "  </tbody>\n",
       "</table>\n",
       "</div>"
      ],
      "text/plain": [
       "       Активная мощность  Реактивная мощность\n",
       "count       14876.000000         14876.000000\n",
       "mean            0.670441             0.452592\n",
       "std             0.408159             5.878702\n",
       "min             0.030002          -715.504924\n",
       "25%             0.395297             0.290991\n",
       "50%             0.555517             0.415962\n",
       "75%             0.857034             0.637371\n",
       "max             3.731596             2.676388"
      ]
     },
     "metadata": {},
     "output_type": "display_data"
    },
    {
     "name": "stdout",
     "output_type": "stream",
     "text": [
      "Дубликаты 0\n",
      "Количество пропусков, %:\n"
     ]
    },
    {
     "data": {
      "text/plain": [
       "key                     0.0\n",
       "Начало нагрева дугой    0.0\n",
       "Конец нагрева дугой     0.0\n",
       "Активная мощность       0.0\n",
       "Реактивная мощность     0.0\n",
       "dtype: float64"
      ]
     },
     "metadata": {},
     "output_type": "display_data"
    },
    {
     "data": {
      "image/png": "[encoded data removed]",
      "text/plain": [
       "<Figure size 1080x288 with 1 Axes>"
      ]
     },
     "metadata": {
      "needs_background": "light"
     },
     "output_type": "display_data"
    }
   ],
   "source": [
    "data_arc = information('data_arc', 'Данные об электродах', graf = True)"
   ]
  },
  {
   "cell_type": "markdown",
   "id": "7a6ec605",
   "metadata": {},
   "source": [
    "**Данные об электродах** содержах информацию об активной и реактивной мощности.  \n",
    "Требуется переименовать столбцы для дальнейшей работы.\n",
    "Требуется сменить тип данных object на datetime \n",
    "*Пропусков* нет, *дубликатов* нет.  \n",
    "Имеется один выброс в реактивной мощности со значением -715. Рассмотрим данную аномалию.  \n",
    "Дополнительно рассмотрим корреляцию между мощностями."
   ]
  },
  {
   "cell_type": "code",
   "execution_count": 5,
   "id": "a1b05e19",
   "metadata": {
    "scrolled": true
   },
   "outputs": [
    {
     "name": "stdout",
     "output_type": "stream",
     "text": [
      "<class 'pandas.core.frame.DataFrame'>\n",
      "RangeIndex: 14876 entries, 0 to 14875\n",
      "Data columns (total 5 columns):\n",
      " #   Column         Non-Null Count  Dtype         \n",
      "---  ------         --------------  -----         \n",
      " 0   key            14876 non-null  int64         \n",
      " 1   start_heating  14876 non-null  datetime64[ns]\n",
      " 2   stop_heating   14876 non-null  datetime64[ns]\n",
      " 3   p_act          14876 non-null  float64       \n",
      " 4   p_react        14876 non-null  float64       \n",
      "dtypes: datetime64[ns](2), float64(2), int64(1)\n",
      "memory usage: 581.2 KB\n"
     ]
    }
   ],
   "source": [
    "data_arc.set_axis(['key', 'start_heating','stop_heating','p_act', 'p_react'], axis = 'columns', inplace = True)\n",
    "data_arc['start_heating']= pd.to_datetime(\n",
    "    data_arc['start_heating'], format='%Y-%m-%d %H:%M:%S')\n",
    "data_arc['stop_heating']= pd.to_datetime(\n",
    "    data_arc['stop_heating'], format='%Y-%m-%d %H:%M:%S')\n",
    "data_arc['key'] = data_arc['key'].astype('int')\n",
    "data_arc.info()"
   ]
  },
  {
   "cell_type": "code",
   "execution_count": 6,
   "id": "23c195f1",
   "metadata": {},
   "outputs": [
    {
     "data": {
      "text/html": [
       "<div>\n",
       "<style scoped>\n",
       "    .dataframe tbody tr th:only-of-type {\n",
       "        vertical-align: middle;\n",
       "    }\n",
       "\n",
       "    .dataframe tbody tr th {\n",
       "        vertical-align: top;\n",
       "    }\n",
       "\n",
       "    .dataframe thead th {\n",
       "        text-align: right;\n",
       "    }\n",
       "</style>\n",
       "<table border=\"1\" class=\"dataframe\">\n",
       "  <thead>\n",
       "    <tr style=\"text-align: right;\">\n",
       "      <th></th>\n",
       "      <th>key</th>\n",
       "      <th>start_heating</th>\n",
       "      <th>stop_heating</th>\n",
       "      <th>p_act</th>\n",
       "      <th>p_react</th>\n",
       "    </tr>\n",
       "  </thead>\n",
       "  <tbody>\n",
       "    <tr>\n",
       "      <th>9780</th>\n",
       "      <td>2116</td>\n",
       "      <td>2019-07-24 00:44:48</td>\n",
       "      <td>2019-07-24 00:46:37</td>\n",
       "      <td>0.495782</td>\n",
       "      <td>-715.504924</td>\n",
       "    </tr>\n",
       "  </tbody>\n",
       "</table>\n",
       "</div>"
      ],
      "text/plain": [
       "       key       start_heating        stop_heating     p_act     p_react\n",
       "9780  2116 2019-07-24 00:44:48 2019-07-24 00:46:37  0.495782 -715.504924"
      ]
     },
     "execution_count": 6,
     "metadata": {},
     "output_type": "execute_result"
    }
   ],
   "source": [
    "data_arc.query('p_react<-700')"
   ]
  },
  {
   "cell_type": "code",
   "execution_count": 7,
   "id": "fde33990",
   "metadata": {},
   "outputs": [
    {
     "data": {
      "text/plain": [
       "0.9631819131519804"
      ]
     },
     "execution_count": 7,
     "metadata": {},
     "output_type": "execute_result"
    }
   ],
   "source": [
    "# посмотрим корреляцию кроме аномального значения\n",
    "data_copy = data_arc.drop(9780)\n",
    "data_copy['p_act'].corr(data_copy['p_react'])"
   ]
  },
  {
   "cell_type": "code",
   "execution_count": 8,
   "id": "d5906e89",
   "metadata": {},
   "outputs": [],
   "source": [
    "#Корреляция явная (с учетом 5% погрешности измерения), заполним данную аномалию согласно среднего коэффициента перевода\n",
    "koef_p_react = data_copy['p_act'].mean() / data_copy['p_react'].mean()\n",
    "data_arc['p_react'].where(~(data_arc['p_react']<-700), data_arc.loc[9780]['p_act'] / koef_p_react, inplace=True) "
   ]
  },
  {
   "cell_type": "code",
   "execution_count": 9,
   "id": "8dfd7183",
   "metadata": {},
   "outputs": [
    {
     "data": {
      "image/png": "[encoded data removed]",
      "text/plain": [
       "<Figure size 1080x288 with 1 Axes>"
      ]
     },
     "metadata": {
      "needs_background": "light"
     },
     "output_type": "display_data"
    }
   ],
   "source": [
    "# Построим новые ящики с усами\n",
    "plt.figure(figsize=(15,(data_arc.shape[1]-1)))\n",
    "sns.boxplot(data=data_arc.iloc[:, 1:], orient=\"h\")\n",
    "plt.title('inf')\n",
    "plt.show()"
   ]
  },
  {
   "cell_type": "markdown",
   "id": "a8dac83a",
   "metadata": {},
   "source": [
    "### Сыпучие материалы"
   ]
  },
  {
   "cell_type": "code",
   "execution_count": 10,
   "id": "a1075a26",
   "metadata": {
    "scrolled": false
   },
   "outputs": [
    {
     "name": "stdout",
     "output_type": "stream",
     "text": [
      "Данные о подаче сыпучих материалов(объем)\n"
     ]
    },
    {
     "data": {
      "text/html": [
       "<div>\n",
       "<style scoped>\n",
       "    .dataframe tbody tr th:only-of-type {\n",
       "        vertical-align: middle;\n",
       "    }\n",
       "\n",
       "    .dataframe tbody tr th {\n",
       "        vertical-align: top;\n",
       "    }\n",
       "\n",
       "    .dataframe thead th {\n",
       "        text-align: right;\n",
       "    }\n",
       "</style>\n",
       "<table border=\"1\" class=\"dataframe\">\n",
       "  <thead>\n",
       "    <tr style=\"text-align: right;\">\n",
       "      <th></th>\n",
       "      <th>key</th>\n",
       "      <th>Bulk 1</th>\n",
       "      <th>Bulk 2</th>\n",
       "      <th>Bulk 3</th>\n",
       "      <th>Bulk 4</th>\n",
       "      <th>Bulk 5</th>\n",
       "      <th>Bulk 6</th>\n",
       "      <th>Bulk 7</th>\n",
       "      <th>Bulk 8</th>\n",
       "      <th>Bulk 9</th>\n",
       "      <th>Bulk 10</th>\n",
       "      <th>Bulk 11</th>\n",
       "      <th>Bulk 12</th>\n",
       "      <th>Bulk 13</th>\n",
       "      <th>Bulk 14</th>\n",
       "      <th>Bulk 15</th>\n",
       "    </tr>\n",
       "  </thead>\n",
       "  <tbody>\n",
       "    <tr>\n",
       "      <th>0</th>\n",
       "      <td>1</td>\n",
       "      <td>NaN</td>\n",
       "      <td>NaN</td>\n",
       "      <td>NaN</td>\n",
       "      <td>43.0</td>\n",
       "      <td>NaN</td>\n",
       "      <td>NaN</td>\n",
       "      <td>NaN</td>\n",
       "      <td>NaN</td>\n",
       "      <td>NaN</td>\n",
       "      <td>NaN</td>\n",
       "      <td>NaN</td>\n",
       "      <td>206.0</td>\n",
       "      <td>NaN</td>\n",
       "      <td>150.0</td>\n",
       "      <td>154.0</td>\n",
       "    </tr>\n",
       "    <tr>\n",
       "      <th>1</th>\n",
       "      <td>2</td>\n",
       "      <td>NaN</td>\n",
       "      <td>NaN</td>\n",
       "      <td>NaN</td>\n",
       "      <td>73.0</td>\n",
       "      <td>NaN</td>\n",
       "      <td>NaN</td>\n",
       "      <td>NaN</td>\n",
       "      <td>NaN</td>\n",
       "      <td>NaN</td>\n",
       "      <td>NaN</td>\n",
       "      <td>NaN</td>\n",
       "      <td>206.0</td>\n",
       "      <td>NaN</td>\n",
       "      <td>149.0</td>\n",
       "      <td>154.0</td>\n",
       "    </tr>\n",
       "    <tr>\n",
       "      <th>2</th>\n",
       "      <td>3</td>\n",
       "      <td>NaN</td>\n",
       "      <td>NaN</td>\n",
       "      <td>NaN</td>\n",
       "      <td>34.0</td>\n",
       "      <td>NaN</td>\n",
       "      <td>NaN</td>\n",
       "      <td>NaN</td>\n",
       "      <td>NaN</td>\n",
       "      <td>NaN</td>\n",
       "      <td>NaN</td>\n",
       "      <td>NaN</td>\n",
       "      <td>205.0</td>\n",
       "      <td>NaN</td>\n",
       "      <td>152.0</td>\n",
       "      <td>153.0</td>\n",
       "    </tr>\n",
       "    <tr>\n",
       "      <th>3</th>\n",
       "      <td>4</td>\n",
       "      <td>NaN</td>\n",
       "      <td>NaN</td>\n",
       "      <td>NaN</td>\n",
       "      <td>81.0</td>\n",
       "      <td>NaN</td>\n",
       "      <td>NaN</td>\n",
       "      <td>NaN</td>\n",
       "      <td>NaN</td>\n",
       "      <td>NaN</td>\n",
       "      <td>NaN</td>\n",
       "      <td>NaN</td>\n",
       "      <td>207.0</td>\n",
       "      <td>NaN</td>\n",
       "      <td>153.0</td>\n",
       "      <td>154.0</td>\n",
       "    </tr>\n",
       "    <tr>\n",
       "      <th>4</th>\n",
       "      <td>5</td>\n",
       "      <td>NaN</td>\n",
       "      <td>NaN</td>\n",
       "      <td>NaN</td>\n",
       "      <td>78.0</td>\n",
       "      <td>NaN</td>\n",
       "      <td>NaN</td>\n",
       "      <td>NaN</td>\n",
       "      <td>NaN</td>\n",
       "      <td>NaN</td>\n",
       "      <td>NaN</td>\n",
       "      <td>NaN</td>\n",
       "      <td>203.0</td>\n",
       "      <td>NaN</td>\n",
       "      <td>151.0</td>\n",
       "      <td>152.0</td>\n",
       "    </tr>\n",
       "  </tbody>\n",
       "</table>\n",
       "</div>"
      ],
      "text/plain": [
       "   key  Bulk 1  Bulk 2  Bulk 3  Bulk 4  Bulk 5  Bulk 6  Bulk 7  Bulk 8  \\\n",
       "0    1     NaN     NaN     NaN    43.0     NaN     NaN     NaN     NaN   \n",
       "1    2     NaN     NaN     NaN    73.0     NaN     NaN     NaN     NaN   \n",
       "2    3     NaN     NaN     NaN    34.0     NaN     NaN     NaN     NaN   \n",
       "3    4     NaN     NaN     NaN    81.0     NaN     NaN     NaN     NaN   \n",
       "4    5     NaN     NaN     NaN    78.0     NaN     NaN     NaN     NaN   \n",
       "\n",
       "   Bulk 9  Bulk 10  Bulk 11  Bulk 12  Bulk 13  Bulk 14  Bulk 15  \n",
       "0     NaN      NaN      NaN    206.0      NaN    150.0    154.0  \n",
       "1     NaN      NaN      NaN    206.0      NaN    149.0    154.0  \n",
       "2     NaN      NaN      NaN    205.0      NaN    152.0    153.0  \n",
       "3     NaN      NaN      NaN    207.0      NaN    153.0    154.0  \n",
       "4     NaN      NaN      NaN    203.0      NaN    151.0    152.0  "
      ]
     },
     "metadata": {},
     "output_type": "display_data"
    },
    {
     "name": "stdout",
     "output_type": "stream",
     "text": [
      "<class 'pandas.core.frame.DataFrame'>\n",
      "RangeIndex: 3129 entries, 0 to 3128\n",
      "Data columns (total 16 columns):\n",
      " #   Column   Non-Null Count  Dtype  \n",
      "---  ------   --------------  -----  \n",
      " 0   key      3129 non-null   int64  \n",
      " 1   Bulk 1   252 non-null    float64\n",
      " 2   Bulk 2   22 non-null     float64\n",
      " 3   Bulk 3   1298 non-null   float64\n",
      " 4   Bulk 4   1014 non-null   float64\n",
      " 5   Bulk 5   77 non-null     float64\n",
      " 6   Bulk 6   576 non-null    float64\n",
      " 7   Bulk 7   25 non-null     float64\n",
      " 8   Bulk 8   1 non-null      float64\n",
      " 9   Bulk 9   19 non-null     float64\n",
      " 10  Bulk 10  176 non-null    float64\n",
      " 11  Bulk 11  177 non-null    float64\n",
      " 12  Bulk 12  2450 non-null   float64\n",
      " 13  Bulk 13  18 non-null     float64\n",
      " 14  Bulk 14  2806 non-null   float64\n",
      " 15  Bulk 15  2248 non-null   float64\n",
      "dtypes: float64(15), int64(1)\n",
      "memory usage: 391.2 KB\n"
     ]
    },
    {
     "data": {
      "text/plain": [
       "None"
      ]
     },
     "metadata": {},
     "output_type": "display_data"
    },
    {
     "data": {
      "text/html": [
       "<div>\n",
       "<style scoped>\n",
       "    .dataframe tbody tr th:only-of-type {\n",
       "        vertical-align: middle;\n",
       "    }\n",
       "\n",
       "    .dataframe tbody tr th {\n",
       "        vertical-align: top;\n",
       "    }\n",
       "\n",
       "    .dataframe thead th {\n",
       "        text-align: right;\n",
       "    }\n",
       "</style>\n",
       "<table border=\"1\" class=\"dataframe\">\n",
       "  <thead>\n",
       "    <tr style=\"text-align: right;\">\n",
       "      <th></th>\n",
       "      <th>Bulk 1</th>\n",
       "      <th>Bulk 2</th>\n",
       "      <th>Bulk 3</th>\n",
       "      <th>Bulk 4</th>\n",
       "      <th>Bulk 5</th>\n",
       "      <th>Bulk 6</th>\n",
       "      <th>Bulk 7</th>\n",
       "      <th>Bulk 8</th>\n",
       "      <th>Bulk 9</th>\n",
       "    </tr>\n",
       "  </thead>\n",
       "  <tbody>\n",
       "    <tr>\n",
       "      <th>count</th>\n",
       "      <td>252.000000</td>\n",
       "      <td>22.000000</td>\n",
       "      <td>1298.000000</td>\n",
       "      <td>1014.000000</td>\n",
       "      <td>77.000000</td>\n",
       "      <td>576.000000</td>\n",
       "      <td>25.000000</td>\n",
       "      <td>1.0</td>\n",
       "      <td>19.000000</td>\n",
       "    </tr>\n",
       "    <tr>\n",
       "      <th>mean</th>\n",
       "      <td>39.242063</td>\n",
       "      <td>253.045455</td>\n",
       "      <td>113.879045</td>\n",
       "      <td>104.394477</td>\n",
       "      <td>107.025974</td>\n",
       "      <td>118.925347</td>\n",
       "      <td>305.600000</td>\n",
       "      <td>49.0</td>\n",
       "      <td>76.315789</td>\n",
       "    </tr>\n",
       "    <tr>\n",
       "      <th>std</th>\n",
       "      <td>18.277654</td>\n",
       "      <td>21.180578</td>\n",
       "      <td>75.483494</td>\n",
       "      <td>48.184126</td>\n",
       "      <td>81.790646</td>\n",
       "      <td>72.057776</td>\n",
       "      <td>191.022904</td>\n",
       "      <td>NaN</td>\n",
       "      <td>21.720581</td>\n",
       "    </tr>\n",
       "    <tr>\n",
       "      <th>min</th>\n",
       "      <td>10.000000</td>\n",
       "      <td>228.000000</td>\n",
       "      <td>6.000000</td>\n",
       "      <td>12.000000</td>\n",
       "      <td>11.000000</td>\n",
       "      <td>17.000000</td>\n",
       "      <td>47.000000</td>\n",
       "      <td>49.0</td>\n",
       "      <td>63.000000</td>\n",
       "    </tr>\n",
       "    <tr>\n",
       "      <th>25%</th>\n",
       "      <td>27.000000</td>\n",
       "      <td>242.000000</td>\n",
       "      <td>58.000000</td>\n",
       "      <td>72.000000</td>\n",
       "      <td>70.000000</td>\n",
       "      <td>69.750000</td>\n",
       "      <td>155.000000</td>\n",
       "      <td>49.0</td>\n",
       "      <td>66.000000</td>\n",
       "    </tr>\n",
       "    <tr>\n",
       "      <th>50%</th>\n",
       "      <td>31.000000</td>\n",
       "      <td>251.500000</td>\n",
       "      <td>97.500000</td>\n",
       "      <td>102.000000</td>\n",
       "      <td>86.000000</td>\n",
       "      <td>100.000000</td>\n",
       "      <td>298.000000</td>\n",
       "      <td>49.0</td>\n",
       "      <td>68.000000</td>\n",
       "    </tr>\n",
       "    <tr>\n",
       "      <th>75%</th>\n",
       "      <td>46.000000</td>\n",
       "      <td>257.750000</td>\n",
       "      <td>152.000000</td>\n",
       "      <td>133.000000</td>\n",
       "      <td>132.000000</td>\n",
       "      <td>157.000000</td>\n",
       "      <td>406.000000</td>\n",
       "      <td>49.0</td>\n",
       "      <td>70.500000</td>\n",
       "    </tr>\n",
       "    <tr>\n",
       "      <th>max</th>\n",
       "      <td>185.000000</td>\n",
       "      <td>325.000000</td>\n",
       "      <td>454.000000</td>\n",
       "      <td>281.000000</td>\n",
       "      <td>603.000000</td>\n",
       "      <td>503.000000</td>\n",
       "      <td>772.000000</td>\n",
       "      <td>49.0</td>\n",
       "      <td>147.000000</td>\n",
       "    </tr>\n",
       "  </tbody>\n",
       "</table>\n",
       "</div>"
      ],
      "text/plain": [
       "           Bulk 1      Bulk 2       Bulk 3       Bulk 4      Bulk 5  \\\n",
       "count  252.000000   22.000000  1298.000000  1014.000000   77.000000   \n",
       "mean    39.242063  253.045455   113.879045   104.394477  107.025974   \n",
       "std     18.277654   21.180578    75.483494    48.184126   81.790646   \n",
       "min     10.000000  228.000000     6.000000    12.000000   11.000000   \n",
       "25%     27.000000  242.000000    58.000000    72.000000   70.000000   \n",
       "50%     31.000000  251.500000    97.500000   102.000000   86.000000   \n",
       "75%     46.000000  257.750000   152.000000   133.000000  132.000000   \n",
       "max    185.000000  325.000000   454.000000   281.000000  603.000000   \n",
       "\n",
       "           Bulk 6      Bulk 7  Bulk 8      Bulk 9  \n",
       "count  576.000000   25.000000     1.0   19.000000  \n",
       "mean   118.925347  305.600000    49.0   76.315789  \n",
       "std     72.057776  191.022904     NaN   21.720581  \n",
       "min     17.000000   47.000000    49.0   63.000000  \n",
       "25%     69.750000  155.000000    49.0   66.000000  \n",
       "50%    100.000000  298.000000    49.0   68.000000  \n",
       "75%    157.000000  406.000000    49.0   70.500000  \n",
       "max    503.000000  772.000000    49.0  147.000000  "
      ]
     },
     "metadata": {},
     "output_type": "display_data"
    },
    {
     "data": {
      "text/html": [
       "<div>\n",
       "<style scoped>\n",
       "    .dataframe tbody tr th:only-of-type {\n",
       "        vertical-align: middle;\n",
       "    }\n",
       "\n",
       "    .dataframe tbody tr th {\n",
       "        vertical-align: top;\n",
       "    }\n",
       "\n",
       "    .dataframe thead th {\n",
       "        text-align: right;\n",
       "    }\n",
       "</style>\n",
       "<table border=\"1\" class=\"dataframe\">\n",
       "  <thead>\n",
       "    <tr style=\"text-align: right;\">\n",
       "      <th></th>\n",
       "      <th>Bulk 10</th>\n",
       "      <th>Bulk 11</th>\n",
       "      <th>Bulk 12</th>\n",
       "      <th>Bulk 13</th>\n",
       "      <th>Bulk 14</th>\n",
       "      <th>Bulk 15</th>\n",
       "    </tr>\n",
       "  </thead>\n",
       "  <tbody>\n",
       "    <tr>\n",
       "      <th>count</th>\n",
       "      <td>176.000000</td>\n",
       "      <td>177.000000</td>\n",
       "      <td>2450.000000</td>\n",
       "      <td>18.000000</td>\n",
       "      <td>2806.000000</td>\n",
       "      <td>2248.000000</td>\n",
       "    </tr>\n",
       "    <tr>\n",
       "      <th>mean</th>\n",
       "      <td>83.284091</td>\n",
       "      <td>76.819209</td>\n",
       "      <td>260.471020</td>\n",
       "      <td>181.111111</td>\n",
       "      <td>170.284747</td>\n",
       "      <td>160.513345</td>\n",
       "    </tr>\n",
       "    <tr>\n",
       "      <th>std</th>\n",
       "      <td>26.060347</td>\n",
       "      <td>59.655365</td>\n",
       "      <td>120.649269</td>\n",
       "      <td>46.088009</td>\n",
       "      <td>65.868652</td>\n",
       "      <td>51.765319</td>\n",
       "    </tr>\n",
       "    <tr>\n",
       "      <th>min</th>\n",
       "      <td>24.000000</td>\n",
       "      <td>8.000000</td>\n",
       "      <td>53.000000</td>\n",
       "      <td>151.000000</td>\n",
       "      <td>16.000000</td>\n",
       "      <td>1.000000</td>\n",
       "    </tr>\n",
       "    <tr>\n",
       "      <th>25%</th>\n",
       "      <td>64.000000</td>\n",
       "      <td>25.000000</td>\n",
       "      <td>204.000000</td>\n",
       "      <td>153.250000</td>\n",
       "      <td>119.000000</td>\n",
       "      <td>105.000000</td>\n",
       "    </tr>\n",
       "    <tr>\n",
       "      <th>50%</th>\n",
       "      <td>86.500000</td>\n",
       "      <td>64.000000</td>\n",
       "      <td>208.000000</td>\n",
       "      <td>155.500000</td>\n",
       "      <td>151.000000</td>\n",
       "      <td>160.000000</td>\n",
       "    </tr>\n",
       "    <tr>\n",
       "      <th>75%</th>\n",
       "      <td>102.000000</td>\n",
       "      <td>106.000000</td>\n",
       "      <td>316.000000</td>\n",
       "      <td>203.500000</td>\n",
       "      <td>205.750000</td>\n",
       "      <td>205.000000</td>\n",
       "    </tr>\n",
       "    <tr>\n",
       "      <th>max</th>\n",
       "      <td>159.000000</td>\n",
       "      <td>313.000000</td>\n",
       "      <td>1849.000000</td>\n",
       "      <td>305.000000</td>\n",
       "      <td>636.000000</td>\n",
       "      <td>405.000000</td>\n",
       "    </tr>\n",
       "  </tbody>\n",
       "</table>\n",
       "</div>"
      ],
      "text/plain": [
       "          Bulk 10     Bulk 11      Bulk 12     Bulk 13      Bulk 14  \\\n",
       "count  176.000000  177.000000  2450.000000   18.000000  2806.000000   \n",
       "mean    83.284091   76.819209   260.471020  181.111111   170.284747   \n",
       "std     26.060347   59.655365   120.649269   46.088009    65.868652   \n",
       "min     24.000000    8.000000    53.000000  151.000000    16.000000   \n",
       "25%     64.000000   25.000000   204.000000  153.250000   119.000000   \n",
       "50%     86.500000   64.000000   208.000000  155.500000   151.000000   \n",
       "75%    102.000000  106.000000   316.000000  203.500000   205.750000   \n",
       "max    159.000000  313.000000  1849.000000  305.000000   636.000000   \n",
       "\n",
       "           Bulk 15  \n",
       "count  2248.000000  \n",
       "mean    160.513345  \n",
       "std      51.765319  \n",
       "min       1.000000  \n",
       "25%     105.000000  \n",
       "50%     160.000000  \n",
       "75%     205.000000  \n",
       "max     405.000000  "
      ]
     },
     "metadata": {},
     "output_type": "display_data"
    },
    {
     "name": "stdout",
     "output_type": "stream",
     "text": [
      "Дубликаты 0\n",
      "Количество пропусков, %:\n"
     ]
    },
    {
     "data": {
      "text/plain": [
       "key         0.000000\n",
       "Bulk 1     91.946309\n",
       "Bulk 2     99.296900\n",
       "Bulk 3     58.517098\n",
       "Bulk 4     67.593480\n",
       "Bulk 5     97.539150\n",
       "Bulk 6     81.591563\n",
       "Bulk 7     99.201023\n",
       "Bulk 8     99.968041\n",
       "Bulk 9     99.392777\n",
       "Bulk 10    94.375200\n",
       "Bulk 11    94.343241\n",
       "Bulk 12    21.700224\n",
       "Bulk 13    99.424736\n",
       "Bulk 14    10.322787\n",
       "Bulk 15    28.155960\n",
       "dtype: float64"
      ]
     },
     "metadata": {},
     "output_type": "display_data"
    },
    {
     "data": {
      "image/png": "[encoded data removed]",
      "text/plain": [
       "<Figure size 1080x1080 with 1 Axes>"
      ]
     },
     "metadata": {
      "needs_background": "light"
     },
     "output_type": "display_data"
    }
   ],
   "source": [
    "data_bulk = information('data_bulk', 'Данные о подаче сыпучих материалов(объем)', graf = True)"
   ]
  },
  {
   "cell_type": "markdown",
   "id": "5f995f9a",
   "metadata": {},
   "source": [
    "В сыпучих материалах имеем много пропусков, НО это не пропуски а нулевые значения, то есть данный компонент не вносили в сталь в данной партии. Сразу же заменим все пропуски нулями.  \n",
    "Требуется переименовать столбцы.  \n",
    "Сменим тип данных на целочисленный.  "
   ]
  },
  {
   "cell_type": "code",
   "execution_count": 11,
   "id": "d41d0194",
   "metadata": {},
   "outputs": [
    {
     "name": "stdout",
     "output_type": "stream",
     "text": [
      "Количество пропусков:\n"
     ]
    },
    {
     "data": {
      "text/plain": [
       "key    0\n",
       "b1     0\n",
       "b2     0\n",
       "b3     0\n",
       "b4     0\n",
       "b5     0\n",
       "b6     0\n",
       "b7     0\n",
       "b8     0\n",
       "b9     0\n",
       "b10    0\n",
       "b11    0\n",
       "b12    0\n",
       "b13    0\n",
       "b14    0\n",
       "b15    0\n",
       "dtype: int64"
      ]
     },
     "metadata": {},
     "output_type": "display_data"
    }
   ],
   "source": [
    "data_bulk.set_axis(\n",
    "    ['key', 'b1','b2','b3', 'b4', 'b5', 'b6','b7','b8', 'b9', 'b10', 'b11','b12','b13', 'b14', 'b15'], \n",
    "    axis = 'columns', inplace = True)\n",
    "data_bulk = data_bulk.fillna(0) \n",
    "print('Количество пропусков:')\n",
    "display(data_bulk.isnull().sum())"
   ]
  },
  {
   "cell_type": "code",
   "execution_count": 12,
   "id": "d297bb93",
   "metadata": {},
   "outputs": [
    {
     "name": "stdout",
     "output_type": "stream",
     "text": [
      "<class 'pandas.core.frame.DataFrame'>\n",
      "RangeIndex: 3129 entries, 0 to 3128\n",
      "Data columns (total 16 columns):\n",
      " #   Column  Non-Null Count  Dtype\n",
      "---  ------  --------------  -----\n",
      " 0   key     3129 non-null   int32\n",
      " 1   b1      3129 non-null   int32\n",
      " 2   b2      3129 non-null   int32\n",
      " 3   b3      3129 non-null   int32\n",
      " 4   b4      3129 non-null   int32\n",
      " 5   b5      3129 non-null   int32\n",
      " 6   b6      3129 non-null   int32\n",
      " 7   b7      3129 non-null   int32\n",
      " 8   b8      3129 non-null   int32\n",
      " 9   b9      3129 non-null   int32\n",
      " 10  b10     3129 non-null   int32\n",
      " 11  b11     3129 non-null   int32\n",
      " 12  b12     3129 non-null   int32\n",
      " 13  b13     3129 non-null   int32\n",
      " 14  b14     3129 non-null   int32\n",
      " 15  b15     3129 non-null   int32\n",
      "dtypes: int32(16)\n",
      "memory usage: 195.7 KB\n"
     ]
    }
   ],
   "source": [
    "data_bulk = data_bulk.astype('int32')\n",
    "data_bulk.info()"
   ]
  },
  {
   "cell_type": "markdown",
   "id": "014f0a49",
   "metadata": {},
   "source": [
    "### Сыпучие материалы время"
   ]
  },
  {
   "cell_type": "code",
   "execution_count": 13,
   "id": "78ca0b42",
   "metadata": {
    "scrolled": false
   },
   "outputs": [
    {
     "name": "stdout",
     "output_type": "stream",
     "text": [
      "Данные о подаче сыпучих материалов(время)\n"
     ]
    },
    {
     "data": {
      "text/html": [
       "<div>\n",
       "<style scoped>\n",
       "    .dataframe tbody tr th:only-of-type {\n",
       "        vertical-align: middle;\n",
       "    }\n",
       "\n",
       "    .dataframe tbody tr th {\n",
       "        vertical-align: top;\n",
       "    }\n",
       "\n",
       "    .dataframe thead th {\n",
       "        text-align: right;\n",
       "    }\n",
       "</style>\n",
       "<table border=\"1\" class=\"dataframe\">\n",
       "  <thead>\n",
       "    <tr style=\"text-align: right;\">\n",
       "      <th></th>\n",
       "      <th>key</th>\n",
       "      <th>Bulk 1</th>\n",
       "      <th>Bulk 2</th>\n",
       "      <th>Bulk 3</th>\n",
       "      <th>Bulk 4</th>\n",
       "      <th>Bulk 5</th>\n",
       "      <th>Bulk 6</th>\n",
       "      <th>Bulk 7</th>\n",
       "      <th>Bulk 8</th>\n",
       "      <th>Bulk 9</th>\n",
       "      <th>Bulk 10</th>\n",
       "      <th>Bulk 11</th>\n",
       "      <th>Bulk 12</th>\n",
       "      <th>Bulk 13</th>\n",
       "      <th>Bulk 14</th>\n",
       "      <th>Bulk 15</th>\n",
       "    </tr>\n",
       "  </thead>\n",
       "  <tbody>\n",
       "    <tr>\n",
       "      <th>0</th>\n",
       "      <td>1</td>\n",
       "      <td>NaN</td>\n",
       "      <td>NaN</td>\n",
       "      <td>NaN</td>\n",
       "      <td>2019-05-03 11:21:30</td>\n",
       "      <td>NaN</td>\n",
       "      <td>NaN</td>\n",
       "      <td>NaN</td>\n",
       "      <td>NaN</td>\n",
       "      <td>NaN</td>\n",
       "      <td>NaN</td>\n",
       "      <td>NaN</td>\n",
       "      <td>2019-05-03 11:03:52</td>\n",
       "      <td>NaN</td>\n",
       "      <td>2019-05-03 11:03:52</td>\n",
       "      <td>2019-05-03 11:03:52</td>\n",
       "    </tr>\n",
       "    <tr>\n",
       "      <th>1</th>\n",
       "      <td>2</td>\n",
       "      <td>NaN</td>\n",
       "      <td>NaN</td>\n",
       "      <td>NaN</td>\n",
       "      <td>2019-05-03 11:46:38</td>\n",
       "      <td>NaN</td>\n",
       "      <td>NaN</td>\n",
       "      <td>NaN</td>\n",
       "      <td>NaN</td>\n",
       "      <td>NaN</td>\n",
       "      <td>NaN</td>\n",
       "      <td>NaN</td>\n",
       "      <td>2019-05-03 11:40:20</td>\n",
       "      <td>NaN</td>\n",
       "      <td>2019-05-03 11:40:20</td>\n",
       "      <td>2019-05-03 11:40:20</td>\n",
       "    </tr>\n",
       "    <tr>\n",
       "      <th>2</th>\n",
       "      <td>3</td>\n",
       "      <td>NaN</td>\n",
       "      <td>NaN</td>\n",
       "      <td>NaN</td>\n",
       "      <td>2019-05-03 12:31:06</td>\n",
       "      <td>NaN</td>\n",
       "      <td>NaN</td>\n",
       "      <td>NaN</td>\n",
       "      <td>NaN</td>\n",
       "      <td>NaN</td>\n",
       "      <td>NaN</td>\n",
       "      <td>NaN</td>\n",
       "      <td>2019-05-03 12:09:40</td>\n",
       "      <td>NaN</td>\n",
       "      <td>2019-05-03 12:09:40</td>\n",
       "      <td>2019-05-03 12:09:40</td>\n",
       "    </tr>\n",
       "    <tr>\n",
       "      <th>3</th>\n",
       "      <td>4</td>\n",
       "      <td>NaN</td>\n",
       "      <td>NaN</td>\n",
       "      <td>NaN</td>\n",
       "      <td>2019-05-03 12:48:43</td>\n",
       "      <td>NaN</td>\n",
       "      <td>NaN</td>\n",
       "      <td>NaN</td>\n",
       "      <td>NaN</td>\n",
       "      <td>NaN</td>\n",
       "      <td>NaN</td>\n",
       "      <td>NaN</td>\n",
       "      <td>2019-05-03 12:41:24</td>\n",
       "      <td>NaN</td>\n",
       "      <td>2019-05-03 12:41:24</td>\n",
       "      <td>2019-05-03 12:41:24</td>\n",
       "    </tr>\n",
       "    <tr>\n",
       "      <th>4</th>\n",
       "      <td>5</td>\n",
       "      <td>NaN</td>\n",
       "      <td>NaN</td>\n",
       "      <td>NaN</td>\n",
       "      <td>2019-05-03 13:18:50</td>\n",
       "      <td>NaN</td>\n",
       "      <td>NaN</td>\n",
       "      <td>NaN</td>\n",
       "      <td>NaN</td>\n",
       "      <td>NaN</td>\n",
       "      <td>NaN</td>\n",
       "      <td>NaN</td>\n",
       "      <td>2019-05-03 13:12:56</td>\n",
       "      <td>NaN</td>\n",
       "      <td>2019-05-03 13:12:56</td>\n",
       "      <td>2019-05-03 13:12:56</td>\n",
       "    </tr>\n",
       "  </tbody>\n",
       "</table>\n",
       "</div>"
      ],
      "text/plain": [
       "   key Bulk 1 Bulk 2 Bulk 3               Bulk 4 Bulk 5 Bulk 6 Bulk 7 Bulk 8  \\\n",
       "0    1    NaN    NaN    NaN  2019-05-03 11:21:30    NaN    NaN    NaN    NaN   \n",
       "1    2    NaN    NaN    NaN  2019-05-03 11:46:38    NaN    NaN    NaN    NaN   \n",
       "2    3    NaN    NaN    NaN  2019-05-03 12:31:06    NaN    NaN    NaN    NaN   \n",
       "3    4    NaN    NaN    NaN  2019-05-03 12:48:43    NaN    NaN    NaN    NaN   \n",
       "4    5    NaN    NaN    NaN  2019-05-03 13:18:50    NaN    NaN    NaN    NaN   \n",
       "\n",
       "  Bulk 9 Bulk 10 Bulk 11              Bulk 12 Bulk 13              Bulk 14  \\\n",
       "0    NaN     NaN     NaN  2019-05-03 11:03:52     NaN  2019-05-03 11:03:52   \n",
       "1    NaN     NaN     NaN  2019-05-03 11:40:20     NaN  2019-05-03 11:40:20   \n",
       "2    NaN     NaN     NaN  2019-05-03 12:09:40     NaN  2019-05-03 12:09:40   \n",
       "3    NaN     NaN     NaN  2019-05-03 12:41:24     NaN  2019-05-03 12:41:24   \n",
       "4    NaN     NaN     NaN  2019-05-03 13:12:56     NaN  2019-05-03 13:12:56   \n",
       "\n",
       "               Bulk 15  \n",
       "0  2019-05-03 11:03:52  \n",
       "1  2019-05-03 11:40:20  \n",
       "2  2019-05-03 12:09:40  \n",
       "3  2019-05-03 12:41:24  \n",
       "4  2019-05-03 13:12:56  "
      ]
     },
     "metadata": {},
     "output_type": "display_data"
    },
    {
     "name": "stdout",
     "output_type": "stream",
     "text": [
      "<class 'pandas.core.frame.DataFrame'>\n",
      "RangeIndex: 3129 entries, 0 to 3128\n",
      "Data columns (total 16 columns):\n",
      " #   Column   Non-Null Count  Dtype \n",
      "---  ------   --------------  ----- \n",
      " 0   key      3129 non-null   int64 \n",
      " 1   Bulk 1   252 non-null    object\n",
      " 2   Bulk 2   22 non-null     object\n",
      " 3   Bulk 3   1298 non-null   object\n",
      " 4   Bulk 4   1014 non-null   object\n",
      " 5   Bulk 5   77 non-null     object\n",
      " 6   Bulk 6   576 non-null    object\n",
      " 7   Bulk 7   25 non-null     object\n",
      " 8   Bulk 8   1 non-null      object\n",
      " 9   Bulk 9   19 non-null     object\n",
      " 10  Bulk 10  176 non-null    object\n",
      " 11  Bulk 11  177 non-null    object\n",
      " 12  Bulk 12  2450 non-null   object\n",
      " 13  Bulk 13  18 non-null     object\n",
      " 14  Bulk 14  2806 non-null   object\n",
      " 15  Bulk 15  2248 non-null   object\n",
      "dtypes: int64(1), object(15)\n",
      "memory usage: 391.2+ KB\n"
     ]
    },
    {
     "data": {
      "text/plain": [
       "None"
      ]
     },
     "metadata": {},
     "output_type": "display_data"
    },
    {
     "data": {
      "text/html": [
       "<div>\n",
       "<style scoped>\n",
       "    .dataframe tbody tr th:only-of-type {\n",
       "        vertical-align: middle;\n",
       "    }\n",
       "\n",
       "    .dataframe tbody tr th {\n",
       "        vertical-align: top;\n",
       "    }\n",
       "\n",
       "    .dataframe thead th {\n",
       "        text-align: right;\n",
       "    }\n",
       "</style>\n",
       "<table border=\"1\" class=\"dataframe\">\n",
       "  <thead>\n",
       "    <tr style=\"text-align: right;\">\n",
       "      <th></th>\n",
       "      <th>Bulk 1</th>\n",
       "      <th>Bulk 2</th>\n",
       "      <th>Bulk 3</th>\n",
       "      <th>Bulk 4</th>\n",
       "      <th>Bulk 5</th>\n",
       "      <th>Bulk 6</th>\n",
       "      <th>Bulk 7</th>\n",
       "      <th>Bulk 8</th>\n",
       "      <th>Bulk 9</th>\n",
       "    </tr>\n",
       "  </thead>\n",
       "  <tbody>\n",
       "    <tr>\n",
       "      <th>count</th>\n",
       "      <td>252</td>\n",
       "      <td>22</td>\n",
       "      <td>1298</td>\n",
       "      <td>1014</td>\n",
       "      <td>77</td>\n",
       "      <td>576</td>\n",
       "      <td>25</td>\n",
       "      <td>1</td>\n",
       "      <td>19</td>\n",
       "    </tr>\n",
       "    <tr>\n",
       "      <th>unique</th>\n",
       "      <td>252</td>\n",
       "      <td>22</td>\n",
       "      <td>1298</td>\n",
       "      <td>1014</td>\n",
       "      <td>77</td>\n",
       "      <td>576</td>\n",
       "      <td>25</td>\n",
       "      <td>1</td>\n",
       "      <td>19</td>\n",
       "    </tr>\n",
       "    <tr>\n",
       "      <th>top</th>\n",
       "      <td>2019-06-09 09:34:48</td>\n",
       "      <td>2019-08-08 09:34:53</td>\n",
       "      <td>2019-06-27 03:47:56</td>\n",
       "      <td>2019-05-28 03:00:16</td>\n",
       "      <td>2019-08-08 09:34:53</td>\n",
       "      <td>2019-08-02 20:56:32</td>\n",
       "      <td>2019-06-21 14:05:53</td>\n",
       "      <td>2019-07-05 17:46:11</td>\n",
       "      <td>2019-07-05 17:44:46</td>\n",
       "    </tr>\n",
       "    <tr>\n",
       "      <th>freq</th>\n",
       "      <td>1</td>\n",
       "      <td>1</td>\n",
       "      <td>1</td>\n",
       "      <td>1</td>\n",
       "      <td>1</td>\n",
       "      <td>1</td>\n",
       "      <td>1</td>\n",
       "      <td>1</td>\n",
       "      <td>1</td>\n",
       "    </tr>\n",
       "  </tbody>\n",
       "</table>\n",
       "</div>"
      ],
      "text/plain": [
       "                     Bulk 1               Bulk 2               Bulk 3  \\\n",
       "count                   252                   22                 1298   \n",
       "unique                  252                   22                 1298   \n",
       "top     2019-06-09 09:34:48  2019-08-08 09:34:53  2019-06-27 03:47:56   \n",
       "freq                      1                    1                    1   \n",
       "\n",
       "                     Bulk 4               Bulk 5               Bulk 6  \\\n",
       "count                  1014                   77                  576   \n",
       "unique                 1014                   77                  576   \n",
       "top     2019-05-28 03:00:16  2019-08-08 09:34:53  2019-08-02 20:56:32   \n",
       "freq                      1                    1                    1   \n",
       "\n",
       "                     Bulk 7               Bulk 8               Bulk 9  \n",
       "count                    25                    1                   19  \n",
       "unique                   25                    1                   19  \n",
       "top     2019-06-21 14:05:53  2019-07-05 17:46:11  2019-07-05 17:44:46  \n",
       "freq                      1                    1                    1  "
      ]
     },
     "metadata": {},
     "output_type": "display_data"
    },
    {
     "data": {
      "text/html": [
       "<div>\n",
       "<style scoped>\n",
       "    .dataframe tbody tr th:only-of-type {\n",
       "        vertical-align: middle;\n",
       "    }\n",
       "\n",
       "    .dataframe tbody tr th {\n",
       "        vertical-align: top;\n",
       "    }\n",
       "\n",
       "    .dataframe thead th {\n",
       "        text-align: right;\n",
       "    }\n",
       "</style>\n",
       "<table border=\"1\" class=\"dataframe\">\n",
       "  <thead>\n",
       "    <tr style=\"text-align: right;\">\n",
       "      <th></th>\n",
       "      <th>Bulk 10</th>\n",
       "      <th>Bulk 11</th>\n",
       "      <th>Bulk 12</th>\n",
       "      <th>Bulk 13</th>\n",
       "      <th>Bulk 14</th>\n",
       "      <th>Bulk 15</th>\n",
       "    </tr>\n",
       "  </thead>\n",
       "  <tbody>\n",
       "    <tr>\n",
       "      <th>count</th>\n",
       "      <td>176</td>\n",
       "      <td>177</td>\n",
       "      <td>2450</td>\n",
       "      <td>18</td>\n",
       "      <td>2806</td>\n",
       "      <td>2248</td>\n",
       "    </tr>\n",
       "    <tr>\n",
       "      <th>unique</th>\n",
       "      <td>176</td>\n",
       "      <td>177</td>\n",
       "      <td>2450</td>\n",
       "      <td>18</td>\n",
       "      <td>2806</td>\n",
       "      <td>2248</td>\n",
       "    </tr>\n",
       "    <tr>\n",
       "      <th>top</th>\n",
       "      <td>2019-07-06 06:39:03</td>\n",
       "      <td>2019-08-25 21:31:42</td>\n",
       "      <td>2019-06-12 22:13:40</td>\n",
       "      <td>2019-05-15 17:09:56</td>\n",
       "      <td>2019-07-16 02:38:13</td>\n",
       "      <td>2019-07-16 02:38:13</td>\n",
       "    </tr>\n",
       "    <tr>\n",
       "      <th>freq</th>\n",
       "      <td>1</td>\n",
       "      <td>1</td>\n",
       "      <td>1</td>\n",
       "      <td>1</td>\n",
       "      <td>1</td>\n",
       "      <td>1</td>\n",
       "    </tr>\n",
       "  </tbody>\n",
       "</table>\n",
       "</div>"
      ],
      "text/plain": [
       "                    Bulk 10              Bulk 11              Bulk 12  \\\n",
       "count                   176                  177                 2450   \n",
       "unique                  176                  177                 2450   \n",
       "top     2019-07-06 06:39:03  2019-08-25 21:31:42  2019-06-12 22:13:40   \n",
       "freq                      1                    1                    1   \n",
       "\n",
       "                    Bulk 13              Bulk 14              Bulk 15  \n",
       "count                    18                 2806                 2248  \n",
       "unique                   18                 2806                 2248  \n",
       "top     2019-05-15 17:09:56  2019-07-16 02:38:13  2019-07-16 02:38:13  \n",
       "freq                      1                    1                    1  "
      ]
     },
     "metadata": {},
     "output_type": "display_data"
    },
    {
     "name": "stdout",
     "output_type": "stream",
     "text": [
      "Дубликаты 0\n",
      "Количество пропусков, %:\n"
     ]
    },
    {
     "data": {
      "text/plain": [
       "key         0.000000\n",
       "Bulk 1     91.946309\n",
       "Bulk 2     99.296900\n",
       "Bulk 3     58.517098\n",
       "Bulk 4     67.593480\n",
       "Bulk 5     97.539150\n",
       "Bulk 6     81.591563\n",
       "Bulk 7     99.201023\n",
       "Bulk 8     99.968041\n",
       "Bulk 9     99.392777\n",
       "Bulk 10    94.375200\n",
       "Bulk 11    94.343241\n",
       "Bulk 12    21.700224\n",
       "Bulk 13    99.424736\n",
       "Bulk 14    10.322787\n",
       "Bulk 15    28.155960\n",
       "dtype: float64"
      ]
     },
     "metadata": {},
     "output_type": "display_data"
    }
   ],
   "source": [
    "data_bulk_time = information('data_bulk_time', 'Данные о подаче сыпучих материалов(время)')"
   ]
  },
  {
   "cell_type": "markdown",
   "id": "7df9246a",
   "metadata": {},
   "source": [
    "Нужно изменить названия столбцов.  \n",
    "Требуется изменить тип данных на datetime, пропуски не нужно заполнять, так как они означают что материал не добавляли в этой партии."
   ]
  },
  {
   "cell_type": "code",
   "execution_count": 14,
   "id": "9cfa149a",
   "metadata": {},
   "outputs": [],
   "source": [
    "data_bulk_time.set_axis(\n",
    "    ['key', 'b1','b2','b3', 'b4', 'b5', 'b6','b7','b8', 'b9', 'b10', 'b11','b12','b13', 'b14', 'b15'], \n",
    "    axis = 'columns', inplace = True)"
   ]
  },
  {
   "cell_type": "code",
   "execution_count": 15,
   "id": "94ad5e7e",
   "metadata": {},
   "outputs": [
    {
     "name": "stdout",
     "output_type": "stream",
     "text": [
      "<class 'pandas.core.frame.DataFrame'>\n",
      "RangeIndex: 3129 entries, 0 to 3128\n",
      "Data columns (total 16 columns):\n",
      " #   Column  Non-Null Count  Dtype         \n",
      "---  ------  --------------  -----         \n",
      " 0   key     3129 non-null   int64         \n",
      " 1   b1      252 non-null    datetime64[ns]\n",
      " 2   b2      22 non-null     datetime64[ns]\n",
      " 3   b3      1298 non-null   datetime64[ns]\n",
      " 4   b4      1014 non-null   datetime64[ns]\n",
      " 5   b5      77 non-null     datetime64[ns]\n",
      " 6   b6      576 non-null    datetime64[ns]\n",
      " 7   b7      25 non-null     datetime64[ns]\n",
      " 8   b8      1 non-null      datetime64[ns]\n",
      " 9   b9      19 non-null     datetime64[ns]\n",
      " 10  b10     176 non-null    datetime64[ns]\n",
      " 11  b11     177 non-null    datetime64[ns]\n",
      " 12  b12     2450 non-null   datetime64[ns]\n",
      " 13  b13     18 non-null     datetime64[ns]\n",
      " 14  b14     2806 non-null   datetime64[ns]\n",
      " 15  b15     2248 non-null   datetime64[ns]\n",
      "dtypes: datetime64[ns](15), int64(1)\n",
      "memory usage: 391.2 KB\n"
     ]
    }
   ],
   "source": [
    "for ind in data_bulk_time.columns:\n",
    "    if ind == 'key':\n",
    "        data_bulk_time[ind] = data_bulk_time[ind].astype('int')\n",
    "    else: data_bulk_time[ind]= pd.to_datetime(data_bulk_time[ind], format='%Y-%m-%d %H:%M:%S')\n",
    "\n",
    "data_bulk_time.info()"
   ]
  },
  {
   "cell_type": "markdown",
   "id": "a2ec762a",
   "metadata": {},
   "source": [
    "Маловероятно что эти данные нам вообще могут понадобиться, но оставим для 1 теории что при добавлении в определенном порядке у нас температура по разному меняется."
   ]
  },
  {
   "cell_type": "markdown",
   "id": "177ff396",
   "metadata": {},
   "source": [
    "### Продувка газом"
   ]
  },
  {
   "cell_type": "code",
   "execution_count": 16,
   "id": "e623f6f9",
   "metadata": {},
   "outputs": [
    {
     "name": "stdout",
     "output_type": "stream",
     "text": [
      "Данные о продувке сплава газом\n"
     ]
    },
    {
     "data": {
      "text/html": [
       "<div>\n",
       "<style scoped>\n",
       "    .dataframe tbody tr th:only-of-type {\n",
       "        vertical-align: middle;\n",
       "    }\n",
       "\n",
       "    .dataframe tbody tr th {\n",
       "        vertical-align: top;\n",
       "    }\n",
       "\n",
       "    .dataframe thead th {\n",
       "        text-align: right;\n",
       "    }\n",
       "</style>\n",
       "<table border=\"1\" class=\"dataframe\">\n",
       "  <thead>\n",
       "    <tr style=\"text-align: right;\">\n",
       "      <th></th>\n",
       "      <th>key</th>\n",
       "      <th>Газ 1</th>\n",
       "    </tr>\n",
       "  </thead>\n",
       "  <tbody>\n",
       "    <tr>\n",
       "      <th>0</th>\n",
       "      <td>1</td>\n",
       "      <td>29.749986</td>\n",
       "    </tr>\n",
       "    <tr>\n",
       "      <th>1</th>\n",
       "      <td>2</td>\n",
       "      <td>12.555561</td>\n",
       "    </tr>\n",
       "    <tr>\n",
       "      <th>2</th>\n",
       "      <td>3</td>\n",
       "      <td>28.554793</td>\n",
       "    </tr>\n",
       "    <tr>\n",
       "      <th>3</th>\n",
       "      <td>4</td>\n",
       "      <td>18.841219</td>\n",
       "    </tr>\n",
       "    <tr>\n",
       "      <th>4</th>\n",
       "      <td>5</td>\n",
       "      <td>5.413692</td>\n",
       "    </tr>\n",
       "  </tbody>\n",
       "</table>\n",
       "</div>"
      ],
      "text/plain": [
       "   key      Газ 1\n",
       "0    1  29.749986\n",
       "1    2  12.555561\n",
       "2    3  28.554793\n",
       "3    4  18.841219\n",
       "4    5   5.413692"
      ]
     },
     "metadata": {},
     "output_type": "display_data"
    },
    {
     "name": "stdout",
     "output_type": "stream",
     "text": [
      "<class 'pandas.core.frame.DataFrame'>\n",
      "RangeIndex: 3239 entries, 0 to 3238\n",
      "Data columns (total 2 columns):\n",
      " #   Column  Non-Null Count  Dtype  \n",
      "---  ------  --------------  -----  \n",
      " 0   key     3239 non-null   int64  \n",
      " 1   Газ 1   3239 non-null   float64\n",
      "dtypes: float64(1), int64(1)\n",
      "memory usage: 50.7 KB\n"
     ]
    },
    {
     "data": {
      "text/plain": [
       "None"
      ]
     },
     "metadata": {},
     "output_type": "display_data"
    },
    {
     "data": {
      "text/html": [
       "<div>\n",
       "<style scoped>\n",
       "    .dataframe tbody tr th:only-of-type {\n",
       "        vertical-align: middle;\n",
       "    }\n",
       "\n",
       "    .dataframe tbody tr th {\n",
       "        vertical-align: top;\n",
       "    }\n",
       "\n",
       "    .dataframe thead th {\n",
       "        text-align: right;\n",
       "    }\n",
       "</style>\n",
       "<table border=\"1\" class=\"dataframe\">\n",
       "  <thead>\n",
       "    <tr style=\"text-align: right;\">\n",
       "      <th></th>\n",
       "      <th>Газ 1</th>\n",
       "    </tr>\n",
       "  </thead>\n",
       "  <tbody>\n",
       "    <tr>\n",
       "      <th>count</th>\n",
       "      <td>3239.000000</td>\n",
       "    </tr>\n",
       "    <tr>\n",
       "      <th>mean</th>\n",
       "      <td>11.002062</td>\n",
       "    </tr>\n",
       "    <tr>\n",
       "      <th>std</th>\n",
       "      <td>6.220327</td>\n",
       "    </tr>\n",
       "    <tr>\n",
       "      <th>min</th>\n",
       "      <td>0.008399</td>\n",
       "    </tr>\n",
       "    <tr>\n",
       "      <th>25%</th>\n",
       "      <td>7.043089</td>\n",
       "    </tr>\n",
       "    <tr>\n",
       "      <th>50%</th>\n",
       "      <td>9.836267</td>\n",
       "    </tr>\n",
       "    <tr>\n",
       "      <th>75%</th>\n",
       "      <td>13.769915</td>\n",
       "    </tr>\n",
       "    <tr>\n",
       "      <th>max</th>\n",
       "      <td>77.995040</td>\n",
       "    </tr>\n",
       "  </tbody>\n",
       "</table>\n",
       "</div>"
      ],
      "text/plain": [
       "             Газ 1\n",
       "count  3239.000000\n",
       "mean     11.002062\n",
       "std       6.220327\n",
       "min       0.008399\n",
       "25%       7.043089\n",
       "50%       9.836267\n",
       "75%      13.769915\n",
       "max      77.995040"
      ]
     },
     "metadata": {},
     "output_type": "display_data"
    },
    {
     "name": "stdout",
     "output_type": "stream",
     "text": [
      "Дубликаты 0\n",
      "Количество пропусков, %:\n"
     ]
    },
    {
     "data": {
      "text/plain": [
       "key      0.0\n",
       "Газ 1    0.0\n",
       "dtype: float64"
      ]
     },
     "metadata": {},
     "output_type": "display_data"
    },
    {
     "data": {
      "image/png": "[encoded data removed]",
      "text/plain": [
       "<Figure size 1080x72 with 1 Axes>"
      ]
     },
     "metadata": {
      "needs_background": "light"
     },
     "output_type": "display_data"
    }
   ],
   "source": [
    "data_gas = information('data_gas', 'Данные о продувке сплава газом', graf = True)"
   ]
  },
  {
   "cell_type": "markdown",
   "id": "3f68c2aa",
   "metadata": {},
   "source": [
    "Требуется изменить название столбца Газ 1.  \n",
    "*Пропусков* нет, *дубликатов* нет.  \n",
    "Аномальных значений тоже нет.  \n",
    "Тип данных верный."
   ]
  },
  {
   "cell_type": "code",
   "execution_count": 17,
   "id": "eadcbb95",
   "metadata": {},
   "outputs": [
    {
     "name": "stdout",
     "output_type": "stream",
     "text": [
      "<class 'pandas.core.frame.DataFrame'>\n",
      "RangeIndex: 3239 entries, 0 to 3238\n",
      "Data columns (total 2 columns):\n",
      " #   Column  Non-Null Count  Dtype  \n",
      "---  ------  --------------  -----  \n",
      " 0   key     3239 non-null   int64  \n",
      " 1   gas     3239 non-null   float64\n",
      "dtypes: float64(1), int64(1)\n",
      "memory usage: 50.7 KB\n"
     ]
    },
    {
     "data": {
      "text/plain": [
       "None"
      ]
     },
     "metadata": {},
     "output_type": "display_data"
    }
   ],
   "source": [
    "data_gas.set_axis(['key', 'gas'], axis = 'columns', inplace = True)\n",
    "data_gas['key'] = data_gas['key'].astype('int')\n",
    "display(data_gas.info())"
   ]
  },
  {
   "cell_type": "markdown",
   "id": "be4d5e4d",
   "metadata": {},
   "source": [
    "Не понятно в чем измеряется продувка газом. Возможно на фоне нагрева, которому необходимо значительно больше ээ чем другим процессам, например продувка, подача проволки или насыпка, оптимизация продувки не принесет желаемого снижения ээ. Поэтому данная таблица скорее всего не принесет пользы."
   ]
  },
  {
   "cell_type": "markdown",
   "id": "c35d6213",
   "metadata": {},
   "source": [
    "### Температуры"
   ]
  },
  {
   "cell_type": "code",
   "execution_count": 18,
   "id": "4e29c80a",
   "metadata": {},
   "outputs": [
    {
     "name": "stdout",
     "output_type": "stream",
     "text": [
      "Результаты измерения температуры\n"
     ]
    },
    {
     "data": {
      "text/html": [
       "<div>\n",
       "<style scoped>\n",
       "    .dataframe tbody tr th:only-of-type {\n",
       "        vertical-align: middle;\n",
       "    }\n",
       "\n",
       "    .dataframe tbody tr th {\n",
       "        vertical-align: top;\n",
       "    }\n",
       "\n",
       "    .dataframe thead th {\n",
       "        text-align: right;\n",
       "    }\n",
       "</style>\n",
       "<table border=\"1\" class=\"dataframe\">\n",
       "  <thead>\n",
       "    <tr style=\"text-align: right;\">\n",
       "      <th></th>\n",
       "      <th>key</th>\n",
       "      <th>Время замера</th>\n",
       "      <th>Температура</th>\n",
       "    </tr>\n",
       "  </thead>\n",
       "  <tbody>\n",
       "    <tr>\n",
       "      <th>0</th>\n",
       "      <td>1</td>\n",
       "      <td>2019-05-03 11:16:18</td>\n",
       "      <td>1571.0</td>\n",
       "    </tr>\n",
       "    <tr>\n",
       "      <th>1</th>\n",
       "      <td>1</td>\n",
       "      <td>2019-05-03 11:25:53</td>\n",
       "      <td>1604.0</td>\n",
       "    </tr>\n",
       "    <tr>\n",
       "      <th>2</th>\n",
       "      <td>1</td>\n",
       "      <td>2019-05-03 11:29:11</td>\n",
       "      <td>1618.0</td>\n",
       "    </tr>\n",
       "    <tr>\n",
       "      <th>3</th>\n",
       "      <td>1</td>\n",
       "      <td>2019-05-03 11:30:01</td>\n",
       "      <td>1601.0</td>\n",
       "    </tr>\n",
       "    <tr>\n",
       "      <th>4</th>\n",
       "      <td>1</td>\n",
       "      <td>2019-05-03 11:30:39</td>\n",
       "      <td>1613.0</td>\n",
       "    </tr>\n",
       "  </tbody>\n",
       "</table>\n",
       "</div>"
      ],
      "text/plain": [
       "   key         Время замера  Температура\n",
       "0    1  2019-05-03 11:16:18       1571.0\n",
       "1    1  2019-05-03 11:25:53       1604.0\n",
       "2    1  2019-05-03 11:29:11       1618.0\n",
       "3    1  2019-05-03 11:30:01       1601.0\n",
       "4    1  2019-05-03 11:30:39       1613.0"
      ]
     },
     "metadata": {},
     "output_type": "display_data"
    },
    {
     "name": "stdout",
     "output_type": "stream",
     "text": [
      "<class 'pandas.core.frame.DataFrame'>\n",
      "RangeIndex: 15907 entries, 0 to 15906\n",
      "Data columns (total 3 columns):\n",
      " #   Column        Non-Null Count  Dtype  \n",
      "---  ------        --------------  -----  \n",
      " 0   key           15907 non-null  int64  \n",
      " 1   Время замера  15907 non-null  object \n",
      " 2   Температура   13006 non-null  float64\n",
      "dtypes: float64(1), int64(1), object(1)\n",
      "memory usage: 372.9+ KB\n"
     ]
    },
    {
     "data": {
      "text/plain": [
       "None"
      ]
     },
     "metadata": {},
     "output_type": "display_data"
    },
    {
     "data": {
      "text/html": [
       "<div>\n",
       "<style scoped>\n",
       "    .dataframe tbody tr th:only-of-type {\n",
       "        vertical-align: middle;\n",
       "    }\n",
       "\n",
       "    .dataframe tbody tr th {\n",
       "        vertical-align: top;\n",
       "    }\n",
       "\n",
       "    .dataframe thead th {\n",
       "        text-align: right;\n",
       "    }\n",
       "</style>\n",
       "<table border=\"1\" class=\"dataframe\">\n",
       "  <thead>\n",
       "    <tr style=\"text-align: right;\">\n",
       "      <th></th>\n",
       "      <th>Температура</th>\n",
       "    </tr>\n",
       "  </thead>\n",
       "  <tbody>\n",
       "    <tr>\n",
       "      <th>count</th>\n",
       "      <td>13006.000000</td>\n",
       "    </tr>\n",
       "    <tr>\n",
       "      <th>mean</th>\n",
       "      <td>1591.840920</td>\n",
       "    </tr>\n",
       "    <tr>\n",
       "      <th>std</th>\n",
       "      <td>21.375851</td>\n",
       "    </tr>\n",
       "    <tr>\n",
       "      <th>min</th>\n",
       "      <td>1191.000000</td>\n",
       "    </tr>\n",
       "    <tr>\n",
       "      <th>25%</th>\n",
       "      <td>1581.000000</td>\n",
       "    </tr>\n",
       "    <tr>\n",
       "      <th>50%</th>\n",
       "      <td>1591.000000</td>\n",
       "    </tr>\n",
       "    <tr>\n",
       "      <th>75%</th>\n",
       "      <td>1601.000000</td>\n",
       "    </tr>\n",
       "    <tr>\n",
       "      <th>max</th>\n",
       "      <td>1705.000000</td>\n",
       "    </tr>\n",
       "  </tbody>\n",
       "</table>\n",
       "</div>"
      ],
      "text/plain": [
       "        Температура\n",
       "count  13006.000000\n",
       "mean    1591.840920\n",
       "std       21.375851\n",
       "min     1191.000000\n",
       "25%     1581.000000\n",
       "50%     1591.000000\n",
       "75%     1601.000000\n",
       "max     1705.000000"
      ]
     },
     "metadata": {},
     "output_type": "display_data"
    },
    {
     "name": "stdout",
     "output_type": "stream",
     "text": [
      "Дубликаты 0\n",
      "Количество пропусков, %:\n"
     ]
    },
    {
     "data": {
      "text/plain": [
       "key              0.000000\n",
       "Время замера     0.000000\n",
       "Температура     18.237254\n",
       "dtype: float64"
      ]
     },
     "metadata": {},
     "output_type": "display_data"
    },
    {
     "data": {
      "image/png": "[encoded data removed]",
      "text/plain": [
       "<Figure size 1080x144 with 1 Axes>"
      ]
     },
     "metadata": {
      "needs_background": "light"
     },
     "output_type": "display_data"
    }
   ],
   "source": [
    "data_temp = information('data_temp', 'Результаты измерения температуры', graf = True)"
   ]
  },
  {
   "cell_type": "markdown",
   "id": "657e943c",
   "metadata": {},
   "source": [
    "Мы имеем 2901 пропуск в 15907 данных, то есть 18,2% данных. Замеры температуры невозможно восстановить, придется удалять данные, **но позже**.  \n",
    "Минимальное значение 1191 это примерная температура начала плавления чугуна, то есть сплав железа начинает отвердевать. Поглядим на подогрев сплава в этих нескольких точках. Но сначала переименуем столбцы и приведем значения в нужный тип данных."
   ]
  },
  {
   "cell_type": "code",
   "execution_count": 19,
   "id": "db575c27",
   "metadata": {},
   "outputs": [],
   "source": [
    "data_temp.set_axis(['key', 'time','temper'], axis = 'columns', inplace = True)"
   ]
  },
  {
   "cell_type": "raw",
   "id": "453aa5e2",
   "metadata": {},
   "source": [
    "data_temp.dropna(inplace = True) # Удалять не нужно"
   ]
  },
  {
   "cell_type": "raw",
   "id": "1bc0b239",
   "metadata": {},
   "source": [
    "data_temp['key'] = data_temp['key'].astype('int')\n",
    "data_temp['time'] = pd.to_datetime(data_temp['time'], format='%Y-%m-%d %H:%M:%S')\n",
    "data_temp['temper'] = data_temp['temper'].astype('int')\n",
    "\n",
    "data_temp.info()"
   ]
  },
  {
   "cell_type": "code",
   "execution_count": 20,
   "id": "90bb4af2",
   "metadata": {},
   "outputs": [
    {
     "data": {
      "text/html": [
       "<div>\n",
       "<style scoped>\n",
       "    .dataframe tbody tr th:only-of-type {\n",
       "        vertical-align: middle;\n",
       "    }\n",
       "\n",
       "    .dataframe tbody tr th {\n",
       "        vertical-align: top;\n",
       "    }\n",
       "\n",
       "    .dataframe thead th {\n",
       "        text-align: right;\n",
       "    }\n",
       "</style>\n",
       "<table border=\"1\" class=\"dataframe\">\n",
       "  <thead>\n",
       "    <tr style=\"text-align: right;\">\n",
       "      <th></th>\n",
       "      <th>key</th>\n",
       "      <th>time</th>\n",
       "      <th>temper</th>\n",
       "    </tr>\n",
       "  </thead>\n",
       "  <tbody>\n",
       "    <tr>\n",
       "      <th>4350</th>\n",
       "      <td>867</td>\n",
       "      <td>2019-06-04 14:21:00</td>\n",
       "      <td>1191.0</td>\n",
       "    </tr>\n",
       "    <tr>\n",
       "      <th>5978</th>\n",
       "      <td>1214</td>\n",
       "      <td>2019-06-16 05:32:00</td>\n",
       "      <td>1208.0</td>\n",
       "    </tr>\n",
       "    <tr>\n",
       "      <th>7958</th>\n",
       "      <td>1619</td>\n",
       "      <td>2019-06-30 11:03:54</td>\n",
       "      <td>1218.0</td>\n",
       "    </tr>\n",
       "    <tr>\n",
       "      <th>8913</th>\n",
       "      <td>1818</td>\n",
       "      <td>2019-07-07 00:30:49</td>\n",
       "      <td>1383.0</td>\n",
       "    </tr>\n",
       "    <tr>\n",
       "      <th>8914</th>\n",
       "      <td>1818</td>\n",
       "      <td>2019-07-07 00:31:40</td>\n",
       "      <td>1383.0</td>\n",
       "    </tr>\n",
       "    <tr>\n",
       "      <th>10127</th>\n",
       "      <td>2052</td>\n",
       "      <td>2019-07-21 14:51:40</td>\n",
       "      <td>1227.0</td>\n",
       "    </tr>\n",
       "    <tr>\n",
       "      <th>12564</th>\n",
       "      <td>2561</td>\n",
       "      <td>2019-08-08 07:34:15</td>\n",
       "      <td>1204.0</td>\n",
       "    </tr>\n",
       "  </tbody>\n",
       "</table>\n",
       "</div>"
      ],
      "text/plain": [
       "        key                 time  temper\n",
       "4350    867  2019-06-04 14:21:00  1191.0\n",
       "5978   1214  2019-06-16 05:32:00  1208.0\n",
       "7958   1619  2019-06-30 11:03:54  1218.0\n",
       "8913   1818  2019-07-07 00:30:49  1383.0\n",
       "8914   1818  2019-07-07 00:31:40  1383.0\n",
       "10127  2052  2019-07-21 14:51:40  1227.0\n",
       "12564  2561  2019-08-08 07:34:15  1204.0"
      ]
     },
     "execution_count": 20,
     "metadata": {},
     "output_type": "execute_result"
    }
   ],
   "source": [
    "data_temp.query('temper < 1400')"
   ]
  },
  {
   "cell_type": "code",
   "execution_count": 21,
   "id": "ee4e7286",
   "metadata": {},
   "outputs": [
    {
     "data": {
      "image/png": "[encoded data removed]",
      "text/plain": [
       "<Figure size 576x360 with 1 Axes>"
      ]
     },
     "metadata": {
      "needs_background": "light"
     },
     "output_type": "display_data"
    },
    {
     "data": {
      "image/png": "[encoded data removed]",
      "text/plain": [
       "<Figure size 576x360 with 1 Axes>"
      ]
     },
     "metadata": {
      "needs_background": "light"
     },
     "output_type": "display_data"
    },
    {
     "data": {
      "image/png": "[encoded data removed]",
      "text/plain": [
       "<Figure size 576x360 with 1 Axes>"
      ]
     },
     "metadata": {
      "needs_background": "light"
     },
     "output_type": "display_data"
    }
   ],
   "source": [
    "plt.figure(figsize=(8,5))\n",
    "sns.distplot(data_temp.query(\n",
    "    'key == 867 or key == 1214 or key == 1619 or key == 1818 or key == 2052 or key == 2561')['temper'], label='Выбросы')\n",
    "sns.distplot(data_temp.query(\n",
    "    'key!=867 and key!=1214 and key!=1619 and key!=1818 and key!=2052 and key!=2561')['temper'], label='Нормальные значения')\n",
    "plt.legend()\n",
    "#plt.set(xlabel='Размер гранул')\n",
    "plt.title('Температура на различных партиях', fontsize=16)\n",
    "plt.xlabel('Температура, С')\n",
    "plt.show()\n",
    "\n",
    "plt.figure(figsize=(8,5))\n",
    "sns.distplot(data_arc.query(\n",
    "    'key == 867 or key == 1214 or key == 1619 or key == 1818 or key == 2052 or key == 2561')['p_act'], label='Выбросы')\n",
    "sns.distplot(data_arc.query(\n",
    "    'key!=867 and key!=1214 and key!= 1619 and key!=1818 and key!=2052 and key!=2561')['p_act'], label='Нормальные значения')\n",
    "plt.legend()\n",
    "#plt.set(xlabel='Размер гранул')\n",
    "plt.title('Активная мощность на различных партиях', fontsize=16)\n",
    "plt.xlabel('Активная мощность')\n",
    "plt.show()\n",
    "\n",
    "plt.figure(figsize=(8,5))\n",
    "sns.distplot(data_arc.query(\n",
    "    'key == 867 or key == 1214 or key == 1619 or key == 1818 or key == 2052 or key == 2561')['p_act'], label='Выбросы')\n",
    "sns.distplot(data_arc.query(\n",
    "    'key!=867 and key!=1214 and key!= 1619 and key!=1818 and key!=2052 and key!=2561')['p_react'], label='Нормальные значения')\n",
    "plt.legend()\n",
    "#plt.set(xlabel='Размер гранул')\n",
    "plt.title('Реактивная мощность на различных партиях', fontsize=16)\n",
    "plt.xlabel('Реактивная мощность')\n",
    "plt.show()"
   ]
  },
  {
   "cell_type": "markdown",
   "id": "bd82d39b",
   "metadata": {},
   "source": [
    "Зависимость между снижением температуры в стадиях со значениями с выбросами и мощностью подогрева не прослеживается. Партии с низкими температурами имеют похожее распределение мощности как и другие партии. Возможно неудачно измерили температуру, а может и такой сплав."
   ]
  },
  {
   "cell_type": "markdown",
   "id": "a759f182",
   "metadata": {},
   "source": [
    "### Проволочные материалы"
   ]
  },
  {
   "cell_type": "code",
   "execution_count": 22,
   "id": "1f0f757d",
   "metadata": {},
   "outputs": [
    {
     "name": "stdout",
     "output_type": "stream",
     "text": [
      "Данные о проволочных материалах(объем)\n"
     ]
    },
    {
     "data": {
      "text/html": [
       "<div>\n",
       "<style scoped>\n",
       "    .dataframe tbody tr th:only-of-type {\n",
       "        vertical-align: middle;\n",
       "    }\n",
       "\n",
       "    .dataframe tbody tr th {\n",
       "        vertical-align: top;\n",
       "    }\n",
       "\n",
       "    .dataframe thead th {\n",
       "        text-align: right;\n",
       "    }\n",
       "</style>\n",
       "<table border=\"1\" class=\"dataframe\">\n",
       "  <thead>\n",
       "    <tr style=\"text-align: right;\">\n",
       "      <th></th>\n",
       "      <th>key</th>\n",
       "      <th>Wire 1</th>\n",
       "      <th>Wire 2</th>\n",
       "      <th>Wire 3</th>\n",
       "      <th>Wire 4</th>\n",
       "      <th>Wire 5</th>\n",
       "      <th>Wire 6</th>\n",
       "      <th>Wire 7</th>\n",
       "      <th>Wire 8</th>\n",
       "      <th>Wire 9</th>\n",
       "    </tr>\n",
       "  </thead>\n",
       "  <tbody>\n",
       "    <tr>\n",
       "      <th>0</th>\n",
       "      <td>1</td>\n",
       "      <td>60.059998</td>\n",
       "      <td>NaN</td>\n",
       "      <td>NaN</td>\n",
       "      <td>NaN</td>\n",
       "      <td>NaN</td>\n",
       "      <td>NaN</td>\n",
       "      <td>NaN</td>\n",
       "      <td>NaN</td>\n",
       "      <td>NaN</td>\n",
       "    </tr>\n",
       "    <tr>\n",
       "      <th>1</th>\n",
       "      <td>2</td>\n",
       "      <td>96.052315</td>\n",
       "      <td>NaN</td>\n",
       "      <td>NaN</td>\n",
       "      <td>NaN</td>\n",
       "      <td>NaN</td>\n",
       "      <td>NaN</td>\n",
       "      <td>NaN</td>\n",
       "      <td>NaN</td>\n",
       "      <td>NaN</td>\n",
       "    </tr>\n",
       "    <tr>\n",
       "      <th>2</th>\n",
       "      <td>3</td>\n",
       "      <td>91.160157</td>\n",
       "      <td>NaN</td>\n",
       "      <td>NaN</td>\n",
       "      <td>NaN</td>\n",
       "      <td>NaN</td>\n",
       "      <td>NaN</td>\n",
       "      <td>NaN</td>\n",
       "      <td>NaN</td>\n",
       "      <td>NaN</td>\n",
       "    </tr>\n",
       "    <tr>\n",
       "      <th>3</th>\n",
       "      <td>4</td>\n",
       "      <td>89.063515</td>\n",
       "      <td>NaN</td>\n",
       "      <td>NaN</td>\n",
       "      <td>NaN</td>\n",
       "      <td>NaN</td>\n",
       "      <td>NaN</td>\n",
       "      <td>NaN</td>\n",
       "      <td>NaN</td>\n",
       "      <td>NaN</td>\n",
       "    </tr>\n",
       "    <tr>\n",
       "      <th>4</th>\n",
       "      <td>5</td>\n",
       "      <td>89.238236</td>\n",
       "      <td>9.11456</td>\n",
       "      <td>NaN</td>\n",
       "      <td>NaN</td>\n",
       "      <td>NaN</td>\n",
       "      <td>NaN</td>\n",
       "      <td>NaN</td>\n",
       "      <td>NaN</td>\n",
       "      <td>NaN</td>\n",
       "    </tr>\n",
       "  </tbody>\n",
       "</table>\n",
       "</div>"
      ],
      "text/plain": [
       "   key     Wire 1   Wire 2  Wire 3  Wire 4  Wire 5  Wire 6  Wire 7  Wire 8  \\\n",
       "0    1  60.059998      NaN     NaN     NaN     NaN     NaN     NaN     NaN   \n",
       "1    2  96.052315      NaN     NaN     NaN     NaN     NaN     NaN     NaN   \n",
       "2    3  91.160157      NaN     NaN     NaN     NaN     NaN     NaN     NaN   \n",
       "3    4  89.063515      NaN     NaN     NaN     NaN     NaN     NaN     NaN   \n",
       "4    5  89.238236  9.11456     NaN     NaN     NaN     NaN     NaN     NaN   \n",
       "\n",
       "   Wire 9  \n",
       "0     NaN  \n",
       "1     NaN  \n",
       "2     NaN  \n",
       "3     NaN  \n",
       "4     NaN  "
      ]
     },
     "metadata": {},
     "output_type": "display_data"
    },
    {
     "name": "stdout",
     "output_type": "stream",
     "text": [
      "<class 'pandas.core.frame.DataFrame'>\n",
      "RangeIndex: 3081 entries, 0 to 3080\n",
      "Data columns (total 10 columns):\n",
      " #   Column  Non-Null Count  Dtype  \n",
      "---  ------  --------------  -----  \n",
      " 0   key     3081 non-null   int64  \n",
      " 1   Wire 1  3055 non-null   float64\n",
      " 2   Wire 2  1079 non-null   float64\n",
      " 3   Wire 3  63 non-null     float64\n",
      " 4   Wire 4  14 non-null     float64\n",
      " 5   Wire 5  1 non-null      float64\n",
      " 6   Wire 6  73 non-null     float64\n",
      " 7   Wire 7  11 non-null     float64\n",
      " 8   Wire 8  19 non-null     float64\n",
      " 9   Wire 9  29 non-null     float64\n",
      "dtypes: float64(9), int64(1)\n",
      "memory usage: 240.8 KB\n"
     ]
    },
    {
     "data": {
      "text/plain": [
       "None"
      ]
     },
     "metadata": {},
     "output_type": "display_data"
    },
    {
     "data": {
      "text/html": [
       "<div>\n",
       "<style scoped>\n",
       "    .dataframe tbody tr th:only-of-type {\n",
       "        vertical-align: middle;\n",
       "    }\n",
       "\n",
       "    .dataframe tbody tr th {\n",
       "        vertical-align: top;\n",
       "    }\n",
       "\n",
       "    .dataframe thead th {\n",
       "        text-align: right;\n",
       "    }\n",
       "</style>\n",
       "<table border=\"1\" class=\"dataframe\">\n",
       "  <thead>\n",
       "    <tr style=\"text-align: right;\">\n",
       "      <th></th>\n",
       "      <th>Wire 1</th>\n",
       "      <th>Wire 2</th>\n",
       "      <th>Wire 3</th>\n",
       "      <th>Wire 4</th>\n",
       "      <th>Wire 5</th>\n",
       "      <th>Wire 6</th>\n",
       "      <th>Wire 7</th>\n",
       "      <th>Wire 8</th>\n",
       "      <th>Wire 9</th>\n",
       "    </tr>\n",
       "  </thead>\n",
       "  <tbody>\n",
       "    <tr>\n",
       "      <th>count</th>\n",
       "      <td>3055.000000</td>\n",
       "      <td>1079.000000</td>\n",
       "      <td>63.000000</td>\n",
       "      <td>14.000000</td>\n",
       "      <td>1.000</td>\n",
       "      <td>73.000000</td>\n",
       "      <td>11.000000</td>\n",
       "      <td>19.000000</td>\n",
       "      <td>29.000000</td>\n",
       "    </tr>\n",
       "    <tr>\n",
       "      <th>mean</th>\n",
       "      <td>100.895853</td>\n",
       "      <td>50.577323</td>\n",
       "      <td>189.482681</td>\n",
       "      <td>57.442841</td>\n",
       "      <td>15.132</td>\n",
       "      <td>48.016974</td>\n",
       "      <td>10.039007</td>\n",
       "      <td>53.625193</td>\n",
       "      <td>34.155752</td>\n",
       "    </tr>\n",
       "    <tr>\n",
       "      <th>std</th>\n",
       "      <td>42.012518</td>\n",
       "      <td>39.320216</td>\n",
       "      <td>99.513444</td>\n",
       "      <td>28.824667</td>\n",
       "      <td>NaN</td>\n",
       "      <td>33.919845</td>\n",
       "      <td>8.610584</td>\n",
       "      <td>16.881728</td>\n",
       "      <td>19.931616</td>\n",
       "    </tr>\n",
       "    <tr>\n",
       "      <th>min</th>\n",
       "      <td>1.918800</td>\n",
       "      <td>0.030160</td>\n",
       "      <td>0.144144</td>\n",
       "      <td>24.148801</td>\n",
       "      <td>15.132</td>\n",
       "      <td>0.034320</td>\n",
       "      <td>0.234208</td>\n",
       "      <td>45.076721</td>\n",
       "      <td>4.622800</td>\n",
       "    </tr>\n",
       "    <tr>\n",
       "      <th>25%</th>\n",
       "      <td>72.115684</td>\n",
       "      <td>20.193680</td>\n",
       "      <td>95.135044</td>\n",
       "      <td>40.807002</td>\n",
       "      <td>15.132</td>\n",
       "      <td>25.053600</td>\n",
       "      <td>6.762756</td>\n",
       "      <td>46.094879</td>\n",
       "      <td>22.058401</td>\n",
       "    </tr>\n",
       "    <tr>\n",
       "      <th>50%</th>\n",
       "      <td>100.158234</td>\n",
       "      <td>40.142956</td>\n",
       "      <td>235.194977</td>\n",
       "      <td>45.234282</td>\n",
       "      <td>15.132</td>\n",
       "      <td>42.076324</td>\n",
       "      <td>9.017009</td>\n",
       "      <td>46.279999</td>\n",
       "      <td>30.066399</td>\n",
       "    </tr>\n",
       "    <tr>\n",
       "      <th>75%</th>\n",
       "      <td>126.060483</td>\n",
       "      <td>70.227558</td>\n",
       "      <td>276.252014</td>\n",
       "      <td>76.124619</td>\n",
       "      <td>15.132</td>\n",
       "      <td>64.212723</td>\n",
       "      <td>11.886057</td>\n",
       "      <td>48.089603</td>\n",
       "      <td>43.862003</td>\n",
       "    </tr>\n",
       "    <tr>\n",
       "      <th>max</th>\n",
       "      <td>330.314424</td>\n",
       "      <td>282.780152</td>\n",
       "      <td>385.008668</td>\n",
       "      <td>113.231044</td>\n",
       "      <td>15.132</td>\n",
       "      <td>180.454575</td>\n",
       "      <td>32.847674</td>\n",
       "      <td>102.762401</td>\n",
       "      <td>90.053604</td>\n",
       "    </tr>\n",
       "  </tbody>\n",
       "</table>\n",
       "</div>"
      ],
      "text/plain": [
       "            Wire 1       Wire 2      Wire 3      Wire 4  Wire 5      Wire 6  \\\n",
       "count  3055.000000  1079.000000   63.000000   14.000000   1.000   73.000000   \n",
       "mean    100.895853    50.577323  189.482681   57.442841  15.132   48.016974   \n",
       "std      42.012518    39.320216   99.513444   28.824667     NaN   33.919845   \n",
       "min       1.918800     0.030160    0.144144   24.148801  15.132    0.034320   \n",
       "25%      72.115684    20.193680   95.135044   40.807002  15.132   25.053600   \n",
       "50%     100.158234    40.142956  235.194977   45.234282  15.132   42.076324   \n",
       "75%     126.060483    70.227558  276.252014   76.124619  15.132   64.212723   \n",
       "max     330.314424   282.780152  385.008668  113.231044  15.132  180.454575   \n",
       "\n",
       "          Wire 7      Wire 8     Wire 9  \n",
       "count  11.000000   19.000000  29.000000  \n",
       "mean   10.039007   53.625193  34.155752  \n",
       "std     8.610584   16.881728  19.931616  \n",
       "min     0.234208   45.076721   4.622800  \n",
       "25%     6.762756   46.094879  22.058401  \n",
       "50%     9.017009   46.279999  30.066399  \n",
       "75%    11.886057   48.089603  43.862003  \n",
       "max    32.847674  102.762401  90.053604  "
      ]
     },
     "metadata": {},
     "output_type": "display_data"
    },
    {
     "name": "stdout",
     "output_type": "stream",
     "text": [
      "Дубликаты 0\n",
      "Количество пропусков, %:\n"
     ]
    },
    {
     "data": {
      "text/plain": [
       "key        0.000000\n",
       "Wire 1     0.843882\n",
       "Wire 2    64.978903\n",
       "Wire 3    97.955209\n",
       "Wire 4    99.545602\n",
       "Wire 5    99.967543\n",
       "Wire 6    97.630639\n",
       "Wire 7    99.642973\n",
       "Wire 8    99.383317\n",
       "Wire 9    99.058747\n",
       "dtype: float64"
      ]
     },
     "metadata": {},
     "output_type": "display_data"
    },
    {
     "data": {
      "image/png": "[encoded data removed]",
      "text/plain": [
       "<Figure size 1080x648 with 1 Axes>"
      ]
     },
     "metadata": {
      "needs_background": "light"
     },
     "output_type": "display_data"
    }
   ],
   "source": [
    "data_wire = information('data_wire', 'Данные о проволочных материалах(объем)', graf=True)"
   ]
  },
  {
   "cell_type": "markdown",
   "id": "c1131a8c",
   "metadata": {},
   "source": [
    "Аналогично с сыпучими материалами."
   ]
  },
  {
   "cell_type": "code",
   "execution_count": 23,
   "id": "9e3482eb",
   "metadata": {},
   "outputs": [
    {
     "name": "stdout",
     "output_type": "stream",
     "text": [
      "Количество пропусков:\n"
     ]
    },
    {
     "data": {
      "text/plain": [
       "key    0\n",
       "w1     0\n",
       "w2     0\n",
       "w3     0\n",
       "w4     0\n",
       "w5     0\n",
       "w6     0\n",
       "w7     0\n",
       "w8     0\n",
       "w9     0\n",
       "dtype: int64"
      ]
     },
     "metadata": {},
     "output_type": "display_data"
    }
   ],
   "source": [
    "data_wire.set_axis(['key', 'w1','w2','w3', 'w4', 'w5', 'w6','w7','w8', 'w9'], axis = 'columns', inplace = True)\n",
    "data_wire = data_wire.fillna(0) \n",
    "print('Количество пропусков:')\n",
    "display(data_wire.isnull().sum())"
   ]
  },
  {
   "cell_type": "markdown",
   "id": "0843f758",
   "metadata": {},
   "source": [
    "### Проволочные материалы время"
   ]
  },
  {
   "cell_type": "code",
   "execution_count": 24,
   "id": "c12c04ef",
   "metadata": {},
   "outputs": [
    {
     "name": "stdout",
     "output_type": "stream",
     "text": [
      "Данные о проволочных материалах(время)\n"
     ]
    },
    {
     "data": {
      "text/html": [
       "<div>\n",
       "<style scoped>\n",
       "    .dataframe tbody tr th:only-of-type {\n",
       "        vertical-align: middle;\n",
       "    }\n",
       "\n",
       "    .dataframe tbody tr th {\n",
       "        vertical-align: top;\n",
       "    }\n",
       "\n",
       "    .dataframe thead th {\n",
       "        text-align: right;\n",
       "    }\n",
       "</style>\n",
       "<table border=\"1\" class=\"dataframe\">\n",
       "  <thead>\n",
       "    <tr style=\"text-align: right;\">\n",
       "      <th></th>\n",
       "      <th>key</th>\n",
       "      <th>Wire 1</th>\n",
       "      <th>Wire 2</th>\n",
       "      <th>Wire 3</th>\n",
       "      <th>Wire 4</th>\n",
       "      <th>Wire 5</th>\n",
       "      <th>Wire 6</th>\n",
       "      <th>Wire 7</th>\n",
       "      <th>Wire 8</th>\n",
       "      <th>Wire 9</th>\n",
       "    </tr>\n",
       "  </thead>\n",
       "  <tbody>\n",
       "    <tr>\n",
       "      <th>0</th>\n",
       "      <td>1</td>\n",
       "      <td>2019-05-03 11:11:41</td>\n",
       "      <td>NaN</td>\n",
       "      <td>NaN</td>\n",
       "      <td>NaN</td>\n",
       "      <td>NaN</td>\n",
       "      <td>NaN</td>\n",
       "      <td>NaN</td>\n",
       "      <td>NaN</td>\n",
       "      <td>NaN</td>\n",
       "    </tr>\n",
       "    <tr>\n",
       "      <th>1</th>\n",
       "      <td>2</td>\n",
       "      <td>2019-05-03 11:46:10</td>\n",
       "      <td>NaN</td>\n",
       "      <td>NaN</td>\n",
       "      <td>NaN</td>\n",
       "      <td>NaN</td>\n",
       "      <td>NaN</td>\n",
       "      <td>NaN</td>\n",
       "      <td>NaN</td>\n",
       "      <td>NaN</td>\n",
       "    </tr>\n",
       "    <tr>\n",
       "      <th>2</th>\n",
       "      <td>3</td>\n",
       "      <td>2019-05-03 12:13:47</td>\n",
       "      <td>NaN</td>\n",
       "      <td>NaN</td>\n",
       "      <td>NaN</td>\n",
       "      <td>NaN</td>\n",
       "      <td>NaN</td>\n",
       "      <td>NaN</td>\n",
       "      <td>NaN</td>\n",
       "      <td>NaN</td>\n",
       "    </tr>\n",
       "    <tr>\n",
       "      <th>3</th>\n",
       "      <td>4</td>\n",
       "      <td>2019-05-03 12:48:05</td>\n",
       "      <td>NaN</td>\n",
       "      <td>NaN</td>\n",
       "      <td>NaN</td>\n",
       "      <td>NaN</td>\n",
       "      <td>NaN</td>\n",
       "      <td>NaN</td>\n",
       "      <td>NaN</td>\n",
       "      <td>NaN</td>\n",
       "    </tr>\n",
       "    <tr>\n",
       "      <th>4</th>\n",
       "      <td>5</td>\n",
       "      <td>2019-05-03 13:18:15</td>\n",
       "      <td>2019-05-03 13:32:06</td>\n",
       "      <td>NaN</td>\n",
       "      <td>NaN</td>\n",
       "      <td>NaN</td>\n",
       "      <td>NaN</td>\n",
       "      <td>NaN</td>\n",
       "      <td>NaN</td>\n",
       "      <td>NaN</td>\n",
       "    </tr>\n",
       "  </tbody>\n",
       "</table>\n",
       "</div>"
      ],
      "text/plain": [
       "   key               Wire 1               Wire 2 Wire 3 Wire 4 Wire 5 Wire 6  \\\n",
       "0    1  2019-05-03 11:11:41                  NaN    NaN    NaN    NaN    NaN   \n",
       "1    2  2019-05-03 11:46:10                  NaN    NaN    NaN    NaN    NaN   \n",
       "2    3  2019-05-03 12:13:47                  NaN    NaN    NaN    NaN    NaN   \n",
       "3    4  2019-05-03 12:48:05                  NaN    NaN    NaN    NaN    NaN   \n",
       "4    5  2019-05-03 13:18:15  2019-05-03 13:32:06    NaN    NaN    NaN    NaN   \n",
       "\n",
       "  Wire 7 Wire 8 Wire 9  \n",
       "0    NaN    NaN    NaN  \n",
       "1    NaN    NaN    NaN  \n",
       "2    NaN    NaN    NaN  \n",
       "3    NaN    NaN    NaN  \n",
       "4    NaN    NaN    NaN  "
      ]
     },
     "metadata": {},
     "output_type": "display_data"
    },
    {
     "name": "stdout",
     "output_type": "stream",
     "text": [
      "<class 'pandas.core.frame.DataFrame'>\n",
      "RangeIndex: 3081 entries, 0 to 3080\n",
      "Data columns (total 10 columns):\n",
      " #   Column  Non-Null Count  Dtype \n",
      "---  ------  --------------  ----- \n",
      " 0   key     3081 non-null   int64 \n",
      " 1   Wire 1  3055 non-null   object\n",
      " 2   Wire 2  1079 non-null   object\n",
      " 3   Wire 3  63 non-null     object\n",
      " 4   Wire 4  14 non-null     object\n",
      " 5   Wire 5  1 non-null      object\n",
      " 6   Wire 6  73 non-null     object\n",
      " 7   Wire 7  11 non-null     object\n",
      " 8   Wire 8  19 non-null     object\n",
      " 9   Wire 9  29 non-null     object\n",
      "dtypes: int64(1), object(9)\n",
      "memory usage: 240.8+ KB\n"
     ]
    },
    {
     "data": {
      "text/plain": [
       "None"
      ]
     },
     "metadata": {},
     "output_type": "display_data"
    },
    {
     "data": {
      "text/html": [
       "<div>\n",
       "<style scoped>\n",
       "    .dataframe tbody tr th:only-of-type {\n",
       "        vertical-align: middle;\n",
       "    }\n",
       "\n",
       "    .dataframe tbody tr th {\n",
       "        vertical-align: top;\n",
       "    }\n",
       "\n",
       "    .dataframe thead th {\n",
       "        text-align: right;\n",
       "    }\n",
       "</style>\n",
       "<table border=\"1\" class=\"dataframe\">\n",
       "  <thead>\n",
       "    <tr style=\"text-align: right;\">\n",
       "      <th></th>\n",
       "      <th>Wire 1</th>\n",
       "      <th>Wire 2</th>\n",
       "      <th>Wire 3</th>\n",
       "      <th>Wire 4</th>\n",
       "      <th>Wire 5</th>\n",
       "      <th>Wire 6</th>\n",
       "      <th>Wire 7</th>\n",
       "      <th>Wire 8</th>\n",
       "      <th>Wire 9</th>\n",
       "    </tr>\n",
       "  </thead>\n",
       "  <tbody>\n",
       "    <tr>\n",
       "      <th>count</th>\n",
       "      <td>3055</td>\n",
       "      <td>1079</td>\n",
       "      <td>63</td>\n",
       "      <td>14</td>\n",
       "      <td>1</td>\n",
       "      <td>73</td>\n",
       "      <td>11</td>\n",
       "      <td>19</td>\n",
       "      <td>29</td>\n",
       "    </tr>\n",
       "    <tr>\n",
       "      <th>unique</th>\n",
       "      <td>3055</td>\n",
       "      <td>1079</td>\n",
       "      <td>63</td>\n",
       "      <td>14</td>\n",
       "      <td>1</td>\n",
       "      <td>73</td>\n",
       "      <td>11</td>\n",
       "      <td>19</td>\n",
       "      <td>29</td>\n",
       "    </tr>\n",
       "    <tr>\n",
       "      <th>top</th>\n",
       "      <td>2019-08-21 01:48:30</td>\n",
       "      <td>2019-06-07 13:19:15</td>\n",
       "      <td>2019-08-21 05:33:09</td>\n",
       "      <td>2019-07-23 08:44:49</td>\n",
       "      <td>2019-08-08 16:01:07</td>\n",
       "      <td>2019-07-23 23:44:52</td>\n",
       "      <td>2019-08-08 10:43:30</td>\n",
       "      <td>2019-05-14 00:03:32</td>\n",
       "      <td>2019-08-05 00:21:11</td>\n",
       "    </tr>\n",
       "    <tr>\n",
       "      <th>freq</th>\n",
       "      <td>1</td>\n",
       "      <td>1</td>\n",
       "      <td>1</td>\n",
       "      <td>1</td>\n",
       "      <td>1</td>\n",
       "      <td>1</td>\n",
       "      <td>1</td>\n",
       "      <td>1</td>\n",
       "      <td>1</td>\n",
       "    </tr>\n",
       "  </tbody>\n",
       "</table>\n",
       "</div>"
      ],
      "text/plain": [
       "                     Wire 1               Wire 2               Wire 3  \\\n",
       "count                  3055                 1079                   63   \n",
       "unique                 3055                 1079                   63   \n",
       "top     2019-08-21 01:48:30  2019-06-07 13:19:15  2019-08-21 05:33:09   \n",
       "freq                      1                    1                    1   \n",
       "\n",
       "                     Wire 4               Wire 5               Wire 6  \\\n",
       "count                    14                    1                   73   \n",
       "unique                   14                    1                   73   \n",
       "top     2019-07-23 08:44:49  2019-08-08 16:01:07  2019-07-23 23:44:52   \n",
       "freq                      1                    1                    1   \n",
       "\n",
       "                     Wire 7               Wire 8               Wire 9  \n",
       "count                    11                   19                   29  \n",
       "unique                   11                   19                   29  \n",
       "top     2019-08-08 10:43:30  2019-05-14 00:03:32  2019-08-05 00:21:11  \n",
       "freq                      1                    1                    1  "
      ]
     },
     "metadata": {},
     "output_type": "display_data"
    },
    {
     "name": "stdout",
     "output_type": "stream",
     "text": [
      "Дубликаты 0\n",
      "Количество пропусков, %:\n"
     ]
    },
    {
     "data": {
      "text/plain": [
       "key        0.000000\n",
       "Wire 1     0.843882\n",
       "Wire 2    64.978903\n",
       "Wire 3    97.955209\n",
       "Wire 4    99.545602\n",
       "Wire 5    99.967543\n",
       "Wire 6    97.630639\n",
       "Wire 7    99.642973\n",
       "Wire 8    99.383317\n",
       "Wire 9    99.058747\n",
       "dtype: float64"
      ]
     },
     "metadata": {},
     "output_type": "display_data"
    }
   ],
   "source": [
    "data_wire_time = information('data_wire_time', 'Данные о проволочных материалах(время)')"
   ]
  },
  {
   "cell_type": "markdown",
   "id": "2134b9d8",
   "metadata": {},
   "source": [
    "Так же аналогично с сыпучими материалами, скорее всего данные не пригодятся, но на обработку не потратим много времени."
   ]
  },
  {
   "cell_type": "code",
   "execution_count": 25,
   "id": "a850f8a9",
   "metadata": {},
   "outputs": [],
   "source": [
    "data_wire_time.set_axis(\n",
    "    ['key', 'w1','w2','w3', 'w4', 'w5', 'w6','w7','w8', 'w9'], \n",
    "    axis = 'columns', inplace = True)"
   ]
  },
  {
   "cell_type": "code",
   "execution_count": 26,
   "id": "b4bbfcf5",
   "metadata": {},
   "outputs": [
    {
     "name": "stdout",
     "output_type": "stream",
     "text": [
      "<class 'pandas.core.frame.DataFrame'>\n",
      "RangeIndex: 3081 entries, 0 to 3080\n",
      "Data columns (total 10 columns):\n",
      " #   Column  Non-Null Count  Dtype         \n",
      "---  ------  --------------  -----         \n",
      " 0   key     3081 non-null   int64         \n",
      " 1   w1      3055 non-null   datetime64[ns]\n",
      " 2   w2      1079 non-null   datetime64[ns]\n",
      " 3   w3      63 non-null     datetime64[ns]\n",
      " 4   w4      14 non-null     datetime64[ns]\n",
      " 5   w5      1 non-null      datetime64[ns]\n",
      " 6   w6      73 non-null     datetime64[ns]\n",
      " 7   w7      11 non-null     datetime64[ns]\n",
      " 8   w8      19 non-null     datetime64[ns]\n",
      " 9   w9      29 non-null     datetime64[ns]\n",
      "dtypes: datetime64[ns](9), int64(1)\n",
      "memory usage: 240.8 KB\n"
     ]
    }
   ],
   "source": [
    "for ind in data_wire_time.columns:\n",
    "    if ind == 'key':\n",
    "        data_wire_time[ind] = data_wire_time[ind].astype('int')\n",
    "    else: data_wire_time[ind]= pd.to_datetime(data_wire_time[ind], format='%Y-%m-%d %H:%M:%S')\n",
    "\n",
    "data_wire_time.info()"
   ]
  },
  {
   "cell_type": "code",
   "execution_count": 27,
   "id": "a76980fd",
   "metadata": {},
   "outputs": [
    {
     "data": {
      "text/html": [
       "<div>\n",
       "<style scoped>\n",
       "    .dataframe tbody tr th:only-of-type {\n",
       "        vertical-align: middle;\n",
       "    }\n",
       "\n",
       "    .dataframe tbody tr th {\n",
       "        vertical-align: top;\n",
       "    }\n",
       "\n",
       "    .dataframe thead th {\n",
       "        text-align: right;\n",
       "    }\n",
       "</style>\n",
       "<table border=\"1\" class=\"dataframe\">\n",
       "  <thead>\n",
       "    <tr style=\"text-align: right;\">\n",
       "      <th></th>\n",
       "      <th>key</th>\n",
       "      <th>start_heating</th>\n",
       "      <th>stop_heating</th>\n",
       "      <th>p_act</th>\n",
       "      <th>p_react</th>\n",
       "    </tr>\n",
       "  </thead>\n",
       "  <tbody>\n",
       "    <tr>\n",
       "      <th>0</th>\n",
       "      <td>1</td>\n",
       "      <td>2019-05-03 11:02:14</td>\n",
       "      <td>2019-05-03 11:06:02</td>\n",
       "      <td>0.976059</td>\n",
       "      <td>0.687084</td>\n",
       "    </tr>\n",
       "    <tr>\n",
       "      <th>1</th>\n",
       "      <td>1</td>\n",
       "      <td>2019-05-03 11:07:28</td>\n",
       "      <td>2019-05-03 11:10:33</td>\n",
       "      <td>0.805607</td>\n",
       "      <td>0.520285</td>\n",
       "    </tr>\n",
       "    <tr>\n",
       "      <th>2</th>\n",
       "      <td>1</td>\n",
       "      <td>2019-05-03 11:11:44</td>\n",
       "      <td>2019-05-03 11:14:36</td>\n",
       "      <td>0.744363</td>\n",
       "      <td>0.498805</td>\n",
       "    </tr>\n",
       "    <tr>\n",
       "      <th>3</th>\n",
       "      <td>1</td>\n",
       "      <td>2019-05-03 11:18:14</td>\n",
       "      <td>2019-05-03 11:24:19</td>\n",
       "      <td>1.659363</td>\n",
       "      <td>1.062669</td>\n",
       "    </tr>\n",
       "    <tr>\n",
       "      <th>4</th>\n",
       "      <td>1</td>\n",
       "      <td>2019-05-03 11:26:09</td>\n",
       "      <td>2019-05-03 11:28:37</td>\n",
       "      <td>0.692755</td>\n",
       "      <td>0.414397</td>\n",
       "    </tr>\n",
       "  </tbody>\n",
       "</table>\n",
       "</div>"
      ],
      "text/plain": [
       "   key       start_heating        stop_heating     p_act   p_react\n",
       "0    1 2019-05-03 11:02:14 2019-05-03 11:06:02  0.976059  0.687084\n",
       "1    1 2019-05-03 11:07:28 2019-05-03 11:10:33  0.805607  0.520285\n",
       "2    1 2019-05-03 11:11:44 2019-05-03 11:14:36  0.744363  0.498805\n",
       "3    1 2019-05-03 11:18:14 2019-05-03 11:24:19  1.659363  1.062669\n",
       "4    1 2019-05-03 11:26:09 2019-05-03 11:28:37  0.692755  0.414397"
      ]
     },
     "metadata": {},
     "output_type": "display_data"
    },
    {
     "data": {
      "text/html": [
       "<div>\n",
       "<style scoped>\n",
       "    .dataframe tbody tr th:only-of-type {\n",
       "        vertical-align: middle;\n",
       "    }\n",
       "\n",
       "    .dataframe tbody tr th {\n",
       "        vertical-align: top;\n",
       "    }\n",
       "\n",
       "    .dataframe thead th {\n",
       "        text-align: right;\n",
       "    }\n",
       "</style>\n",
       "<table border=\"1\" class=\"dataframe\">\n",
       "  <thead>\n",
       "    <tr style=\"text-align: right;\">\n",
       "      <th></th>\n",
       "      <th>key</th>\n",
       "      <th>time</th>\n",
       "      <th>temper</th>\n",
       "    </tr>\n",
       "  </thead>\n",
       "  <tbody>\n",
       "    <tr>\n",
       "      <th>0</th>\n",
       "      <td>1</td>\n",
       "      <td>2019-05-03 11:16:18</td>\n",
       "      <td>1571.0</td>\n",
       "    </tr>\n",
       "    <tr>\n",
       "      <th>1</th>\n",
       "      <td>1</td>\n",
       "      <td>2019-05-03 11:25:53</td>\n",
       "      <td>1604.0</td>\n",
       "    </tr>\n",
       "    <tr>\n",
       "      <th>2</th>\n",
       "      <td>1</td>\n",
       "      <td>2019-05-03 11:29:11</td>\n",
       "      <td>1618.0</td>\n",
       "    </tr>\n",
       "    <tr>\n",
       "      <th>3</th>\n",
       "      <td>1</td>\n",
       "      <td>2019-05-03 11:30:01</td>\n",
       "      <td>1601.0</td>\n",
       "    </tr>\n",
       "    <tr>\n",
       "      <th>4</th>\n",
       "      <td>1</td>\n",
       "      <td>2019-05-03 11:30:39</td>\n",
       "      <td>1613.0</td>\n",
       "    </tr>\n",
       "  </tbody>\n",
       "</table>\n",
       "</div>"
      ],
      "text/plain": [
       "   key                 time  temper\n",
       "0    1  2019-05-03 11:16:18  1571.0\n",
       "1    1  2019-05-03 11:25:53  1604.0\n",
       "2    1  2019-05-03 11:29:11  1618.0\n",
       "3    1  2019-05-03 11:30:01  1601.0\n",
       "4    1  2019-05-03 11:30:39  1613.0"
      ]
     },
     "metadata": {},
     "output_type": "display_data"
    },
    {
     "data": {
      "text/html": [
       "<div>\n",
       "<style scoped>\n",
       "    .dataframe tbody tr th:only-of-type {\n",
       "        vertical-align: middle;\n",
       "    }\n",
       "\n",
       "    .dataframe tbody tr th {\n",
       "        vertical-align: top;\n",
       "    }\n",
       "\n",
       "    .dataframe thead th {\n",
       "        text-align: right;\n",
       "    }\n",
       "</style>\n",
       "<table border=\"1\" class=\"dataframe\">\n",
       "  <thead>\n",
       "    <tr style=\"text-align: right;\">\n",
       "      <th></th>\n",
       "      <th>key</th>\n",
       "      <th>b1</th>\n",
       "      <th>b2</th>\n",
       "      <th>b3</th>\n",
       "      <th>b4</th>\n",
       "      <th>b5</th>\n",
       "      <th>b6</th>\n",
       "      <th>b7</th>\n",
       "      <th>b8</th>\n",
       "      <th>b9</th>\n",
       "      <th>b10</th>\n",
       "      <th>b11</th>\n",
       "      <th>b12</th>\n",
       "      <th>b13</th>\n",
       "      <th>b14</th>\n",
       "      <th>b15</th>\n",
       "    </tr>\n",
       "  </thead>\n",
       "  <tbody>\n",
       "    <tr>\n",
       "      <th>0</th>\n",
       "      <td>1</td>\n",
       "      <td>NaT</td>\n",
       "      <td>NaT</td>\n",
       "      <td>NaT</td>\n",
       "      <td>2019-05-03 11:21:30</td>\n",
       "      <td>NaT</td>\n",
       "      <td>NaT</td>\n",
       "      <td>NaT</td>\n",
       "      <td>NaT</td>\n",
       "      <td>NaT</td>\n",
       "      <td>NaT</td>\n",
       "      <td>NaT</td>\n",
       "      <td>2019-05-03 11:03:52</td>\n",
       "      <td>NaT</td>\n",
       "      <td>2019-05-03 11:03:52</td>\n",
       "      <td>2019-05-03 11:03:52</td>\n",
       "    </tr>\n",
       "  </tbody>\n",
       "</table>\n",
       "</div>"
      ],
      "text/plain": [
       "   key  b1  b2  b3                  b4  b5  b6  b7  b8  b9 b10 b11  \\\n",
       "0    1 NaT NaT NaT 2019-05-03 11:21:30 NaT NaT NaT NaT NaT NaT NaT   \n",
       "\n",
       "                  b12 b13                 b14                 b15  \n",
       "0 2019-05-03 11:03:52 NaT 2019-05-03 11:03:52 2019-05-03 11:03:52  "
      ]
     },
     "metadata": {},
     "output_type": "display_data"
    },
    {
     "data": {
      "text/html": [
       "<div>\n",
       "<style scoped>\n",
       "    .dataframe tbody tr th:only-of-type {\n",
       "        vertical-align: middle;\n",
       "    }\n",
       "\n",
       "    .dataframe tbody tr th {\n",
       "        vertical-align: top;\n",
       "    }\n",
       "\n",
       "    .dataframe thead th {\n",
       "        text-align: right;\n",
       "    }\n",
       "</style>\n",
       "<table border=\"1\" class=\"dataframe\">\n",
       "  <thead>\n",
       "    <tr style=\"text-align: right;\">\n",
       "      <th></th>\n",
       "      <th>key</th>\n",
       "      <th>w1</th>\n",
       "      <th>w2</th>\n",
       "      <th>w3</th>\n",
       "      <th>w4</th>\n",
       "      <th>w5</th>\n",
       "      <th>w6</th>\n",
       "      <th>w7</th>\n",
       "      <th>w8</th>\n",
       "      <th>w9</th>\n",
       "    </tr>\n",
       "  </thead>\n",
       "  <tbody>\n",
       "    <tr>\n",
       "      <th>0</th>\n",
       "      <td>1</td>\n",
       "      <td>2019-05-03 11:11:41</td>\n",
       "      <td>NaT</td>\n",
       "      <td>NaT</td>\n",
       "      <td>NaT</td>\n",
       "      <td>NaT</td>\n",
       "      <td>NaT</td>\n",
       "      <td>NaT</td>\n",
       "      <td>NaT</td>\n",
       "      <td>NaT</td>\n",
       "    </tr>\n",
       "  </tbody>\n",
       "</table>\n",
       "</div>"
      ],
      "text/plain": [
       "   key                  w1  w2  w3  w4  w5  w6  w7  w8  w9\n",
       "0    1 2019-05-03 11:11:41 NaT NaT NaT NaT NaT NaT NaT NaT"
      ]
     },
     "metadata": {},
     "output_type": "display_data"
    }
   ],
   "source": [
    "# Посмотрим на 1 партию\n",
    "display(data_arc.query('key==1'))\n",
    "display(data_temp.query('key==1'))\n",
    "display(data_bulk_time.query('key==1'))\n",
    "display(data_wire_time.query('key==1'))"
   ]
  },
  {
   "cell_type": "markdown",
   "id": "074466f0",
   "metadata": {},
   "source": [
    "Непонятки со временем, температура должна измерятсья перед каждым этапом нагрева, а судя по времени она измеряется в различные моменты, причем последний нагрев закончился в 11:28:37, температуру измерили в 11:29:11, 11:30:01, 11:30:39 она сначала снизилась, что логично, а потом повысилась, что странно."
   ]
  },
  {
   "cell_type": "markdown",
   "id": "5b7dd5fc",
   "metadata": {},
   "source": [
    "### Вывод"
   ]
  },
  {
   "cell_type": "markdown",
   "id": "d91cafa1",
   "metadata": {},
   "source": [
    "Мы имеем данные в нескольких таблицах:\n",
    " - data_arc — данные об электродах:\n",
    "  - start_heating - начало нагрева дугой\n",
    "  - stop_heating - конец нагрева дугой\n",
    "  - p_act - активная мощность\n",
    "  - p_react - реактивная мощность\n",
    " - data_bulk — данные о подаче сыпучих материалов (объём):\n",
    "  - b1..b15 - объем 15 различных присадок для каждой стадии\n",
    " - data_bulk_time — данные о подаче сыпучих материалов (время):\n",
    "  - b1..b15 - время введения 15 различных присадок для каждой стадии \n",
    " - data_gas — данные о продувке сплава газом;\n",
    "  - gas - данные об инертном газе\n",
    " - data_temp — результаты измерения температуры:\n",
    "  - time - время измерения температуры\n",
    "  - temper - значение температуры\n",
    " - data_wire — данные о проволочных материалах (объём):\n",
    "  - w1..w15 - объем 15 различных проволочных присадок для каждой стадии\n",
    " - data_wire_time — данные о проволочных материалах (время):\n",
    "  - w1..w15 - время введения 15 различных проволочных присадок для каждой стадии\n",
    "\n",
    "Имеются проблемы со временем."
   ]
  },
  {
   "cell_type": "markdown",
   "id": "447afe86",
   "metadata": {},
   "source": [
    "## Примерный план решения"
   ]
  },
  {
   "cell_type": "markdown",
   "id": "29574dff",
   "metadata": {},
   "source": [
    "1) Получение от тимлида ответов на вопросы, которые ниже;  \n",
    "2) Отбрасывание лишних данных, дообработка данных, детальный анализ зависимостей и объединения таблиц;  \n",
    "3) Разбиение данных на обующую, валидационную и тестовую выборки, выбор метрик и моделей;  \n",
    "4) Обучение и тестирование различных моделей предсказания;  \n",
    "5) Выбор и тестирование лучшей модели. Написание общего вывода и конечное оформление проекта.  "
   ]
  },
  {
   "cell_type": "markdown",
   "id": "1ef87737",
   "metadata": {},
   "source": [
    "**Вопросы**\n",
    "1) Единицы измерения мощности  \n",
    "2) Что показывают данные о газе  \n",
    "3) Каждую стадию можно ли разделить по времени нагрева, согласно описанию перед каждым этапом идет нагрева  \n",
    "4) Требуется определять температуру для кажджой стадии?   \n",
    "5) Как определить начальную температуру, если никаких вводных нету? Я считаю что начальная температура должа быть и от неё нужно отталкиваться.  \n",
    "6) Непонятки со временем, легирующие материалы добавляют во время нагрева? Проблемы со временем измерения температуры  "
   ]
  },
  {
   "cell_type": "markdown",
   "id": "d0edfa34",
   "metadata": {},
   "source": [
    "### Дополнения"
   ]
  },
  {
   "cell_type": "markdown",
   "id": "66b45af2",
   "metadata": {},
   "source": [
    "Добавим к плану пункт:\n",
    "1) Получение от тимлида ответов на вопросы, которые ниже;  \n",
    "2) Отбрасывание лишних данных, дообработка данных, детальный анализ зависимостей и объединения таблиц;  \n",
    "3) **Проверка на мультиколлинеарность;**    \n",
    "4) Разбиение данных на обующую, валидационную и тестовую выборки, выбор метрик и моделей;  \n",
    "5) Обучение и тестирование различных моделей предсказания, в том числе и на адекватность;  \n",
    "6) Выбор и тестирование лучшей модели. Написание общего вывода и конечное оформление проекта.  "
   ]
  },
  {
   "cell_type": "markdown",
   "id": "3152af7f",
   "metadata": {},
   "source": [
    "**Дополнительные вопросы**  \n",
    "1) Все же температуру брать самую последнюю или по времени после последней операции (нагрев/ввод материала), например, партия 1 - последняя операция в 28:37, а температуры меряли 3 раза после этого, по моему мнению целевую нужно брать первую после этого времени, например для этой же первой партии брать *время 11:29:11 со значением 1618*, так ли это?   \n",
    "2) Какую лучше метрику использовать и какое целевое значение метрики на тесте должно быть?"
   ]
  },
  {
   "cell_type": "markdown",
   "id": "5299bc64",
   "metadata": {},
   "source": [
    "## Дополнительная обработка данных"
   ]
  },
  {
   "cell_type": "markdown",
   "id": "034622fc",
   "metadata": {},
   "source": [
    "### Полные партии"
   ]
  },
  {
   "cell_type": "markdown",
   "id": "a732a142",
   "metadata": {},
   "source": [
    "1) Согласно новым дополнениям, если пропуски температуры это последние значения для партии, то удалять всю партию;  \n",
    "2) Проверить чтобы замер последней температуры был позже самой последней операции с расплавом, то есть позже введения добавок и нагрева, если замеряли температуру раньше, то удаляем партию."
   ]
  },
  {
   "cell_type": "code",
   "execution_count": 28,
   "id": "ce8d9fc5",
   "metadata": {},
   "outputs": [
    {
     "data": {
      "text/html": [
       "<div>\n",
       "<style scoped>\n",
       "    .dataframe tbody tr th:only-of-type {\n",
       "        vertical-align: middle;\n",
       "    }\n",
       "\n",
       "    .dataframe tbody tr th {\n",
       "        vertical-align: top;\n",
       "    }\n",
       "\n",
       "    .dataframe thead th {\n",
       "        text-align: right;\n",
       "    }\n",
       "</style>\n",
       "<table border=\"1\" class=\"dataframe\">\n",
       "  <thead>\n",
       "    <tr style=\"text-align: right;\">\n",
       "      <th></th>\n",
       "      <th>key</th>\n",
       "      <th>first_time</th>\n",
       "      <th>last_time</th>\n",
       "      <th>first_temp</th>\n",
       "      <th>last_temp</th>\n",
       "    </tr>\n",
       "  </thead>\n",
       "  <tbody>\n",
       "    <tr>\n",
       "      <th>0</th>\n",
       "      <td>1</td>\n",
       "      <td>2019-05-03 11:16:18</td>\n",
       "      <td>2019-05-03 11:30:39</td>\n",
       "      <td>1571.0</td>\n",
       "      <td>1613.0</td>\n",
       "    </tr>\n",
       "    <tr>\n",
       "      <th>1</th>\n",
       "      <td>2</td>\n",
       "      <td>2019-05-03 11:37:27</td>\n",
       "      <td>2019-05-03 11:59:12</td>\n",
       "      <td>1581.0</td>\n",
       "      <td>1602.0</td>\n",
       "    </tr>\n",
       "    <tr>\n",
       "      <th>2</th>\n",
       "      <td>3</td>\n",
       "      <td>2019-05-03 12:13:17</td>\n",
       "      <td>2019-05-03 12:34:57</td>\n",
       "      <td>1596.0</td>\n",
       "      <td>1599.0</td>\n",
       "    </tr>\n",
       "    <tr>\n",
       "      <th>3</th>\n",
       "      <td>4</td>\n",
       "      <td>2019-05-03 12:52:57</td>\n",
       "      <td>2019-05-03 12:59:25</td>\n",
       "      <td>1601.0</td>\n",
       "      <td>1625.0</td>\n",
       "    </tr>\n",
       "    <tr>\n",
       "      <th>4</th>\n",
       "      <td>5</td>\n",
       "      <td>2019-05-03 13:23:19</td>\n",
       "      <td>2019-05-03 13:36:01</td>\n",
       "      <td>1576.0</td>\n",
       "      <td>1602.0</td>\n",
       "    </tr>\n",
       "  </tbody>\n",
       "</table>\n",
       "</div>"
      ],
      "text/plain": [
       "   key           first_time            last_time  first_temp  last_temp\n",
       "0    1  2019-05-03 11:16:18  2019-05-03 11:30:39      1571.0     1613.0\n",
       "1    2  2019-05-03 11:37:27  2019-05-03 11:59:12      1581.0     1602.0\n",
       "2    3  2019-05-03 12:13:17  2019-05-03 12:34:57      1596.0     1599.0\n",
       "3    4  2019-05-03 12:52:57  2019-05-03 12:59:25      1601.0     1625.0\n",
       "4    5  2019-05-03 13:23:19  2019-05-03 13:36:01      1576.0     1602.0"
      ]
     },
     "metadata": {},
     "output_type": "display_data"
    },
    {
     "data": {
      "text/html": [
       "<div>\n",
       "<style scoped>\n",
       "    .dataframe tbody tr th:only-of-type {\n",
       "        vertical-align: middle;\n",
       "    }\n",
       "\n",
       "    .dataframe tbody tr th {\n",
       "        vertical-align: top;\n",
       "    }\n",
       "\n",
       "    .dataframe thead th {\n",
       "        text-align: right;\n",
       "    }\n",
       "</style>\n",
       "<table border=\"1\" class=\"dataframe\">\n",
       "  <thead>\n",
       "    <tr style=\"text-align: right;\">\n",
       "      <th></th>\n",
       "      <th>key</th>\n",
       "      <th>first_time</th>\n",
       "      <th>last_time</th>\n",
       "      <th>first_temp</th>\n",
       "      <th>last_temp</th>\n",
       "    </tr>\n",
       "  </thead>\n",
       "  <tbody>\n",
       "    <tr>\n",
       "      <th>3211</th>\n",
       "      <td>3237</td>\n",
       "      <td>2019-08-31 22:44:04</td>\n",
       "      <td>2019-08-31 23:05:43</td>\n",
       "      <td>1569.0</td>\n",
       "      <td>0.0</td>\n",
       "    </tr>\n",
       "    <tr>\n",
       "      <th>3212</th>\n",
       "      <td>3238</td>\n",
       "      <td>2019-08-31 23:30:31</td>\n",
       "      <td>2019-08-31 23:43:00</td>\n",
       "      <td>1584.0</td>\n",
       "      <td>0.0</td>\n",
       "    </tr>\n",
       "    <tr>\n",
       "      <th>3213</th>\n",
       "      <td>3239</td>\n",
       "      <td>2019-09-01 01:31:47</td>\n",
       "      <td>2019-09-01 02:24:15</td>\n",
       "      <td>1598.0</td>\n",
       "      <td>0.0</td>\n",
       "    </tr>\n",
       "    <tr>\n",
       "      <th>3214</th>\n",
       "      <td>3240</td>\n",
       "      <td>2019-09-01 02:39:01</td>\n",
       "      <td>2019-09-01 03:35:16</td>\n",
       "      <td>1617.0</td>\n",
       "      <td>0.0</td>\n",
       "    </tr>\n",
       "    <tr>\n",
       "      <th>3215</th>\n",
       "      <td>3241</td>\n",
       "      <td>2019-09-01 04:03:30</td>\n",
       "      <td>2019-09-01 04:38:08</td>\n",
       "      <td>1586.0</td>\n",
       "      <td>0.0</td>\n",
       "    </tr>\n",
       "  </tbody>\n",
       "</table>\n",
       "</div>"
      ],
      "text/plain": [
       "       key           first_time            last_time  first_temp  last_temp\n",
       "3211  3237  2019-08-31 22:44:04  2019-08-31 23:05:43      1569.0        0.0\n",
       "3212  3238  2019-08-31 23:30:31  2019-08-31 23:43:00      1584.0        0.0\n",
       "3213  3239  2019-09-01 01:31:47  2019-09-01 02:24:15      1598.0        0.0\n",
       "3214  3240  2019-09-01 02:39:01  2019-09-01 03:35:16      1617.0        0.0\n",
       "3215  3241  2019-09-01 04:03:30  2019-09-01 04:38:08      1586.0        0.0"
      ]
     },
     "metadata": {},
     "output_type": "display_data"
    }
   ],
   "source": [
    "# Сгруппируем по партиям\n",
    "# со значением начальной времени и темперауты, конечного времени и температуры для каждой партии\n",
    "data_temp['temper'] = data_temp['temper'].fillna(0) # для адекватной работы группировки и удаления партий\n",
    "temp_pivot = data_temp.sort_values(by='time').groupby('key').agg({'time': ['first', 'last'], 'temper': ['first', 'last']}) \n",
    "temp_pivot = temp_pivot.reset_index()\n",
    "temp_pivot.set_axis(['key','first_time','last_time','first_temp','last_temp'], axis = 'columns', inplace = True)\n",
    "display(temp_pivot.head())\n",
    "display(temp_pivot.tail())"
   ]
  },
  {
   "cell_type": "markdown",
   "id": "bcb3d3ee",
   "metadata": {},
   "source": [
    "Получили табличку, где last_temp это наш целевой признак, если он равняется 0, то удаляем эту партию, так как температуру невозможно восстановить. Также удаляем партии в которых только 1 измерение температуры."
   ]
  },
  {
   "cell_type": "code",
   "execution_count": 29,
   "id": "624490d5",
   "metadata": {},
   "outputs": [
    {
     "data": {
      "text/plain": [
       "2475"
      ]
     },
     "execution_count": 29,
     "metadata": {},
     "output_type": "execute_result"
    }
   ],
   "source": [
    "temp_pivot = temp_pivot.query('last_temp != 0 and first_time!= last_time').reset_index(drop=True)\n",
    "temp_pivot['key'].value_counts().sum()"
   ]
  },
  {
   "cell_type": "code",
   "execution_count": 30,
   "id": "92bebd6d",
   "metadata": {},
   "outputs": [
    {
     "name": "stdout",
     "output_type": "stream",
     "text": [
      "<class 'pandas.core.frame.DataFrame'>\n",
      "RangeIndex: 2475 entries, 0 to 2474\n",
      "Data columns (total 5 columns):\n",
      " #   Column      Non-Null Count  Dtype         \n",
      "---  ------      --------------  -----         \n",
      " 0   key         2475 non-null   int64         \n",
      " 1   first_time  2475 non-null   datetime64[ns]\n",
      " 2   last_time   2475 non-null   datetime64[ns]\n",
      " 3   first_temp  2475 non-null   float64       \n",
      " 4   last_temp   2475 non-null   float64       \n",
      "dtypes: datetime64[ns](2), float64(2), int64(1)\n",
      "memory usage: 96.8 KB\n"
     ]
    }
   ],
   "source": [
    "temp_pivot['first_time']= pd.to_datetime(\n",
    "    temp_pivot['first_time'], format='%Y-%m-%d %H:%M:%S')\n",
    "temp_pivot['last_time']= pd.to_datetime(\n",
    "    temp_pivot['last_time'], format='%Y-%m-%d %H:%M:%S')\n",
    "temp_pivot.info()"
   ]
  },
  {
   "cell_type": "markdown",
   "id": "b14c23a7",
   "metadata": {},
   "source": [
    "Для нагрева нужна электроэнергия, посчитаем сколько ээ было затрачено на каждую партию, умножим время нагрева на активную мощность и просуммируем для каждой партии. Берем только активную, так как реактивую можно компенсировать да и сама она имеет высокую корреляцию с активной."
   ]
  },
  {
   "cell_type": "code",
   "execution_count": 31,
   "id": "8e5e5f27",
   "metadata": {},
   "outputs": [],
   "source": [
    "# функция для подсчета затраченой ЭЭ, на выходе получаем кВТ*ч\n",
    "def ee(row):\n",
    "    delta_t = (row['stop_heating'] - row['start_heating'])\n",
    "    ee = row['p_act'] * (delta_t.seconds)/3.6\n",
    "    return ee"
   ]
  },
  {
   "cell_type": "code",
   "execution_count": 32,
   "id": "2727a0fd",
   "metadata": {},
   "outputs": [
    {
     "data": {
      "text/html": [
       "<div>\n",
       "<style scoped>\n",
       "    .dataframe tbody tr th:only-of-type {\n",
       "        vertical-align: middle;\n",
       "    }\n",
       "\n",
       "    .dataframe tbody tr th {\n",
       "        vertical-align: top;\n",
       "    }\n",
       "\n",
       "    .dataframe thead th {\n",
       "        text-align: right;\n",
       "    }\n",
       "</style>\n",
       "<table border=\"1\" class=\"dataframe\">\n",
       "  <thead>\n",
       "    <tr style=\"text-align: right;\">\n",
       "      <th></th>\n",
       "      <th>key</th>\n",
       "      <th>start_heating</th>\n",
       "      <th>stop_heating</th>\n",
       "      <th>p_act</th>\n",
       "      <th>p_react</th>\n",
       "      <th>q_act</th>\n",
       "    </tr>\n",
       "  </thead>\n",
       "  <tbody>\n",
       "    <tr>\n",
       "      <th>0</th>\n",
       "      <td>1</td>\n",
       "      <td>2019-05-03 11:02:14</td>\n",
       "      <td>2019-05-03 11:06:02</td>\n",
       "      <td>0.976059</td>\n",
       "      <td>0.687084</td>\n",
       "      <td>61.817054</td>\n",
       "    </tr>\n",
       "    <tr>\n",
       "      <th>1</th>\n",
       "      <td>1</td>\n",
       "      <td>2019-05-03 11:07:28</td>\n",
       "      <td>2019-05-03 11:10:33</td>\n",
       "      <td>0.805607</td>\n",
       "      <td>0.520285</td>\n",
       "      <td>41.399253</td>\n",
       "    </tr>\n",
       "    <tr>\n",
       "      <th>2</th>\n",
       "      <td>1</td>\n",
       "      <td>2019-05-03 11:11:44</td>\n",
       "      <td>2019-05-03 11:14:36</td>\n",
       "      <td>0.744363</td>\n",
       "      <td>0.498805</td>\n",
       "      <td>35.564030</td>\n",
       "    </tr>\n",
       "    <tr>\n",
       "      <th>3</th>\n",
       "      <td>1</td>\n",
       "      <td>2019-05-03 11:18:14</td>\n",
       "      <td>2019-05-03 11:24:19</td>\n",
       "      <td>1.659363</td>\n",
       "      <td>1.062669</td>\n",
       "      <td>168.240926</td>\n",
       "    </tr>\n",
       "    <tr>\n",
       "      <th>4</th>\n",
       "      <td>1</td>\n",
       "      <td>2019-05-03 11:26:09</td>\n",
       "      <td>2019-05-03 11:28:37</td>\n",
       "      <td>0.692755</td>\n",
       "      <td>0.414397</td>\n",
       "      <td>28.479917</td>\n",
       "    </tr>\n",
       "    <tr>\n",
       "      <th>...</th>\n",
       "      <td>...</td>\n",
       "      <td>...</td>\n",
       "      <td>...</td>\n",
       "      <td>...</td>\n",
       "      <td>...</td>\n",
       "      <td>...</td>\n",
       "    </tr>\n",
       "    <tr>\n",
       "      <th>14871</th>\n",
       "      <td>3241</td>\n",
       "      <td>2019-09-01 03:58:58</td>\n",
       "      <td>2019-09-01 04:01:35</td>\n",
       "      <td>0.533670</td>\n",
       "      <td>0.354439</td>\n",
       "      <td>23.273924</td>\n",
       "    </tr>\n",
       "    <tr>\n",
       "      <th>14872</th>\n",
       "      <td>3241</td>\n",
       "      <td>2019-09-01 04:05:04</td>\n",
       "      <td>2019-09-01 04:08:04</td>\n",
       "      <td>0.676604</td>\n",
       "      <td>0.523631</td>\n",
       "      <td>33.830187</td>\n",
       "    </tr>\n",
       "    <tr>\n",
       "      <th>14873</th>\n",
       "      <td>3241</td>\n",
       "      <td>2019-09-01 04:16:41</td>\n",
       "      <td>2019-09-01 04:19:45</td>\n",
       "      <td>0.733899</td>\n",
       "      <td>0.475654</td>\n",
       "      <td>37.510418</td>\n",
       "    </tr>\n",
       "    <tr>\n",
       "      <th>14874</th>\n",
       "      <td>3241</td>\n",
       "      <td>2019-09-01 04:31:51</td>\n",
       "      <td>2019-09-01 04:32:48</td>\n",
       "      <td>0.220694</td>\n",
       "      <td>0.145768</td>\n",
       "      <td>3.494321</td>\n",
       "    </tr>\n",
       "    <tr>\n",
       "      <th>14875</th>\n",
       "      <td>3241</td>\n",
       "      <td>2019-09-01 04:34:47</td>\n",
       "      <td>2019-09-01 04:36:08</td>\n",
       "      <td>0.306580</td>\n",
       "      <td>0.196708</td>\n",
       "      <td>6.898052</td>\n",
       "    </tr>\n",
       "  </tbody>\n",
       "</table>\n",
       "<p>14876 rows × 6 columns</p>\n",
       "</div>"
      ],
      "text/plain": [
       "        key       start_heating        stop_heating     p_act   p_react  \\\n",
       "0         1 2019-05-03 11:02:14 2019-05-03 11:06:02  0.976059  0.687084   \n",
       "1         1 2019-05-03 11:07:28 2019-05-03 11:10:33  0.805607  0.520285   \n",
       "2         1 2019-05-03 11:11:44 2019-05-03 11:14:36  0.744363  0.498805   \n",
       "3         1 2019-05-03 11:18:14 2019-05-03 11:24:19  1.659363  1.062669   \n",
       "4         1 2019-05-03 11:26:09 2019-05-03 11:28:37  0.692755  0.414397   \n",
       "...     ...                 ...                 ...       ...       ...   \n",
       "14871  3241 2019-09-01 03:58:58 2019-09-01 04:01:35  0.533670  0.354439   \n",
       "14872  3241 2019-09-01 04:05:04 2019-09-01 04:08:04  0.676604  0.523631   \n",
       "14873  3241 2019-09-01 04:16:41 2019-09-01 04:19:45  0.733899  0.475654   \n",
       "14874  3241 2019-09-01 04:31:51 2019-09-01 04:32:48  0.220694  0.145768   \n",
       "14875  3241 2019-09-01 04:34:47 2019-09-01 04:36:08  0.306580  0.196708   \n",
       "\n",
       "            q_act  \n",
       "0       61.817054  \n",
       "1       41.399253  \n",
       "2       35.564030  \n",
       "3      168.240926  \n",
       "4       28.479917  \n",
       "...           ...  \n",
       "14871   23.273924  \n",
       "14872   33.830187  \n",
       "14873   37.510418  \n",
       "14874    3.494321  \n",
       "14875    6.898052  \n",
       "\n",
       "[14876 rows x 6 columns]"
      ]
     },
     "execution_count": 32,
     "metadata": {},
     "output_type": "execute_result"
    }
   ],
   "source": [
    "data_arc['q_act'] = data_arc.apply(ee, axis=1)\n",
    "data_arc"
   ]
  },
  {
   "cell_type": "code",
   "execution_count": 33,
   "id": "3250ed4c",
   "metadata": {},
   "outputs": [
    {
     "data": {
      "text/html": [
       "<div>\n",
       "<style scoped>\n",
       "    .dataframe tbody tr th:only-of-type {\n",
       "        vertical-align: middle;\n",
       "    }\n",
       "\n",
       "    .dataframe tbody tr th {\n",
       "        vertical-align: top;\n",
       "    }\n",
       "\n",
       "    .dataframe thead th {\n",
       "        text-align: right;\n",
       "    }\n",
       "</style>\n",
       "<table border=\"1\" class=\"dataframe\">\n",
       "  <thead>\n",
       "    <tr style=\"text-align: right;\">\n",
       "      <th></th>\n",
       "      <th>key</th>\n",
       "      <th>last_time</th>\n",
       "      <th>q_act</th>\n",
       "      <th>count</th>\n",
       "    </tr>\n",
       "  </thead>\n",
       "  <tbody>\n",
       "    <tr>\n",
       "      <th>0</th>\n",
       "      <td>1</td>\n",
       "      <td>2019-05-03 11:28:37</td>\n",
       "      <td>335.501180</td>\n",
       "      <td>5</td>\n",
       "    </tr>\n",
       "    <tr>\n",
       "      <th>1</th>\n",
       "      <td>2</td>\n",
       "      <td>2019-05-03 11:53:18</td>\n",
       "      <td>203.837908</td>\n",
       "      <td>4</td>\n",
       "    </tr>\n",
       "    <tr>\n",
       "      <th>2</th>\n",
       "      <td>3</td>\n",
       "      <td>2019-05-03 12:32:19</td>\n",
       "      <td>123.217591</td>\n",
       "      <td>5</td>\n",
       "    </tr>\n",
       "    <tr>\n",
       "      <th>3</th>\n",
       "      <td>4</td>\n",
       "      <td>2019-05-03 12:57:50</td>\n",
       "      <td>186.295369</td>\n",
       "      <td>4</td>\n",
       "    </tr>\n",
       "    <tr>\n",
       "      <th>4</th>\n",
       "      <td>5</td>\n",
       "      <td>2019-05-03 13:33:55</td>\n",
       "      <td>277.082249</td>\n",
       "      <td>4</td>\n",
       "    </tr>\n",
       "  </tbody>\n",
       "</table>\n",
       "</div>"
      ],
      "text/plain": [
       "   key           last_time       q_act  count\n",
       "0    1 2019-05-03 11:28:37  335.501180      5\n",
       "1    2 2019-05-03 11:53:18  203.837908      4\n",
       "2    3 2019-05-03 12:32:19  123.217591      5\n",
       "3    4 2019-05-03 12:57:50  186.295369      4\n",
       "4    5 2019-05-03 13:33:55  277.082249      4"
      ]
     },
     "metadata": {},
     "output_type": "display_data"
    },
    {
     "data": {
      "text/html": [
       "<div>\n",
       "<style scoped>\n",
       "    .dataframe tbody tr th:only-of-type {\n",
       "        vertical-align: middle;\n",
       "    }\n",
       "\n",
       "    .dataframe tbody tr th {\n",
       "        vertical-align: top;\n",
       "    }\n",
       "\n",
       "    .dataframe thead th {\n",
       "        text-align: right;\n",
       "    }\n",
       "</style>\n",
       "<table border=\"1\" class=\"dataframe\">\n",
       "  <thead>\n",
       "    <tr style=\"text-align: right;\">\n",
       "      <th></th>\n",
       "      <th>key</th>\n",
       "      <th>last_time</th>\n",
       "      <th>q_act</th>\n",
       "      <th>count</th>\n",
       "    </tr>\n",
       "  </thead>\n",
       "  <tbody>\n",
       "    <tr>\n",
       "      <th>3209</th>\n",
       "      <td>3237</td>\n",
       "      <td>2019-08-31 23:03:48</td>\n",
       "      <td>216.109291</td>\n",
       "      <td>5</td>\n",
       "    </tr>\n",
       "    <tr>\n",
       "      <th>3210</th>\n",
       "      <td>3238</td>\n",
       "      <td>2019-08-31 23:41:28</td>\n",
       "      <td>120.235919</td>\n",
       "      <td>3</td>\n",
       "    </tr>\n",
       "    <tr>\n",
       "      <th>3211</th>\n",
       "      <td>3239</td>\n",
       "      <td>2019-09-01 02:15:43</td>\n",
       "      <td>234.715875</td>\n",
       "      <td>8</td>\n",
       "    </tr>\n",
       "    <tr>\n",
       "      <th>3212</th>\n",
       "      <td>3240</td>\n",
       "      <td>2019-09-01 03:34:08</td>\n",
       "      <td>153.967559</td>\n",
       "      <td>5</td>\n",
       "    </tr>\n",
       "    <tr>\n",
       "      <th>3213</th>\n",
       "      <td>3241</td>\n",
       "      <td>2019-09-01 04:36:08</td>\n",
       "      <td>105.006900</td>\n",
       "      <td>5</td>\n",
       "    </tr>\n",
       "  </tbody>\n",
       "</table>\n",
       "</div>"
      ],
      "text/plain": [
       "       key           last_time       q_act  count\n",
       "3209  3237 2019-08-31 23:03:48  216.109291      5\n",
       "3210  3238 2019-08-31 23:41:28  120.235919      3\n",
       "3211  3239 2019-09-01 02:15:43  234.715875      8\n",
       "3212  3240 2019-09-01 03:34:08  153.967559      5\n",
       "3213  3241 2019-09-01 04:36:08  105.006900      5"
      ]
     },
     "metadata": {},
     "output_type": "display_data"
    }
   ],
   "source": [
    "# Просуммируем полученную ээ и оставим последнее время нагрева, ну и добавим количество нагревов\n",
    "arc_pivot = data_arc.sort_values(by='stop_heating').groupby('key').agg({'stop_heating': 'max', 'q_act': ['sum', 'count']}) \n",
    "arc_pivot = arc_pivot.reset_index()\n",
    "arc_pivot.set_axis(['key', 'last_time','q_act','count'], axis = 'columns', inplace = True)\n",
    "display(arc_pivot.head())\n",
    "display(arc_pivot.tail())"
   ]
  },
  {
   "cell_type": "code",
   "execution_count": 34,
   "id": "876bb1a6",
   "metadata": {},
   "outputs": [
    {
     "name": "stdout",
     "output_type": "stream",
     "text": [
      "<class 'pandas.core.frame.DataFrame'>\n",
      "RangeIndex: 3214 entries, 0 to 3213\n",
      "Data columns (total 4 columns):\n",
      " #   Column     Non-Null Count  Dtype         \n",
      "---  ------     --------------  -----         \n",
      " 0   key        3214 non-null   int64         \n",
      " 1   last_time  3214 non-null   datetime64[ns]\n",
      " 2   q_act      3214 non-null   float64       \n",
      " 3   count      3214 non-null   int64         \n",
      "dtypes: datetime64[ns](1), float64(1), int64(2)\n",
      "memory usage: 100.6 KB\n"
     ]
    }
   ],
   "source": [
    "arc_pivot['last_time']= pd.to_datetime(\n",
    "    arc_pivot['last_time'], format='%Y-%m-%d %H:%M:%S')\n",
    "arc_pivot.info()"
   ]
  },
  {
   "cell_type": "code",
   "execution_count": 35,
   "id": "262ad1a2",
   "metadata": {},
   "outputs": [
    {
     "data": {
      "text/html": [
       "<div>\n",
       "<style scoped>\n",
       "    .dataframe tbody tr th:only-of-type {\n",
       "        vertical-align: middle;\n",
       "    }\n",
       "\n",
       "    .dataframe tbody tr th {\n",
       "        vertical-align: top;\n",
       "    }\n",
       "\n",
       "    .dataframe thead th {\n",
       "        text-align: right;\n",
       "    }\n",
       "</style>\n",
       "<table border=\"1\" class=\"dataframe\">\n",
       "  <thead>\n",
       "    <tr style=\"text-align: right;\">\n",
       "      <th></th>\n",
       "      <th>key</th>\n",
       "      <th>b1</th>\n",
       "      <th>b3</th>\n",
       "      <th>b4</th>\n",
       "      <th>b5</th>\n",
       "      <th>b6</th>\n",
       "      <th>b10</th>\n",
       "      <th>b11</th>\n",
       "      <th>b12</th>\n",
       "      <th>b14</th>\n",
       "      <th>b15</th>\n",
       "    </tr>\n",
       "  </thead>\n",
       "  <tbody>\n",
       "    <tr>\n",
       "      <th>0</th>\n",
       "      <td>1</td>\n",
       "      <td>0</td>\n",
       "      <td>0</td>\n",
       "      <td>43</td>\n",
       "      <td>0</td>\n",
       "      <td>0</td>\n",
       "      <td>0</td>\n",
       "      <td>0</td>\n",
       "      <td>206</td>\n",
       "      <td>150</td>\n",
       "      <td>154</td>\n",
       "    </tr>\n",
       "    <tr>\n",
       "      <th>1</th>\n",
       "      <td>2</td>\n",
       "      <td>0</td>\n",
       "      <td>0</td>\n",
       "      <td>73</td>\n",
       "      <td>0</td>\n",
       "      <td>0</td>\n",
       "      <td>0</td>\n",
       "      <td>0</td>\n",
       "      <td>206</td>\n",
       "      <td>149</td>\n",
       "      <td>154</td>\n",
       "    </tr>\n",
       "    <tr>\n",
       "      <th>2</th>\n",
       "      <td>3</td>\n",
       "      <td>0</td>\n",
       "      <td>0</td>\n",
       "      <td>34</td>\n",
       "      <td>0</td>\n",
       "      <td>0</td>\n",
       "      <td>0</td>\n",
       "      <td>0</td>\n",
       "      <td>205</td>\n",
       "      <td>152</td>\n",
       "      <td>153</td>\n",
       "    </tr>\n",
       "    <tr>\n",
       "      <th>3</th>\n",
       "      <td>4</td>\n",
       "      <td>0</td>\n",
       "      <td>0</td>\n",
       "      <td>81</td>\n",
       "      <td>0</td>\n",
       "      <td>0</td>\n",
       "      <td>0</td>\n",
       "      <td>0</td>\n",
       "      <td>207</td>\n",
       "      <td>153</td>\n",
       "      <td>154</td>\n",
       "    </tr>\n",
       "    <tr>\n",
       "      <th>4</th>\n",
       "      <td>5</td>\n",
       "      <td>0</td>\n",
       "      <td>0</td>\n",
       "      <td>78</td>\n",
       "      <td>0</td>\n",
       "      <td>0</td>\n",
       "      <td>0</td>\n",
       "      <td>0</td>\n",
       "      <td>203</td>\n",
       "      <td>151</td>\n",
       "      <td>152</td>\n",
       "    </tr>\n",
       "  </tbody>\n",
       "</table>\n",
       "</div>"
      ],
      "text/plain": [
       "   key  b1  b3  b4  b5  b6  b10  b11  b12  b14  b15\n",
       "0    1   0   0  43   0   0    0    0  206  150  154\n",
       "1    2   0   0  73   0   0    0    0  206  149  154\n",
       "2    3   0   0  34   0   0    0    0  205  152  153\n",
       "3    4   0   0  81   0   0    0    0  207  153  154\n",
       "4    5   0   0  78   0   0    0    0  203  151  152"
      ]
     },
     "metadata": {},
     "output_type": "display_data"
    },
    {
     "data": {
      "text/html": [
       "<div>\n",
       "<style scoped>\n",
       "    .dataframe tbody tr th:only-of-type {\n",
       "        vertical-align: middle;\n",
       "    }\n",
       "\n",
       "    .dataframe tbody tr th {\n",
       "        vertical-align: top;\n",
       "    }\n",
       "\n",
       "    .dataframe thead th {\n",
       "        text-align: right;\n",
       "    }\n",
       "</style>\n",
       "<table border=\"1\" class=\"dataframe\">\n",
       "  <thead>\n",
       "    <tr style=\"text-align: right;\">\n",
       "      <th></th>\n",
       "      <th>key</th>\n",
       "      <th>b1</th>\n",
       "      <th>b2</th>\n",
       "      <th>b3</th>\n",
       "      <th>b4</th>\n",
       "      <th>b5</th>\n",
       "      <th>b6</th>\n",
       "      <th>b7</th>\n",
       "      <th>b8</th>\n",
       "      <th>b9</th>\n",
       "      <th>b10</th>\n",
       "      <th>b11</th>\n",
       "      <th>b12</th>\n",
       "      <th>b13</th>\n",
       "      <th>b14</th>\n",
       "      <th>b15</th>\n",
       "      <th>last_time</th>\n",
       "    </tr>\n",
       "  </thead>\n",
       "  <tbody>\n",
       "    <tr>\n",
       "      <th>0</th>\n",
       "      <td>1</td>\n",
       "      <td>NaT</td>\n",
       "      <td>NaT</td>\n",
       "      <td>NaT</td>\n",
       "      <td>2019-05-03 11:21:30</td>\n",
       "      <td>NaT</td>\n",
       "      <td>NaT</td>\n",
       "      <td>NaT</td>\n",
       "      <td>NaT</td>\n",
       "      <td>NaT</td>\n",
       "      <td>NaT</td>\n",
       "      <td>NaT</td>\n",
       "      <td>2019-05-03 11:03:52</td>\n",
       "      <td>NaT</td>\n",
       "      <td>2019-05-03 11:03:52</td>\n",
       "      <td>2019-05-03 11:03:52</td>\n",
       "      <td>2019-05-03 11:21:30</td>\n",
       "    </tr>\n",
       "    <tr>\n",
       "      <th>1</th>\n",
       "      <td>2</td>\n",
       "      <td>NaT</td>\n",
       "      <td>NaT</td>\n",
       "      <td>NaT</td>\n",
       "      <td>2019-05-03 11:46:38</td>\n",
       "      <td>NaT</td>\n",
       "      <td>NaT</td>\n",
       "      <td>NaT</td>\n",
       "      <td>NaT</td>\n",
       "      <td>NaT</td>\n",
       "      <td>NaT</td>\n",
       "      <td>NaT</td>\n",
       "      <td>2019-05-03 11:40:20</td>\n",
       "      <td>NaT</td>\n",
       "      <td>2019-05-03 11:40:20</td>\n",
       "      <td>2019-05-03 11:40:20</td>\n",
       "      <td>2019-05-03 11:46:38</td>\n",
       "    </tr>\n",
       "    <tr>\n",
       "      <th>2</th>\n",
       "      <td>3</td>\n",
       "      <td>NaT</td>\n",
       "      <td>NaT</td>\n",
       "      <td>NaT</td>\n",
       "      <td>2019-05-03 12:31:06</td>\n",
       "      <td>NaT</td>\n",
       "      <td>NaT</td>\n",
       "      <td>NaT</td>\n",
       "      <td>NaT</td>\n",
       "      <td>NaT</td>\n",
       "      <td>NaT</td>\n",
       "      <td>NaT</td>\n",
       "      <td>2019-05-03 12:09:40</td>\n",
       "      <td>NaT</td>\n",
       "      <td>2019-05-03 12:09:40</td>\n",
       "      <td>2019-05-03 12:09:40</td>\n",
       "      <td>2019-05-03 12:31:06</td>\n",
       "    </tr>\n",
       "    <tr>\n",
       "      <th>3</th>\n",
       "      <td>4</td>\n",
       "      <td>NaT</td>\n",
       "      <td>NaT</td>\n",
       "      <td>NaT</td>\n",
       "      <td>2019-05-03 12:48:43</td>\n",
       "      <td>NaT</td>\n",
       "      <td>NaT</td>\n",
       "      <td>NaT</td>\n",
       "      <td>NaT</td>\n",
       "      <td>NaT</td>\n",
       "      <td>NaT</td>\n",
       "      <td>NaT</td>\n",
       "      <td>2019-05-03 12:41:24</td>\n",
       "      <td>NaT</td>\n",
       "      <td>2019-05-03 12:41:24</td>\n",
       "      <td>2019-05-03 12:41:24</td>\n",
       "      <td>2019-05-03 12:48:43</td>\n",
       "    </tr>\n",
       "    <tr>\n",
       "      <th>4</th>\n",
       "      <td>5</td>\n",
       "      <td>NaT</td>\n",
       "      <td>NaT</td>\n",
       "      <td>NaT</td>\n",
       "      <td>2019-05-03 13:18:50</td>\n",
       "      <td>NaT</td>\n",
       "      <td>NaT</td>\n",
       "      <td>NaT</td>\n",
       "      <td>NaT</td>\n",
       "      <td>NaT</td>\n",
       "      <td>NaT</td>\n",
       "      <td>NaT</td>\n",
       "      <td>2019-05-03 13:12:56</td>\n",
       "      <td>NaT</td>\n",
       "      <td>2019-05-03 13:12:56</td>\n",
       "      <td>2019-05-03 13:12:56</td>\n",
       "      <td>2019-05-03 13:18:50</td>\n",
       "    </tr>\n",
       "  </tbody>\n",
       "</table>\n",
       "</div>"
      ],
      "text/plain": [
       "   key  b1  b2  b3                  b4  b5  b6  b7  b8  b9 b10 b11  \\\n",
       "0    1 NaT NaT NaT 2019-05-03 11:21:30 NaT NaT NaT NaT NaT NaT NaT   \n",
       "1    2 NaT NaT NaT 2019-05-03 11:46:38 NaT NaT NaT NaT NaT NaT NaT   \n",
       "2    3 NaT NaT NaT 2019-05-03 12:31:06 NaT NaT NaT NaT NaT NaT NaT   \n",
       "3    4 NaT NaT NaT 2019-05-03 12:48:43 NaT NaT NaT NaT NaT NaT NaT   \n",
       "4    5 NaT NaT NaT 2019-05-03 13:18:50 NaT NaT NaT NaT NaT NaT NaT   \n",
       "\n",
       "                  b12 b13                 b14                 b15  \\\n",
       "0 2019-05-03 11:03:52 NaT 2019-05-03 11:03:52 2019-05-03 11:03:52   \n",
       "1 2019-05-03 11:40:20 NaT 2019-05-03 11:40:20 2019-05-03 11:40:20   \n",
       "2 2019-05-03 12:09:40 NaT 2019-05-03 12:09:40 2019-05-03 12:09:40   \n",
       "3 2019-05-03 12:41:24 NaT 2019-05-03 12:41:24 2019-05-03 12:41:24   \n",
       "4 2019-05-03 13:12:56 NaT 2019-05-03 13:12:56 2019-05-03 13:12:56   \n",
       "\n",
       "            last_time  \n",
       "0 2019-05-03 11:21:30  \n",
       "1 2019-05-03 11:46:38  \n",
       "2 2019-05-03 12:31:06  \n",
       "3 2019-05-03 12:48:43  \n",
       "4 2019-05-03 13:18:50  "
      ]
     },
     "metadata": {},
     "output_type": "display_data"
    },
    {
     "data": {
      "text/html": [
       "<div>\n",
       "<style scoped>\n",
       "    .dataframe tbody tr th:only-of-type {\n",
       "        vertical-align: middle;\n",
       "    }\n",
       "\n",
       "    .dataframe tbody tr th {\n",
       "        vertical-align: top;\n",
       "    }\n",
       "\n",
       "    .dataframe thead th {\n",
       "        text-align: right;\n",
       "    }\n",
       "</style>\n",
       "<table border=\"1\" class=\"dataframe\">\n",
       "  <thead>\n",
       "    <tr style=\"text-align: right;\">\n",
       "      <th></th>\n",
       "      <th>key</th>\n",
       "      <th>w1</th>\n",
       "      <th>w2</th>\n",
       "      <th>w3</th>\n",
       "      <th>w6</th>\n",
       "    </tr>\n",
       "  </thead>\n",
       "  <tbody>\n",
       "    <tr>\n",
       "      <th>0</th>\n",
       "      <td>1</td>\n",
       "      <td>60.059998</td>\n",
       "      <td>0.00000</td>\n",
       "      <td>0.0</td>\n",
       "      <td>0.0</td>\n",
       "    </tr>\n",
       "    <tr>\n",
       "      <th>1</th>\n",
       "      <td>2</td>\n",
       "      <td>96.052315</td>\n",
       "      <td>0.00000</td>\n",
       "      <td>0.0</td>\n",
       "      <td>0.0</td>\n",
       "    </tr>\n",
       "    <tr>\n",
       "      <th>2</th>\n",
       "      <td>3</td>\n",
       "      <td>91.160157</td>\n",
       "      <td>0.00000</td>\n",
       "      <td>0.0</td>\n",
       "      <td>0.0</td>\n",
       "    </tr>\n",
       "    <tr>\n",
       "      <th>3</th>\n",
       "      <td>4</td>\n",
       "      <td>89.063515</td>\n",
       "      <td>0.00000</td>\n",
       "      <td>0.0</td>\n",
       "      <td>0.0</td>\n",
       "    </tr>\n",
       "    <tr>\n",
       "      <th>4</th>\n",
       "      <td>5</td>\n",
       "      <td>89.238236</td>\n",
       "      <td>9.11456</td>\n",
       "      <td>0.0</td>\n",
       "      <td>0.0</td>\n",
       "    </tr>\n",
       "  </tbody>\n",
       "</table>\n",
       "</div>"
      ],
      "text/plain": [
       "   key         w1       w2   w3   w6\n",
       "0    1  60.059998  0.00000  0.0  0.0\n",
       "1    2  96.052315  0.00000  0.0  0.0\n",
       "2    3  91.160157  0.00000  0.0  0.0\n",
       "3    4  89.063515  0.00000  0.0  0.0\n",
       "4    5  89.238236  9.11456  0.0  0.0"
      ]
     },
     "metadata": {},
     "output_type": "display_data"
    },
    {
     "data": {
      "text/html": [
       "<div>\n",
       "<style scoped>\n",
       "    .dataframe tbody tr th:only-of-type {\n",
       "        vertical-align: middle;\n",
       "    }\n",
       "\n",
       "    .dataframe tbody tr th {\n",
       "        vertical-align: top;\n",
       "    }\n",
       "\n",
       "    .dataframe thead th {\n",
       "        text-align: right;\n",
       "    }\n",
       "</style>\n",
       "<table border=\"1\" class=\"dataframe\">\n",
       "  <thead>\n",
       "    <tr style=\"text-align: right;\">\n",
       "      <th></th>\n",
       "      <th>key</th>\n",
       "      <th>w1</th>\n",
       "      <th>w2</th>\n",
       "      <th>w3</th>\n",
       "      <th>w4</th>\n",
       "      <th>w5</th>\n",
       "      <th>w6</th>\n",
       "      <th>w7</th>\n",
       "      <th>w8</th>\n",
       "      <th>w9</th>\n",
       "      <th>last_time</th>\n",
       "    </tr>\n",
       "  </thead>\n",
       "  <tbody>\n",
       "    <tr>\n",
       "      <th>0</th>\n",
       "      <td>1</td>\n",
       "      <td>2019-05-03 11:11:41</td>\n",
       "      <td>NaT</td>\n",
       "      <td>NaT</td>\n",
       "      <td>NaT</td>\n",
       "      <td>NaT</td>\n",
       "      <td>NaT</td>\n",
       "      <td>NaT</td>\n",
       "      <td>NaT</td>\n",
       "      <td>NaT</td>\n",
       "      <td>2019-05-03 11:11:41</td>\n",
       "    </tr>\n",
       "    <tr>\n",
       "      <th>1</th>\n",
       "      <td>2</td>\n",
       "      <td>2019-05-03 11:46:10</td>\n",
       "      <td>NaT</td>\n",
       "      <td>NaT</td>\n",
       "      <td>NaT</td>\n",
       "      <td>NaT</td>\n",
       "      <td>NaT</td>\n",
       "      <td>NaT</td>\n",
       "      <td>NaT</td>\n",
       "      <td>NaT</td>\n",
       "      <td>2019-05-03 11:46:10</td>\n",
       "    </tr>\n",
       "    <tr>\n",
       "      <th>2</th>\n",
       "      <td>3</td>\n",
       "      <td>2019-05-03 12:13:47</td>\n",
       "      <td>NaT</td>\n",
       "      <td>NaT</td>\n",
       "      <td>NaT</td>\n",
       "      <td>NaT</td>\n",
       "      <td>NaT</td>\n",
       "      <td>NaT</td>\n",
       "      <td>NaT</td>\n",
       "      <td>NaT</td>\n",
       "      <td>2019-05-03 12:13:47</td>\n",
       "    </tr>\n",
       "    <tr>\n",
       "      <th>3</th>\n",
       "      <td>4</td>\n",
       "      <td>2019-05-03 12:48:05</td>\n",
       "      <td>NaT</td>\n",
       "      <td>NaT</td>\n",
       "      <td>NaT</td>\n",
       "      <td>NaT</td>\n",
       "      <td>NaT</td>\n",
       "      <td>NaT</td>\n",
       "      <td>NaT</td>\n",
       "      <td>NaT</td>\n",
       "      <td>2019-05-03 12:48:05</td>\n",
       "    </tr>\n",
       "    <tr>\n",
       "      <th>4</th>\n",
       "      <td>5</td>\n",
       "      <td>2019-05-03 13:18:15</td>\n",
       "      <td>2019-05-03 13:32:06</td>\n",
       "      <td>NaT</td>\n",
       "      <td>NaT</td>\n",
       "      <td>NaT</td>\n",
       "      <td>NaT</td>\n",
       "      <td>NaT</td>\n",
       "      <td>NaT</td>\n",
       "      <td>NaT</td>\n",
       "      <td>2019-05-03 13:32:06</td>\n",
       "    </tr>\n",
       "  </tbody>\n",
       "</table>\n",
       "</div>"
      ],
      "text/plain": [
       "   key                  w1                  w2  w3  w4  w5  w6  w7  w8  w9  \\\n",
       "0    1 2019-05-03 11:11:41                 NaT NaT NaT NaT NaT NaT NaT NaT   \n",
       "1    2 2019-05-03 11:46:10                 NaT NaT NaT NaT NaT NaT NaT NaT   \n",
       "2    3 2019-05-03 12:13:47                 NaT NaT NaT NaT NaT NaT NaT NaT   \n",
       "3    4 2019-05-03 12:48:05                 NaT NaT NaT NaT NaT NaT NaT NaT   \n",
       "4    5 2019-05-03 13:18:15 2019-05-03 13:32:06 NaT NaT NaT NaT NaT NaT NaT   \n",
       "\n",
       "            last_time  \n",
       "0 2019-05-03 11:11:41  \n",
       "1 2019-05-03 11:46:10  \n",
       "2 2019-05-03 12:13:47  \n",
       "3 2019-05-03 12:48:05  \n",
       "4 2019-05-03 13:32:06  "
      ]
     },
     "metadata": {},
     "output_type": "display_data"
    }
   ],
   "source": [
    "# Удалим признаки, с малым количеством приминения у проволки и сыпучих материалов. \n",
    "# Малое приминение это меньше 1% случаев. сыпучие материалы 2,7,8,9,13 и проволочные 4,5,7,8,9\n",
    "data_bulk = data_bulk.drop(['b2','b7','b8','b9','b13'], axis=1)\n",
    "data_bulk_time['last_time'] = data_bulk_time.drop('key', axis=1).max(axis=1)\n",
    "data_wire = data_wire.drop(['w4','w5','w7','w8','w9'], axis=1)\n",
    "data_wire_time['last_time'] = data_wire_time.drop('key', axis=1).max(axis=1)\n",
    "display(data_bulk.head())\n",
    "display(data_bulk_time.head())\n",
    "display(data_wire.head())\n",
    "display(data_wire_time.head())"
   ]
  },
  {
   "cell_type": "markdown",
   "id": "2e334498",
   "metadata": {},
   "source": [
    "Таблицы дообработаны, можно выделать рабочие партии, у которых время последнего замера позже последней операции и дополнительно отсеям партии "
   ]
  },
  {
   "cell_type": "code",
   "execution_count": 36,
   "id": "136b04b4",
   "metadata": {},
   "outputs": [
    {
     "data": {
      "text/plain": [
       "2208"
      ]
     },
     "execution_count": 36,
     "metadata": {},
     "output_type": "execute_result"
    }
   ],
   "source": [
    "use_k = []\n",
    "for k in temp_pivot['key']:\n",
    "    t_temp = temp_pivot.query('key==@k')['last_time'].max()\n",
    "    t_wire = data_wire_time.query('key==@k')['last_time'].max()\n",
    "    t_bulk = data_bulk_time.query('key==@k')['last_time'].max()\n",
    "    t_arc = arc_pivot.query('key==@k')['last_time'].max()\n",
    "    if t_temp>t_wire and t_temp>t_bulk and t_temp>t_arc:\n",
    "        use_k.append(k)\n",
    "\n",
    "len(use_k)"
   ]
  },
  {
   "cell_type": "code",
   "execution_count": 37,
   "id": "22b48c84",
   "metadata": {},
   "outputs": [
    {
     "data": {
      "text/html": [
       "<div>\n",
       "<style scoped>\n",
       "    .dataframe tbody tr th:only-of-type {\n",
       "        vertical-align: middle;\n",
       "    }\n",
       "\n",
       "    .dataframe tbody tr th {\n",
       "        vertical-align: top;\n",
       "    }\n",
       "\n",
       "    .dataframe thead th {\n",
       "        text-align: right;\n",
       "    }\n",
       "</style>\n",
       "<table border=\"1\" class=\"dataframe\">\n",
       "  <thead>\n",
       "    <tr style=\"text-align: right;\">\n",
       "      <th></th>\n",
       "      <th>key</th>\n",
       "      <th>first_time</th>\n",
       "      <th>last_time</th>\n",
       "      <th>first_temp</th>\n",
       "      <th>last_temp</th>\n",
       "    </tr>\n",
       "  </thead>\n",
       "  <tbody>\n",
       "    <tr>\n",
       "      <th>0</th>\n",
       "      <td>1</td>\n",
       "      <td>2019-05-03 11:16:18</td>\n",
       "      <td>2019-05-03 11:30:39</td>\n",
       "      <td>1571.0</td>\n",
       "      <td>1613.0</td>\n",
       "    </tr>\n",
       "    <tr>\n",
       "      <th>1</th>\n",
       "      <td>2</td>\n",
       "      <td>2019-05-03 11:37:27</td>\n",
       "      <td>2019-05-03 11:59:12</td>\n",
       "      <td>1581.0</td>\n",
       "      <td>1602.0</td>\n",
       "    </tr>\n",
       "    <tr>\n",
       "      <th>2</th>\n",
       "      <td>3</td>\n",
       "      <td>2019-05-03 12:13:17</td>\n",
       "      <td>2019-05-03 12:34:57</td>\n",
       "      <td>1596.0</td>\n",
       "      <td>1599.0</td>\n",
       "    </tr>\n",
       "    <tr>\n",
       "      <th>3</th>\n",
       "      <td>4</td>\n",
       "      <td>2019-05-03 12:52:57</td>\n",
       "      <td>2019-05-03 12:59:25</td>\n",
       "      <td>1601.0</td>\n",
       "      <td>1625.0</td>\n",
       "    </tr>\n",
       "    <tr>\n",
       "      <th>4</th>\n",
       "      <td>5</td>\n",
       "      <td>2019-05-03 13:23:19</td>\n",
       "      <td>2019-05-03 13:36:01</td>\n",
       "      <td>1576.0</td>\n",
       "      <td>1602.0</td>\n",
       "    </tr>\n",
       "    <tr>\n",
       "      <th>...</th>\n",
       "      <td>...</td>\n",
       "      <td>...</td>\n",
       "      <td>...</td>\n",
       "      <td>...</td>\n",
       "      <td>...</td>\n",
       "    </tr>\n",
       "    <tr>\n",
       "      <th>2470</th>\n",
       "      <td>2495</td>\n",
       "      <td>2019-08-06 00:35:45</td>\n",
       "      <td>2019-08-06 00:54:42</td>\n",
       "      <td>1570.0</td>\n",
       "      <td>1591.0</td>\n",
       "    </tr>\n",
       "    <tr>\n",
       "      <th>2471</th>\n",
       "      <td>2496</td>\n",
       "      <td>2019-08-06 01:02:54</td>\n",
       "      <td>2019-08-06 01:29:52</td>\n",
       "      <td>1554.0</td>\n",
       "      <td>1591.0</td>\n",
       "    </tr>\n",
       "    <tr>\n",
       "      <th>2472</th>\n",
       "      <td>2497</td>\n",
       "      <td>2019-08-06 01:41:53</td>\n",
       "      <td>2019-08-06 01:53:50</td>\n",
       "      <td>1571.0</td>\n",
       "      <td>1589.0</td>\n",
       "    </tr>\n",
       "    <tr>\n",
       "      <th>2473</th>\n",
       "      <td>2498</td>\n",
       "      <td>2019-08-06 02:03:49</td>\n",
       "      <td>2019-08-06 02:25:31</td>\n",
       "      <td>1591.0</td>\n",
       "      <td>1594.0</td>\n",
       "    </tr>\n",
       "    <tr>\n",
       "      <th>2474</th>\n",
       "      <td>2499</td>\n",
       "      <td>2019-08-06 02:40:25</td>\n",
       "      <td>2019-08-06 03:00:28</td>\n",
       "      <td>1569.0</td>\n",
       "      <td>1603.0</td>\n",
       "    </tr>\n",
       "  </tbody>\n",
       "</table>\n",
       "<p>2208 rows × 5 columns</p>\n",
       "</div>"
      ],
      "text/plain": [
       "       key          first_time           last_time  first_temp  last_temp\n",
       "0        1 2019-05-03 11:16:18 2019-05-03 11:30:39      1571.0     1613.0\n",
       "1        2 2019-05-03 11:37:27 2019-05-03 11:59:12      1581.0     1602.0\n",
       "2        3 2019-05-03 12:13:17 2019-05-03 12:34:57      1596.0     1599.0\n",
       "3        4 2019-05-03 12:52:57 2019-05-03 12:59:25      1601.0     1625.0\n",
       "4        5 2019-05-03 13:23:19 2019-05-03 13:36:01      1576.0     1602.0\n",
       "...    ...                 ...                 ...         ...        ...\n",
       "2470  2495 2019-08-06 00:35:45 2019-08-06 00:54:42      1570.0     1591.0\n",
       "2471  2496 2019-08-06 01:02:54 2019-08-06 01:29:52      1554.0     1591.0\n",
       "2472  2497 2019-08-06 01:41:53 2019-08-06 01:53:50      1571.0     1589.0\n",
       "2473  2498 2019-08-06 02:03:49 2019-08-06 02:25:31      1591.0     1594.0\n",
       "2474  2499 2019-08-06 02:40:25 2019-08-06 03:00:28      1569.0     1603.0\n",
       "\n",
       "[2208 rows x 5 columns]"
      ]
     },
     "execution_count": 37,
     "metadata": {},
     "output_type": "execute_result"
    }
   ],
   "source": [
    "# Отсечем ненужные партии\n",
    "final_temp = temp_pivot.query('key in @use_k')\n",
    "final_temp"
   ]
  },
  {
   "cell_type": "code",
   "execution_count": 38,
   "id": "1de34c1b",
   "metadata": {},
   "outputs": [
    {
     "name": "stdout",
     "output_type": "stream",
     "text": [
      "<class 'pandas.core.frame.DataFrame'>\n",
      "Int64Index: 2206 entries, 0 to 2205\n",
      "Data columns (total 19 columns):\n",
      " #   Column      Non-Null Count  Dtype  \n",
      "---  ------      --------------  -----  \n",
      " 0   first_temp  2206 non-null   float64\n",
      " 1   last_temp   2206 non-null   float64\n",
      " 2   w1          2206 non-null   float64\n",
      " 3   w2          2206 non-null   float64\n",
      " 4   w3          2206 non-null   float64\n",
      " 5   w6          2206 non-null   float64\n",
      " 6   b1          2206 non-null   int32  \n",
      " 7   b3          2206 non-null   int32  \n",
      " 8   b4          2206 non-null   int32  \n",
      " 9   b5          2206 non-null   int32  \n",
      " 10  b6          2206 non-null   int32  \n",
      " 11  b10         2206 non-null   int32  \n",
      " 12  b11         2206 non-null   int32  \n",
      " 13  b12         2206 non-null   int32  \n",
      " 14  b14         2206 non-null   int32  \n",
      " 15  b15         2206 non-null   int32  \n",
      " 16  gas         2206 non-null   float64\n",
      " 17  q_act       2206 non-null   float64\n",
      " 18  count       2206 non-null   int64  \n",
      "dtypes: float64(8), int32(10), int64(1)\n",
      "memory usage: 258.5 KB\n"
     ]
    }
   ],
   "source": [
    "# Объединим все данные к замерам температуры\n",
    "final_data = final_temp.drop(['first_time', 'last_time'], axis =1).merge(data_wire, on='key', how='inner')\n",
    "final_data = final_data.merge(data_bulk, on='key', how='inner')\n",
    "final_data = final_data.merge(data_gas, on='key', how='inner')\n",
    "final_data = final_data.merge(arc_pivot.drop('last_time', axis =1 ), on='key', how='inner')\n",
    "final_data = final_data.drop('key', axis =1 )\n",
    "final_data.info()"
   ]
  },
  {
   "cell_type": "markdown",
   "id": "ccba7267",
   "metadata": {},
   "source": [
    "Таким образом осталось всего 2208 партий с полным и правильным набором информации. 18 признаками и 1 целевым параметром **last_time**."
   ]
  },
  {
   "cell_type": "markdown",
   "id": "3ed5d0b1",
   "metadata": {},
   "source": [
    "### Мультиколлинеарность"
   ]
  },
  {
   "cell_type": "code",
   "execution_count": 38,
   "id": "3d713b9d",
   "metadata": {},
   "outputs": [
    {
     "data": {
      "image/png": "[encoded data removed]",
      "text/plain": [
       "<Figure size 1080x1080 with 2 Axes>"
      ]
     },
     "metadata": {
      "needs_background": "light"
     },
     "output_type": "display_data"
    }
   ],
   "source": [
    "plt.figure(figsize=(15,15))\n",
    "sns.heatmap(final_data.corr(), cmap=\"YlGnBu\", annot=True)\n",
    "plt.show()"
   ]
  },
  {
   "cell_type": "markdown",
   "id": "562e045c",
   "metadata": {},
   "source": [
    "Мы имеем среднюю корреляцияю между b12 и b15, q_act и count, последняя объясняется тем что с увеличением количеств нагревов непременно растет активная энергия, но на энергию больше влияет время этих нагревов. Так как корреляция не сильная, то можно оставить."
   ]
  },
  {
   "cell_type": "code",
   "execution_count": 42,
   "id": "3afd6f7a",
   "metadata": {},
   "outputs": [
    {
     "data": {
      "text/html": [
       "<div>\n",
       "<style scoped>\n",
       "    .dataframe tbody tr th:only-of-type {\n",
       "        vertical-align: middle;\n",
       "    }\n",
       "\n",
       "    .dataframe tbody tr th {\n",
       "        vertical-align: top;\n",
       "    }\n",
       "\n",
       "    .dataframe thead th {\n",
       "        text-align: right;\n",
       "    }\n",
       "</style>\n",
       "<table border=\"1\" class=\"dataframe\">\n",
       "  <thead>\n",
       "    <tr style=\"text-align: right;\">\n",
       "      <th></th>\n",
       "      <th>first_temp</th>\n",
       "      <th>last_temp</th>\n",
       "      <th>w1</th>\n",
       "      <th>w2</th>\n",
       "      <th>w3</th>\n",
       "      <th>w6</th>\n",
       "      <th>b1</th>\n",
       "      <th>b3</th>\n",
       "      <th>b4</th>\n",
       "      <th>b5</th>\n",
       "      <th>b6</th>\n",
       "      <th>b10</th>\n",
       "      <th>b11</th>\n",
       "      <th>b12</th>\n",
       "      <th>b14</th>\n",
       "      <th>b15</th>\n",
       "      <th>gas</th>\n",
       "      <th>q_act</th>\n",
       "      <th>count</th>\n",
       "    </tr>\n",
       "  </thead>\n",
       "  <tbody>\n",
       "    <tr>\n",
       "      <th>0</th>\n",
       "      <td>1571.0</td>\n",
       "      <td>1613.0</td>\n",
       "      <td>60.059998</td>\n",
       "      <td>0.0</td>\n",
       "      <td>0.0</td>\n",
       "      <td>0.0</td>\n",
       "      <td>0</td>\n",
       "      <td>0</td>\n",
       "      <td>43</td>\n",
       "      <td>0</td>\n",
       "      <td>0</td>\n",
       "      <td>0</td>\n",
       "      <td>0</td>\n",
       "      <td>206</td>\n",
       "      <td>150</td>\n",
       "      <td>154</td>\n",
       "      <td>29.749986</td>\n",
       "      <td>335.501180</td>\n",
       "      <td>5</td>\n",
       "    </tr>\n",
       "    <tr>\n",
       "      <th>1</th>\n",
       "      <td>1581.0</td>\n",
       "      <td>1602.0</td>\n",
       "      <td>96.052315</td>\n",
       "      <td>0.0</td>\n",
       "      <td>0.0</td>\n",
       "      <td>0.0</td>\n",
       "      <td>0</td>\n",
       "      <td>0</td>\n",
       "      <td>73</td>\n",
       "      <td>0</td>\n",
       "      <td>0</td>\n",
       "      <td>0</td>\n",
       "      <td>0</td>\n",
       "      <td>206</td>\n",
       "      <td>149</td>\n",
       "      <td>154</td>\n",
       "      <td>12.555561</td>\n",
       "      <td>203.837908</td>\n",
       "      <td>4</td>\n",
       "    </tr>\n",
       "  </tbody>\n",
       "</table>\n",
       "</div>"
      ],
      "text/plain": [
       "   first_temp  last_temp         w1   w2   w3   w6  b1  b3  b4  b5  b6  b10  \\\n",
       "0      1571.0     1613.0  60.059998  0.0  0.0  0.0   0   0  43   0   0    0   \n",
       "1      1581.0     1602.0  96.052315  0.0  0.0  0.0   0   0  73   0   0    0   \n",
       "\n",
       "   b11  b12  b14  b15        gas       q_act  count  \n",
       "0    0  206  150  154  29.749986  335.501180      5  \n",
       "1    0  206  149  154  12.555561  203.837908      4  "
      ]
     },
     "execution_count": 42,
     "metadata": {},
     "output_type": "execute_result"
    }
   ],
   "source": [
    "final_data.head(2)"
   ]
  },
  {
   "cell_type": "markdown",
   "id": "9d38f35e",
   "metadata": {},
   "source": [
    "### Train, Test"
   ]
  },
  {
   "cell_type": "code",
   "execution_count": 39,
   "id": "c15ecdd6",
   "metadata": {},
   "outputs": [],
   "source": [
    "# Для начала разобьем данные на признаки и цель\n",
    "features = final_data.drop(['last_temp'], axis=1)\n",
    "target = final_data['last_temp']"
   ]
  },
  {
   "cell_type": "code",
   "execution_count": 40,
   "id": "a0fc80d4",
   "metadata": {},
   "outputs": [
    {
     "data": {
      "text/html": [
       "<div>\n",
       "<style scoped>\n",
       "    .dataframe tbody tr th:only-of-type {\n",
       "        vertical-align: middle;\n",
       "    }\n",
       "\n",
       "    .dataframe tbody tr th {\n",
       "        vertical-align: top;\n",
       "    }\n",
       "\n",
       "    .dataframe thead th {\n",
       "        text-align: right;\n",
       "    }\n",
       "</style>\n",
       "<table border=\"1\" class=\"dataframe\">\n",
       "  <thead>\n",
       "    <tr style=\"text-align: right;\">\n",
       "      <th></th>\n",
       "      <th>first_temp</th>\n",
       "      <th>w1</th>\n",
       "      <th>w2</th>\n",
       "      <th>w3</th>\n",
       "      <th>w6</th>\n",
       "      <th>b1</th>\n",
       "      <th>b3</th>\n",
       "      <th>b4</th>\n",
       "      <th>b5</th>\n",
       "      <th>b6</th>\n",
       "      <th>b10</th>\n",
       "      <th>b11</th>\n",
       "      <th>b12</th>\n",
       "      <th>b14</th>\n",
       "      <th>b15</th>\n",
       "      <th>gas</th>\n",
       "      <th>q_act</th>\n",
       "      <th>count</th>\n",
       "    </tr>\n",
       "  </thead>\n",
       "  <tbody>\n",
       "    <tr>\n",
       "      <th>0</th>\n",
       "      <td>0.810235</td>\n",
       "      <td>0.181827</td>\n",
       "      <td>0.000000</td>\n",
       "      <td>0.0</td>\n",
       "      <td>0.0</td>\n",
       "      <td>0.0</td>\n",
       "      <td>0.0</td>\n",
       "      <td>0.153025</td>\n",
       "      <td>0.0</td>\n",
       "      <td>0.0</td>\n",
       "      <td>0.0</td>\n",
       "      <td>0.0</td>\n",
       "      <td>0.111412</td>\n",
       "      <td>0.235849</td>\n",
       "      <td>0.380247</td>\n",
       "      <td>0.381368</td>\n",
       "      <td>0.138985</td>\n",
       "      <td>0.266667</td>\n",
       "    </tr>\n",
       "    <tr>\n",
       "      <th>1</th>\n",
       "      <td>0.831557</td>\n",
       "      <td>0.290791</td>\n",
       "      <td>0.000000</td>\n",
       "      <td>0.0</td>\n",
       "      <td>0.0</td>\n",
       "      <td>0.0</td>\n",
       "      <td>0.0</td>\n",
       "      <td>0.259786</td>\n",
       "      <td>0.0</td>\n",
       "      <td>0.0</td>\n",
       "      <td>0.0</td>\n",
       "      <td>0.0</td>\n",
       "      <td>0.111412</td>\n",
       "      <td>0.234277</td>\n",
       "      <td>0.380247</td>\n",
       "      <td>0.160889</td>\n",
       "      <td>0.083958</td>\n",
       "      <td>0.200000</td>\n",
       "    </tr>\n",
       "    <tr>\n",
       "      <th>2</th>\n",
       "      <td>0.863539</td>\n",
       "      <td>0.275980</td>\n",
       "      <td>0.000000</td>\n",
       "      <td>0.0</td>\n",
       "      <td>0.0</td>\n",
       "      <td>0.0</td>\n",
       "      <td>0.0</td>\n",
       "      <td>0.120996</td>\n",
       "      <td>0.0</td>\n",
       "      <td>0.0</td>\n",
       "      <td>0.0</td>\n",
       "      <td>0.0</td>\n",
       "      <td>0.110871</td>\n",
       "      <td>0.238994</td>\n",
       "      <td>0.377778</td>\n",
       "      <td>0.366042</td>\n",
       "      <td>0.050264</td>\n",
       "      <td>0.266667</td>\n",
       "    </tr>\n",
       "    <tr>\n",
       "      <th>3</th>\n",
       "      <td>0.874200</td>\n",
       "      <td>0.269633</td>\n",
       "      <td>0.000000</td>\n",
       "      <td>0.0</td>\n",
       "      <td>0.0</td>\n",
       "      <td>0.0</td>\n",
       "      <td>0.0</td>\n",
       "      <td>0.288256</td>\n",
       "      <td>0.0</td>\n",
       "      <td>0.0</td>\n",
       "      <td>0.0</td>\n",
       "      <td>0.0</td>\n",
       "      <td>0.111952</td>\n",
       "      <td>0.240566</td>\n",
       "      <td>0.380247</td>\n",
       "      <td>0.241488</td>\n",
       "      <td>0.076627</td>\n",
       "      <td>0.200000</td>\n",
       "    </tr>\n",
       "    <tr>\n",
       "      <th>4</th>\n",
       "      <td>0.820896</td>\n",
       "      <td>0.270161</td>\n",
       "      <td>0.032232</td>\n",
       "      <td>0.0</td>\n",
       "      <td>0.0</td>\n",
       "      <td>0.0</td>\n",
       "      <td>0.0</td>\n",
       "      <td>0.277580</td>\n",
       "      <td>0.0</td>\n",
       "      <td>0.0</td>\n",
       "      <td>0.0</td>\n",
       "      <td>0.0</td>\n",
       "      <td>0.109789</td>\n",
       "      <td>0.237421</td>\n",
       "      <td>0.375309</td>\n",
       "      <td>0.069311</td>\n",
       "      <td>0.114569</td>\n",
       "      <td>0.200000</td>\n",
       "    </tr>\n",
       "  </tbody>\n",
       "</table>\n",
       "</div>"
      ],
      "text/plain": [
       "   first_temp        w1        w2   w3   w6   b1   b3        b4   b5   b6  \\\n",
       "0    0.810235  0.181827  0.000000  0.0  0.0  0.0  0.0  0.153025  0.0  0.0   \n",
       "1    0.831557  0.290791  0.000000  0.0  0.0  0.0  0.0  0.259786  0.0  0.0   \n",
       "2    0.863539  0.275980  0.000000  0.0  0.0  0.0  0.0  0.120996  0.0  0.0   \n",
       "3    0.874200  0.269633  0.000000  0.0  0.0  0.0  0.0  0.288256  0.0  0.0   \n",
       "4    0.820896  0.270161  0.032232  0.0  0.0  0.0  0.0  0.277580  0.0  0.0   \n",
       "\n",
       "   b10  b11       b12       b14       b15       gas     q_act     count  \n",
       "0  0.0  0.0  0.111412  0.235849  0.380247  0.381368  0.138985  0.266667  \n",
       "1  0.0  0.0  0.111412  0.234277  0.380247  0.160889  0.083958  0.200000  \n",
       "2  0.0  0.0  0.110871  0.238994  0.377778  0.366042  0.050264  0.266667  \n",
       "3  0.0  0.0  0.111952  0.240566  0.380247  0.241488  0.076627  0.200000  \n",
       "4  0.0  0.0  0.109789  0.237421  0.375309  0.069311  0.114569  0.200000  "
      ]
     },
     "metadata": {},
     "output_type": "display_data"
    }
   ],
   "source": [
    "# Масштабируем все признаки \n",
    "col = features.columns.tolist()\n",
    "pd.options.mode.chained_assignment = None\n",
    "scaler = MinMaxScaler()\n",
    "features[col] = scaler.fit_transform(features[col])\n",
    "display(features.head())"
   ]
  },
  {
   "cell_type": "code",
   "execution_count": 41,
   "id": "33615517",
   "metadata": {},
   "outputs": [
    {
     "name": "stdout",
     "output_type": "stream",
     "text": [
      "Количество объектов в обучающей выборке 1654\n",
      "Количество объектов в тестовой выборке 552\n"
     ]
    }
   ],
   "source": [
    "# Разобъем данные на 2 выборки: обучающую (75%) и тестовую (25%). То есть 3:1. \n",
    "features_train, features_test, target_train, target_test = train_test_split(\n",
    "    features, target, train_size=0.75, random_state=12345) \n",
    "print('Количество объектов в обучающей выборке', len(features_train))\n",
    "print('Количество объектов в тестовой выборке', len(features_test))"
   ]
  },
  {
   "cell_type": "markdown",
   "id": "97051af7",
   "metadata": {},
   "source": [
    "### Вывод"
   ]
  },
  {
   "cell_type": "markdown",
   "id": "421f1323",
   "metadata": {},
   "source": [
    "Мы полностью обработали данные.   \n",
    "Выделили только те партии, на которых можно адекватно обучить модель. Это партии в которых есть правильные замеры температуры, то есть есть как минимум 2 температуры, последний замер имеет не пустое значение и время этого замера позже времени манипуляций с расплавом.    \n",
    "Проверили на мультиколлинеарность, которая показала среднюю корреляцию у между b12 и b15, q_act и count.  \n",
    "Смасштабировали данные и разделили данные на обучающую выборку и тестовую."
   ]
  },
  {
   "cell_type": "markdown",
   "id": "2f2ad4eb",
   "metadata": {},
   "source": [
    "## Модели"
   ]
  },
  {
   "cell_type": "markdown",
   "id": "6226dc9f",
   "metadata": {},
   "source": [
    "### Простая модель для проверки адекватности"
   ]
  },
  {
   "cell_type": "code",
   "execution_count": 42,
   "id": "c65bc313",
   "metadata": {},
   "outputs": [
    {
     "name": "stdout",
     "output_type": "stream",
     "text": [
      "MAE для средних данных: 8.364337380267258\n",
      "MAE для медианы: 8.295289855072463\n"
     ]
    }
   ],
   "source": [
    "# Посчитаем RMSE на средних данных \n",
    "pred_mean = [target.mean()] * len(target_test)\n",
    "mae_mean = mae(target_test, pred_mean)\n",
    "print('MAE для средних данных:', mae_mean)\n",
    "# Посчитаем RMSE на медиане \n",
    "pred_median = [target.median()] * len(target_test)\n",
    "mae_median = mae(target_test, pred_median)\n",
    "print('MAE для медианы:', mae_median)"
   ]
  },
  {
   "cell_type": "markdown",
   "id": "863d321b",
   "metadata": {},
   "source": [
    "### Линейная регрессия"
   ]
  },
  {
   "cell_type": "code",
   "execution_count": 43,
   "id": "080145d5",
   "metadata": {},
   "outputs": [
    {
     "name": "stdout",
     "output_type": "stream",
     "text": [
      "Количество объектов в новой обучающей выборке 1240\n",
      "Количество объектов в валидационной выборке 414\n"
     ]
    }
   ],
   "source": [
    "# тестовые данные не будем трогать, выделим из обучающей выборки валидационную 3:1\n",
    "features_train1, features_valid, target_train1, target_valid = train_test_split(\n",
    "    features_train, target_train, train_size=0.75, random_state=12345) \n",
    "print('Количество объектов в новой обучающей выборке', len(features_train1))\n",
    "print('Количество объектов в валидационной выборке', len(features_valid))"
   ]
  },
  {
   "cell_type": "code",
   "execution_count": 44,
   "id": "493795d9",
   "metadata": {},
   "outputs": [
    {
     "name": "stdout",
     "output_type": "stream",
     "text": [
      "MAE для линейной регрессии: 6.968871814186885\n"
     ]
    }
   ],
   "source": [
    "model_lr = LinearRegression()\n",
    "model_lr.fit(features_train1, target_train1)  # обучим модель\n",
    "pred_lr = model_lr.predict(features_valid)  # предсказывания\n",
    "mae_lr = mae(target_valid, pred_lr)\n",
    "print('MAE для линейной регрессии:', mae_lr)"
   ]
  },
  {
   "cell_type": "markdown",
   "id": "c0d05559",
   "metadata": {},
   "source": [
    "### Случайный лес"
   ]
  },
  {
   "cell_type": "code",
   "execution_count": 45,
   "id": "91513e0b",
   "metadata": {},
   "outputs": [],
   "source": [
    "# подготовим модель\n",
    "model_rf = RandomForestRegressor(random_state=12345)\n",
    "\n",
    "# добавим кросс-валидацию\n",
    "cv_k = KFold(n_splits=5, shuffle=True, random_state=12345)\n",
    "\n",
    "parametrs_rf = { 'n_estimators': range (30, 50, 2), # создаем словарик с параметрами\n",
    "              'max_depth': range (7, 13, 1)} \n"
   ]
  },
  {
   "cell_type": "code",
   "execution_count": 46,
   "id": "75b64d38",
   "metadata": {},
   "outputs": [
    {
     "name": "stdout",
     "output_type": "stream",
     "text": [
      "Лучшие гиперпараметры случайного леса: {'max_depth': 9, 'n_estimators': 40}\n",
      "Лучшее MAE для случайного леса: 6.067904086550728\n"
     ]
    }
   ],
   "source": [
    "grid_rf = GridSearchCV(model_rf, parametrs_rf, cv=cv_k, scoring='neg_mean_absolute_error')\n",
    "grid_rf.fit(features_train, target_train)  # обучим модель\n",
    "#Посмотрим наилучшие подобранные параметры\n",
    "print('Лучшие гиперпараметры случайного леса:', grid_rf.best_params_)\n",
    "mae_rf = -grid_rf.best_score_\n",
    "print('Лучшее MAE для случайного леса:', mae_rf)"
   ]
  },
  {
   "cell_type": "markdown",
   "id": "17ee4317",
   "metadata": {},
   "source": [
    "### Catboost"
   ]
  },
  {
   "cell_type": "code",
   "execution_count": 47,
   "id": "df3dc68d",
   "metadata": {},
   "outputs": [],
   "source": [
    "# создадим модель градиентного бустинга CatBoost\n",
    "cat = CatBoostRegressor(\n",
    "    boosting_type='Plain', bootstrap_type='Bayesian', loss_function='MAE', verbose=0, random_state=12345)\n",
    "\n",
    "# добавим кросс-валидацию\n",
    "cv_k = KFold(n_splits=4, shuffle=True, random_state=12345)\n",
    "\n",
    "params_cat = {\n",
    "    'learning_rate': [0.03, 0.035, 0.04],\n",
    "    'depth': [2, 3],\n",
    "    'n_estimators': [1200, 1500],\n",
    "}"
   ]
  },
  {
   "cell_type": "code",
   "execution_count": 48,
   "id": "f019f80e",
   "metadata": {},
   "outputs": [
    {
     "name": "stdout",
     "output_type": "stream",
     "text": [
      "Параметры лучшей модели: {'depth': 3, 'learning_rate': 0.035, 'n_estimators': 1500}\n",
      "Лучшее MAE для catboost: 5.885541841923981\n"
     ]
    }
   ],
   "source": [
    "grid_cat = GridSearchCV(cat, params_cat, cv=cv_k, scoring='neg_mean_absolute_error', n_jobs=2)\n",
    "# обучим модель и выведем время обучения\n",
    "grid_cat.fit(features_train, target_train)\n",
    "#Посмотрим наилучшие подобранные параметры\n",
    "print('Параметры лучшей модели:', grid_cat.best_params_) \n",
    "mae_cat = -grid_cat.best_score_\n",
    "print('Лучшее MAE для catboost:', mae_cat)"
   ]
  },
  {
   "cell_type": "markdown",
   "id": "e5df0061",
   "metadata": {},
   "source": [
    "### LightGBM"
   ]
  },
  {
   "cell_type": "code",
   "execution_count": 49,
   "id": "b2b7382b",
   "metadata": {},
   "outputs": [],
   "source": [
    "# создадим модель градиентного бустинга\n",
    "lgbm = LGBMRegressor(metric='MAE', verbose_eval=0, seed=12345)\n",
    "\n",
    "# добавим кросс-валидацию\n",
    "cv_k = KFold(n_splits=4, shuffle=True, random_state=12345)\n",
    "\n",
    "params_lgbm = {\n",
    "    'learning_rate': [0.004, 0.05, 0.06],\n",
    "    'max_depth': [10, 11, 12],\n",
    "    'num_leaves': [30, 33, 37, 40],\n",
    "}"
   ]
  },
  {
   "cell_type": "code",
   "execution_count": 50,
   "id": "b1dca876",
   "metadata": {},
   "outputs": [
    {
     "name": "stdout",
     "output_type": "stream",
     "text": [
      "[LightGBM] [Warning] Unknown parameter: verbose_eval\n",
      "Параметры лучшей модели: {'learning_rate': 0.05, 'max_depth': 11, 'num_leaves': 33}\n",
      "Лучшее MAE для LightGBM: 6.012331306842784\n"
     ]
    }
   ],
   "source": [
    "grid_lgbm = GridSearchCV(lgbm, params_lgbm, cv=cv_k, scoring='neg_mean_absolute_error', n_jobs=2)\n",
    "# обучим модель и выведем время обучения\n",
    "grid_lgbm.fit(features_train, target_train)\n",
    "#Посмотрим наилучшие подобранные параметры\n",
    "print('Параметры лучшей модели:', grid_lgbm.best_params_) \n",
    "mae_lgbm = -grid_lgbm.best_score_\n",
    "print('Лучшее MAE для LightGBM:', mae_lgbm)"
   ]
  },
  {
   "cell_type": "markdown",
   "id": "0d675734",
   "metadata": {},
   "source": [
    "### Вывод"
   ]
  },
  {
   "cell_type": "markdown",
   "id": "a7ec2394",
   "metadata": {},
   "source": [
    "В ходе создания и тестирования моделей мы получили следующие результаты:\n",
    "\n",
    "                                MAE\t \n",
    "        Mean                    8.364\n",
    "        Median                  8.295\n",
    "        Линейная регрессия      6.969\n",
    "        Случайный лес           6.068\n",
    "        Catboost                5.886\n",
    "        LightGBM                6.012\n",
    "\n",
    "Заказчиком даны следующие пороговые значения МАЕ: пороговое значение ≤ 8,7; среднее значение ≤ 6.8; идеал ≤ 6.   \n",
    "Таким образом даже если мы все данные заполним средним значеним, то мы пройдем по минимальному значению.    \n",
    "Лучше всего сработала модель catboost, которая показала MAE меньше 6. Эту модель мы и протестируем на тестовой выборке."
   ]
  },
  {
   "cell_type": "markdown",
   "id": "642b4495",
   "metadata": {},
   "source": [
    "## Тест лучшей модели"
   ]
  },
  {
   "cell_type": "code",
   "execution_count": 51,
   "id": "f0ca980b",
   "metadata": {},
   "outputs": [
    {
     "name": "stdout",
     "output_type": "stream",
     "text": [
      "MAE лучшей модели(catboost): 6.0589305451567474\n"
     ]
    }
   ],
   "source": [
    "# Проверим нашу лучшую модель (случайный лес) на тестовой выборке\n",
    "best_model = grid_cat.best_estimator_\n",
    "\n",
    "pred_best = best_model.predict(features_test)\n",
    "mae_best = mae(target_test, pred_best)\n",
    "print('MAE лучшей модели(catboost):', mae_best)"
   ]
  },
  {
   "cell_type": "markdown",
   "id": "5cd79a04",
   "metadata": {},
   "source": [
    "Модель к сожалению не смогла перешагнуть порог идеального MAE и оказалась немного переобученной, но показала весьма хороший результат.  \n",
    "Такую модель можно запускать в работу."
   ]
  },
  {
   "cell_type": "markdown",
   "id": "6c5fa9a6",
   "metadata": {},
   "source": [
    "## Вывод"
   ]
  },
  {
   "cell_type": "code",
   "execution_count": 52,
   "id": "c0ff6319",
   "metadata": {},
   "outputs": [
    {
     "data": {
      "image/png": "[encoded data removed]",
      "text/plain": [
       "<Figure size 432x288 with 1 Axes>"
      ]
     },
     "metadata": {
      "needs_background": "light"
     },
     "output_type": "display_data"
    },
    {
     "data": {
      "image/png": "[encoded data removed]",
      "text/plain": [
       "<Figure size 432x288 with 1 Axes>"
      ]
     },
     "metadata": {
      "needs_background": "light"
     },
     "output_type": "display_data"
    }
   ],
   "source": [
    "# Посмотрим какие признаки оказались важнее всего\n",
    "importances = best_model.feature_importances_\n",
    "feature_list = list(features.columns)\n",
    "feature_results = pd.DataFrame({'feature': feature_list,'importance': importances})\n",
    "feature_results = feature_results.sort_values('importance',ascending = False).reset_index(drop=True)\n",
    "\n",
    "plt.barh(y = range(feature_results.shape[0]),      # значение шкалы оси Y гистограммы\n",
    "        width = feature_results['importance'],               # значение оси x гистограммы\n",
    "        tick_label = feature_results['feature'],     # метку шкалы для оси Y гистограммы\n",
    "        color = 'orange',               # цвет заливки гистограммы\n",
    "       )\n",
    "\n",
    "plt.title('Важность Признаков градиентного бустинга (catboost)')\n",
    "plt.show() \n",
    "\n",
    "importances1 = grid_rf.best_estimator_.feature_importances_\n",
    "feature_results1 = pd.DataFrame({'feature': feature_list,'importance': importances1})\n",
    "feature_results1 = feature_results1.sort_values('importance',ascending = False).reset_index(drop=True)\n",
    "plt.barh(y = range(feature_results1.shape[0]),      # значение шкалы оси Y гистограммы\n",
    "        width = feature_results1['importance'],               # значение оси x гистограммы\n",
    "        tick_label = feature_results1['feature'],     # метку шкалы для оси Y гистограммы\n",
    "        color = 'blue',               # цвет заливки гистограммы\n",
    "       )\n",
    "\n",
    "plt.title('Важность Признаков случайного леса')\n",
    "plt.show() "
   ]
  },
  {
   "cell_type": "markdown",
   "id": "c67a38d8",
   "metadata": {},
   "source": [
    "В данном проекте были протестированы несколько моделей градиентного бустинга, модель случайного леса и линейная регрессия.   \n",
    "Начальные данные имели пропуски, аномалии, но не имели дубликатов. Ошибки мы исправили и отобрали только те партии, замеры температуры которых были правильны. То есть имелось минимум 2 замера, последний замер должен быть последним во времени, замер температуры не должен быть раньше манипуляций с металлом.  \n",
    "Заказчиком были обусловленны условия успешной модели: метрика МАЕ не должна превышать 8,7, в идеале должна быть менее 6. Самая простая модель, которую мы написали для проверки адекватности - все предсказания по медиане, уже влазит влазит в минимум.   \n",
    "\n",
    "Сводная таблица моделей:  \n",
    "\n",
    "                                MAE\t \n",
    "        Mean                    8.364\n",
    "        Median                  8.295\n",
    "        Линейная регрессия      6.969\n",
    "        Случайный лес           6.068\n",
    "        Catboost                5.886\n",
    "        LightGBM                6.012\n",
    "        \n",
    "Лучше всего предсказывает модель Catboost от Яндекса со следующими параметрами: boosting_type='Plain', bootstrap_type='Bayesian', loss_function='MAE', depth= 3, learning_rate = 0.035, n_estimators = 1500.\n",
    "Данная модель и была протестированна на тестовой выборке и показала **среднюю абсолютную ошибку равную 6.059**. Данное значение очень близко к идеальному, но к сожалению не смогло перешагнуть порог. Данную модель можно запускать в работу.    \n",
    "\n",
    "Самыми важными показателями влияющими на конечную температуру являются: *Потраченная активная электроэнергия* , *Начальная температура* и *Объем первой проволочной присадки w1*\n",
    "\n"
   ]
  },
  {
   "cell_type": "markdown",
   "id": "1b4eaa81",
   "metadata": {},
   "source": [
    "## Отчет"
   ]
  },
  {
   "cell_type": "markdown",
   "id": "554b15b3",
   "metadata": {},
   "source": [
    "Для выполнения данного проекта мы составили общий план работы (см. п2.1). Работа выполнялалсь строго по плану, за исключением выбора метрик, так как ключевую метрику метрику и её значение нам установил заказчик. \n",
    "\n",
    "Основными трудностями проекта были:  \n",
    "- определение целевой температуры, так как в некоторых случаях была всего одна температура на всю партию, в других случаях были пропуски последней температуры или раннее время замера. Если одна температура то она является начальной независимо от времени замера этой температуры (условие заказчика). Пропуск в последнем замере температуры может означать как об ошибке выгрузки данных, так и об махинациях с этой температурой. Ранее время замера - это такое время, которое раньше последней из операций над сплавом, например легирование. Ранее время не является целевой метрикой и нам оно не интересно.  \n",
    "- настройка катбуста, так как малое количество статей, малое количество вопрос/ответов и неудобный сайт с описанием. Пришлось потратить чуть больше времени чем планировал.\n",
    "\n",
    "Ключевыми шагами данного проекта являются:\n",
    "1. EDA  \n",
    "2. Различные уточнения у тимлида от данных и целевого параметра до метрики  \n",
    "3. Тест моделей \n",
    "4. Вывод и отчет\n",
    "\n",
    "В ходе выполнения данной работы мы обучили несколько моделей, лучшей оказалась модель градиентного бустинга от Яндекса - Catboost со следующими параметрами: boosting_type='Plain', bootstrap_type='Bayesian', loss_function='MAE', depth= 3, learning_rate = 0.035, n_estimators = 1500.  \n",
    "В ходе обучения модель показала целевую метрику **MAE = 5.886**. На тестовой выборке модель показала **среднюю абсолютную ошибку равную 6.059**. "
   ]
  }
 ],
 "metadata": {
  "ExecuteTimeLog": [
   {
    "duration": 1481,
    "start_time": "2022-04-19T08:27:19.379Z"
   },
   {
    "duration": 7,
    "start_time": "2022-04-19T08:27:20.862Z"
   },
   {
    "duration": 183,
    "start_time": "2022-04-19T08:27:57.900Z"
   },
   {
    "duration": 6,
    "start_time": "2022-04-19T08:28:27.893Z"
   },
   {
    "duration": 425,
    "start_time": "2022-04-19T08:28:29.698Z"
   },
   {
    "duration": 20,
    "start_time": "2022-04-19T08:28:31.119Z"
   },
   {
    "duration": 13,
    "start_time": "2022-04-19T08:28:31.707Z"
   },
   {
    "duration": 7,
    "start_time": "2022-04-19T08:28:32.692Z"
   },
   {
    "duration": 7,
    "start_time": "2022-04-19T08:28:33.363Z"
   },
   {
    "duration": 143,
    "start_time": "2022-04-19T08:28:34.060Z"
   },
   {
    "duration": 557,
    "start_time": "2022-04-19T08:28:35.164Z"
   },
   {
    "duration": 9,
    "start_time": "2022-04-19T08:28:35.826Z"
   },
   {
    "duration": 12,
    "start_time": "2022-04-19T08:28:36.006Z"
   },
   {
    "duration": 163,
    "start_time": "2022-04-19T08:28:36.447Z"
   },
   {
    "duration": 4,
    "start_time": "2022-04-19T08:28:37.192Z"
   },
   {
    "duration": 42,
    "start_time": "2022-04-19T08:28:37.396Z"
   },
   {
    "duration": 215,
    "start_time": "2022-04-19T08:28:37.929Z"
   },
   {
    "duration": 12,
    "start_time": "2022-04-19T08:28:38.302Z"
   },
   {
    "duration": 185,
    "start_time": "2022-04-19T08:28:38.787Z"
   },
   {
    "duration": 3,
    "start_time": "2022-04-19T08:28:39.103Z"
   },
   {
    "duration": 14,
    "start_time": "2022-04-19T08:28:39.279Z"
   },
   {
    "duration": 32,
    "start_time": "2022-04-19T08:28:39.457Z"
   },
   {
    "duration": 13,
    "start_time": "2022-04-19T08:28:39.613Z"
   },
   {
    "duration": 1967,
    "start_time": "2022-04-19T08:28:39.790Z"
   },
   {
    "duration": 469,
    "start_time": "2022-04-19T08:28:41.759Z"
   },
   {
    "duration": 9,
    "start_time": "2022-04-19T08:28:42.230Z"
   },
   {
    "duration": 973,
    "start_time": "2022-04-19T08:28:42.241Z"
   },
   {
    "duration": 4,
    "start_time": "2022-04-19T08:28:43.216Z"
   },
   {
    "duration": 54,
    "start_time": "2022-04-19T08:28:43.222Z"
   },
   {
    "duration": 42,
    "start_time": "2022-04-19T08:28:43.280Z"
   },
   {
    "duration": 1451,
    "start_time": "2022-04-19T08:57:38.675Z"
   },
   {
    "duration": 3,
    "start_time": "2022-04-19T08:57:55.791Z"
   },
   {
    "duration": 1202,
    "start_time": "2022-04-19T08:58:03.870Z"
   },
   {
    "duration": 6,
    "start_time": "2022-04-19T08:58:05.074Z"
   },
   {
    "duration": 462,
    "start_time": "2022-04-19T08:58:05.082Z"
   },
   {
    "duration": 21,
    "start_time": "2022-04-19T08:58:05.546Z"
   },
   {
    "duration": 14,
    "start_time": "2022-04-19T08:58:05.569Z"
   },
   {
    "duration": 7,
    "start_time": "2022-04-19T08:58:05.584Z"
   },
   {
    "duration": 6,
    "start_time": "2022-04-19T08:58:05.593Z"
   },
   {
    "duration": 139,
    "start_time": "2022-04-19T08:58:05.633Z"
   },
   {
    "duration": 550,
    "start_time": "2022-04-19T08:58:05.773Z"
   },
   {
    "duration": 13,
    "start_time": "2022-04-19T08:58:06.326Z"
   },
   {
    "duration": 13,
    "start_time": "2022-04-19T08:58:06.340Z"
   },
   {
    "duration": 271,
    "start_time": "2022-04-19T08:58:06.355Z"
   },
   {
    "duration": 6,
    "start_time": "2022-04-19T08:58:06.627Z"
   },
   {
    "duration": 42,
    "start_time": "2022-04-19T08:58:06.635Z"
   },
   {
    "duration": 220,
    "start_time": "2022-04-19T08:58:06.679Z"
   },
   {
    "duration": 13,
    "start_time": "2022-04-19T08:58:06.901Z"
   },
   {
    "duration": 266,
    "start_time": "2022-04-19T08:58:06.916Z"
   },
   {
    "duration": 4,
    "start_time": "2022-04-19T08:58:07.183Z"
   },
   {
    "duration": 14,
    "start_time": "2022-04-19T08:58:07.188Z"
   },
   {
    "duration": 31,
    "start_time": "2022-04-19T08:58:07.204Z"
   },
   {
    "duration": 10,
    "start_time": "2022-04-19T08:58:07.237Z"
   },
   {
    "duration": 1639,
    "start_time": "2022-04-19T08:58:07.248Z"
   },
   {
    "duration": 389,
    "start_time": "2022-04-19T08:58:08.889Z"
   },
   {
    "duration": 9,
    "start_time": "2022-04-19T08:58:09.280Z"
   },
   {
    "duration": 127,
    "start_time": "2022-04-19T08:58:09.291Z"
   },
   {
    "duration": 4,
    "start_time": "2022-04-19T08:58:09.419Z"
   },
   {
    "duration": 33,
    "start_time": "2022-04-19T08:58:09.424Z"
   },
   {
    "duration": 41,
    "start_time": "2022-04-19T08:58:09.460Z"
   },
   {
    "duration": 3784,
    "start_time": "2022-04-21T11:33:41.956Z"
   },
   {
    "duration": 7,
    "start_time": "2022-04-21T11:33:45.742Z"
   },
   {
    "duration": 6,
    "start_time": "2022-04-21T11:34:13.976Z"
   },
   {
    "duration": 667,
    "start_time": "2022-04-21T11:34:17.644Z"
   },
   {
    "duration": 28,
    "start_time": "2022-04-21T11:34:18.315Z"
   },
   {
    "duration": 79,
    "start_time": "2022-04-21T11:34:18.345Z"
   },
   {
    "duration": 7,
    "start_time": "2022-04-21T11:34:18.426Z"
   },
   {
    "duration": 13,
    "start_time": "2022-04-21T11:34:18.505Z"
   },
   {
    "duration": 300,
    "start_time": "2022-04-21T11:34:18.816Z"
   },
   {
    "duration": 1425,
    "start_time": "2022-04-21T11:34:19.122Z"
   },
   {
    "duration": 68,
    "start_time": "2022-04-21T11:34:20.549Z"
   },
   {
    "duration": 13,
    "start_time": "2022-04-21T11:34:20.620Z"
   },
   {
    "duration": 297,
    "start_time": "2022-04-21T11:34:20.635Z"
   },
   {
    "duration": 4,
    "start_time": "2022-04-21T11:34:20.934Z"
   },
   {
    "duration": 111,
    "start_time": "2022-04-21T11:34:20.941Z"
   },
   {
    "duration": 327,
    "start_time": "2022-04-21T11:34:21.107Z"
   },
   {
    "duration": 13,
    "start_time": "2022-04-21T11:34:21.437Z"
   },
   {
    "duration": 309,
    "start_time": "2022-04-21T11:34:21.850Z"
   },
   {
    "duration": 6,
    "start_time": "2022-04-21T11:34:22.209Z"
   },
   {
    "duration": 11,
    "start_time": "2022-04-21T11:34:22.661Z"
   },
   {
    "duration": 3180,
    "start_time": "2022-04-21T11:34:22.863Z"
   },
   {
    "duration": 805,
    "start_time": "2022-04-21T11:34:26.833Z"
   },
   {
    "duration": 74,
    "start_time": "2022-04-21T11:34:27.640Z"
   },
   {
    "duration": 133,
    "start_time": "2022-04-21T11:34:28.403Z"
   },
   {
    "duration": 5,
    "start_time": "2022-04-21T11:34:29.517Z"
   },
   {
    "duration": 52,
    "start_time": "2022-04-21T11:34:29.680Z"
   },
   {
    "duration": 73,
    "start_time": "2022-04-21T11:34:29.863Z"
   },
   {
    "duration": 32,
    "start_time": "2022-04-21T11:37:02.235Z"
   },
   {
    "duration": 12,
    "start_time": "2022-04-21T11:37:06.916Z"
   },
   {
    "duration": 38,
    "start_time": "2022-04-21T11:37:07.483Z"
   },
   {
    "duration": 3,
    "start_time": "2022-04-21T11:37:38.261Z"
   },
   {
    "duration": 1119,
    "start_time": "2022-04-21T11:37:40.604Z"
   },
   {
    "duration": 26,
    "start_time": "2022-04-21T11:37:44.446Z"
   },
   {
    "duration": 33,
    "start_time": "2022-04-21T11:37:45.284Z"
   },
   {
    "duration": 94,
    "start_time": "2022-04-21T11:37:47.618Z"
   },
   {
    "duration": 34528,
    "start_time": "2022-04-21T11:37:49.216Z"
   },
   {
    "duration": 73,
    "start_time": "2022-04-21T11:38:23.746Z"
   },
   {
    "duration": 87,
    "start_time": "2022-04-21T11:38:23.823Z"
   },
   {
    "duration": 5,
    "start_time": "2022-04-21T11:38:50.157Z"
   },
   {
    "duration": 89,
    "start_time": "2022-04-21T11:38:51.627Z"
   },
   {
    "duration": 7,
    "start_time": "2022-04-21T11:38:58.918Z"
   },
   {
    "duration": 20,
    "start_time": "2022-04-21T11:39:58.803Z"
   },
   {
    "duration": 167,
    "start_time": "2022-04-21T17:02:02.802Z"
   }
  ],
  "kernelspec": {
   "display_name": "Python 3 (ipykernel)",
   "language": "python",
   "name": "python3"
  },
  "language_info": {
   "codemirror_mode": {
    "name": "ipython",
    "version": 3
   },
   "file_extension": ".py",
   "mimetype": "text/x-python",
   "name": "python",
   "nbconvert_exporter": "python",
   "pygments_lexer": "ipython3",
   "version": "3.10.1"
  },
  "toc": {
   "base_numbering": 1,
   "nav_menu": {},
   "number_sections": true,
   "sideBar": true,
   "skip_h1_title": true,
   "title_cell": "Оглавление",
   "title_sidebar": "Оглавление",
   "toc_cell": true,
   "toc_position": {
    "height": "calc(100% - 180px)",
    "left": "10px",
    "top": "150px",
    "width": "336.469px"
   },
   "toc_section_display": true,
   "toc_window_display": true
  }
 },
 "nbformat": 4,
 "nbformat_minor": 5
}
