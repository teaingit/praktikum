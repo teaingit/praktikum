{
 "cells": [
  {
   "cell_type": "markdown",
   "metadata": {
    "toc": true
   },
   "source": [
    "<h1>Оглавление<span class=\"tocSkip\"></span></h1>\n",
    "<div class=\"toc\"><ul class=\"toc-item\"><li><span><a href=\"#Изучение-данных-из-файлов\" data-toc-modified-id=\"Изучение-данных-из-файлов-1\"><span class=\"toc-item-num\">1&nbsp;&nbsp;</span>Изучение данных из файлов</a></span></li><li><span><a href=\"#Подготовка-данных\" data-toc-modified-id=\"Подготовка-данных-2\"><span class=\"toc-item-num\">2&nbsp;&nbsp;</span>Подготовка данных</a></span><ul class=\"toc-item\"><li><span><a href=\"#Приведение-данных-к-нижнему-регистру,-в-том-числе-столбцов\" data-toc-modified-id=\"Приведение-данных-к-нижнему-регистру,-в-том-числе-столбцов-2.1\"><span class=\"toc-item-num\">2.1&nbsp;&nbsp;</span>Приведение данных к нижнему регистру, в том числе столбцов</a></span></li><li><span><a href=\"#Обработка-пропусков\" data-toc-modified-id=\"Обработка-пропусков-2.2\"><span class=\"toc-item-num\">2.2&nbsp;&nbsp;</span>Обработка пропусков</a></span></li><li><span><a href=\"#Приведение-данных-к-нужному-типу\" data-toc-modified-id=\"Приведение-данных-к-нужному-типу-2.3\"><span class=\"toc-item-num\">2.3&nbsp;&nbsp;</span>Приведение данных к нужному типу</a></span></li><li><span><a href=\"#Добавление-данных\" data-toc-modified-id=\"Добавление-данных-2.4\"><span class=\"toc-item-num\">2.4&nbsp;&nbsp;</span>Добавление данных</a></span></li></ul></li><li><span><a href=\"#Исследовательский-анализ-данных\" data-toc-modified-id=\"Исследовательский-анализ-данных-3\"><span class=\"toc-item-num\">3&nbsp;&nbsp;</span>Исследовательский анализ данных</a></span><ul class=\"toc-item\"><li><span><a href=\"#Количество-игр-в-разные-годы\" data-toc-modified-id=\"Количество-игр-в-разные-годы-3.1\"><span class=\"toc-item-num\">3.1&nbsp;&nbsp;</span>Количество игр в разные годы</a></span></li><li><span><a href=\"#Продажи-игр\" data-toc-modified-id=\"Продажи-игр-3.2\"><span class=\"toc-item-num\">3.2&nbsp;&nbsp;</span>Продажи игр</a></span></li><li><span><a href=\"#Топ-платформ\" data-toc-modified-id=\"Топ-платформ-3.3\"><span class=\"toc-item-num\">3.3&nbsp;&nbsp;</span>Топ платформ</a></span></li><li><span><a href=\"#Влияние-отзывов-на-продажи\" data-toc-modified-id=\"Влияние-отзывов-на-продажи-3.4\"><span class=\"toc-item-num\">3.4&nbsp;&nbsp;</span>Влияние отзывов на продажи</a></span></li><li><span><a href=\"#Общее-распредление-игр-по-жанрам.\" data-toc-modified-id=\"Общее-распредление-игр-по-жанрам.-3.5\"><span class=\"toc-item-num\">3.5&nbsp;&nbsp;</span>Общее распредление игр по жанрам.</a></span></li></ul></li><li><span><a href=\"#Портрет-пользователя-каждого-региона\" data-toc-modified-id=\"Портрет-пользователя-каждого-региона-4\"><span class=\"toc-item-num\">4&nbsp;&nbsp;</span>Портрет пользователя каждого региона</a></span></li><li><span><a href=\"#Проверка-гипотез\" data-toc-modified-id=\"Проверка-гипотез-5\"><span class=\"toc-item-num\">5&nbsp;&nbsp;</span>Проверка гипотез</a></span><ul class=\"toc-item\"><li><span><a href=\"#Одинаковые-ли-средние-пользовательские-рейтинги-платформ-XBOX-one-и-PC\" data-toc-modified-id=\"Одинаковые-ли-средние-пользовательские-рейтинги-платформ-XBOX-one-и-PC-5.1\"><span class=\"toc-item-num\">5.1&nbsp;&nbsp;</span>Одинаковые ли средние пользовательские рейтинги платформ XBOX one и PC</a></span></li><li><span><a href=\"#Разные-ли-средние-пользовательские-рейтинги-жанров-Action-и-Sport\" data-toc-modified-id=\"Разные-ли-средние-пользовательские-рейтинги-жанров-Action-и-Sport-5.2\"><span class=\"toc-item-num\">5.2&nbsp;&nbsp;</span>Разные ли средние пользовательские рейтинги жанров Action и Sport</a></span></li></ul></li><li><span><a href=\"#Общий-вывод\" data-toc-modified-id=\"Общий-вывод-6\"><span class=\"toc-item-num\">6&nbsp;&nbsp;</span>Общий вывод</a></span></li></ul></div>"
   ]
  },
  {
   "cell_type": "markdown",
   "metadata": {},
   "source": [
    "# Закономерности успешной игры."
   ]
  },
  {
   "cell_type": "markdown",
   "metadata": {},
   "source": [
    "Я аналитик в интернет-магазине «Стримчик», который продаёт по всему миру компьютерные игры. Нужно выявить определяющие успешность игры закономерности, для планирования рекламных компаний на потенциально популярный продукт.\n",
    "Даны исторические данные из открытых источников о продажах игр, оценках пользователей и экспертов, жанра и платформы (XBOX, PS, и подобные)."
   ]
  },
  {
   "cell_type": "markdown",
   "metadata": {},
   "source": [
    "## Изучение данных из файлов"
   ]
  },
  {
   "cell_type": "code",
   "execution_count": 1,
   "metadata": {},
   "outputs": [],
   "source": [
    "# импортируем библиотеку пандас\n",
    "import pandas as pd \n",
    "# импорптируем библиотеку для работы с графиками\n",
    "import matplotlib.pyplot as plt \n",
    "#Импортируем библиотеку сеаборн для построения множественных графиков.\n",
    "import seaborn as sns\n",
    "# импортируем библиотеку для расчета дисперсии и стандартного отклонения\n",
    "import numpy as np \n",
    "# импортируем библиотеку для статистики\n",
    "from scipy import stats as st"
   ]
  },
  {
   "cell_type": "code",
   "execution_count": 2,
   "metadata": {},
   "outputs": [
    {
     "name": "stdout",
     "output_type": "stream",
     "text": [
      "<class 'pandas.core.frame.DataFrame'>\n",
      "RangeIndex: 16715 entries, 0 to 16714\n",
      "Data columns (total 11 columns):\n",
      "Name               16713 non-null object\n",
      "Platform           16715 non-null object\n",
      "Year_of_Release    16446 non-null float64\n",
      "Genre              16713 non-null object\n",
      "NA_sales           16715 non-null float64\n",
      "EU_sales           16715 non-null float64\n",
      "JP_sales           16715 non-null float64\n",
      "Other_sales        16715 non-null float64\n",
      "Critic_Score       8137 non-null float64\n",
      "User_Score         10014 non-null object\n",
      "Rating             9949 non-null object\n",
      "dtypes: float64(6), object(5)\n",
      "memory usage: 1.4+ MB\n",
      "None\n"
     ]
    },
    {
     "data": {
      "text/html": [
       "<div>\n",
       "<style scoped>\n",
       "    .dataframe tbody tr th:only-of-type {\n",
       "        vertical-align: middle;\n",
       "    }\n",
       "\n",
       "    .dataframe tbody tr th {\n",
       "        vertical-align: top;\n",
       "    }\n",
       "\n",
       "    .dataframe thead th {\n",
       "        text-align: right;\n",
       "    }\n",
       "</style>\n",
       "<table border=\"1\" class=\"dataframe\">\n",
       "  <thead>\n",
       "    <tr style=\"text-align: right;\">\n",
       "      <th></th>\n",
       "      <th>Name</th>\n",
       "      <th>Platform</th>\n",
       "      <th>Year_of_Release</th>\n",
       "      <th>Genre</th>\n",
       "      <th>NA_sales</th>\n",
       "      <th>EU_sales</th>\n",
       "      <th>JP_sales</th>\n",
       "      <th>Other_sales</th>\n",
       "      <th>Critic_Score</th>\n",
       "      <th>User_Score</th>\n",
       "      <th>Rating</th>\n",
       "    </tr>\n",
       "  </thead>\n",
       "  <tbody>\n",
       "    <tr>\n",
       "      <td>0</td>\n",
       "      <td>Wii Sports</td>\n",
       "      <td>Wii</td>\n",
       "      <td>2006.0</td>\n",
       "      <td>Sports</td>\n",
       "      <td>41.36</td>\n",
       "      <td>28.96</td>\n",
       "      <td>3.77</td>\n",
       "      <td>8.45</td>\n",
       "      <td>76.0</td>\n",
       "      <td>8</td>\n",
       "      <td>E</td>\n",
       "    </tr>\n",
       "    <tr>\n",
       "      <td>1</td>\n",
       "      <td>Super Mario Bros.</td>\n",
       "      <td>NES</td>\n",
       "      <td>1985.0</td>\n",
       "      <td>Platform</td>\n",
       "      <td>29.08</td>\n",
       "      <td>3.58</td>\n",
       "      <td>6.81</td>\n",
       "      <td>0.77</td>\n",
       "      <td>NaN</td>\n",
       "      <td>NaN</td>\n",
       "      <td>NaN</td>\n",
       "    </tr>\n",
       "    <tr>\n",
       "      <td>2</td>\n",
       "      <td>Mario Kart Wii</td>\n",
       "      <td>Wii</td>\n",
       "      <td>2008.0</td>\n",
       "      <td>Racing</td>\n",
       "      <td>15.68</td>\n",
       "      <td>12.76</td>\n",
       "      <td>3.79</td>\n",
       "      <td>3.29</td>\n",
       "      <td>82.0</td>\n",
       "      <td>8.3</td>\n",
       "      <td>E</td>\n",
       "    </tr>\n",
       "    <tr>\n",
       "      <td>3</td>\n",
       "      <td>Wii Sports Resort</td>\n",
       "      <td>Wii</td>\n",
       "      <td>2009.0</td>\n",
       "      <td>Sports</td>\n",
       "      <td>15.61</td>\n",
       "      <td>10.93</td>\n",
       "      <td>3.28</td>\n",
       "      <td>2.95</td>\n",
       "      <td>80.0</td>\n",
       "      <td>8</td>\n",
       "      <td>E</td>\n",
       "    </tr>\n",
       "    <tr>\n",
       "      <td>4</td>\n",
       "      <td>Pokemon Red/Pokemon Blue</td>\n",
       "      <td>GB</td>\n",
       "      <td>1996.0</td>\n",
       "      <td>Role-Playing</td>\n",
       "      <td>11.27</td>\n",
       "      <td>8.89</td>\n",
       "      <td>10.22</td>\n",
       "      <td>1.00</td>\n",
       "      <td>NaN</td>\n",
       "      <td>NaN</td>\n",
       "      <td>NaN</td>\n",
       "    </tr>\n",
       "  </tbody>\n",
       "</table>\n",
       "</div>"
      ],
      "text/plain": [
       "                       Name Platform  Year_of_Release         Genre  NA_sales  \\\n",
       "0                Wii Sports      Wii           2006.0        Sports     41.36   \n",
       "1         Super Mario Bros.      NES           1985.0      Platform     29.08   \n",
       "2            Mario Kart Wii      Wii           2008.0        Racing     15.68   \n",
       "3         Wii Sports Resort      Wii           2009.0        Sports     15.61   \n",
       "4  Pokemon Red/Pokemon Blue       GB           1996.0  Role-Playing     11.27   \n",
       "\n",
       "   EU_sales  JP_sales  Other_sales  Critic_Score User_Score Rating  \n",
       "0     28.96      3.77         8.45          76.0          8      E  \n",
       "1      3.58      6.81         0.77           NaN        NaN    NaN  \n",
       "2     12.76      3.79         3.29          82.0        8.3      E  \n",
       "3     10.93      3.28         2.95          80.0          8      E  \n",
       "4      8.89     10.22         1.00           NaN        NaN    NaN  "
      ]
     },
     "metadata": {},
     "output_type": "display_data"
    },
    {
     "data": {
      "text/html": [
       "<div>\n",
       "<style scoped>\n",
       "    .dataframe tbody tr th:only-of-type {\n",
       "        vertical-align: middle;\n",
       "    }\n",
       "\n",
       "    .dataframe tbody tr th {\n",
       "        vertical-align: top;\n",
       "    }\n",
       "\n",
       "    .dataframe thead th {\n",
       "        text-align: right;\n",
       "    }\n",
       "</style>\n",
       "<table border=\"1\" class=\"dataframe\">\n",
       "  <thead>\n",
       "    <tr style=\"text-align: right;\">\n",
       "      <th></th>\n",
       "      <th>Year_of_Release</th>\n",
       "      <th>NA_sales</th>\n",
       "      <th>EU_sales</th>\n",
       "      <th>JP_sales</th>\n",
       "      <th>Other_sales</th>\n",
       "      <th>Critic_Score</th>\n",
       "    </tr>\n",
       "  </thead>\n",
       "  <tbody>\n",
       "    <tr>\n",
       "      <td>count</td>\n",
       "      <td>16446.000000</td>\n",
       "      <td>16715.000000</td>\n",
       "      <td>16715.000000</td>\n",
       "      <td>16715.000000</td>\n",
       "      <td>16715.000000</td>\n",
       "      <td>8137.000000</td>\n",
       "    </tr>\n",
       "    <tr>\n",
       "      <td>mean</td>\n",
       "      <td>2006.484616</td>\n",
       "      <td>0.263377</td>\n",
       "      <td>0.145060</td>\n",
       "      <td>0.077617</td>\n",
       "      <td>0.047342</td>\n",
       "      <td>68.967679</td>\n",
       "    </tr>\n",
       "    <tr>\n",
       "      <td>std</td>\n",
       "      <td>5.877050</td>\n",
       "      <td>0.813604</td>\n",
       "      <td>0.503339</td>\n",
       "      <td>0.308853</td>\n",
       "      <td>0.186731</td>\n",
       "      <td>13.938165</td>\n",
       "    </tr>\n",
       "    <tr>\n",
       "      <td>min</td>\n",
       "      <td>1980.000000</td>\n",
       "      <td>0.000000</td>\n",
       "      <td>0.000000</td>\n",
       "      <td>0.000000</td>\n",
       "      <td>0.000000</td>\n",
       "      <td>13.000000</td>\n",
       "    </tr>\n",
       "    <tr>\n",
       "      <td>25%</td>\n",
       "      <td>2003.000000</td>\n",
       "      <td>0.000000</td>\n",
       "      <td>0.000000</td>\n",
       "      <td>0.000000</td>\n",
       "      <td>0.000000</td>\n",
       "      <td>60.000000</td>\n",
       "    </tr>\n",
       "    <tr>\n",
       "      <td>50%</td>\n",
       "      <td>2007.000000</td>\n",
       "      <td>0.080000</td>\n",
       "      <td>0.020000</td>\n",
       "      <td>0.000000</td>\n",
       "      <td>0.010000</td>\n",
       "      <td>71.000000</td>\n",
       "    </tr>\n",
       "    <tr>\n",
       "      <td>75%</td>\n",
       "      <td>2010.000000</td>\n",
       "      <td>0.240000</td>\n",
       "      <td>0.110000</td>\n",
       "      <td>0.040000</td>\n",
       "      <td>0.030000</td>\n",
       "      <td>79.000000</td>\n",
       "    </tr>\n",
       "    <tr>\n",
       "      <td>max</td>\n",
       "      <td>2016.000000</td>\n",
       "      <td>41.360000</td>\n",
       "      <td>28.960000</td>\n",
       "      <td>10.220000</td>\n",
       "      <td>10.570000</td>\n",
       "      <td>98.000000</td>\n",
       "    </tr>\n",
       "  </tbody>\n",
       "</table>\n",
       "</div>"
      ],
      "text/plain": [
       "       Year_of_Release      NA_sales      EU_sales      JP_sales  \\\n",
       "count     16446.000000  16715.000000  16715.000000  16715.000000   \n",
       "mean       2006.484616      0.263377      0.145060      0.077617   \n",
       "std           5.877050      0.813604      0.503339      0.308853   \n",
       "min        1980.000000      0.000000      0.000000      0.000000   \n",
       "25%        2003.000000      0.000000      0.000000      0.000000   \n",
       "50%        2007.000000      0.080000      0.020000      0.000000   \n",
       "75%        2010.000000      0.240000      0.110000      0.040000   \n",
       "max        2016.000000     41.360000     28.960000     10.220000   \n",
       "\n",
       "        Other_sales  Critic_Score  \n",
       "count  16715.000000   8137.000000  \n",
       "mean       0.047342     68.967679  \n",
       "std        0.186731     13.938165  \n",
       "min        0.000000     13.000000  \n",
       "25%        0.000000     60.000000  \n",
       "50%        0.010000     71.000000  \n",
       "75%        0.030000     79.000000  \n",
       "max       10.570000     98.000000  "
      ]
     },
     "metadata": {},
     "output_type": "display_data"
    }
   ],
   "source": [
    "# откроем данные и выведем общую информацию \n",
    "df = pd.read_csv('/datasets/games.csv')\n",
    "print(df.info())\n",
    "display(df.head())\n",
    "display(df.describe())"
   ]
  },
  {
   "cell_type": "code",
   "execution_count": 3,
   "metadata": {
    "scrolled": false
   },
   "outputs": [
    {
     "data": {
      "text/plain": [
       "PS2     2161\n",
       "DS      2151\n",
       "PS3     1331\n",
       "Wii     1320\n",
       "X360    1262\n",
       "PSP     1209\n",
       "PS      1197\n",
       "PC       974\n",
       "XB       824\n",
       "GBA      822\n",
       "GC       556\n",
       "3DS      520\n",
       "PSV      430\n",
       "PS4      392\n",
       "N64      319\n",
       "XOne     247\n",
       "SNES     239\n",
       "SAT      173\n",
       "WiiU     147\n",
       "2600     133\n",
       "NES       98\n",
       "GB        98\n",
       "DC        52\n",
       "GEN       29\n",
       "NG        12\n",
       "WS         6\n",
       "SCD        6\n",
       "3DO        3\n",
       "TG16       2\n",
       "PCFX       1\n",
       "GG         1\n",
       "Name: Platform, dtype: int64"
      ]
     },
     "execution_count": 3,
     "metadata": {},
     "output_type": "execute_result"
    }
   ],
   "source": [
    "# Посмотрим уникальные значения платформ\n",
    "df['Platform'].value_counts()"
   ]
  },
  {
   "cell_type": "code",
   "execution_count": 4,
   "metadata": {},
   "outputs": [
    {
     "data": {
      "text/plain": [
       "Action          3369\n",
       "Sports          2348\n",
       "Misc            1750\n",
       "Role-Playing    1498\n",
       "Shooter         1323\n",
       "Adventure       1303\n",
       "Racing          1249\n",
       "Platform         888\n",
       "Simulation       873\n",
       "Fighting         849\n",
       "Strategy         683\n",
       "Puzzle           580\n",
       "Name: Genre, dtype: int64"
      ]
     },
     "execution_count": 4,
     "metadata": {},
     "output_type": "execute_result"
    }
   ],
   "source": [
    "# Посмотрим уникальные значения жанров\n",
    "df['Genre'].value_counts()"
   ]
  },
  {
   "cell_type": "code",
   "execution_count": 5,
   "metadata": {
    "scrolled": false
   },
   "outputs": [
    {
     "data": {
      "text/plain": [
       "tbd    2424\n",
       "7.8     324\n",
       "8       290\n",
       "8.2     282\n",
       "8.3     254\n",
       "       ... \n",
       "1         2\n",
       "1.1       2\n",
       "0.7       2\n",
       "9.7       1\n",
       "0         1\n",
       "Name: User_Score, Length: 96, dtype: int64"
      ]
     },
     "execution_count": 5,
     "metadata": {},
     "output_type": "execute_result"
    }
   ],
   "source": [
    "# Посмотрим уникальные значения пользовательских оценок, так как тип данных текстовый\n",
    "df['User_Score'].value_counts()"
   ]
  },
  {
   "cell_type": "markdown",
   "metadata": {},
   "source": [
    "В столбце пользовательского рейтинга есть tbd - To Be Determined, то есть \"Будет определено\", необходимо его заменить пропуском."
   ]
  },
  {
   "cell_type": "code",
   "execution_count": 6,
   "metadata": {},
   "outputs": [
    {
     "data": {
      "text/html": [
       "<div>\n",
       "<style scoped>\n",
       "    .dataframe tbody tr th:only-of-type {\n",
       "        vertical-align: middle;\n",
       "    }\n",
       "\n",
       "    .dataframe tbody tr th {\n",
       "        vertical-align: top;\n",
       "    }\n",
       "\n",
       "    .dataframe thead th {\n",
       "        text-align: right;\n",
       "    }\n",
       "</style>\n",
       "<table border=\"1\" class=\"dataframe\">\n",
       "  <thead>\n",
       "    <tr style=\"text-align: right;\">\n",
       "      <th></th>\n",
       "      <th>Name</th>\n",
       "      <th>Platform</th>\n",
       "      <th>Year_of_Release</th>\n",
       "      <th>Genre</th>\n",
       "      <th>NA_sales</th>\n",
       "      <th>EU_sales</th>\n",
       "      <th>JP_sales</th>\n",
       "      <th>Other_sales</th>\n",
       "      <th>Critic_Score</th>\n",
       "      <th>User_Score</th>\n",
       "      <th>Rating</th>\n",
       "    </tr>\n",
       "  </thead>\n",
       "  <tbody>\n",
       "  </tbody>\n",
       "</table>\n",
       "</div>"
      ],
      "text/plain": [
       "Empty DataFrame\n",
       "Columns: [Name, Platform, Year_of_Release, Genre, NA_sales, EU_sales, JP_sales, Other_sales, Critic_Score, User_Score, Rating]\n",
       "Index: []"
      ]
     },
     "execution_count": 6,
     "metadata": {},
     "output_type": "execute_result"
    }
   ],
   "source": [
    "# Замена значение tbd на значение NaN\n",
    "df = df.replace({'User_Score' : 'tbd' }, np.nan)\n",
    "df.query('User_Score == \"tbd\"')"
   ]
  },
  {
   "cell_type": "code",
   "execution_count": 7,
   "metadata": {},
   "outputs": [
    {
     "data": {
      "text/plain": [
       "E       3990\n",
       "T       2961\n",
       "M       1563\n",
       "E10+    1420\n",
       "EC         8\n",
       "K-A        3\n",
       "RP         3\n",
       "AO         1\n",
       "Name: Rating, dtype: int64"
      ]
     },
     "execution_count": 7,
     "metadata": {},
     "output_type": "execute_result"
    }
   ],
   "source": [
    "df['Rating'].value_counts()"
   ]
  },
  {
   "cell_type": "markdown",
   "metadata": {},
   "source": [
    "Согласно описанию рейтингового агенства ESRB:\n",
    "- «EC» («Early childhood») — «Для детей младшего возраста»\n",
    "- «E» («Everyone») — «Для всех». Первоначально \"K-A\" (\"Kids to Adults\"). **необходимо их объединить как \"E\"**\n",
    "- «E10+» («Everyone 10 and older») — «Для всех от 10 лет и старше»\n",
    "- «T» («Teen») — «Подросткам»\n",
    "- «M» («Mature») — «Для взрослых»\n",
    "- «AO» («Adults Only 18+») — «Только для взрослых»"
   ]
  },
  {
   "cell_type": "code",
   "execution_count": 8,
   "metadata": {},
   "outputs": [
    {
     "data": {
      "text/plain": [
       "E       3993\n",
       "T       2961\n",
       "M       1563\n",
       "E10+    1420\n",
       "EC         8\n",
       "RP         3\n",
       "AO         1\n",
       "Name: Rating, dtype: int64"
      ]
     },
     "execution_count": 8,
     "metadata": {},
     "output_type": "execute_result"
    }
   ],
   "source": [
    "# сделаем замену значений К-А на Е\n",
    "df['Rating'] = df['Rating'].replace('K-A', 'E') \n",
    "df['Rating'].value_counts()"
   ]
  },
  {
   "cell_type": "code",
   "execution_count": 9,
   "metadata": {},
   "outputs": [
    {
     "data": {
      "text/plain": [
       "0"
      ]
     },
     "execution_count": 9,
     "metadata": {},
     "output_type": "execute_result"
    }
   ],
   "source": [
    "#Посчитаем количество дубликатов\n",
    "df.duplicated().sum()"
   ]
  },
  {
   "cell_type": "markdown",
   "metadata": {},
   "source": [
    "**Вывод**"
   ]
  },
  {
   "cell_type": "markdown",
   "metadata": {},
   "source": [
    "Таблица содержит 16715 строк и 11 столбцов:\n",
    "- **Name** — название игры **(содержит пропущенные значения)**\n",
    "- **Platform** — платформа\n",
    "- **Year_of_Release** — год выпуска **(содержит пропущенные значения)**\n",
    "- **Genre** — жанр игры **(содержит пропущенные значения)**\n",
    "- **NA_sales** — продажи в Северной Америке (миллионы проданных копий)\n",
    "- **EU_sales** — продажи в Европе (миллионы проданных копий)\n",
    "- **JP_sales** — продажи в Японии (миллионы проданных копий)\n",
    "- **Other_sales** — продажи в других странах (миллионы проданных копий)\n",
    "- **Critic_Score** — оценка критиков (максимум 100) **(содержит пропущенные значения)**\n",
    "- **User_Score** — оценка пользователей (максимум 10) **(содержит пропущенные значения)**\n",
    "- **Rating** — рейтинг от организации ESRB (англ. Entertainment Software Rating Board). Эта ассоциация определяет рейтинг компьютерных игр и присваивает им подходящую возрастную категорию. **(содержит пропущенные значения)**\n",
    "\n",
    "В названии игры требуется обработать пропуски. Год релиза необходимо перевести в другой формат, а также обработать пропуски. В жанрах пропущены 2 значения. У оценок критиков и пользователей необходимо обработать пропуски. В рейтинге необходимо заполнить пропуски.\n",
    "Дубликаты не обнаружены."
   ]
  },
  {
   "cell_type": "markdown",
   "metadata": {},
   "source": [
    "## Подготовка данных"
   ]
  },
  {
   "cell_type": "markdown",
   "metadata": {},
   "source": [
    "### Приведение данных к нижнему регистру, в том числе столбцов"
   ]
  },
  {
   "cell_type": "code",
   "execution_count": 10,
   "metadata": {},
   "outputs": [
    {
     "data": {
      "text/html": [
       "<div>\n",
       "<style scoped>\n",
       "    .dataframe tbody tr th:only-of-type {\n",
       "        vertical-align: middle;\n",
       "    }\n",
       "\n",
       "    .dataframe tbody tr th {\n",
       "        vertical-align: top;\n",
       "    }\n",
       "\n",
       "    .dataframe thead th {\n",
       "        text-align: right;\n",
       "    }\n",
       "</style>\n",
       "<table border=\"1\" class=\"dataframe\">\n",
       "  <thead>\n",
       "    <tr style=\"text-align: right;\">\n",
       "      <th></th>\n",
       "      <th>name</th>\n",
       "      <th>platform</th>\n",
       "      <th>year_of_release</th>\n",
       "      <th>genre</th>\n",
       "      <th>na_sales</th>\n",
       "      <th>eu_sales</th>\n",
       "      <th>jp_sales</th>\n",
       "      <th>other_sales</th>\n",
       "      <th>critic_score</th>\n",
       "      <th>user_score</th>\n",
       "      <th>rating</th>\n",
       "    </tr>\n",
       "  </thead>\n",
       "  <tbody>\n",
       "    <tr>\n",
       "      <td>0</td>\n",
       "      <td>wii sports</td>\n",
       "      <td>wii</td>\n",
       "      <td>2006.0</td>\n",
       "      <td>sports</td>\n",
       "      <td>41.36</td>\n",
       "      <td>28.96</td>\n",
       "      <td>3.77</td>\n",
       "      <td>8.45</td>\n",
       "      <td>76.0</td>\n",
       "      <td>8</td>\n",
       "      <td>e</td>\n",
       "    </tr>\n",
       "    <tr>\n",
       "      <td>1</td>\n",
       "      <td>super mario bros.</td>\n",
       "      <td>nes</td>\n",
       "      <td>1985.0</td>\n",
       "      <td>platform</td>\n",
       "      <td>29.08</td>\n",
       "      <td>3.58</td>\n",
       "      <td>6.81</td>\n",
       "      <td>0.77</td>\n",
       "      <td>NaN</td>\n",
       "      <td>NaN</td>\n",
       "      <td>NaN</td>\n",
       "    </tr>\n",
       "    <tr>\n",
       "      <td>2</td>\n",
       "      <td>mario kart wii</td>\n",
       "      <td>wii</td>\n",
       "      <td>2008.0</td>\n",
       "      <td>racing</td>\n",
       "      <td>15.68</td>\n",
       "      <td>12.76</td>\n",
       "      <td>3.79</td>\n",
       "      <td>3.29</td>\n",
       "      <td>82.0</td>\n",
       "      <td>8.3</td>\n",
       "      <td>e</td>\n",
       "    </tr>\n",
       "    <tr>\n",
       "      <td>3</td>\n",
       "      <td>wii sports resort</td>\n",
       "      <td>wii</td>\n",
       "      <td>2009.0</td>\n",
       "      <td>sports</td>\n",
       "      <td>15.61</td>\n",
       "      <td>10.93</td>\n",
       "      <td>3.28</td>\n",
       "      <td>2.95</td>\n",
       "      <td>80.0</td>\n",
       "      <td>8</td>\n",
       "      <td>e</td>\n",
       "    </tr>\n",
       "    <tr>\n",
       "      <td>4</td>\n",
       "      <td>pokemon red/pokemon blue</td>\n",
       "      <td>gb</td>\n",
       "      <td>1996.0</td>\n",
       "      <td>role-playing</td>\n",
       "      <td>11.27</td>\n",
       "      <td>8.89</td>\n",
       "      <td>10.22</td>\n",
       "      <td>1.00</td>\n",
       "      <td>NaN</td>\n",
       "      <td>NaN</td>\n",
       "      <td>NaN</td>\n",
       "    </tr>\n",
       "  </tbody>\n",
       "</table>\n",
       "</div>"
      ],
      "text/plain": [
       "                       name platform  year_of_release         genre  na_sales  \\\n",
       "0                wii sports      wii           2006.0        sports     41.36   \n",
       "1         super mario bros.      nes           1985.0      platform     29.08   \n",
       "2            mario kart wii      wii           2008.0        racing     15.68   \n",
       "3         wii sports resort      wii           2009.0        sports     15.61   \n",
       "4  pokemon red/pokemon blue       gb           1996.0  role-playing     11.27   \n",
       "\n",
       "   eu_sales  jp_sales  other_sales  critic_score user_score rating  \n",
       "0     28.96      3.77         8.45          76.0          8      e  \n",
       "1      3.58      6.81         0.77           NaN        NaN    NaN  \n",
       "2     12.76      3.79         3.29          82.0        8.3      e  \n",
       "3     10.93      3.28         2.95          80.0          8      e  \n",
       "4      8.89     10.22         1.00           NaN        NaN    NaN  "
      ]
     },
     "execution_count": 10,
     "metadata": {},
     "output_type": "execute_result"
    }
   ],
   "source": [
    "# Перевод слов к нижнему регистру\n",
    "df.columns = df.columns.str.lower()\n",
    "df['name'] = df['name'].str.lower()\n",
    "df['platform'] = df['platform'].str.lower()\n",
    "df['genre'] = df['genre'].str.lower()\n",
    "df['rating'] = df['rating'].str.lower()\n",
    "df.head()"
   ]
  },
  {
   "cell_type": "markdown",
   "metadata": {},
   "source": [
    "### Обработка пропусков"
   ]
  },
  {
   "cell_type": "code",
   "execution_count": 11,
   "metadata": {},
   "outputs": [
    {
     "data": {
      "text/plain": [
       "name                  2\n",
       "platform              0\n",
       "year_of_release     269\n",
       "genre                 2\n",
       "na_sales              0\n",
       "eu_sales              0\n",
       "jp_sales              0\n",
       "other_sales           0\n",
       "critic_score       8578\n",
       "user_score         9125\n",
       "rating             6766\n",
       "dtype: int64"
      ]
     },
     "execution_count": 11,
     "metadata": {},
     "output_type": "execute_result"
    }
   ],
   "source": [
    "# Количество пропущенных значений\n",
    "df.isna().sum()"
   ]
  },
  {
   "cell_type": "code",
   "execution_count": 12,
   "metadata": {},
   "outputs": [
    {
     "data": {
      "text/html": [
       "<div>\n",
       "<style scoped>\n",
       "    .dataframe tbody tr th:only-of-type {\n",
       "        vertical-align: middle;\n",
       "    }\n",
       "\n",
       "    .dataframe tbody tr th {\n",
       "        vertical-align: top;\n",
       "    }\n",
       "\n",
       "    .dataframe thead th {\n",
       "        text-align: right;\n",
       "    }\n",
       "</style>\n",
       "<table border=\"1\" class=\"dataframe\">\n",
       "  <thead>\n",
       "    <tr style=\"text-align: right;\">\n",
       "      <th></th>\n",
       "      <th>name</th>\n",
       "      <th>platform</th>\n",
       "      <th>year_of_release</th>\n",
       "      <th>genre</th>\n",
       "      <th>na_sales</th>\n",
       "      <th>eu_sales</th>\n",
       "      <th>jp_sales</th>\n",
       "      <th>other_sales</th>\n",
       "      <th>critic_score</th>\n",
       "      <th>user_score</th>\n",
       "      <th>rating</th>\n",
       "    </tr>\n",
       "  </thead>\n",
       "  <tbody>\n",
       "    <tr>\n",
       "      <td>659</td>\n",
       "      <td>NaN</td>\n",
       "      <td>gen</td>\n",
       "      <td>1993.0</td>\n",
       "      <td>NaN</td>\n",
       "      <td>1.78</td>\n",
       "      <td>0.53</td>\n",
       "      <td>0.00</td>\n",
       "      <td>0.08</td>\n",
       "      <td>NaN</td>\n",
       "      <td>NaN</td>\n",
       "      <td>NaN</td>\n",
       "    </tr>\n",
       "    <tr>\n",
       "      <td>14244</td>\n",
       "      <td>NaN</td>\n",
       "      <td>gen</td>\n",
       "      <td>1993.0</td>\n",
       "      <td>NaN</td>\n",
       "      <td>0.00</td>\n",
       "      <td>0.00</td>\n",
       "      <td>0.03</td>\n",
       "      <td>0.00</td>\n",
       "      <td>NaN</td>\n",
       "      <td>NaN</td>\n",
       "      <td>NaN</td>\n",
       "    </tr>\n",
       "  </tbody>\n",
       "</table>\n",
       "</div>"
      ],
      "text/plain": [
       "      name platform  year_of_release genre  na_sales  eu_sales  jp_sales  \\\n",
       "659    NaN      gen           1993.0   NaN      1.78      0.53      0.00   \n",
       "14244  NaN      gen           1993.0   NaN      0.00      0.00      0.03   \n",
       "\n",
       "       other_sales  critic_score user_score rating  \n",
       "659           0.08           NaN        NaN    NaN  \n",
       "14244         0.00           NaN        NaN    NaN  "
      ]
     },
     "execution_count": 12,
     "metadata": {},
     "output_type": "execute_result"
    }
   ],
   "source": [
    "# выведем строки с пропущенными значениями в названии\n",
    "df[pd.isnull(df['name'])]"
   ]
  },
  {
   "cell_type": "markdown",
   "metadata": {},
   "source": [
    "Данные пропуски невозможно восстановить, а также удаление данных строк приведет к избавлению пропусков в столбце жанр."
   ]
  },
  {
   "cell_type": "code",
   "execution_count": 13,
   "metadata": {
    "scrolled": false
   },
   "outputs": [
    {
     "data": {
      "text/html": [
       "<div>\n",
       "<style scoped>\n",
       "    .dataframe tbody tr th:only-of-type {\n",
       "        vertical-align: middle;\n",
       "    }\n",
       "\n",
       "    .dataframe tbody tr th {\n",
       "        vertical-align: top;\n",
       "    }\n",
       "\n",
       "    .dataframe thead th {\n",
       "        text-align: right;\n",
       "    }\n",
       "</style>\n",
       "<table border=\"1\" class=\"dataframe\">\n",
       "  <thead>\n",
       "    <tr style=\"text-align: right;\">\n",
       "      <th></th>\n",
       "      <th>name</th>\n",
       "      <th>platform</th>\n",
       "      <th>year_of_release</th>\n",
       "      <th>genre</th>\n",
       "      <th>na_sales</th>\n",
       "      <th>eu_sales</th>\n",
       "      <th>jp_sales</th>\n",
       "      <th>other_sales</th>\n",
       "      <th>critic_score</th>\n",
       "      <th>user_score</th>\n",
       "      <th>rating</th>\n",
       "    </tr>\n",
       "  </thead>\n",
       "  <tbody>\n",
       "    <tr>\n",
       "      <td>183</td>\n",
       "      <td>madden nfl 2004</td>\n",
       "      <td>ps2</td>\n",
       "      <td>NaN</td>\n",
       "      <td>sports</td>\n",
       "      <td>4.26</td>\n",
       "      <td>0.26</td>\n",
       "      <td>0.01</td>\n",
       "      <td>0.71</td>\n",
       "      <td>94.0</td>\n",
       "      <td>8.5</td>\n",
       "      <td>e</td>\n",
       "    </tr>\n",
       "    <tr>\n",
       "      <td>377</td>\n",
       "      <td>fifa soccer 2004</td>\n",
       "      <td>ps2</td>\n",
       "      <td>NaN</td>\n",
       "      <td>sports</td>\n",
       "      <td>0.59</td>\n",
       "      <td>2.36</td>\n",
       "      <td>0.04</td>\n",
       "      <td>0.51</td>\n",
       "      <td>84.0</td>\n",
       "      <td>6.4</td>\n",
       "      <td>e</td>\n",
       "    </tr>\n",
       "    <tr>\n",
       "      <td>456</td>\n",
       "      <td>lego batman: the videogame</td>\n",
       "      <td>wii</td>\n",
       "      <td>NaN</td>\n",
       "      <td>action</td>\n",
       "      <td>1.80</td>\n",
       "      <td>0.97</td>\n",
       "      <td>0.00</td>\n",
       "      <td>0.29</td>\n",
       "      <td>74.0</td>\n",
       "      <td>7.9</td>\n",
       "      <td>e10+</td>\n",
       "    </tr>\n",
       "    <tr>\n",
       "      <td>475</td>\n",
       "      <td>wwe smackdown vs. raw 2006</td>\n",
       "      <td>ps2</td>\n",
       "      <td>NaN</td>\n",
       "      <td>fighting</td>\n",
       "      <td>1.57</td>\n",
       "      <td>1.02</td>\n",
       "      <td>0.00</td>\n",
       "      <td>0.41</td>\n",
       "      <td>NaN</td>\n",
       "      <td>NaN</td>\n",
       "      <td>NaN</td>\n",
       "    </tr>\n",
       "    <tr>\n",
       "      <td>609</td>\n",
       "      <td>space invaders</td>\n",
       "      <td>2600</td>\n",
       "      <td>NaN</td>\n",
       "      <td>shooter</td>\n",
       "      <td>2.36</td>\n",
       "      <td>0.14</td>\n",
       "      <td>0.00</td>\n",
       "      <td>0.03</td>\n",
       "      <td>NaN</td>\n",
       "      <td>NaN</td>\n",
       "      <td>NaN</td>\n",
       "    </tr>\n",
       "    <tr>\n",
       "      <td>...</td>\n",
       "      <td>...</td>\n",
       "      <td>...</td>\n",
       "      <td>...</td>\n",
       "      <td>...</td>\n",
       "      <td>...</td>\n",
       "      <td>...</td>\n",
       "      <td>...</td>\n",
       "      <td>...</td>\n",
       "      <td>...</td>\n",
       "      <td>...</td>\n",
       "      <td>...</td>\n",
       "    </tr>\n",
       "    <tr>\n",
       "      <td>16373</td>\n",
       "      <td>pdc world championship darts 2008</td>\n",
       "      <td>psp</td>\n",
       "      <td>NaN</td>\n",
       "      <td>sports</td>\n",
       "      <td>0.01</td>\n",
       "      <td>0.00</td>\n",
       "      <td>0.00</td>\n",
       "      <td>0.00</td>\n",
       "      <td>43.0</td>\n",
       "      <td>NaN</td>\n",
       "      <td>e10+</td>\n",
       "    </tr>\n",
       "    <tr>\n",
       "      <td>16405</td>\n",
       "      <td>freaky flyers</td>\n",
       "      <td>gc</td>\n",
       "      <td>NaN</td>\n",
       "      <td>racing</td>\n",
       "      <td>0.01</td>\n",
       "      <td>0.00</td>\n",
       "      <td>0.00</td>\n",
       "      <td>0.00</td>\n",
       "      <td>69.0</td>\n",
       "      <td>6.5</td>\n",
       "      <td>t</td>\n",
       "    </tr>\n",
       "    <tr>\n",
       "      <td>16448</td>\n",
       "      <td>inversion</td>\n",
       "      <td>pc</td>\n",
       "      <td>NaN</td>\n",
       "      <td>shooter</td>\n",
       "      <td>0.01</td>\n",
       "      <td>0.00</td>\n",
       "      <td>0.00</td>\n",
       "      <td>0.00</td>\n",
       "      <td>59.0</td>\n",
       "      <td>6.7</td>\n",
       "      <td>m</td>\n",
       "    </tr>\n",
       "    <tr>\n",
       "      <td>16458</td>\n",
       "      <td>hakuouki: shinsengumi kitan</td>\n",
       "      <td>ps3</td>\n",
       "      <td>NaN</td>\n",
       "      <td>adventure</td>\n",
       "      <td>0.01</td>\n",
       "      <td>0.00</td>\n",
       "      <td>0.00</td>\n",
       "      <td>0.00</td>\n",
       "      <td>NaN</td>\n",
       "      <td>NaN</td>\n",
       "      <td>NaN</td>\n",
       "    </tr>\n",
       "    <tr>\n",
       "      <td>16522</td>\n",
       "      <td>virtua quest</td>\n",
       "      <td>gc</td>\n",
       "      <td>NaN</td>\n",
       "      <td>role-playing</td>\n",
       "      <td>0.01</td>\n",
       "      <td>0.00</td>\n",
       "      <td>0.00</td>\n",
       "      <td>0.00</td>\n",
       "      <td>55.0</td>\n",
       "      <td>5.5</td>\n",
       "      <td>t</td>\n",
       "    </tr>\n",
       "  </tbody>\n",
       "</table>\n",
       "<p>269 rows × 11 columns</p>\n",
       "</div>"
      ],
      "text/plain": [
       "                                    name platform  year_of_release  \\\n",
       "183                      madden nfl 2004      ps2              NaN   \n",
       "377                     fifa soccer 2004      ps2              NaN   \n",
       "456           lego batman: the videogame      wii              NaN   \n",
       "475           wwe smackdown vs. raw 2006      ps2              NaN   \n",
       "609                       space invaders     2600              NaN   \n",
       "...                                  ...      ...              ...   \n",
       "16373  pdc world championship darts 2008      psp              NaN   \n",
       "16405                      freaky flyers       gc              NaN   \n",
       "16448                          inversion       pc              NaN   \n",
       "16458        hakuouki: shinsengumi kitan      ps3              NaN   \n",
       "16522                       virtua quest       gc              NaN   \n",
       "\n",
       "              genre  na_sales  eu_sales  jp_sales  other_sales  critic_score  \\\n",
       "183          sports      4.26      0.26      0.01         0.71          94.0   \n",
       "377          sports      0.59      2.36      0.04         0.51          84.0   \n",
       "456          action      1.80      0.97      0.00         0.29          74.0   \n",
       "475        fighting      1.57      1.02      0.00         0.41           NaN   \n",
       "609         shooter      2.36      0.14      0.00         0.03           NaN   \n",
       "...             ...       ...       ...       ...          ...           ...   \n",
       "16373        sports      0.01      0.00      0.00         0.00          43.0   \n",
       "16405        racing      0.01      0.00      0.00         0.00          69.0   \n",
       "16448       shooter      0.01      0.00      0.00         0.00          59.0   \n",
       "16458     adventure      0.01      0.00      0.00         0.00           NaN   \n",
       "16522  role-playing      0.01      0.00      0.00         0.00          55.0   \n",
       "\n",
       "      user_score rating  \n",
       "183          8.5      e  \n",
       "377          6.4      e  \n",
       "456          7.9   e10+  \n",
       "475          NaN    NaN  \n",
       "609          NaN    NaN  \n",
       "...          ...    ...  \n",
       "16373        NaN   e10+  \n",
       "16405        6.5      t  \n",
       "16448        6.7      m  \n",
       "16458        NaN    NaN  \n",
       "16522        5.5      t  \n",
       "\n",
       "[269 rows x 11 columns]"
      ]
     },
     "execution_count": 13,
     "metadata": {},
     "output_type": "execute_result"
    }
   ],
   "source": [
    "# выведем строки с пропущенными значениями в годе релиза\n",
    "df[pd.isnull(df['year_of_release'])]"
   ]
  },
  {
   "cell_type": "code",
   "execution_count": 14,
   "metadata": {},
   "outputs": [
    {
     "data": {
      "text/html": [
       "<div>\n",
       "<style scoped>\n",
       "    .dataframe tbody tr th:only-of-type {\n",
       "        vertical-align: middle;\n",
       "    }\n",
       "\n",
       "    .dataframe tbody tr th {\n",
       "        vertical-align: top;\n",
       "    }\n",
       "\n",
       "    .dataframe thead th {\n",
       "        text-align: right;\n",
       "    }\n",
       "</style>\n",
       "<table border=\"1\" class=\"dataframe\">\n",
       "  <thead>\n",
       "    <tr style=\"text-align: right;\">\n",
       "      <th></th>\n",
       "      <th>name</th>\n",
       "      <th>platform</th>\n",
       "      <th>year_of_release</th>\n",
       "      <th>genre</th>\n",
       "      <th>na_sales</th>\n",
       "      <th>eu_sales</th>\n",
       "      <th>jp_sales</th>\n",
       "      <th>other_sales</th>\n",
       "      <th>critic_score</th>\n",
       "      <th>user_score</th>\n",
       "      <th>rating</th>\n",
       "    </tr>\n",
       "  </thead>\n",
       "  <tbody>\n",
       "    <tr>\n",
       "      <td>609</td>\n",
       "      <td>space invaders</td>\n",
       "      <td>2600</td>\n",
       "      <td>NaN</td>\n",
       "      <td>shooter</td>\n",
       "      <td>2.36</td>\n",
       "      <td>0.14</td>\n",
       "      <td>0.00</td>\n",
       "      <td>0.03</td>\n",
       "      <td>NaN</td>\n",
       "      <td>NaN</td>\n",
       "      <td>NaN</td>\n",
       "    </tr>\n",
       "    <tr>\n",
       "      <td>4264</td>\n",
       "      <td>space invaders</td>\n",
       "      <td>snes</td>\n",
       "      <td>1994.0</td>\n",
       "      <td>shooter</td>\n",
       "      <td>0.00</td>\n",
       "      <td>0.00</td>\n",
       "      <td>0.46</td>\n",
       "      <td>0.00</td>\n",
       "      <td>NaN</td>\n",
       "      <td>NaN</td>\n",
       "      <td>NaN</td>\n",
       "    </tr>\n",
       "    <tr>\n",
       "      <td>8580</td>\n",
       "      <td>space invaders</td>\n",
       "      <td>n64</td>\n",
       "      <td>1999.0</td>\n",
       "      <td>shooter</td>\n",
       "      <td>0.13</td>\n",
       "      <td>0.03</td>\n",
       "      <td>0.00</td>\n",
       "      <td>0.00</td>\n",
       "      <td>NaN</td>\n",
       "      <td>NaN</td>\n",
       "      <td>NaN</td>\n",
       "    </tr>\n",
       "    <tr>\n",
       "      <td>10383</td>\n",
       "      <td>space invaders</td>\n",
       "      <td>gba</td>\n",
       "      <td>2002.0</td>\n",
       "      <td>shooter</td>\n",
       "      <td>0.08</td>\n",
       "      <td>0.03</td>\n",
       "      <td>0.00</td>\n",
       "      <td>0.00</td>\n",
       "      <td>NaN</td>\n",
       "      <td>NaN</td>\n",
       "      <td>NaN</td>\n",
       "    </tr>\n",
       "  </tbody>\n",
       "</table>\n",
       "</div>"
      ],
      "text/plain": [
       "                 name platform  year_of_release    genre  na_sales  eu_sales  \\\n",
       "609    space invaders     2600              NaN  shooter      2.36      0.14   \n",
       "4264   space invaders     snes           1994.0  shooter      0.00      0.00   \n",
       "8580   space invaders      n64           1999.0  shooter      0.13      0.03   \n",
       "10383  space invaders      gba           2002.0  shooter      0.08      0.03   \n",
       "\n",
       "       jp_sales  other_sales  critic_score user_score rating  \n",
       "609        0.00         0.03           NaN        NaN    NaN  \n",
       "4264       0.46         0.00           NaN        NaN    NaN  \n",
       "8580       0.00         0.00           NaN        NaN    NaN  \n",
       "10383      0.00         0.00           NaN        NaN    NaN  "
      ]
     },
     "execution_count": 14,
     "metadata": {},
     "output_type": "execute_result"
    }
   ],
   "source": [
    "# выведем данные одной игры\n",
    "df.query('name == \"space invaders\"')"
   ]
  },
  {
   "cell_type": "code",
   "execution_count": 15,
   "metadata": {},
   "outputs": [
    {
     "name": "stdout",
     "output_type": "stream",
     "text": [
      "Количество пропущенных значений с годом релиза: 1.64%\n"
     ]
    }
   ],
   "source": [
    "print('Количество пропущенных значений с годом релиза: {:.2%}'.format(df['year_of_release'].isna().sum() / df['year_of_release'].count()))"
   ]
  },
  {
   "cell_type": "markdown",
   "metadata": {},
   "source": [
    "Даты релиза можно восстановить либо в ручном режиме, т.е. отсматривая дату релиза каждой игры, либо найти другой датасет с датами выхода игр. Восстановить данные в данном датасете не получится, даже таких игр, в которых есть год, например, фифа, дартс, так как фифа выпускает игру на следующий год (fifa 2004 имеет релиз 2003 года), а дартс в тот же год.\n",
    "На разные платформы игы могут выходить в разные года.\n",
    "А самих пропущенных значений 1,64%. Удалим их."
   ]
  },
  {
   "cell_type": "code",
   "execution_count": 16,
   "metadata": {},
   "outputs": [
    {
     "name": "stdout",
     "output_type": "stream",
     "text": [
      "<class 'pandas.core.frame.DataFrame'>\n",
      "RangeIndex: 16444 entries, 0 to 16443\n",
      "Data columns (total 12 columns):\n",
      "index              16444 non-null int64\n",
      "name               16444 non-null object\n",
      "platform           16444 non-null object\n",
      "year_of_release    16444 non-null float64\n",
      "genre              16444 non-null object\n",
      "na_sales           16444 non-null float64\n",
      "eu_sales           16444 non-null float64\n",
      "jp_sales           16444 non-null float64\n",
      "other_sales        16444 non-null float64\n",
      "critic_score       7983 non-null float64\n",
      "user_score         7463 non-null object\n",
      "rating             9768 non-null object\n",
      "dtypes: float64(6), int64(1), object(5)\n",
      "memory usage: 1.5+ MB\n"
     ]
    }
   ],
   "source": [
    "data = df.dropna(subset = ['name', 'year_of_release']).reset_index()\n",
    "data.info()"
   ]
  },
  {
   "cell_type": "markdown",
   "metadata": {},
   "source": [
    "Пропуски в оценках пользователей и критиков сложно восстановить, ведь они зависят от многих факторов, поэтому просто оставим пропуски."
   ]
  },
  {
   "cell_type": "markdown",
   "metadata": {},
   "source": [
    "### Приведение данных к нужному типу"
   ]
  },
  {
   "cell_type": "code",
   "execution_count": 17,
   "metadata": {},
   "outputs": [
    {
     "name": "stdout",
     "output_type": "stream",
     "text": [
      "<class 'pandas.core.frame.DataFrame'>\n",
      "RangeIndex: 16444 entries, 0 to 16443\n",
      "Data columns (total 12 columns):\n",
      "index              16444 non-null int64\n",
      "name               16444 non-null object\n",
      "platform           16444 non-null object\n",
      "year_of_release    16444 non-null int64\n",
      "genre              16444 non-null object\n",
      "na_sales           16444 non-null float64\n",
      "eu_sales           16444 non-null float64\n",
      "jp_sales           16444 non-null float64\n",
      "other_sales        16444 non-null float64\n",
      "critic_score       7983 non-null float64\n",
      "user_score         7463 non-null float64\n",
      "rating             9768 non-null object\n",
      "dtypes: float64(6), int64(2), object(4)\n",
      "memory usage: 1.5+ MB\n"
     ]
    }
   ],
   "source": [
    "# Приведем данные к нужным типам.\n",
    "data['year_of_release'] = data['year_of_release'].astype('int')\n",
    "data['user_score'] = data['user_score'].astype('float')\n",
    "data.info()"
   ]
  },
  {
   "cell_type": "code",
   "execution_count": 18,
   "metadata": {},
   "outputs": [
    {
     "data": {
      "text/plain": [
       "count    7463.000000\n",
       "mean        7.126330\n",
       "std         1.499447\n",
       "min         0.000000\n",
       "25%         6.400000\n",
       "50%         7.500000\n",
       "75%         8.200000\n",
       "max         9.700000\n",
       "Name: user_score, dtype: float64"
      ]
     },
     "execution_count": 18,
     "metadata": {},
     "output_type": "execute_result"
    }
   ],
   "source": [
    "data['user_score'].describe()"
   ]
  },
  {
   "cell_type": "code",
   "execution_count": 19,
   "metadata": {},
   "outputs": [
    {
     "data": {
      "image/png": "[encoded data removed]",
      "text/plain": [
       "<Figure size 1080x360 with 1 Axes>"
      ]
     },
     "metadata": {
      "needs_background": "light"
     },
     "output_type": "display_data"
    }
   ],
   "source": [
    "# У оценок от пользователей есть нулевые значения, проверим не выбросы ли это. Построим гистрограмму распределения\n",
    "data['user_score'].hist(bins=100, figsize=(15,5))\n",
    "plt.xlabel(\"Оценка пользователя\")\n",
    "plt.ylabel(\"Количество оценок\")\n",
    "plt.title(\"Распределение оценок пользователей\")\n",
    "plt.show() "
   ]
  },
  {
   "cell_type": "markdown",
   "metadata": {},
   "source": [
    "С даннымы на первый взгляд все впорядке. Некоторые агрегаторы позволяют поставить нулевую оценку, например, метакритик."
   ]
  },
  {
   "cell_type": "markdown",
   "metadata": {},
   "source": [
    "### Добавление данных"
   ]
  },
  {
   "cell_type": "code",
   "execution_count": 20,
   "metadata": {},
   "outputs": [
    {
     "data": {
      "text/plain": [
       "count    16444.000000\n",
       "mean         0.536023\n",
       "std          1.558786\n",
       "min          0.000000\n",
       "25%          0.060000\n",
       "50%          0.170000\n",
       "75%          0.470000\n",
       "max         82.540000\n",
       "Name: sum_sales, dtype: float64"
      ]
     },
     "execution_count": 20,
     "metadata": {},
     "output_type": "execute_result"
    }
   ],
   "source": [
    "# Посчитаем суммарные продажи во всех регионах и запишим их в отдельный столбец.\n",
    "data['sum_sales'] = data['na_sales'] + data['eu_sales'] + data['jp_sales'] + data['other_sales']\n",
    "data['sum_sales'].describe()"
   ]
  },
  {
   "cell_type": "markdown",
   "metadata": {},
   "source": [
    "**Вывод**"
   ]
  },
  {
   "cell_type": "markdown",
   "metadata": {},
   "source": [
    "Мы обработали данные для дальнейшего исследования. \n",
    "Пропуски в первичном датасете могли появится из-за человеческой ошибки, например дата релиза, какие-то пропуски из-за отсутсвия данных, например оценки пользователей старых игр, которые не стали культовыми, возможны пропуски из-за объединения данных, когда теряются данные сразу по нескольким значениям.\n",
    "Восстановили тип данных для пользовательских оценок, который был текстовым из-за tbd - To Be Determined, он означает что оценок либо нет, либо слишком мало.\n",
    "Так же изменили тип данных у года выпуска, так как год это целое число.\n",
    "Добавили столбец с суммарными продажами."
   ]
  },
  {
   "cell_type": "markdown",
   "metadata": {},
   "source": [
    "## Исследовательский анализ данных"
   ]
  },
  {
   "cell_type": "markdown",
   "metadata": {},
   "source": [
    "### Количество игр в разные годы"
   ]
  },
  {
   "cell_type": "markdown",
   "metadata": {},
   "source": [
    "Посмотрим, сколько игр выпускалось в разные годы, и важны ли данные за все периоды?"
   ]
  },
  {
   "cell_type": "code",
   "execution_count": 21,
   "metadata": {},
   "outputs": [],
   "source": [
    "# Создадим сводную таблицу с количеством игр и годом выпуска\n",
    "games_per_year = data.pivot_table(index='year_of_release', values='name', aggfunc='count')"
   ]
  },
  {
   "cell_type": "code",
   "execution_count": 22,
   "metadata": {},
   "outputs": [
    {
     "data": {
      "image/png": "[encoded data removed]",
      "text/plain": [
       "<Figure size 1080x720 with 1 Axes>"
      ]
     },
     "metadata": {
      "needs_background": "light"
     },
     "output_type": "display_data"
    }
   ],
   "source": [
    "plt.figure(figsize=(15,10))\n",
    "sns.set_style('darkgrid')\n",
    "sns.lineplot(data=games_per_year)\n",
    "plt.xlabel(\"Год выпуска\")\n",
    "plt.ylabel(\"Количество выпущенных игр\")\n",
    "plt.title(\"Количество выпускаемых игр в год\")\n",
    "plt.legend('')\n",
    "plt.show() "
   ]
  },
  {
   "cell_type": "markdown",
   "metadata": {},
   "source": [
    "До 1993 года выпускалось малое количество игр из-за сложности разработки (были малораспространены автоматизированные средства разработки), малой распространенности платформ для игр, в следствии чего не было больших финансов в игровой сфере. Далее начался бурный рост до 2008 года. В 2008 был кризис, который убил многих разработчиков и издателей игр, так как игровая индустрия жила в основном на кредитах и финансировании производетелей консолей (например, microsoft). Так же активно зарождается индустрия мобильных игр (которые не представленные в данном датасете), онлайн гейминга (который рассчитан на долгие годы и выпускается по сути 1 раз), браузерного гейминга, и повышение требований потребителей к качеству игр, что усложняет и увеличивает время разработки игр.\n",
    "Таким образом игры за весь период не требуется брать, они возможно исказять картину будующих потенциальных хитов, из-за быстро изменчивых трендов в игровой индустрии. Требуется брать предыдущее поколение консолей и текущие."
   ]
  },
  {
   "cell_type": "markdown",
   "metadata": {},
   "source": [
    "### Продажи игр"
   ]
  },
  {
   "cell_type": "code",
   "execution_count": 23,
   "metadata": {},
   "outputs": [],
   "source": [
    "# Создадим функцию для построения гистограм\n",
    "def hist (dt, xvalue, yvalue, xlabel, ylabel, title):\n",
    "    plt.figure(figsize=(15,10))\n",
    "    sns.barplot(x=xvalue, y=yvalue, data = dt)\n",
    "    plt.title(title)\n",
    "    plt.xlabel(xlabel)\n",
    "    plt.ylabel(ylabel)\n",
    "    plt.show() "
   ]
  },
  {
   "cell_type": "code",
   "execution_count": 24,
   "metadata": {},
   "outputs": [
    {
     "data": {
      "image/png": "[encoded data removed]",
      "text/plain": [
       "<Figure size 1080x720 with 1 Axes>"
      ]
     },
     "metadata": {},
     "output_type": "display_data"
    }
   ],
   "source": [
    "# Посмотрим как менялись продажи по платформам\n",
    "platform_on_sales = data.pivot_table(index='platform', values='sum_sales', aggfunc='sum').sort_values(by='sum_sales', ascending=False)\n",
    "hist(platform_on_sales, platform_on_sales.index, 'sum_sales', 'Платформы', 'Количество продаж', 'Продажи по платформам за весь период')"
   ]
  },
  {
   "cell_type": "markdown",
   "metadata": {},
   "source": [
    "**Выберем 6 платформ с наибольшими суммарными продажами, так как они больше всех выделяются и построим распределение по годам для каждой платформы.**"
   ]
  },
  {
   "cell_type": "code",
   "execution_count": 25,
   "metadata": {},
   "outputs": [
    {
     "data": {
      "image/png": "[encoded data removed]",
      "text/plain": [
       "<Figure size 1080x720 with 1 Axes>"
      ]
     },
     "metadata": {},
     "output_type": "display_data"
    }
   ],
   "source": [
    "platform_sales_year_top = data.query('platform in @platform_on_sales.head(6).index').pivot_table(index=['platform', 'year_of_release'], values='sum_sales', aggfunc='sum').reset_index()\n",
    "\n",
    "plt.figure(figsize=(15,10))\n",
    "sns.set_style('darkgrid')\n",
    "sns.lineplot(x=\"year_of_release\", y=\"sum_sales\", ci=None, hue='platform', data=platform_sales_year_top)\n",
    "plt.xlabel(\"Год выпуска\")\n",
    "plt.ylabel(\"Количество выпущенных игр\")\n",
    "\n",
    "plt.legend()\n",
    "plt.show()"
   ]
  },
  {
   "cell_type": "code",
   "execution_count": 26,
   "metadata": {},
   "outputs": [
    {
     "data": {
      "text/plain": [
       "platform\n",
       "ds      28\n",
       "ps       9\n",
       "ps2     11\n",
       "ps3     10\n",
       "wii     10\n",
       "x360    11\n",
       "Name: year_of_release, dtype: int64"
      ]
     },
     "execution_count": 26,
     "metadata": {},
     "output_type": "execute_result"
    }
   ],
   "source": [
    "# Посчитаем среднее время жизни этих 6х платформ. Время жизни это разница между годом релиза самой поздней игры и самой первой.\n",
    "data.query('platform in @platform_on_sales.head(6).index').groupby('platform')['year_of_release'].apply(lambda g:g.max() - g.min())"
   ]
  },
  {
   "cell_type": "markdown",
   "metadata": {},
   "source": [
    "У платформы ds есть выброс, так как сама консоль вышла в 2004 года, но есть данные от 1985 года. Посмотрим их."
   ]
  },
  {
   "cell_type": "code",
   "execution_count": 27,
   "metadata": {},
   "outputs": [
    {
     "data": {
      "text/html": [
       "<div>\n",
       "<style scoped>\n",
       "    .dataframe tbody tr th:only-of-type {\n",
       "        vertical-align: middle;\n",
       "    }\n",
       "\n",
       "    .dataframe tbody tr th {\n",
       "        vertical-align: top;\n",
       "    }\n",
       "\n",
       "    .dataframe thead th {\n",
       "        text-align: right;\n",
       "    }\n",
       "</style>\n",
       "<table border=\"1\" class=\"dataframe\">\n",
       "  <thead>\n",
       "    <tr style=\"text-align: right;\">\n",
       "      <th></th>\n",
       "      <th>index</th>\n",
       "      <th>name</th>\n",
       "      <th>platform</th>\n",
       "      <th>year_of_release</th>\n",
       "      <th>genre</th>\n",
       "      <th>na_sales</th>\n",
       "      <th>eu_sales</th>\n",
       "      <th>jp_sales</th>\n",
       "      <th>other_sales</th>\n",
       "      <th>critic_score</th>\n",
       "      <th>user_score</th>\n",
       "      <th>rating</th>\n",
       "      <th>sum_sales</th>\n",
       "    </tr>\n",
       "  </thead>\n",
       "  <tbody>\n",
       "    <tr>\n",
       "      <td>15704</td>\n",
       "      <td>15957</td>\n",
       "      <td>strongest tokyo university shogi ds</td>\n",
       "      <td>ds</td>\n",
       "      <td>1985</td>\n",
       "      <td>action</td>\n",
       "      <td>0.0</td>\n",
       "      <td>0.0</td>\n",
       "      <td>0.02</td>\n",
       "      <td>0.0</td>\n",
       "      <td>NaN</td>\n",
       "      <td>NaN</td>\n",
       "      <td>NaN</td>\n",
       "      <td>0.02</td>\n",
       "    </tr>\n",
       "  </tbody>\n",
       "</table>\n",
       "</div>"
      ],
      "text/plain": [
       "       index                                 name platform  year_of_release  \\\n",
       "15704  15957  strongest tokyo university shogi ds       ds             1985   \n",
       "\n",
       "        genre  na_sales  eu_sales  jp_sales  other_sales  critic_score  \\\n",
       "15704  action       0.0       0.0      0.02          0.0           NaN   \n",
       "\n",
       "       user_score rating  sum_sales  \n",
       "15704         NaN    NaN       0.02  "
      ]
     },
     "execution_count": 27,
     "metadata": {},
     "output_type": "execute_result"
    }
   ],
   "source": [
    "data.query('platform == \"ds\" and year_of_release < 2004')"
   ]
  },
  {
   "cell_type": "markdown",
   "metadata": {},
   "source": [
    "Данная игра вышла в 2010 годом. Поправим эти данные в общем датасете"
   ]
  },
  {
   "cell_type": "code",
   "execution_count": 28,
   "metadata": {},
   "outputs": [
    {
     "data": {
      "text/html": [
       "<div>\n",
       "<style scoped>\n",
       "    .dataframe tbody tr th:only-of-type {\n",
       "        vertical-align: middle;\n",
       "    }\n",
       "\n",
       "    .dataframe tbody tr th {\n",
       "        vertical-align: top;\n",
       "    }\n",
       "\n",
       "    .dataframe thead th {\n",
       "        text-align: right;\n",
       "    }\n",
       "</style>\n",
       "<table border=\"1\" class=\"dataframe\">\n",
       "  <thead>\n",
       "    <tr style=\"text-align: right;\">\n",
       "      <th></th>\n",
       "      <th>index</th>\n",
       "      <th>name</th>\n",
       "      <th>platform</th>\n",
       "      <th>year_of_release</th>\n",
       "      <th>genre</th>\n",
       "      <th>na_sales</th>\n",
       "      <th>eu_sales</th>\n",
       "      <th>jp_sales</th>\n",
       "      <th>other_sales</th>\n",
       "      <th>critic_score</th>\n",
       "      <th>user_score</th>\n",
       "      <th>rating</th>\n",
       "      <th>sum_sales</th>\n",
       "    </tr>\n",
       "  </thead>\n",
       "  <tbody>\n",
       "    <tr>\n",
       "      <td>15704</td>\n",
       "      <td>15957</td>\n",
       "      <td>strongest tokyo university shogi ds</td>\n",
       "      <td>ds</td>\n",
       "      <td>2010</td>\n",
       "      <td>action</td>\n",
       "      <td>0.0</td>\n",
       "      <td>0.0</td>\n",
       "      <td>0.02</td>\n",
       "      <td>0.0</td>\n",
       "      <td>NaN</td>\n",
       "      <td>NaN</td>\n",
       "      <td>NaN</td>\n",
       "      <td>0.02</td>\n",
       "    </tr>\n",
       "  </tbody>\n",
       "</table>\n",
       "</div>"
      ],
      "text/plain": [
       "       index                                 name platform  year_of_release  \\\n",
       "15704  15957  strongest tokyo university shogi ds       ds             2010   \n",
       "\n",
       "        genre  na_sales  eu_sales  jp_sales  other_sales  critic_score  \\\n",
       "15704  action       0.0       0.0      0.02          0.0           NaN   \n",
       "\n",
       "       user_score rating  sum_sales  \n",
       "15704         NaN    NaN       0.02  "
      ]
     },
     "execution_count": 28,
     "metadata": {},
     "output_type": "execute_result"
    }
   ],
   "source": [
    "data.loc[15704,'year_of_release'] = 2010\n",
    "data.query('name == \"strongest tokyo university shogi ds\"')"
   ]
  },
  {
   "cell_type": "code",
   "execution_count": 29,
   "metadata": {},
   "outputs": [
    {
     "data": {
      "text/plain": [
       "platform\n",
       "ds       9\n",
       "ps       9\n",
       "ps2     11\n",
       "ps3     10\n",
       "wii     10\n",
       "x360    11\n",
       "Name: year_of_release, dtype: int64"
      ]
     },
     "execution_count": 29,
     "metadata": {},
     "output_type": "execute_result"
    }
   ],
   "source": [
    "# Посчитаем среднее время жизни этих 6х платформ. Время жизни это разница между годом релиза самой поздней игры и самой первой.\n",
    "data.query('platform in @platform_on_sales.head(6).index').groupby('platform')['year_of_release'].apply(lambda g:g.max() - g.min())"
   ]
  },
  {
   "cell_type": "markdown",
   "metadata": {},
   "source": [
    "Время жизни платформ около 10 лет. Для определения будующих хитов будем использовать временной промежуток равный половине времени жизни платформы, то есть 5 лет. В начале жизни поколения консолей тренды будут следовать за предыщим поколением и сами игры будут выходить сразу на 2х платформах в течении примерно 2х лет после выходы нового поколени, а спустя 5 лет уже новокое поколение будет задавать свои тренды.  Для построения прогнозов на 2017 год требуется взять *времнной промежуток с 2011 года год по 2016 год*."
   ]
  },
  {
   "cell_type": "code",
   "execution_count": 30,
   "metadata": {},
   "outputs": [
    {
     "data": {
      "text/html": [
       "<div>\n",
       "<style scoped>\n",
       "    .dataframe tbody tr th:only-of-type {\n",
       "        vertical-align: middle;\n",
       "    }\n",
       "\n",
       "    .dataframe tbody tr th {\n",
       "        vertical-align: top;\n",
       "    }\n",
       "\n",
       "    .dataframe thead th {\n",
       "        text-align: right;\n",
       "    }\n",
       "</style>\n",
       "<table border=\"1\" class=\"dataframe\">\n",
       "  <thead>\n",
       "    <tr style=\"text-align: right;\">\n",
       "      <th></th>\n",
       "      <th>index</th>\n",
       "      <th>year_of_release</th>\n",
       "      <th>na_sales</th>\n",
       "      <th>eu_sales</th>\n",
       "      <th>jp_sales</th>\n",
       "      <th>other_sales</th>\n",
       "      <th>critic_score</th>\n",
       "      <th>user_score</th>\n",
       "      <th>sum_sales</th>\n",
       "    </tr>\n",
       "  </thead>\n",
       "  <tbody>\n",
       "    <tr>\n",
       "      <td>count</td>\n",
       "      <td>4022.000000</td>\n",
       "      <td>4022.000000</td>\n",
       "      <td>4022.000000</td>\n",
       "      <td>4022.000000</td>\n",
       "      <td>4022.000000</td>\n",
       "      <td>4022.000000</td>\n",
       "      <td>1812.000000</td>\n",
       "      <td>2032.000000</td>\n",
       "      <td>4022.000000</td>\n",
       "    </tr>\n",
       "    <tr>\n",
       "      <td>mean</td>\n",
       "      <td>9095.653655</td>\n",
       "      <td>2013.092989</td>\n",
       "      <td>0.206305</td>\n",
       "      <td>0.166532</td>\n",
       "      <td>0.061077</td>\n",
       "      <td>0.051942</td>\n",
       "      <td>71.274283</td>\n",
       "      <td>6.633022</td>\n",
       "      <td>0.485855</td>\n",
       "    </tr>\n",
       "    <tr>\n",
       "      <td>std</td>\n",
       "      <td>5010.800301</td>\n",
       "      <td>1.776160</td>\n",
       "      <td>0.570441</td>\n",
       "      <td>0.482864</td>\n",
       "      <td>0.220248</td>\n",
       "      <td>0.155342</td>\n",
       "      <td>13.095847</td>\n",
       "      <td>1.541293</td>\n",
       "      <td>1.219503</td>\n",
       "    </tr>\n",
       "    <tr>\n",
       "      <td>min</td>\n",
       "      <td>16.000000</td>\n",
       "      <td>2011.000000</td>\n",
       "      <td>0.000000</td>\n",
       "      <td>0.000000</td>\n",
       "      <td>0.000000</td>\n",
       "      <td>0.000000</td>\n",
       "      <td>13.000000</td>\n",
       "      <td>0.200000</td>\n",
       "      <td>0.010000</td>\n",
       "    </tr>\n",
       "    <tr>\n",
       "      <td>25%</td>\n",
       "      <td>4768.500000</td>\n",
       "      <td>2011.000000</td>\n",
       "      <td>0.000000</td>\n",
       "      <td>0.000000</td>\n",
       "      <td>0.000000</td>\n",
       "      <td>0.000000</td>\n",
       "      <td>64.000000</td>\n",
       "      <td>5.800000</td>\n",
       "      <td>0.040000</td>\n",
       "    </tr>\n",
       "    <tr>\n",
       "      <td>50%</td>\n",
       "      <td>9578.500000</td>\n",
       "      <td>2013.000000</td>\n",
       "      <td>0.040000</td>\n",
       "      <td>0.030000</td>\n",
       "      <td>0.000000</td>\n",
       "      <td>0.010000</td>\n",
       "      <td>74.000000</td>\n",
       "      <td>7.000000</td>\n",
       "      <td>0.130000</td>\n",
       "    </tr>\n",
       "    <tr>\n",
       "      <td>75%</td>\n",
       "      <td>13652.250000</td>\n",
       "      <td>2015.000000</td>\n",
       "      <td>0.170000</td>\n",
       "      <td>0.130000</td>\n",
       "      <td>0.050000</td>\n",
       "      <td>0.040000</td>\n",
       "      <td>81.000000</td>\n",
       "      <td>7.800000</td>\n",
       "      <td>0.407500</td>\n",
       "    </tr>\n",
       "    <tr>\n",
       "      <td>max</td>\n",
       "      <td>16714.000000</td>\n",
       "      <td>2016.000000</td>\n",
       "      <td>9.660000</td>\n",
       "      <td>9.090000</td>\n",
       "      <td>4.390000</td>\n",
       "      <td>3.960000</td>\n",
       "      <td>97.000000</td>\n",
       "      <td>9.300000</td>\n",
       "      <td>21.050000</td>\n",
       "    </tr>\n",
       "  </tbody>\n",
       "</table>\n",
       "</div>"
      ],
      "text/plain": [
       "              index  year_of_release     na_sales     eu_sales     jp_sales  \\\n",
       "count   4022.000000      4022.000000  4022.000000  4022.000000  4022.000000   \n",
       "mean    9095.653655      2013.092989     0.206305     0.166532     0.061077   \n",
       "std     5010.800301         1.776160     0.570441     0.482864     0.220248   \n",
       "min       16.000000      2011.000000     0.000000     0.000000     0.000000   \n",
       "25%     4768.500000      2011.000000     0.000000     0.000000     0.000000   \n",
       "50%     9578.500000      2013.000000     0.040000     0.030000     0.000000   \n",
       "75%    13652.250000      2015.000000     0.170000     0.130000     0.050000   \n",
       "max    16714.000000      2016.000000     9.660000     9.090000     4.390000   \n",
       "\n",
       "       other_sales  critic_score   user_score    sum_sales  \n",
       "count  4022.000000   1812.000000  2032.000000  4022.000000  \n",
       "mean      0.051942     71.274283     6.633022     0.485855  \n",
       "std       0.155342     13.095847     1.541293     1.219503  \n",
       "min       0.000000     13.000000     0.200000     0.010000  \n",
       "25%       0.000000     64.000000     5.800000     0.040000  \n",
       "50%       0.010000     74.000000     7.000000     0.130000  \n",
       "75%       0.040000     81.000000     7.800000     0.407500  \n",
       "max       3.960000     97.000000     9.300000    21.050000  "
      ]
     },
     "execution_count": 30,
     "metadata": {},
     "output_type": "execute_result"
    }
   ],
   "source": [
    "# создадим новую таблицу с актуальными данными\n",
    "data_actual = data.query('year_of_release > 2010 and year_of_release < 2017')\n",
    "data_actual.describe()"
   ]
  },
  {
   "cell_type": "markdown",
   "metadata": {},
   "source": [
    "### Топ платформ\n",
    "Выберем потенциально прибыльные платформы за выбранный промежуток."
   ]
  },
  {
   "cell_type": "code",
   "execution_count": 31,
   "metadata": {},
   "outputs": [
    {
     "data": {
      "image/png": "[encoded data removed]",
      "text/plain": [
       "<Figure size 1080x720 with 1 Axes>"
      ]
     },
     "metadata": {},
     "output_type": "display_data"
    }
   ],
   "source": [
    "# построим суммарные продажи за данный период по платформам\n",
    "platform_on_sales_act = data_actual.pivot_table(index='platform', values='sum_sales', aggfunc='sum').sort_values(by='sum_sales', ascending=False)\n",
    "hist(platform_on_sales_act, platform_on_sales_act.index, 'sum_sales', 'Платформы', 'Количество продаж', 'Продажи по платформам за 5 лет')"
   ]
  },
  {
   "cell_type": "markdown",
   "metadata": {},
   "source": [
    "Больше всего продаж приходится на консоли предыдущего поколения, но они не могут быть потенциально прибыльными, посмотрим разбивку по годам."
   ]
  },
  {
   "cell_type": "code",
   "execution_count": 32,
   "metadata": {
    "scrolled": false
   },
   "outputs": [
    {
     "data": {
      "image/png": "[encoded data removed]",
      "text/plain": [
       "<Figure size 1080x1440 with 12 Axes>"
      ]
     },
     "metadata": {},
     "output_type": "display_data"
    },
    {
     "data": {
      "image/png": "[encoded data removed]",
      "text/plain": [
       "<Figure size 1080x1080 with 1 Axes>"
      ]
     },
     "metadata": {},
     "output_type": "display_data"
    }
   ],
   "source": [
    "# Создадим 4 строки с 3 колонками, так как 13 платформ за данный период\n",
    "platform_actual= data_actual.pivot_table(index=['platform', 'year_of_release'], values='sum_sales', aggfunc='sum').reset_index()\n",
    "#sns.set_style('darkgrid')\n",
    "#plt.figure(figsize=(20,20))\n",
    "\n",
    "sns.relplot(data=platform_actual, kind=\"line\", x=\"year_of_release\", y=\"sum_sales\", col=\"platform\", col_wrap=3)        \n",
    "plt.figure(figsize=(15,15))\n",
    "sns.set_style('darkgrid')\n",
    "sns.lineplot(x=\"year_of_release\", y=\"sum_sales\", ci=None, hue='platform', data=platform_actual)\n",
    "plt.xlabel(\"Год выпуска\")\n",
    "plt.ylabel(\"Количество выпущенных игр\")\n",
    "\n",
    "plt.legend()\n",
    "plt.show()"
   ]
  },
  {
   "cell_type": "markdown",
   "metadata": {},
   "source": [
    "Потенциально прибыльные платформы: 3ds, ps4, xone. Консоли последних поколений от 3х самых популярных производителей. Остальные консоли показывают низкие продажи или вышли из продажи."
   ]
  },
  {
   "cell_type": "code",
   "execution_count": 33,
   "metadata": {},
   "outputs": [],
   "source": [
    "# создадим датасет с 3мя перспективными консолями за выбранный интервал времени.\n",
    "data_actual_top3 = data_actual.query('platform == \"3ds\" or platform == \"ps4\" or platform == \"xone\"')"
   ]
  },
  {
   "cell_type": "markdown",
   "metadata": {},
   "source": [
    "Построим графики «ящик с усами» по глобальным продажам игр в разбивке по платформам."
   ]
  },
  {
   "cell_type": "code",
   "execution_count": 34,
   "metadata": {},
   "outputs": [
    {
     "data": {
      "image/png": "[encoded data removed]",
      "text/plain": [
       "<Figure size 1080x720 with 1 Axes>"
      ]
     },
     "metadata": {},
     "output_type": "display_data"
    },
    {
     "data": {
      "image/png": "[encoded data removed]",
      "text/plain": [
       "<Figure size 1080x720 with 1 Axes>"
      ]
     },
     "metadata": {},
     "output_type": "display_data"
    },
    {
     "name": "stdout",
     "output_type": "stream",
     "text": [
      "\n",
      "Средние продажи для 1 игры на 3ds 0.50 млн\n",
      "Среднегодовые продажи на 3ds 42.97 млн\n",
      "Количество игр в год в среднем на 3ds 85.33\n",
      "\n",
      "Средние продажи для 1 игры на ps4 0.80 млн\n",
      "Среднегодовые продажи на ps4 78.54 млн\n",
      "Количество игр в год в среднем на ps4 98.00\n",
      "\n",
      "Средние продажи для 1 игры на xone 0.65 млн\n",
      "Среднегодовые продажи на xone 39.83 млн\n",
      "Количество игр в год в среднем на xone 61.75\n"
     ]
    }
   ],
   "source": [
    "# построим ящики с усами по глобальным продажам для каждой платформы (продажи по каждой игре)\n",
    "plt.figure(figsize=(15,10))\n",
    "sns.boxplot(x='platform', y='sum_sales', data=data_actual_top3, notch=False)\n",
    "plt.title('Продажи игр total')\n",
    "plt.show()\n",
    "data_actual_top3_year = data_actual_top3.pivot_table(index=['platform', 'year_of_release'], values='sum_sales', aggfunc='sum').reset_index()\n",
    "data_actual_top3_games = data_actual_top3.pivot_table(index=['platform', 'year_of_release'], values='name', aggfunc='count').reset_index()\n",
    "plt.figure(figsize=(15,10))\n",
    "# построим ящики с усами по глобальным годовым продажам для каждой платформы.\n",
    "sns.boxplot(x='platform', y='sum_sales', data=data_actual_top3_year, notch=False)\n",
    "plt.title('Годовые продажи игр')\n",
    "plt.show()\n",
    "for platform in data_actual_top3_year['platform'].unique():\n",
    "    print()\n",
    "    print('Средние продажи для 1 игры на {:} {:.2f} млн'.format(platform, data_actual_top3.query('platform == @platform')['sum_sales'].mean()))\n",
    "    print('Среднегодовые продажи на {:} {:.2f} млн'.format(platform, data_actual_top3_year.query('platform == @platform')['sum_sales'].mean()))\n",
    "    print('Количество игр в год в среднем на {:} {:.2f}'.format(platform, data_actual_top3_games.query('platform == @platform')['name'].mean()))\n",
    "    "
   ]
  },
  {
   "cell_type": "markdown",
   "metadata": {},
   "source": [
    "- 3ds это портативная консоль, а значит менее распротранена и меньше продаж игр. У 3ds в среднем каждая игра продается объемом в 0,5 млн копий, а среднегодовые продажи составляют 42,97 млн копий.\n",
    "- В среднем на ps4 продается 0,8 млн копий игры, а в год 78,54 млн копий игр. Это самые высокие показатели. Самая популярная консоль текущего поколения.\n",
    "- На xbox one в среднем на каждую игру приходится 0,65 млн продаж, но самих игр выходит меньше чем на 3ds, что уменьшает среднегодовые продажи которые составляют 39,83 млн. Данные показатели возникают из-за решения майкрософт объединить магазин игр на пк и xbox и пользователи не видят смысл покупать консоль, так как в эксклюзивы теперь можно поиграть на компьютере, который есть большего количества пользователей."
   ]
  },
  {
   "cell_type": "markdown",
   "metadata": {},
   "source": [
    "### Влияние отзывов на продажи\n",
    "Посмотрим, как влияют на продажи внутри одной популярной платформы отзывы пользователей и критиков. Построим диаграмму рассеяния и посчитаем корреляцию между отзывами и продажами. Посмотрим эти параметры и для других платформ."
   ]
  },
  {
   "cell_type": "code",
   "execution_count": 35,
   "metadata": {},
   "outputs": [],
   "source": [
    "# Напишем функцию, которая будет строить диаграмму рассеяния и посчитает корреляцию\n",
    "def cor (dt, parx, pary, platform):\n",
    "    dt.query('platform == @platform').plot(x=parx, y=pary, kind='scatter', grid=True, figsize=(15, 5))\n",
    "    plt.title(platform)\n",
    "    print('Корреляция между {:} и {:} для {:} :'.format(parx, pary, platform), dt.query('platform == @platform')[parx].corr(dt[pary]))"
   ]
  },
  {
   "cell_type": "code",
   "execution_count": 36,
   "metadata": {},
   "outputs": [
    {
     "name": "stdout",
     "output_type": "stream",
     "text": [
      "Корреляция между critic_score и sum_sales для ps4 : 0.40656790206178095\n",
      "Корреляция между user_score и sum_sales для ps4 : -0.031957110204556424\n"
     ]
    },
    {
     "data": {
      "image/png": "[encoded data removed]",
      "text/plain": [
       "<Figure size 1080x360 with 1 Axes>"
      ]
     },
     "metadata": {},
     "output_type": "display_data"
    },
    {
     "data": {
      "image/png": "[encoded data removed]",
      "text/plain": [
       "<Figure size 1080x360 with 1 Axes>"
      ]
     },
     "metadata": {},
     "output_type": "display_data"
    }
   ],
   "source": [
    "cor(data_actual_top3, 'critic_score', 'sum_sales', 'ps4')\n",
    "cor(data_actual_top3, 'user_score', 'sum_sales', 'ps4')"
   ]
  },
  {
   "cell_type": "code",
   "execution_count": 37,
   "metadata": {},
   "outputs": [
    {
     "name": "stdout",
     "output_type": "stream",
     "text": [
      "Корреляция между critic_score и sum_sales для 3ds : 0.3487397305984834\n",
      "Корреляция между user_score и sum_sales для 3ds : 0.22207843643390882\n"
     ]
    },
    {
     "data": {
      "image/png": "[encoded data removed]",
      "text/plain": [
       "<Figure size 1080x360 with 1 Axes>"
      ]
     },
     "metadata": {},
     "output_type": "display_data"
    },
    {
     "data": {
      "image/png": "[encoded data removed]",
      "text/plain": [
       "<Figure size 1080x360 with 1 Axes>"
      ]
     },
     "metadata": {},
     "output_type": "display_data"
    }
   ],
   "source": [
    "cor(data_actual_top3, 'critic_score', 'sum_sales', '3ds')\n",
    "cor(data_actual_top3, 'user_score', 'sum_sales', '3ds')"
   ]
  },
  {
   "cell_type": "code",
   "execution_count": 38,
   "metadata": {},
   "outputs": [
    {
     "name": "stdout",
     "output_type": "stream",
     "text": [
      "Корреляция между critic_score и sum_sales для xone : 0.4169983280084017\n",
      "Корреляция между user_score и sum_sales для xone : -0.06892505328279414\n"
     ]
    },
    {
     "data": {
      "image/png": "[encoded data removed]",
      "text/plain": [
       "<Figure size 1080x360 with 1 Axes>"
      ]
     },
     "metadata": {},
     "output_type": "display_data"
    },
    {
     "data": {
      "image/png": "[encoded data removed]",
      "text/plain": [
       "<Figure size 1080x360 with 1 Axes>"
      ]
     },
     "metadata": {},
     "output_type": "display_data"
    }
   ],
   "source": [
    "cor(data_actual_top3, 'critic_score', 'sum_sales', 'xone')\n",
    "cor(data_actual_top3, 'user_score', 'sum_sales', 'xone')"
   ]
  },
  {
   "cell_type": "markdown",
   "metadata": {},
   "source": [
    "Слабая корреляция между рейтингом критиков и продажами по всем платформам, однако высокие оценки критиков значительно повышают продажи.\n",
    "Пользовательский рейтинг практически не коррелирует с продажами. Возможно низкие оценки пользователей связаны с предвзятостью.\n",
    "У потребителей в приоритете оценки профессиональных критиков и игры с самыми высокими оценками как правило продаются лучше, так как высокие оценки редки, это создает повышенное внимание к играм. А вот на средние и низкие оценки потребители редко смотрят.\n",
    "Критики не обращают внимания на отдельные баги, а вот пользователи обращают и занижают оценки, далее выходят патчи с исправлениями, но пользователи не меняют свои отзывы. Поэтому существуют хиты с пользовательскими рейтингами менше 6 баллов. "
   ]
  },
  {
   "cell_type": "markdown",
   "metadata": {},
   "source": [
    "### Общее распредление игр по жанрам.\n",
    "Посмотрим на общее распределение игр по жанрам, выделим самые прибыльные жанры."
   ]
  },
  {
   "cell_type": "code",
   "execution_count": 39,
   "metadata": {},
   "outputs": [
    {
     "data": {
      "image/png": "[encoded data removed]",
      "text/plain": [
       "<Figure size 1080x720 with 1 Axes>"
      ]
     },
     "metadata": {},
     "output_type": "display_data"
    }
   ],
   "source": [
    "# построим суммарные продажи за данный период по платформам\n",
    "genre_on_sales_act = data_actual.pivot_table(index='genre', values='sum_sales', aggfunc='sum').sort_values(by='sum_sales', ascending=False)\n",
    "hist(genre_on_sales_act, genre_on_sales_act.index, 'sum_sales', 'Жанр', 'Количество продаж', 'Продажи по жанрам за 5 лет')"
   ]
  },
  {
   "cell_type": "markdown",
   "metadata": {},
   "source": [
    "Ожидаемо самыми популярными жанрами является экш, далее шутеры, rpg и спорт, а вот самыми неполпулярными являются паззлы и стратегии. Это связано из-за удобства или неудобства управление через джойстик, а так же эксклюзивы и самые дорогие игры в осном имеют жанр экш."
   ]
  },
  {
   "cell_type": "markdown",
   "metadata": {},
   "source": [
    "**Вывод**"
   ]
  },
  {
   "cell_type": "markdown",
   "metadata": {},
   "source": [
    "Для определения хитов на следующий год требуется брать данные за предыдущие 5 лет. Следует учитывать общее снижение продаж. Самыми популярными платформами являются ps4, 3ds и xbox one. \n",
    "Оценки пользователей практически не влияют на продажи, а вот оценки критиков влияют, но только при высоких оценках, при оценках более 90 игра имеет коммерческий успех. Жанр также сильно влияет на продажи, так самые продоваемые игры имеют жанры экш, шутер и спорт."
   ]
  },
  {
   "cell_type": "markdown",
   "metadata": {},
   "source": [
    "## Портрет пользователя каждого региона"
   ]
  },
  {
   "cell_type": "markdown",
   "metadata": {},
   "source": [
    "Определим для пользователей каждого региона (NA, EU, JP):\n",
    "1. Самые популярные платформы (топ-5).\n",
    "2. Самые популярные жанры (топ-5).\n",
    "3. Влияние рейтинга ESRB на продажи."
   ]
  },
  {
   "cell_type": "code",
   "execution_count": 40,
   "metadata": {},
   "outputs": [],
   "source": [
    "# создадим функцию для построения круговых диаграмм топ 5\n",
    "def pie_top5(dt, region, column1, column2, column3):\n",
    "    if region == 'NA':\n",
    "        rg = 'na_sales'\n",
    "    elif region == 'EU':\n",
    "        rg = 'eu_sales'\n",
    "    elif region == 'JP':\n",
    "        rg = 'jp_sales'\n",
    "    else:\n",
    "        return print('Такого региона нет в выборке')\n",
    "    dt1 = dt.pivot_table(index=column1, values=rg, aggfunc='sum').sort_values(by=rg, ascending=False).head(5)\n",
    "    dt2 = dt.pivot_table(index=column2, values=rg, aggfunc='sum').sort_values(by=rg, ascending=False).head(5)\n",
    "    dt3 = dt.pivot_table(index=column3, values=rg, aggfunc='sum').sort_values(by=rg, ascending=False).head(5)\n",
    "    dt1.plot.pie(y=rg, figsize=(7, 7), autopct='%1.0f%%', legend=False)\n",
    "    plt.xlabel(column1)\n",
    "    plt.ylabel(\"Sales\")\n",
    "    dt2.plot.pie(y=rg, figsize=(7, 7), autopct='%1.0f%%', legend=False)\n",
    "    plt.xlabel(column2)\n",
    "    plt.ylabel(\"Sales\")\n",
    "    dt3.plot.pie(y=rg, figsize=(7, 7), autopct='%1.0f%%', legend=False)\n",
    "    plt.xlabel(column3)\n",
    "    plt.ylabel(\"Sales\")\n",
    "    plt.show() "
   ]
  },
  {
   "cell_type": "code",
   "execution_count": 41,
   "metadata": {},
   "outputs": [],
   "source": [
    "# создадим функцию для построения столбчатых диаграмм топ 5\n",
    "def hist_top5(dt, region):\n",
    "    if region == 'NA':\n",
    "        rg = 'na_sales'\n",
    "    elif region == 'EU':\n",
    "        rg = 'eu_sales'\n",
    "    elif region == 'JP':\n",
    "        rg = 'jp_sales'\n",
    "    else:\n",
    "        return print('Такого региона нет в выборке')\n",
    "    fig, (ax1,ax2,ax3) = plt.subplots(1, 3, figsize=(20, 7))\n",
    "    dt1 = dt.pivot_table(index='platform', values=rg, aggfunc='sum').sort_values(by=rg, ascending=False).head(5).reset_index()\n",
    "    dt2 = dt.pivot_table(index='genre', values=rg, aggfunc='sum').sort_values(by=rg, ascending=False).head(5).reset_index()\n",
    "    dt['rating'] = dt['rating'].fillna('no_rating') # заменим пропуски отсуствием рейтиинга\n",
    "    dt3 = dt.pivot_table(index='rating', values=rg, aggfunc='sum').sort_values(by=rg, ascending=False).head(5).reset_index()\n",
    "    sns.barplot(data=dt1, x='platform', y=rg, ax=ax1)\n",
    "    sns.barplot(data=dt2, x='genre', y=rg, ax=ax2)\n",
    "    sns.barplot(data=dt3, x='rating', y=rg, ax=ax3)\n",
    "    \n",
    "    plt.show() "
   ]
  },
  {
   "cell_type": "markdown",
   "metadata": {},
   "source": [
    "**Северная Америка**"
   ]
  },
  {
   "cell_type": "code",
   "execution_count": 42,
   "metadata": {},
   "outputs": [
    {
     "name": "stderr",
     "output_type": "stream",
     "text": [
      "/opt/conda/lib/python3.7/site-packages/ipykernel_launcher.py:14: SettingWithCopyWarning: \n",
      "A value is trying to be set on a copy of a slice from a DataFrame.\n",
      "Try using .loc[row_indexer,col_indexer] = value instead\n",
      "\n",
      "See the caveats in the documentation: http://pandas.pydata.org/pandas-docs/stable/user_guide/indexing.html#returning-a-view-versus-a-copy\n",
      "  \n"
     ]
    },
    {
     "data": {
      "image/png": "[encoded data removed]",
      "text/plain": [
       "<Figure size 1440x504 with 3 Axes>"
      ]
     },
     "metadata": {},
     "output_type": "display_data"
    }
   ],
   "source": [
    "hist_top5(data_actual, 'NA')"
   ]
  },
  {
   "cell_type": "markdown",
   "metadata": {},
   "source": [
    "Для северной Америки самой популярной платформой является xbox360 скорее всего из-за того что это местный производитель. А вот в консолях нового поколения xbox one немного уступает ps4, из-за объединения игровой базы xbox и пк. Жанры аналогичны общей выборке, то есть популярны экшн, шутеры и спорт. Игры с рейтингом \"M\" («Mature» — «Для взрослых») самые популярные, далее игры с рейтингом \"E\" («Everyone» — «Для всех»), замыкает тройку игры с отсутсвием рейтинга. Отсутвие рейтинга - это возможно издатель решил обратиться для выставления рейтинга в другое рейтинговое агенство, например pegi, или это инди игра."
   ]
  },
  {
   "cell_type": "markdown",
   "metadata": {},
   "source": [
    "**Европа**"
   ]
  },
  {
   "cell_type": "code",
   "execution_count": 43,
   "metadata": {},
   "outputs": [
    {
     "name": "stderr",
     "output_type": "stream",
     "text": [
      "/opt/conda/lib/python3.7/site-packages/ipykernel_launcher.py:14: SettingWithCopyWarning: \n",
      "A value is trying to be set on a copy of a slice from a DataFrame.\n",
      "Try using .loc[row_indexer,col_indexer] = value instead\n",
      "\n",
      "See the caveats in the documentation: http://pandas.pydata.org/pandas-docs/stable/user_guide/indexing.html#returning-a-view-versus-a-copy\n",
      "  \n"
     ]
    },
    {
     "data": {
      "image/png": "[encoded data removed]",
      "text/plain": [
       "<Figure size 1440x504 with 3 Axes>"
      ]
     },
     "metadata": {},
     "output_type": "display_data"
    }
   ],
   "source": [
    "hist_top5(data_actual, 'EU')"
   ]
  },
  {
   "cell_type": "markdown",
   "metadata": {},
   "source": [
    "Так для Европы доля xbox 360 меньше, и данная платформа занимает третье место, а ps3 первое. Второе место у ps4, хотя данная консоли всего 3 года за выбранный интервал времени, то есть данная консоль молодая. Так же в топ 5 ожидаемо портативная консоль 3ds и неожиданно pc.\n",
    "В Европе по жанрам похожие предпочтения за исключением гонок. Их любят больше чем в Северной Америке и они занимают 5 место.\n",
    "В рейтингах похожая ситуация."
   ]
  },
  {
   "cell_type": "markdown",
   "metadata": {},
   "source": [
    "**Япония**"
   ]
  },
  {
   "cell_type": "code",
   "execution_count": 44,
   "metadata": {},
   "outputs": [
    {
     "name": "stderr",
     "output_type": "stream",
     "text": [
      "/opt/conda/lib/python3.7/site-packages/ipykernel_launcher.py:14: SettingWithCopyWarning: \n",
      "A value is trying to be set on a copy of a slice from a DataFrame.\n",
      "Try using .loc[row_indexer,col_indexer] = value instead\n",
      "\n",
      "See the caveats in the documentation: http://pandas.pydata.org/pandas-docs/stable/user_guide/indexing.html#returning-a-view-versus-a-copy\n",
      "  \n"
     ]
    },
    {
     "data": {
      "image/png": "[encoded data removed]",
      "text/plain": [
       "<Figure size 1440x504 with 3 Axes>"
      ]
     },
     "metadata": {},
     "output_type": "display_data"
    }
   ],
   "source": [
    "hist_top5(data_actual, 'JP')"
   ]
  },
  {
   "cell_type": "markdown",
   "metadata": {},
   "source": [
    "<div class=\"alert alert-danger\">\n",
    "<font size=\"5\"><b>Комментарий ревьюера</b></font>\n",
    "\n",
    "Обрати внимание - ты не учитываешь игры без рейтинга. В результате огромная часть игр просто выпадает из анализа. Найди способ учесть их при группировке значений по рейтингу для всех регионов. \n",
    "    \n",
    "</div>"
   ]
  },
  {
   "cell_type": "markdown",
   "metadata": {},
   "source": [
    "У Японцев совершенно иные предпочтения.\n",
    "Платформ от microsoft совсем нет. 1 место занимает портативная консоль от nintendo - 3ds. 3 и 4 места занимают также поративные платформы, но от сони - psp и psv. 2 место у ps3, а 5 место у ps4 из-за ее молодого возраста.\n",
    "RPG у Японцев в приоритете, именно поэтому самые популярные игры данного жанра выпускаются японскими игровыми компаниями, например, final fantasy. Далее следует жанр экш и misc.\n",
    "Большинство игр без рейтинга, так как в японии своё рейтинговое агенство, соответственно рейтинга нет. \n",
    "\n",
    "Такое сильное отличие вызвано любовью Японцев к продуктам собственного производства, а также ценят и любят свою культуру. Поэтому у них в приоритете rpg игры. Японцы любят милых мультяшных персонажей и высокий уровень сервиса, который могут обеспечить только те компании, которые также ценят этот сервис."
   ]
  },
  {
   "cell_type": "markdown",
   "metadata": {},
   "source": [
    "**Вывод**"
   ]
  },
  {
   "cell_type": "markdown",
   "metadata": {},
   "source": [
    "У каждого региона свой портрет среднего пользователя. \n",
    "\n",
    "Так портрет пользователя из северной Америки выглядит следующим образом:\n",
    "взрослый пользователь, который играет в экш и шутер как в одного так и всей семьей на xbox 360, если говорит про предыдущее поколение и на ps4 или xbox one, если говорить про текущее поколение. Разница между консолями нового поколения невелика, из-за новой политики microsoft по объединению xbox и пк.\n",
    "\n",
    "Пользователь из Европы предпочитает платформы от сони и активнее переходит на консоли нового поколения так же от сони. Играет в похожие игры, что и американцы, но также любят гонки. В приоритете рейтинг рейтинг для взрослых.\n",
    "\n",
    "Пользователи региона Япония выбирают портативный гейминг с платформами 3ds, psp, psv, хотя и ps3 в почете. На консоли нового поколения переходят медленно. Любимый рейтинг - RPG, так же любят поиграть в экш. Первое место среди рейтингов от рейтингово агенства ESRB занимает рейтинг для всех, а вот далее идет рейтнг для подростков, а уже потом для взрослых. Это объясняется нехваткой времени у врозлого поколения на игры, так как это самая трудолюбивая нация и свободное время посвящают работе либо семье. Однако множество продаж приходится на игры собственных студий, которые ставят рейтинг только в местном рейтинговом агенстве CERO."
   ]
  },
  {
   "cell_type": "markdown",
   "metadata": {},
   "source": [
    "## Проверка гипотез"
   ]
  },
  {
   "cell_type": "markdown",
   "metadata": {},
   "source": [
    "### Одинаковые ли средние пользовательские рейтинги платформ XBOX one и PC"
   ]
  },
  {
   "cell_type": "markdown",
   "metadata": {},
   "source": [
    "Сформулируем гипотезы :\n",
    "- Нулевая гипотеза H₀: Средние рейтинги пользователей платформ Xbox one и PC не отличаются \n",
    "- Альтернативная гипотеза H₁: Средние рейтинги данных платформ различны."
   ]
  },
  {
   "cell_type": "code",
   "execution_count": 45,
   "metadata": {},
   "outputs": [
    {
     "name": "stdout",
     "output_type": "stream",
     "text": [
      "Не получилось отвергнуть нулевую гипотезу, уровень значимости равен:  0.6130712247638477\n"
     ]
    }
   ],
   "source": [
    "# проверим гипотезу t-тестом\n",
    "# Дисперсии выборок не следует считать равными, так как их параметры  неравны: пользователи консоли и пк различаются,\n",
    "# цены на игры тоже различны и количество продаж, а так же различная оптимизация игр.\n",
    "results = st.ttest_ind(data_actual.query('(platform == \"xone\")')['user_score'].dropna(), data_actual.query('(platform == \"pc\")')['user_score'].dropna(), equal_var = False)\n",
    "alpha = 0.05 # примем 5% уровень значимости\n",
    "if (results.pvalue < alpha):\n",
    "    print(\"Отвергаем нулевую гипотезу, уровень значимости равен: \", results.pvalue)\n",
    "else:\n",
    "    print(\"Не получилось отвергнуть нулевую гипотезу, уровень значимости равен: \", results.pvalue) "
   ]
  },
  {
   "cell_type": "code",
   "execution_count": 46,
   "metadata": {
    "scrolled": false
   },
   "outputs": [
    {
     "name": "stdout",
     "output_type": "stream",
     "text": [
      "Средний пользовательский рейтинг игр для xbox 6.521428571428572\n",
      "Медианный пользовательский рейтинг игр для xbox 6.8\n",
      "Количество оценок игр для xbox 182\n",
      "\n",
      "Средний пользовательский рейтинг игр для pc 6.451791530944625\n",
      "Медианный пользовательский рейтинг игр для pc 6.8\n",
      "Количество оценок игр для pc 307\n"
     ]
    }
   ],
   "source": [
    "# Посмотрим рейтинги и их количество.\n",
    "print('Средний пользовательский рейтинг игр для xbox', data_actual.query('(platform == \"xone\")')['user_score'].mean()) \n",
    "print('Медианный пользовательский рейтинг игр для xbox', data_actual.query('(platform == \"xone\")')['user_score'].median()) \n",
    "print('Количество оценок игр для xbox', data_actual.query('(platform == \"xone\")')['user_score'].count()) \n",
    "print()\n",
    "print('Средний пользовательский рейтинг игр для pc', data_actual.query('(platform == \"pc\")')['user_score'].mean())  \n",
    "print('Медианный пользовательский рейтинг игр для pc', data_actual.query('(platform == \"pc\")')['user_score'].median()) \n",
    "print('Количество оценок игр для pc', data_actual.query('(platform == \"pc\")')['user_score'].count()) "
   ]
  },
  {
   "cell_type": "markdown",
   "metadata": {},
   "source": [
    "Нулевую теорию, которая гласит, что средние рейтинги пользователей платформ xbox one и pc не отличаются, нельзя отвергнуть.\n",
    "Так средние рейтинги дйствительно похожи, а медианные имеют одно и тоже значение. Это объясняется объединением библиотеки игр на xbox one и pc, создание единого магазина игр, а так же геймпад нового поколения теперь легко подключать к pc, поэтому и игровой процесс не отличается."
   ]
  },
  {
   "cell_type": "markdown",
   "metadata": {},
   "source": [
    "### Разные ли средние пользовательские рейтинги жанров Action и Sport"
   ]
  },
  {
   "cell_type": "markdown",
   "metadata": {},
   "source": [
    "Сформулируем гипотезы :\n",
    "- Нулевая гипотеза H₀: Средние пользовательские рейтинги у жанров Action и Sport не различимы\n",
    "- Альтернативная гипотеза H₁: Средние рейтинги 2х данных жанров отличаются."
   ]
  },
  {
   "cell_type": "code",
   "execution_count": 47,
   "metadata": {},
   "outputs": [
    {
     "name": "stdout",
     "output_type": "stream",
     "text": [
      "Отвергаем нулевую гипотезу, уровень значимости равен:  5.1974550252152054e-24\n"
     ]
    }
   ],
   "source": [
    "# проверим гипотезу t-тестом\n",
    "# Дисперсии выборок следует считать равными\n",
    "results = st.ttest_ind(data_actual.query('genre == \"action\"')['user_score'].dropna(), data_actual.query('genre == \"sports\"')['user_score'].dropna(), equal_var = True)\n",
    "alpha = 0.05 # примем 5% уровень значимости\n",
    "if (results.pvalue < alpha):\n",
    "    print(\"Отвергаем нулевую гипотезу, уровень значимости равен: \", results.pvalue)\n",
    "else:\n",
    "    print(\"Не получилось отвергнуть нулевую гипотезу, уровень значимости равен: \", results.pvalue) "
   ]
  },
  {
   "cell_type": "code",
   "execution_count": 48,
   "metadata": {
    "scrolled": false
   },
   "outputs": [
    {
     "name": "stdout",
     "output_type": "stream",
     "text": [
      "Средний пользовательский рейтинг игр жанра action 6.775903614457831\n",
      "Медианный пользовательский рейтинг игр жанра action 7.1\n",
      "Количество оценок игр жанра action 664\n",
      "\n",
      "Средний пользовательский рейтинг игр жанра sports 5.650813008130081\n",
      "Медианный пользовательский рейтинг игр жанра sports 6.0\n",
      "Количество оценок игр жанра sports 246\n"
     ]
    }
   ],
   "source": [
    "# Посмотрим рейтинги и их количество.\n",
    "print('Средний пользовательский рейтинг игр жанра action', data_actual.query('genre == \"action\"')['user_score'].mean()) \n",
    "print('Медианный пользовательский рейтинг игр жанра action', data_actual.query('genre == \"action\"')['user_score'].median()) \n",
    "print('Количество оценок игр жанра action', data_actual.query('genre == \"action\"')['user_score'].count()) \n",
    "print()\n",
    "print('Средний пользовательский рейтинг игр жанра sports', data_actual.query('genre == \"sports\"')['user_score'].mean())  \n",
    "print('Медианный пользовательский рейтинг игр жанра sports', data_actual.query('genre == \"sports\"')['user_score'].median()) \n",
    "print('Количество оценок игр жанра sports', data_actual.query('genre == \"sports\"')['user_score'].count()) "
   ]
  },
  {
   "cell_type": "markdown",
   "metadata": {},
   "source": [
    "Действительно рейтинги жанров action и sports различаются, так как игры жанра sport должны выходить каждой год из-за смены составов, например, fifa, и такие игры незаметно прогрессируют, да и сюжета как такового нету. А вот игры action уже имеют сильные различия от части к части, так как во время разработки тратится огромное время на сюжет и студии не привязаны к календарю смены составов."
   ]
  },
  {
   "cell_type": "markdown",
   "metadata": {},
   "source": [
    "**Вывод**"
   ]
  },
  {
   "cell_type": "markdown",
   "metadata": {},
   "source": [
    "Пользовательские оценки оценки однаковы разных платформах от microsoft, но различны в жанрах. Мы не смогли отвергнуть гипотезу об одниковых оценках на xbox one и pc, но смогли отвергнуть гипотезу об одинаковых пользовательских оценках в 2х жанрах: action и sport."
   ]
  },
  {
   "cell_type": "markdown",
   "metadata": {},
   "source": [
    "## Общий вывод"
   ]
  },
  {
   "cell_type": "markdown",
   "metadata": {},
   "source": [
    "У нас имеется датасет по играм от первых игр 1980 года по 2016 год с их продажами по регионам, рейтингами пользователей и критиков по платформам. Самая популярная консоль за все время - ps2 и врядли ее кто-то обойдет, так как идет тренд на снижение продаж из-за удорожания игр, что ведет к перепродажам игр и увеличения роли подписок, а также онлайн гейминг и завышенные требования пользователей снижают продажи. Из-за последнего пункта для оценки будующих хитов требуется брать статистику за предыдущие 5 лет, что соотвествует актуальным трендам игровой индустрии. В топ 3 популярных консолей на текущий момент входят ps4, xbox one, 3ds - это консоли на которых высокий уровень продаж, а ps4 и xbox являются консолями текущего поколения и им всего 2-3 года на выбранный промежуток с 2007 года по 2016 год, хотя время жизни консолей составляет около 5 лет. Пользовательский рейтинг не сильно влияет на продажи, а вот рейтинг критиков сильно влияет, если он высокий. В топ 3 жанров входят экшн, шутер и rpg. У разных регионов различные предпочтения в играх и консолях, так если пользователи северной Америки предпочитают играть в экшн на xbox со взрослым рейтингом, а пользователи из Европы предпочают ps4 с таким же жанром и рейтингом, то пользователи из Японии предпочитают портативный гейминг в RPG.\n",
    "\n",
    "Пользовательские рейтинги можно объединять на различных платформах, но он не кореллирует с продажами.\n",
    "\n",
    "Таким образом хиты 2017 года для региона Европа и северная Америка должэна выйти на ps4, так как на данный момент эта консоль в данном регионе уже входит в топ3, в жанре экш с рейтингом для взрослых. Для Японии игра должна будет выпущена на 3ds, так как это актуальная консоль и занимает первое место, в жанре RPG, рейтинг для японского региона требуется изучить отдельно с данными их рейтингового агенства. "
   ]
  }
 ],
 "metadata": {
  "ExecuteTimeLog": [
   {
    "duration": 1109,
    "start_time": "2021-10-25T10:18:24.622Z"
   },
   {
    "duration": 69,
    "start_time": "2021-10-25T10:19:25.727Z"
   },
   {
    "duration": 1485,
    "start_time": "2021-10-26T05:25:57.166Z"
   },
   {
    "duration": 100,
    "start_time": "2021-10-26T05:26:02.118Z"
   },
   {
    "duration": 102,
    "start_time": "2021-10-26T05:28:04.939Z"
   },
   {
    "duration": 97,
    "start_time": "2021-10-26T05:28:26.739Z"
   },
   {
    "duration": 24,
    "start_time": "2021-10-26T05:48:31.756Z"
   },
   {
    "duration": 436,
    "start_time": "2021-10-26T05:49:14.257Z"
   },
   {
    "duration": 20,
    "start_time": "2021-10-26T05:49:49.973Z"
   },
   {
    "duration": 31,
    "start_time": "2021-10-26T05:50:12.701Z"
   },
   {
    "duration": 50,
    "start_time": "2021-10-26T05:51:05.414Z"
   },
   {
    "duration": 303,
    "start_time": "2021-10-26T05:55:29.243Z"
   },
   {
    "duration": 12,
    "start_time": "2021-10-26T05:57:41.390Z"
   },
   {
    "duration": 364,
    "start_time": "2021-10-26T05:59:44.006Z"
   },
   {
    "duration": 327,
    "start_time": "2021-10-26T06:00:02.846Z"
   },
   {
    "duration": 325,
    "start_time": "2021-10-26T06:00:29.200Z"
   },
   {
    "duration": 15,
    "start_time": "2021-10-26T06:00:33.202Z"
   },
   {
    "duration": 339,
    "start_time": "2021-10-26T06:00:38.523Z"
   },
   {
    "duration": 28,
    "start_time": "2021-10-26T06:01:15.473Z"
   },
   {
    "duration": 27,
    "start_time": "2021-10-26T06:01:30.645Z"
   },
   {
    "duration": 20,
    "start_time": "2021-10-26T06:03:51.628Z"
   },
   {
    "duration": 33,
    "start_time": "2021-10-26T06:06:25.358Z"
   },
   {
    "duration": 26,
    "start_time": "2021-10-26T06:06:58.700Z"
   },
   {
    "duration": 20,
    "start_time": "2021-10-26T06:11:46.393Z"
   },
   {
    "duration": 21,
    "start_time": "2021-10-26T06:11:49.792Z"
   },
   {
    "duration": 21,
    "start_time": "2021-10-26T06:12:26.076Z"
   },
   {
    "duration": 341,
    "start_time": "2021-10-26T06:14:18.643Z"
   },
   {
    "duration": 12,
    "start_time": "2021-10-26T06:14:34.369Z"
   },
   {
    "duration": 21,
    "start_time": "2021-10-26T06:14:39.754Z"
   },
   {
    "duration": 25,
    "start_time": "2021-10-26T06:14:53.466Z"
   },
   {
    "duration": 31,
    "start_time": "2021-10-26T06:15:50.369Z"
   },
   {
    "duration": 20,
    "start_time": "2021-10-26T06:27:00.171Z"
   },
   {
    "duration": 417,
    "start_time": "2021-10-26T06:27:11.541Z"
   },
   {
    "duration": 15,
    "start_time": "2021-10-26T06:27:15.992Z"
   },
   {
    "duration": 7,
    "start_time": "2021-10-26T06:27:36.559Z"
   },
   {
    "duration": 8,
    "start_time": "2021-10-26T06:28:58.997Z"
   },
   {
    "duration": 483,
    "start_time": "2021-10-26T06:29:57.372Z"
   },
   {
    "duration": 7,
    "start_time": "2021-10-26T06:30:02.449Z"
   },
   {
    "duration": 23,
    "start_time": "2021-10-26T06:31:06.945Z"
   },
   {
    "duration": 16,
    "start_time": "2021-10-26T06:38:39.347Z"
   },
   {
    "duration": 21,
    "start_time": "2021-10-26T06:38:56.024Z"
   },
   {
    "duration": 21,
    "start_time": "2021-10-26T06:39:39.623Z"
   },
   {
    "duration": 22,
    "start_time": "2021-10-26T06:41:02.734Z"
   },
   {
    "duration": 28,
    "start_time": "2021-10-26T07:10:52.894Z"
   },
   {
    "duration": 30,
    "start_time": "2021-10-26T07:11:29.478Z"
   },
   {
    "duration": 32,
    "start_time": "2021-10-26T07:11:57.603Z"
   },
   {
    "duration": 33,
    "start_time": "2021-10-26T07:12:03.413Z"
   },
   {
    "duration": 20,
    "start_time": "2021-10-26T07:12:28.285Z"
   },
   {
    "duration": 21,
    "start_time": "2021-10-26T07:12:40.940Z"
   },
   {
    "duration": 8,
    "start_time": "2021-10-26T07:13:41.993Z"
   },
   {
    "duration": 8,
    "start_time": "2021-10-26T07:16:26.803Z"
   },
   {
    "duration": 7,
    "start_time": "2021-10-26T07:20:09.549Z"
   },
   {
    "duration": 116,
    "start_time": "2021-10-26T07:20:24.170Z"
   },
   {
    "duration": 7,
    "start_time": "2021-10-26T07:21:42.051Z"
   },
   {
    "duration": 292,
    "start_time": "2021-10-26T07:21:57.217Z"
   },
   {
    "duration": 282,
    "start_time": "2021-10-26T07:22:14.878Z"
   },
   {
    "duration": 10,
    "start_time": "2021-10-26T07:22:55.582Z"
   },
   {
    "duration": 6,
    "start_time": "2021-10-26T07:28:41.530Z"
   },
   {
    "duration": 25,
    "start_time": "2021-10-26T07:28:41.635Z"
   },
   {
    "duration": 23,
    "start_time": "2021-10-26T07:40:20.021Z"
   },
   {
    "duration": 313,
    "start_time": "2021-10-26T07:40:36.440Z"
   },
   {
    "duration": 17,
    "start_time": "2021-10-26T07:40:59.337Z"
   },
   {
    "duration": 393,
    "start_time": "2021-10-26T07:41:39.615Z"
   },
   {
    "duration": 21,
    "start_time": "2021-10-26T07:46:01.843Z"
   },
   {
    "duration": 21,
    "start_time": "2021-10-26T07:46:13.830Z"
   },
   {
    "duration": 22,
    "start_time": "2021-10-26T07:46:26.310Z"
   },
   {
    "duration": 31,
    "start_time": "2021-10-26T07:47:55.959Z"
   },
   {
    "duration": 352,
    "start_time": "2021-10-26T09:00:51.399Z"
   },
   {
    "duration": 7221,
    "start_time": "2021-10-26T09:21:03.289Z"
   },
   {
    "duration": 7275,
    "start_time": "2021-10-26T09:21:12.243Z"
   },
   {
    "duration": 3,
    "start_time": "2021-10-26T09:22:36.098Z"
   },
   {
    "duration": 92,
    "start_time": "2021-10-26T09:22:37.431Z"
   },
   {
    "duration": 13,
    "start_time": "2021-10-26T09:22:40.289Z"
   },
   {
    "duration": 9,
    "start_time": "2021-10-26T09:23:13.373Z"
   },
   {
    "duration": 10,
    "start_time": "2021-10-26T09:25:17.697Z"
   },
   {
    "duration": 9,
    "start_time": "2021-10-26T09:25:53.993Z"
   },
   {
    "duration": 11,
    "start_time": "2021-10-26T09:26:29.577Z"
   },
   {
    "duration": 10,
    "start_time": "2021-10-26T09:28:01.859Z"
   },
   {
    "duration": 20,
    "start_time": "2021-10-26T09:28:04.677Z"
   },
   {
    "duration": 9,
    "start_time": "2021-10-26T09:28:05.242Z"
   },
   {
    "duration": 10,
    "start_time": "2021-10-26T09:54:59.346Z"
   },
   {
    "duration": 9,
    "start_time": "2021-10-26T09:55:05.284Z"
   },
   {
    "duration": 12,
    "start_time": "2021-10-26T09:56:35.594Z"
   },
   {
    "duration": 1441,
    "start_time": "2021-10-26T09:56:54.107Z"
   },
   {
    "duration": 100,
    "start_time": "2021-10-26T09:56:57.450Z"
   },
   {
    "duration": 13,
    "start_time": "2021-10-26T09:57:01.395Z"
   },
   {
    "duration": 12,
    "start_time": "2021-10-26T09:57:33.987Z"
   },
   {
    "duration": 11,
    "start_time": "2021-10-26T09:57:46.938Z"
   },
   {
    "duration": 30,
    "start_time": "2021-10-26T09:59:31.515Z"
   },
   {
    "duration": 20,
    "start_time": "2021-10-26T09:59:38.209Z"
   },
   {
    "duration": 465,
    "start_time": "2021-10-26T09:59:52.428Z"
   },
   {
    "duration": 25,
    "start_time": "2021-10-26T10:00:03.675Z"
   },
   {
    "duration": 11,
    "start_time": "2021-10-26T10:00:09.914Z"
   },
   {
    "duration": 12,
    "start_time": "2021-10-26T10:00:15.155Z"
   },
   {
    "duration": 54,
    "start_time": "2021-10-26T10:00:24.725Z"
   },
   {
    "duration": 14,
    "start_time": "2021-10-26T10:00:27.754Z"
   },
   {
    "duration": 20,
    "start_time": "2021-10-26T10:00:29.330Z"
   },
   {
    "duration": 32,
    "start_time": "2021-10-26T10:00:32.691Z"
   },
   {
    "duration": 24,
    "start_time": "2021-10-26T10:00:42.778Z"
   },
   {
    "duration": 6,
    "start_time": "2021-10-26T10:00:50.163Z"
   },
   {
    "duration": 26,
    "start_time": "2021-10-26T10:00:52.122Z"
   },
   {
    "duration": 21,
    "start_time": "2021-10-26T10:01:03.363Z"
   },
   {
    "duration": 13,
    "start_time": "2021-10-26T10:13:54.324Z"
   },
   {
    "duration": 19,
    "start_time": "2021-10-26T11:26:00.976Z"
   },
   {
    "duration": 360,
    "start_time": "2021-10-26T11:26:31.041Z"
   },
   {
    "duration": 11,
    "start_time": "2021-10-26T11:26:38.833Z"
   },
   {
    "duration": 311,
    "start_time": "2021-10-26T11:28:46.978Z"
   },
   {
    "duration": 687,
    "start_time": "2021-10-26T11:30:42.679Z"
   },
   {
    "duration": 668,
    "start_time": "2021-10-26T11:31:34.821Z"
   },
   {
    "duration": 657,
    "start_time": "2021-10-26T11:31:54.703Z"
   },
   {
    "duration": 754,
    "start_time": "2021-10-26T11:32:00.262Z"
   },
   {
    "duration": 687,
    "start_time": "2021-10-26T11:38:53.782Z"
   },
   {
    "duration": 14,
    "start_time": "2021-10-26T11:40:06.594Z"
   },
   {
    "duration": 27,
    "start_time": "2021-10-26T12:01:46.258Z"
   },
   {
    "duration": 1516,
    "start_time": "2021-10-26T15:05:00.228Z"
   },
   {
    "duration": 101,
    "start_time": "2021-10-26T15:05:02.897Z"
   },
   {
    "duration": 14,
    "start_time": "2021-10-26T15:05:05.763Z"
   },
   {
    "duration": 10,
    "start_time": "2021-10-26T15:05:09.496Z"
   },
   {
    "duration": 12,
    "start_time": "2021-10-26T15:05:41.775Z"
   },
   {
    "duration": 29,
    "start_time": "2021-10-26T15:05:45.300Z"
   },
   {
    "duration": 11,
    "start_time": "2021-10-26T15:05:46.481Z"
   },
   {
    "duration": 14,
    "start_time": "2021-10-26T15:05:58.375Z"
   },
   {
    "duration": 23,
    "start_time": "2021-10-26T15:05:59.210Z"
   },
   {
    "duration": 57,
    "start_time": "2021-10-26T15:06:13.830Z"
   },
   {
    "duration": 17,
    "start_time": "2021-10-26T15:06:16.413Z"
   },
   {
    "duration": 20,
    "start_time": "2021-10-26T15:06:19.084Z"
   },
   {
    "duration": 32,
    "start_time": "2021-10-26T15:06:23.292Z"
   },
   {
    "duration": 26,
    "start_time": "2021-10-26T15:06:46.382Z"
   },
   {
    "duration": 6,
    "start_time": "2021-10-26T15:07:20.613Z"
   },
   {
    "duration": 26,
    "start_time": "2021-10-26T15:07:21.770Z"
   },
   {
    "duration": 21,
    "start_time": "2021-10-26T15:07:23.394Z"
   },
   {
    "duration": 11,
    "start_time": "2021-10-26T15:07:24.040Z"
   },
   {
    "duration": 668,
    "start_time": "2021-10-26T15:07:25.810Z"
   },
   {
    "duration": 15,
    "start_time": "2021-10-26T15:07:38.313Z"
   },
   {
    "duration": 16,
    "start_time": "2021-10-26T15:40:44.718Z"
   },
   {
    "duration": 374,
    "start_time": "2021-10-26T15:40:45.666Z"
   },
   {
    "duration": 643,
    "start_time": "2021-10-26T15:42:15.347Z"
   },
   {
    "duration": 652,
    "start_time": "2021-10-26T15:43:25.449Z"
   },
   {
    "duration": 782,
    "start_time": "2021-10-26T15:44:18.648Z"
   },
   {
    "duration": 710,
    "start_time": "2021-10-26T15:45:34.303Z"
   },
   {
    "duration": 921,
    "start_time": "2021-10-26T15:47:53.813Z"
   },
   {
    "duration": 698,
    "start_time": "2021-10-26T15:50:40.494Z"
   },
   {
    "duration": 1171,
    "start_time": "2021-10-27T04:39:39.772Z"
   },
   {
    "duration": 73,
    "start_time": "2021-10-27T04:39:42.523Z"
   },
   {
    "duration": 9,
    "start_time": "2021-10-27T04:39:45.472Z"
   },
   {
    "duration": 7,
    "start_time": "2021-10-27T04:39:46.674Z"
   },
   {
    "duration": 8,
    "start_time": "2021-10-27T04:39:48.048Z"
   },
   {
    "duration": 21,
    "start_time": "2021-10-27T04:39:55.363Z"
   },
   {
    "duration": 8,
    "start_time": "2021-10-27T04:39:56.035Z"
   },
   {
    "duration": 10,
    "start_time": "2021-10-27T04:39:57.137Z"
   },
   {
    "duration": 18,
    "start_time": "2021-10-27T04:39:59.347Z"
   },
   {
    "duration": 35,
    "start_time": "2021-10-27T04:40:03.456Z"
   },
   {
    "duration": 8,
    "start_time": "2021-10-27T04:40:05.792Z"
   },
   {
    "duration": 13,
    "start_time": "2021-10-27T04:40:06.488Z"
   },
   {
    "duration": 22,
    "start_time": "2021-10-27T04:40:08.048Z"
   },
   {
    "duration": 15,
    "start_time": "2021-10-27T04:40:10.506Z"
   },
   {
    "duration": 5,
    "start_time": "2021-10-27T04:40:12.010Z"
   },
   {
    "duration": 18,
    "start_time": "2021-10-27T04:40:13.609Z"
   },
   {
    "duration": 14,
    "start_time": "2021-10-27T04:40:16.064Z"
   },
   {
    "duration": 9,
    "start_time": "2021-10-27T04:40:17.830Z"
   },
   {
    "duration": 372,
    "start_time": "2021-10-27T04:40:18.455Z"
   },
   {
    "duration": 12,
    "start_time": "2021-10-27T04:40:21.903Z"
   },
   {
    "duration": 12,
    "start_time": "2021-10-27T04:40:25.966Z"
   },
   {
    "duration": 429,
    "start_time": "2021-10-27T04:40:27.384Z"
   },
   {
    "duration": 9085,
    "start_time": "2021-10-27T05:03:03.730Z"
   },
   {
    "duration": 612,
    "start_time": "2021-10-27T05:04:00.950Z"
   },
   {
    "duration": 411,
    "start_time": "2021-10-27T05:04:31.182Z"
   },
   {
    "duration": 607,
    "start_time": "2021-10-27T05:05:23.608Z"
   },
   {
    "duration": 441,
    "start_time": "2021-10-27T05:05:30.425Z"
   },
   {
    "duration": 551,
    "start_time": "2021-10-27T05:05:35.582Z"
   },
   {
    "duration": 562,
    "start_time": "2021-10-27T05:05:54.514Z"
   },
   {
    "duration": 540,
    "start_time": "2021-10-27T05:06:00.831Z"
   },
   {
    "duration": 540,
    "start_time": "2021-10-27T05:06:47.564Z"
   },
   {
    "duration": 616,
    "start_time": "2021-10-27T05:07:06.286Z"
   },
   {
    "duration": 364,
    "start_time": "2021-10-27T05:07:20.446Z"
   },
   {
    "duration": 535,
    "start_time": "2021-10-27T05:07:59.086Z"
   },
   {
    "duration": 531,
    "start_time": "2021-10-27T05:08:27.605Z"
   },
   {
    "duration": 7,
    "start_time": "2021-10-27T05:24:49.218Z"
   },
   {
    "duration": -80,
    "start_time": "2021-10-27T05:25:11.405Z"
   },
   {
    "duration": 7,
    "start_time": "2021-10-27T05:25:22.369Z"
   },
   {
    "duration": 322,
    "start_time": "2021-10-27T05:26:18.136Z"
   },
   {
    "duration": 9,
    "start_time": "2021-10-27T05:26:59.496Z"
   },
   {
    "duration": 8,
    "start_time": "2021-10-27T05:27:15.160Z"
   },
   {
    "duration": 9,
    "start_time": "2021-10-27T05:27:22.247Z"
   },
   {
    "duration": 550,
    "start_time": "2021-10-27T05:29:14.902Z"
   },
   {
    "duration": 9,
    "start_time": "2021-10-27T05:29:20.362Z"
   },
   {
    "duration": 7,
    "start_time": "2021-10-27T05:31:19.904Z"
   },
   {
    "duration": 704,
    "start_time": "2021-10-27T05:37:44.526Z"
   },
   {
    "duration": 922,
    "start_time": "2021-10-27T05:37:59.055Z"
   },
   {
    "duration": 779,
    "start_time": "2021-10-27T05:39:07.111Z"
   },
   {
    "duration": 843,
    "start_time": "2021-10-27T05:39:12.865Z"
   },
   {
    "duration": 937,
    "start_time": "2021-10-27T05:46:11.669Z"
   },
   {
    "duration": 650,
    "start_time": "2021-10-27T05:46:24.609Z"
   },
   {
    "duration": 703,
    "start_time": "2021-10-27T05:49:46.387Z"
   },
   {
    "duration": 1311,
    "start_time": "2021-10-27T05:49:54.115Z"
   },
   {
    "duration": 4,
    "start_time": "2021-10-27T05:50:34.401Z"
   },
   {
    "duration": 4,
    "start_time": "2021-10-27T05:51:19.916Z"
   },
   {
    "duration": 5,
    "start_time": "2021-10-27T05:51:41.116Z"
   },
   {
    "duration": 553,
    "start_time": "2021-10-27T05:51:55.388Z"
   },
   {
    "duration": 543,
    "start_time": "2021-10-27T05:54:02.657Z"
   },
   {
    "duration": 8,
    "start_time": "2021-10-27T05:54:57.919Z"
   },
   {
    "duration": 25,
    "start_time": "2021-10-27T05:57:11.315Z"
   },
   {
    "duration": 27,
    "start_time": "2021-10-27T05:57:26.740Z"
   },
   {
    "duration": 25,
    "start_time": "2021-10-27T05:57:50.048Z"
   },
   {
    "duration": 660,
    "start_time": "2021-10-27T05:59:19.237Z"
   },
   {
    "duration": 518,
    "start_time": "2021-10-27T05:59:32.698Z"
   },
   {
    "duration": 17,
    "start_time": "2021-10-27T06:19:46.230Z"
   },
   {
    "duration": 39,
    "start_time": "2021-10-27T06:20:01.647Z"
   },
   {
    "duration": 38,
    "start_time": "2021-10-27T06:20:27.596Z"
   },
   {
    "duration": 528,
    "start_time": "2021-10-27T06:28:41.127Z"
   },
   {
    "duration": 155,
    "start_time": "2021-10-27T06:35:57.569Z"
   },
   {
    "duration": 4,
    "start_time": "2021-10-27T06:36:09.938Z"
   },
   {
    "duration": 775,
    "start_time": "2021-10-27T06:37:32.257Z"
   },
   {
    "duration": 680,
    "start_time": "2021-10-27T06:37:57.810Z"
   },
   {
    "duration": 902,
    "start_time": "2021-10-27T06:39:24.530Z"
   },
   {
    "duration": 408,
    "start_time": "2021-10-27T06:42:47.384Z"
   },
   {
    "duration": 59,
    "start_time": "2021-10-27T06:43:47.768Z"
   },
   {
    "duration": 404,
    "start_time": "2021-10-27T06:43:52.786Z"
   },
   {
    "duration": 3369,
    "start_time": "2021-10-27T07:16:43.851Z"
   },
   {
    "duration": 2949,
    "start_time": "2021-10-27T07:17:02.017Z"
   },
   {
    "duration": 2725,
    "start_time": "2021-10-27T07:17:26.041Z"
   },
   {
    "duration": 3174,
    "start_time": "2021-10-27T07:18:45.147Z"
   },
   {
    "duration": 2758,
    "start_time": "2021-10-27T07:19:07.249Z"
   },
   {
    "duration": 4631,
    "start_time": "2021-10-27T07:19:31.949Z"
   },
   {
    "duration": 4683,
    "start_time": "2021-10-27T07:19:51.153Z"
   },
   {
    "duration": 5621,
    "start_time": "2021-10-27T07:20:10.102Z"
   },
   {
    "duration": 6129,
    "start_time": "2021-10-27T07:20:30.665Z"
   },
   {
    "duration": 5742,
    "start_time": "2021-10-27T07:20:48.489Z"
   },
   {
    "duration": 5831,
    "start_time": "2021-10-27T07:21:06.510Z"
   },
   {
    "duration": 5564,
    "start_time": "2021-10-27T08:55:10.082Z"
   },
   {
    "duration": 6002,
    "start_time": "2021-10-27T08:57:31.950Z"
   },
   {
    "duration": 5750,
    "start_time": "2021-10-27T08:58:06.335Z"
   },
   {
    "duration": 6737,
    "start_time": "2021-10-27T08:59:50.662Z"
   },
   {
    "duration": 7084,
    "start_time": "2021-10-27T09:02:07.269Z"
   },
   {
    "duration": 6944,
    "start_time": "2021-10-27T09:02:40.236Z"
   },
   {
    "duration": 6711,
    "start_time": "2021-10-27T09:03:10.996Z"
   },
   {
    "duration": 408,
    "start_time": "2021-10-27T09:09:50.887Z"
   },
   {
    "duration": 3990,
    "start_time": "2021-10-27T09:10:01.874Z"
   },
   {
    "duration": 3810,
    "start_time": "2021-10-27T09:10:11.056Z"
   },
   {
    "duration": 4108,
    "start_time": "2021-10-27T09:10:42.017Z"
   },
   {
    "duration": 5859,
    "start_time": "2021-10-27T09:14:06.368Z"
   },
   {
    "duration": 4554,
    "start_time": "2021-10-27T09:17:12.574Z"
   },
   {
    "duration": 6715,
    "start_time": "2021-10-27T09:18:16.383Z"
   },
   {
    "duration": 5088,
    "start_time": "2021-10-27T09:18:25.913Z"
   },
   {
    "duration": 4918,
    "start_time": "2021-10-27T09:19:24.361Z"
   },
   {
    "duration": 5643,
    "start_time": "2021-10-27T09:20:01.164Z"
   },
   {
    "duration": 662,
    "start_time": "2021-10-27T09:24:16.984Z"
   },
   {
    "duration": 749,
    "start_time": "2021-10-27T09:24:31.449Z"
   },
   {
    "duration": 5670,
    "start_time": "2021-10-27T09:25:07.766Z"
   },
   {
    "duration": 26,
    "start_time": "2021-10-27T09:38:14.435Z"
   },
   {
    "duration": 9,
    "start_time": "2021-10-27T09:38:19.766Z"
   },
   {
    "duration": 323,
    "start_time": "2021-10-27T09:38:31.764Z"
   },
   {
    "duration": 305,
    "start_time": "2021-10-27T09:38:43.292Z"
   },
   {
    "duration": 328,
    "start_time": "2021-10-27T09:43:50.988Z"
   },
   {
    "duration": 661,
    "start_time": "2021-10-27T09:46:36.964Z"
   },
   {
    "duration": 656,
    "start_time": "2021-10-27T09:46:54.957Z"
   },
   {
    "duration": 390,
    "start_time": "2021-10-27T09:47:08.387Z"
   },
   {
    "duration": 831,
    "start_time": "2021-10-27T09:47:25.787Z"
   },
   {
    "duration": 320,
    "start_time": "2021-10-27T09:47:33.115Z"
   },
   {
    "duration": 322,
    "start_time": "2021-10-27T09:47:58.617Z"
   },
   {
    "duration": 1646,
    "start_time": "2021-10-27T09:50:32.949Z"
   },
   {
    "duration": 330,
    "start_time": "2021-10-27T09:50:56.230Z"
   },
   {
    "duration": 10892,
    "start_time": "2021-10-27T10:11:54.250Z"
   },
   {
    "duration": 339,
    "start_time": "2021-10-27T10:13:23.669Z"
   },
   {
    "duration": 9650,
    "start_time": "2021-10-27T10:13:37.550Z"
   },
   {
    "duration": 349,
    "start_time": "2021-10-27T10:13:49.558Z"
   },
   {
    "duration": 712,
    "start_time": "2021-10-27T10:16:20.854Z"
   },
   {
    "duration": 681,
    "start_time": "2021-10-27T10:17:15.093Z"
   },
   {
    "duration": 697,
    "start_time": "2021-10-27T10:17:36.780Z"
   },
   {
    "duration": 323,
    "start_time": "2021-10-27T10:17:56.782Z"
   },
   {
    "duration": 1089,
    "start_time": "2021-10-27T10:18:42.635Z"
   },
   {
    "duration": 659,
    "start_time": "2021-10-27T10:21:07.917Z"
   },
   {
    "duration": 652,
    "start_time": "2021-10-27T10:21:29.740Z"
   },
   {
    "duration": 651,
    "start_time": "2021-10-27T10:25:35.682Z"
   },
   {
    "duration": 4,
    "start_time": "2021-10-27T10:49:02.109Z"
   },
   {
    "duration": 4,
    "start_time": "2021-10-27T10:50:31.077Z"
   },
   {
    "duration": 4,
    "start_time": "2021-10-27T10:51:01.608Z"
   },
   {
    "duration": 23,
    "start_time": "2021-10-27T10:51:15.239Z"
   },
   {
    "duration": 441,
    "start_time": "2021-10-27T10:51:28.929Z"
   },
   {
    "duration": 4,
    "start_time": "2021-10-27T10:52:54.799Z"
   },
   {
    "duration": 460,
    "start_time": "2021-10-27T10:53:08.597Z"
   },
   {
    "duration": 872,
    "start_time": "2021-10-27T10:53:58.861Z"
   },
   {
    "duration": 831,
    "start_time": "2021-10-27T10:54:28.414Z"
   },
   {
    "duration": 834,
    "start_time": "2021-10-27T10:54:37.531Z"
   },
   {
    "duration": 924,
    "start_time": "2021-10-27T11:03:42.608Z"
   },
   {
    "duration": 874,
    "start_time": "2021-10-27T11:03:44.962Z"
   },
   {
    "duration": 23,
    "start_time": "2021-10-27T11:07:56.498Z"
   },
   {
    "duration": 406,
    "start_time": "2021-10-27T11:09:30.970Z"
   },
   {
    "duration": 374,
    "start_time": "2021-10-27T11:09:47.266Z"
   },
   {
    "duration": 494,
    "start_time": "2021-10-27T11:10:15.490Z"
   },
   {
    "duration": 378,
    "start_time": "2021-10-27T11:13:59.178Z"
   },
   {
    "duration": 8,
    "start_time": "2021-10-27T11:14:20.577Z"
   },
   {
    "duration": 405,
    "start_time": "2021-10-27T11:14:31.812Z"
   },
   {
    "duration": 379,
    "start_time": "2021-10-27T11:14:39.449Z"
   },
   {
    "duration": 4,
    "start_time": "2021-10-27T11:56:30.948Z"
   },
   {
    "duration": 5,
    "start_time": "2021-10-27T11:59:53.200Z"
   },
   {
    "duration": 388,
    "start_time": "2021-10-27T12:00:19.169Z"
   },
   {
    "duration": 722,
    "start_time": "2021-10-27T12:00:26.151Z"
   },
   {
    "duration": 185,
    "start_time": "2021-10-27T12:01:26.551Z"
   },
   {
    "duration": 6,
    "start_time": "2021-10-27T12:02:03.312Z"
   },
   {
    "duration": 114,
    "start_time": "2021-10-27T12:02:04.230Z"
   },
   {
    "duration": 8,
    "start_time": "2021-10-27T12:02:12.397Z"
   },
   {
    "duration": 191,
    "start_time": "2021-10-27T12:02:14.023Z"
   },
   {
    "duration": 5,
    "start_time": "2021-10-27T12:02:24.385Z"
   },
   {
    "duration": 135,
    "start_time": "2021-10-27T12:02:24.759Z"
   },
   {
    "duration": 5,
    "start_time": "2021-10-27T12:02:30.567Z"
   },
   {
    "duration": 138,
    "start_time": "2021-10-27T12:02:30.944Z"
   },
   {
    "duration": 6,
    "start_time": "2021-10-27T12:02:37.029Z"
   },
   {
    "duration": 143,
    "start_time": "2021-10-27T12:02:37.533Z"
   },
   {
    "duration": 6,
    "start_time": "2021-10-27T12:04:10.927Z"
   },
   {
    "duration": 161,
    "start_time": "2021-10-27T12:04:12.276Z"
   },
   {
    "duration": 6,
    "start_time": "2021-10-27T12:04:24.251Z"
   },
   {
    "duration": 128,
    "start_time": "2021-10-27T12:04:24.621Z"
   },
   {
    "duration": 6,
    "start_time": "2021-10-27T12:05:35.985Z"
   },
   {
    "duration": 136,
    "start_time": "2021-10-27T12:05:36.565Z"
   },
   {
    "duration": 7,
    "start_time": "2021-10-27T12:11:19.803Z"
   },
   {
    "duration": 359,
    "start_time": "2021-10-27T12:11:20.789Z"
   },
   {
    "duration": 1294,
    "start_time": "2021-10-27T12:11:51.907Z"
   },
   {
    "duration": 7,
    "start_time": "2021-10-27T12:12:05.582Z"
   },
   {
    "duration": 1581,
    "start_time": "2021-10-27T12:12:06.236Z"
   },
   {
    "duration": 7,
    "start_time": "2021-10-27T12:12:13.069Z"
   },
   {
    "duration": 879,
    "start_time": "2021-10-27T12:12:13.740Z"
   },
   {
    "duration": 7,
    "start_time": "2021-10-27T12:12:50.869Z"
   },
   {
    "duration": 1293,
    "start_time": "2021-10-27T12:12:51.948Z"
   },
   {
    "duration": 8,
    "start_time": "2021-10-27T12:13:10.505Z"
   },
   {
    "duration": 1817,
    "start_time": "2021-10-27T12:13:11.193Z"
   },
   {
    "duration": 6,
    "start_time": "2021-10-27T12:14:01.320Z"
   },
   {
    "duration": 1391,
    "start_time": "2021-10-27T12:14:01.838Z"
   },
   {
    "duration": 10,
    "start_time": "2021-10-27T12:16:25.099Z"
   },
   {
    "duration": 425,
    "start_time": "2021-10-27T12:16:26.029Z"
   },
   {
    "duration": 11,
    "start_time": "2021-10-27T12:17:19.563Z"
   },
   {
    "duration": 431,
    "start_time": "2021-10-27T12:17:20.121Z"
   },
   {
    "duration": 7,
    "start_time": "2021-10-27T12:19:36.171Z"
   },
   {
    "duration": 668,
    "start_time": "2021-10-27T12:19:36.932Z"
   },
   {
    "duration": 7,
    "start_time": "2021-10-27T12:20:26.155Z"
   },
   {
    "duration": 508,
    "start_time": "2021-10-27T12:20:26.898Z"
   },
   {
    "duration": 133,
    "start_time": "2021-10-27T12:21:21.553Z"
   },
   {
    "duration": 473,
    "start_time": "2021-10-27T12:21:22.123Z"
   },
   {
    "duration": 8,
    "start_time": "2021-10-27T12:21:33.131Z"
   },
   {
    "duration": 398,
    "start_time": "2021-10-27T12:21:33.658Z"
   },
   {
    "duration": 1118,
    "start_time": "2021-10-27T14:33:29.675Z"
   },
   {
    "duration": 69,
    "start_time": "2021-10-27T14:33:30.928Z"
   },
   {
    "duration": 9,
    "start_time": "2021-10-27T14:33:31.921Z"
   },
   {
    "duration": 6,
    "start_time": "2021-10-27T14:33:32.992Z"
   },
   {
    "duration": 7,
    "start_time": "2021-10-27T14:33:33.477Z"
   },
   {
    "duration": 25,
    "start_time": "2021-10-27T14:33:34.665Z"
   },
   {
    "duration": 10,
    "start_time": "2021-10-27T14:33:35.231Z"
   },
   {
    "duration": 10,
    "start_time": "2021-10-27T14:33:36.152Z"
   },
   {
    "duration": 17,
    "start_time": "2021-10-27T14:33:36.705Z"
   },
   {
    "duration": 35,
    "start_time": "2021-10-27T14:33:38.966Z"
   },
   {
    "duration": 10,
    "start_time": "2021-10-27T14:33:39.814Z"
   },
   {
    "duration": 12,
    "start_time": "2021-10-27T14:33:40.256Z"
   },
   {
    "duration": 18,
    "start_time": "2021-10-27T14:33:41.240Z"
   },
   {
    "duration": 14,
    "start_time": "2021-10-27T14:33:41.778Z"
   },
   {
    "duration": 4,
    "start_time": "2021-10-27T14:33:42.209Z"
   },
   {
    "duration": 16,
    "start_time": "2021-10-27T14:33:42.985Z"
   },
   {
    "duration": 12,
    "start_time": "2021-10-27T14:33:44.246Z"
   },
   {
    "duration": 8,
    "start_time": "2021-10-27T14:33:44.792Z"
   },
   {
    "duration": 364,
    "start_time": "2021-10-27T14:33:45.236Z"
   },
   {
    "duration": 10,
    "start_time": "2021-10-27T14:33:47.042Z"
   },
   {
    "duration": 11,
    "start_time": "2021-10-27T14:33:49.859Z"
   },
   {
    "duration": 413,
    "start_time": "2021-10-27T14:33:50.840Z"
   },
   {
    "duration": 4,
    "start_time": "2021-10-27T14:33:53.628Z"
   },
   {
    "duration": 661,
    "start_time": "2021-10-27T14:33:54.310Z"
   },
   {
    "duration": 507,
    "start_time": "2021-10-27T14:33:56.920Z"
   },
   {
    "duration": 39,
    "start_time": "2021-10-27T14:34:00.466Z"
   },
   {
    "duration": 433,
    "start_time": "2021-10-27T14:34:02.682Z"
   },
   {
    "duration": 5624,
    "start_time": "2021-10-27T14:34:07.143Z"
   },
   {
    "duration": 8,
    "start_time": "2021-10-27T14:34:17.846Z"
   },
   {
    "duration": 635,
    "start_time": "2021-10-27T14:34:25.445Z"
   },
   {
    "duration": 3,
    "start_time": "2021-10-27T14:34:30.793Z"
   },
   {
    "duration": 790,
    "start_time": "2021-10-27T14:34:31.673Z"
   },
   {
    "duration": 771,
    "start_time": "2021-10-27T14:34:34.798Z"
   },
   {
    "duration": 805,
    "start_time": "2021-10-27T14:34:37.798Z"
   },
   {
    "duration": 355,
    "start_time": "2021-10-27T14:34:43.247Z"
   },
   {
    "duration": 7,
    "start_time": "2021-10-27T14:34:49.869Z"
   },
   {
    "duration": 361,
    "start_time": "2021-10-27T14:34:51.351Z"
   },
   {
    "duration": 629,
    "start_time": "2021-10-27T14:36:05.368Z"
   },
   {
    "duration": 7,
    "start_time": "2021-10-27T14:37:46.845Z"
   },
   {
    "duration": 365,
    "start_time": "2021-10-27T14:37:48.138Z"
   },
   {
    "duration": 379,
    "start_time": "2021-10-27T14:37:51.943Z"
   },
   {
    "duration": 339,
    "start_time": "2021-10-27T14:38:37.471Z"
   },
   {
    "duration": 360,
    "start_time": "2021-10-27T15:57:39.505Z"
   },
   {
    "duration": 3,
    "start_time": "2021-10-27T15:57:56.440Z"
   },
   {
    "duration": 12,
    "start_time": "2021-10-27T15:58:02.123Z"
   },
   {
    "duration": 12,
    "start_time": "2021-10-27T15:59:31.043Z"
   },
   {
    "duration": 13,
    "start_time": "2021-10-27T15:59:59.307Z"
   },
   {
    "duration": 13,
    "start_time": "2021-10-27T16:03:14.724Z"
   },
   {
    "duration": 17,
    "start_time": "2021-10-27T16:11:57.565Z"
   },
   {
    "duration": 32,
    "start_time": "2021-10-27T16:14:27.650Z"
   },
   {
    "duration": 10,
    "start_time": "2021-10-27T16:35:08.721Z"
   },
   {
    "duration": 9,
    "start_time": "2021-10-27T16:35:44.768Z"
   },
   {
    "duration": 10,
    "start_time": "2021-10-27T16:35:53.892Z"
   },
   {
    "duration": 139,
    "start_time": "2021-10-27T16:36:17.667Z"
   },
   {
    "duration": 264,
    "start_time": "2021-10-27T16:36:55.037Z"
   },
   {
    "duration": 21,
    "start_time": "2021-10-27T16:37:15.553Z"
   },
   {
    "duration": 13,
    "start_time": "2021-10-27T16:38:02.286Z"
   },
   {
    "duration": 11,
    "start_time": "2021-10-27T16:38:05.604Z"
   },
   {
    "duration": 15,
    "start_time": "2021-10-27T16:38:14.663Z"
   },
   {
    "duration": 12,
    "start_time": "2021-10-27T16:38:26.673Z"
   },
   {
    "duration": 27,
    "start_time": "2021-10-27T16:43:24.862Z"
   },
   {
    "duration": 41,
    "start_time": "2021-10-27T16:43:50.839Z"
   },
   {
    "duration": 35,
    "start_time": "2021-10-27T16:44:26.551Z"
   },
   {
    "duration": 11,
    "start_time": "2021-10-27T17:03:43.873Z"
   },
   {
    "duration": 1284,
    "start_time": "2021-10-28T07:43:31.875Z"
   },
   {
    "duration": 77,
    "start_time": "2021-10-28T07:43:33.162Z"
   },
   {
    "duration": 18,
    "start_time": "2021-10-28T07:43:33.245Z"
   },
   {
    "duration": 7,
    "start_time": "2021-10-28T07:43:33.265Z"
   },
   {
    "duration": 12,
    "start_time": "2021-10-28T07:43:33.273Z"
   },
   {
    "duration": 19,
    "start_time": "2021-10-28T07:43:33.287Z"
   },
   {
    "duration": 8,
    "start_time": "2021-10-28T07:43:33.307Z"
   },
   {
    "duration": 15,
    "start_time": "2021-10-28T07:43:33.317Z"
   },
   {
    "duration": 44,
    "start_time": "2021-10-28T07:43:33.334Z"
   },
   {
    "duration": 46,
    "start_time": "2021-10-28T07:43:33.380Z"
   },
   {
    "duration": 37,
    "start_time": "2021-10-28T07:43:33.428Z"
   },
   {
    "duration": 15,
    "start_time": "2021-10-28T07:43:33.467Z"
   },
   {
    "duration": 27,
    "start_time": "2021-10-28T07:43:33.483Z"
   },
   {
    "duration": 51,
    "start_time": "2021-10-28T07:43:33.512Z"
   },
   {
    "duration": 5,
    "start_time": "2021-10-28T07:43:33.566Z"
   },
   {
    "duration": 18,
    "start_time": "2021-10-28T07:43:33.573Z"
   },
   {
    "duration": 17,
    "start_time": "2021-10-28T07:43:33.593Z"
   },
   {
    "duration": 9,
    "start_time": "2021-10-28T07:43:33.612Z"
   },
   {
    "duration": 443,
    "start_time": "2021-10-28T07:43:33.623Z"
   },
   {
    "duration": 10,
    "start_time": "2021-10-28T07:43:34.068Z"
   },
   {
    "duration": 12,
    "start_time": "2021-10-28T07:43:34.080Z"
   },
   {
    "duration": 510,
    "start_time": "2021-10-28T07:43:34.094Z"
   },
   {
    "duration": 3,
    "start_time": "2021-10-28T07:43:34.606Z"
   },
   {
    "duration": 656,
    "start_time": "2021-10-28T07:43:34.611Z"
   },
   {
    "duration": 529,
    "start_time": "2021-10-28T07:43:35.270Z"
   },
   {
    "duration": 38,
    "start_time": "2021-10-28T07:43:35.803Z"
   },
   {
    "duration": 497,
    "start_time": "2021-10-28T07:43:35.843Z"
   },
   {
    "duration": 5776,
    "start_time": "2021-10-28T07:43:36.342Z"
   },
   {
    "duration": 10,
    "start_time": "2021-10-28T07:43:42.120Z"
   },
   {
    "duration": 651,
    "start_time": "2021-10-28T07:43:42.132Z"
   },
   {
    "duration": 3,
    "start_time": "2021-10-28T07:43:42.785Z"
   },
   {
    "duration": 975,
    "start_time": "2021-10-28T07:43:42.790Z"
   },
   {
    "duration": 857,
    "start_time": "2021-10-28T07:43:43.768Z"
   },
   {
    "duration": 868,
    "start_time": "2021-10-28T07:43:44.627Z"
   },
   {
    "duration": 375,
    "start_time": "2021-10-28T07:43:45.497Z"
   },
   {
    "duration": 6,
    "start_time": "2021-10-28T07:43:45.875Z"
   },
   {
    "duration": 367,
    "start_time": "2021-10-28T07:43:45.883Z"
   },
   {
    "duration": 380,
    "start_time": "2021-10-28T07:43:46.252Z"
   },
   {
    "duration": 471,
    "start_time": "2021-10-28T07:43:46.634Z"
   },
   {
    "duration": 17,
    "start_time": "2021-10-28T07:43:47.108Z"
   },
   {
    "duration": 43,
    "start_time": "2021-10-28T07:43:47.127Z"
   },
   {
    "duration": 16,
    "start_time": "2021-10-28T07:43:47.172Z"
   },
   {
    "duration": 31,
    "start_time": "2021-10-28T07:43:47.190Z"
   },
   {
    "duration": 27,
    "start_time": "2021-10-28T07:44:08.813Z"
   },
   {
    "duration": 1440,
    "start_time": "2021-10-28T07:59:09.040Z"
   },
   {
    "duration": 119,
    "start_time": "2021-10-28T07:59:39.781Z"
   },
   {
    "duration": 111,
    "start_time": "2021-10-28T07:59:46.064Z"
   },
   {
    "duration": 112,
    "start_time": "2021-10-28T07:59:57.620Z"
   },
   {
    "duration": 113,
    "start_time": "2021-10-28T08:00:00.259Z"
   },
   {
    "duration": 11,
    "start_time": "2021-10-28T08:00:14.236Z"
   },
   {
    "duration": 10,
    "start_time": "2021-10-28T08:00:16.706Z"
   },
   {
    "duration": 10,
    "start_time": "2021-10-28T08:00:18.890Z"
   },
   {
    "duration": 81,
    "start_time": "2021-10-28T08:00:22.722Z"
   },
   {
    "duration": 10,
    "start_time": "2021-10-28T08:00:27.854Z"
   },
   {
    "duration": 12,
    "start_time": "2021-10-28T08:00:30.707Z"
   },
   {
    "duration": 26,
    "start_time": "2021-10-28T08:00:32.554Z"
   },
   {
    "duration": 60,
    "start_time": "2021-10-28T08:00:49.011Z"
   },
   {
    "duration": 13,
    "start_time": "2021-10-28T08:00:53.138Z"
   },
   {
    "duration": 20,
    "start_time": "2021-10-28T08:00:53.866Z"
   },
   {
    "duration": 32,
    "start_time": "2021-10-28T08:00:56.202Z"
   },
   {
    "duration": 24,
    "start_time": "2021-10-28T08:00:58.490Z"
   },
   {
    "duration": 7,
    "start_time": "2021-10-28T08:00:59.273Z"
   },
   {
    "duration": 25,
    "start_time": "2021-10-28T08:01:00.501Z"
   },
   {
    "duration": 20,
    "start_time": "2021-10-28T08:01:22.546Z"
   },
   {
    "duration": 13,
    "start_time": "2021-10-28T08:01:23.305Z"
   },
   {
    "duration": 631,
    "start_time": "2021-10-28T08:01:24.146Z"
   },
   {
    "duration": 647,
    "start_time": "2021-10-28T08:03:42.556Z"
   },
   {
    "duration": 14,
    "start_time": "2021-10-28T08:04:17.558Z"
   },
   {
    "duration": 17,
    "start_time": "2021-10-28T08:04:29.299Z"
   },
   {
    "duration": 723,
    "start_time": "2021-10-28T08:04:30.851Z"
   },
   {
    "duration": 5,
    "start_time": "2021-10-28T08:04:36.826Z"
   },
   {
    "duration": 918,
    "start_time": "2021-10-28T08:04:38.129Z"
   },
   {
    "duration": 931,
    "start_time": "2021-10-28T08:04:43.332Z"
   },
   {
    "duration": 879,
    "start_time": "2021-10-28T08:16:45.865Z"
   },
   {
    "duration": 552,
    "start_time": "2021-10-28T08:17:21.158Z"
   },
   {
    "duration": 28,
    "start_time": "2021-10-28T08:17:42.723Z"
   },
   {
    "duration": 1284,
    "start_time": "2021-10-28T08:18:04.358Z"
   },
   {
    "duration": 386,
    "start_time": "2021-10-28T08:18:40.886Z"
   },
   {
    "duration": 42,
    "start_time": "2021-10-28T08:19:42.294Z"
   },
   {
    "duration": 366,
    "start_time": "2021-10-28T08:19:56.052Z"
   },
   {
    "duration": 849,
    "start_time": "2021-10-28T08:20:02.157Z"
   },
   {
    "duration": 404,
    "start_time": "2021-10-28T08:20:15.687Z"
   },
   {
    "duration": 393,
    "start_time": "2021-10-28T08:20:23.581Z"
   },
   {
    "duration": 21,
    "start_time": "2021-10-28T08:25:29.640Z"
   },
   {
    "duration": 20,
    "start_time": "2021-10-28T08:25:42.732Z"
   },
   {
    "duration": 24,
    "start_time": "2021-10-28T08:25:53.545Z"
   },
   {
    "duration": 20,
    "start_time": "2021-10-28T08:28:01.595Z"
   },
   {
    "duration": 24,
    "start_time": "2021-10-28T08:35:37.753Z"
   },
   {
    "duration": 29,
    "start_time": "2021-10-28T08:44:15.997Z"
   },
   {
    "duration": 26,
    "start_time": "2021-10-28T08:44:52.876Z"
   },
   {
    "duration": 6,
    "start_time": "2021-10-28T08:46:57.790Z"
   },
   {
    "duration": 24,
    "start_time": "2021-10-28T08:47:09.739Z"
   },
   {
    "duration": 19,
    "start_time": "2021-10-28T08:47:49.452Z"
   },
   {
    "duration": 59,
    "start_time": "2021-10-28T08:48:12.266Z"
   },
   {
    "duration": 60,
    "start_time": "2021-10-28T08:55:05.747Z"
   },
   {
    "duration": 58,
    "start_time": "2021-10-28T08:55:55.996Z"
   },
   {
    "duration": 601,
    "start_time": "2021-10-28T08:56:09.999Z"
   },
   {
    "duration": 654,
    "start_time": "2021-10-28T08:56:17.442Z"
   },
   {
    "duration": 7611,
    "start_time": "2021-10-28T08:56:43.107Z"
   },
   {
    "duration": 7513,
    "start_time": "2021-10-28T08:57:37.694Z"
   },
   {
    "duration": 12,
    "start_time": "2021-10-28T08:58:26.980Z"
   },
   {
    "duration": 1052,
    "start_time": "2021-10-28T08:58:40.927Z"
   },
   {
    "duration": 6,
    "start_time": "2021-10-28T09:02:29.635Z"
   },
   {
    "duration": 5,
    "start_time": "2021-10-28T09:03:35.305Z"
   },
   {
    "duration": 1680,
    "start_time": "2021-10-28T09:03:36.188Z"
   },
   {
    "duration": 1407,
    "start_time": "2021-10-28T09:03:46.206Z"
   },
   {
    "duration": 1332,
    "start_time": "2021-10-28T09:03:59.894Z"
   },
   {
    "duration": 621,
    "start_time": "2021-10-28T09:10:40.846Z"
   },
   {
    "duration": 8,
    "start_time": "2021-10-28T09:24:03.226Z"
   },
   {
    "duration": 413,
    "start_time": "2021-10-28T09:24:24.104Z"
   },
   {
    "duration": 132,
    "start_time": "2021-10-28T09:24:30.564Z"
   },
   {
    "duration": 1938,
    "start_time": "2021-10-28T09:24:31.896Z"
   },
   {
    "duration": 9,
    "start_time": "2021-10-28T09:24:34.143Z"
   },
   {
    "duration": 8,
    "start_time": "2021-10-28T09:25:56.881Z"
   },
   {
    "duration": 1808,
    "start_time": "2021-10-28T09:25:58.311Z"
   },
   {
    "duration": 6,
    "start_time": "2021-10-28T09:27:29.888Z"
   },
   {
    "duration": 1007,
    "start_time": "2021-10-28T09:27:32.693Z"
   },
   {
    "duration": 9,
    "start_time": "2021-10-28T09:28:12.247Z"
   },
   {
    "duration": 1912,
    "start_time": "2021-10-28T09:28:13.426Z"
   },
   {
    "duration": 10,
    "start_time": "2021-10-28T09:28:23.136Z"
   },
   {
    "duration": 2057,
    "start_time": "2021-10-28T09:28:24.303Z"
   },
   {
    "duration": 10,
    "start_time": "2021-10-28T09:28:51.367Z"
   },
   {
    "duration": 1129,
    "start_time": "2021-10-28T09:28:52.526Z"
   },
   {
    "duration": 10,
    "start_time": "2021-10-28T09:29:10.918Z"
   },
   {
    "duration": 1018,
    "start_time": "2021-10-28T09:29:11.885Z"
   },
   {
    "duration": 9,
    "start_time": "2021-10-28T09:30:31.775Z"
   },
   {
    "duration": 1004,
    "start_time": "2021-10-28T09:30:32.780Z"
   },
   {
    "duration": 9,
    "start_time": "2021-10-28T09:30:48.461Z"
   },
   {
    "duration": 1033,
    "start_time": "2021-10-28T09:30:49.459Z"
   },
   {
    "duration": 9,
    "start_time": "2021-10-28T09:31:28.816Z"
   },
   {
    "duration": 962,
    "start_time": "2021-10-28T09:31:29.670Z"
   },
   {
    "duration": 1228,
    "start_time": "2021-10-28T09:31:51.151Z"
   },
   {
    "duration": 116,
    "start_time": "2021-10-28T09:34:54.705Z"
   },
   {
    "duration": 926,
    "start_time": "2021-10-28T09:34:56.007Z"
   },
   {
    "duration": 959,
    "start_time": "2021-10-28T09:35:02.029Z"
   },
   {
    "duration": 20,
    "start_time": "2021-10-28T09:36:46.229Z"
   },
   {
    "duration": 13,
    "start_time": "2021-10-28T09:36:55.215Z"
   },
   {
    "duration": 9,
    "start_time": "2021-10-28T09:39:23.228Z"
   },
   {
    "duration": 2446,
    "start_time": "2021-10-28T09:39:24.591Z"
   },
   {
    "duration": 10,
    "start_time": "2021-10-28T09:40:00.195Z"
   },
   {
    "duration": 1931,
    "start_time": "2021-10-28T09:40:01.574Z"
   },
   {
    "duration": 10,
    "start_time": "2021-10-28T09:40:22.549Z"
   },
   {
    "duration": 1015,
    "start_time": "2021-10-28T09:40:23.501Z"
   },
   {
    "duration": 1072,
    "start_time": "2021-10-28T09:41:34.221Z"
   },
   {
    "duration": 960,
    "start_time": "2021-10-28T09:48:39.751Z"
   },
   {
    "duration": 23,
    "start_time": "2021-10-28T10:29:34.680Z"
   },
   {
    "duration": 30,
    "start_time": "2021-10-28T10:29:36.677Z"
   },
   {
    "duration": 18,
    "start_time": "2021-10-28T10:29:40.833Z"
   },
   {
    "duration": 32,
    "start_time": "2021-10-28T10:29:42.386Z"
   },
   {
    "duration": 1564,
    "start_time": "2021-10-28T10:30:31.209Z"
   },
   {
    "duration": 126,
    "start_time": "2021-10-28T10:30:32.776Z"
   },
   {
    "duration": 9,
    "start_time": "2021-10-28T10:30:32.905Z"
   },
   {
    "duration": 13,
    "start_time": "2021-10-28T10:30:32.917Z"
   },
   {
    "duration": 11,
    "start_time": "2021-10-28T10:30:32.932Z"
   },
   {
    "duration": 57,
    "start_time": "2021-10-28T10:30:32.945Z"
   },
   {
    "duration": 10,
    "start_time": "2021-10-28T10:30:33.004Z"
   },
   {
    "duration": 13,
    "start_time": "2021-10-28T10:30:33.018Z"
   },
   {
    "duration": 27,
    "start_time": "2021-10-28T10:30:33.034Z"
   },
   {
    "duration": 85,
    "start_time": "2021-10-28T10:30:33.063Z"
   },
   {
    "duration": 13,
    "start_time": "2021-10-28T10:30:33.151Z"
   },
   {
    "duration": 43,
    "start_time": "2021-10-28T10:30:33.166Z"
   },
   {
    "duration": 33,
    "start_time": "2021-10-28T10:30:33.211Z"
   },
   {
    "duration": 23,
    "start_time": "2021-10-28T10:30:33.246Z"
   },
   {
    "duration": 29,
    "start_time": "2021-10-28T10:30:33.271Z"
   },
   {
    "duration": 25,
    "start_time": "2021-10-28T10:30:33.303Z"
   },
   {
    "duration": 21,
    "start_time": "2021-10-28T10:30:33.330Z"
   },
   {
    "duration": 48,
    "start_time": "2021-10-28T10:30:33.354Z"
   },
   {
    "duration": 675,
    "start_time": "2021-10-28T10:30:33.405Z"
   },
   {
    "duration": 26,
    "start_time": "2021-10-28T10:30:34.083Z"
   },
   {
    "duration": 15,
    "start_time": "2021-10-28T10:30:34.111Z"
   },
   {
    "duration": 731,
    "start_time": "2021-10-28T10:30:34.128Z"
   },
   {
    "duration": 5,
    "start_time": "2021-10-28T10:30:34.864Z"
   },
   {
    "duration": 946,
    "start_time": "2021-10-28T10:30:34.871Z"
   },
   {
    "duration": 886,
    "start_time": "2021-10-28T10:30:35.819Z"
   },
   {
    "duration": 21,
    "start_time": "2021-10-28T10:30:36.707Z"
   },
   {
    "duration": 23,
    "start_time": "2021-10-28T10:30:36.731Z"
   },
   {
    "duration": 61,
    "start_time": "2021-10-28T10:30:36.756Z"
   },
   {
    "duration": 101,
    "start_time": "2021-10-28T10:30:36.819Z"
   },
   {
    "duration": 80,
    "start_time": "2021-10-28T10:30:36.922Z"
   },
   {
    "duration": 640,
    "start_time": "2021-10-28T10:30:37.004Z"
   },
   {
    "duration": 7633,
    "start_time": "2021-10-28T10:30:37.646Z"
   },
   {
    "duration": 22,
    "start_time": "2021-10-28T10:30:45.281Z"
   },
   {
    "duration": 1098,
    "start_time": "2021-10-28T10:30:45.305Z"
   },
   {
    "duration": 5,
    "start_time": "2021-10-28T10:30:46.405Z"
   },
   {
    "duration": 1356,
    "start_time": "2021-10-28T10:30:46.412Z"
   },
   {
    "duration": 1341,
    "start_time": "2021-10-28T10:30:47.771Z"
   },
   {
    "duration": 1390,
    "start_time": "2021-10-28T10:30:49.114Z"
   },
   {
    "duration": 669,
    "start_time": "2021-10-28T10:30:50.507Z"
   },
   {
    "duration": 23,
    "start_time": "2021-10-28T10:30:51.179Z"
   },
   {
    "duration": 10,
    "start_time": "2021-10-28T10:30:51.205Z"
   },
   {
    "duration": 944,
    "start_time": "2021-10-28T10:30:51.218Z"
   },
   {
    "duration": 1110,
    "start_time": "2021-10-28T10:30:52.165Z"
   },
   {
    "duration": 984,
    "start_time": "2021-10-28T10:30:53.277Z"
   },
   {
    "duration": 17,
    "start_time": "2021-10-28T10:30:54.263Z"
   },
   {
    "duration": 32,
    "start_time": "2021-10-28T10:30:54.299Z"
   },
   {
    "duration": 16,
    "start_time": "2021-10-28T10:30:54.333Z"
   },
   {
    "duration": 62,
    "start_time": "2021-10-28T10:30:54.352Z"
   },
   {
    "duration": 752,
    "start_time": "2021-10-28T10:35:29.798Z"
   },
   {
    "duration": 1917,
    "start_time": "2021-10-28T10:48:28.063Z"
   },
   {
    "duration": 149,
    "start_time": "2021-10-28T10:48:29.983Z"
   },
   {
    "duration": 13,
    "start_time": "2021-10-28T10:48:30.136Z"
   },
   {
    "duration": 19,
    "start_time": "2021-10-28T10:48:30.153Z"
   },
   {
    "duration": 50,
    "start_time": "2021-10-28T10:48:30.175Z"
   },
   {
    "duration": 40,
    "start_time": "2021-10-28T10:48:30.228Z"
   },
   {
    "duration": 24,
    "start_time": "2021-10-28T10:48:30.271Z"
   },
   {
    "duration": 25,
    "start_time": "2021-10-28T10:48:30.303Z"
   },
   {
    "duration": 40,
    "start_time": "2021-10-28T10:48:30.331Z"
   },
   {
    "duration": 68,
    "start_time": "2021-10-28T10:48:30.374Z"
   },
   {
    "duration": 12,
    "start_time": "2021-10-28T10:48:30.445Z"
   },
   {
    "duration": 59,
    "start_time": "2021-10-28T10:48:30.459Z"
   },
   {
    "duration": 61,
    "start_time": "2021-10-28T10:48:30.520Z"
   },
   {
    "duration": 39,
    "start_time": "2021-10-28T10:48:30.583Z"
   },
   {
    "duration": 6,
    "start_time": "2021-10-28T10:48:30.625Z"
   },
   {
    "duration": 37,
    "start_time": "2021-10-28T10:48:30.634Z"
   },
   {
    "duration": 33,
    "start_time": "2021-10-28T10:48:30.674Z"
   },
   {
    "duration": 12,
    "start_time": "2021-10-28T10:48:30.711Z"
   },
   {
    "duration": 734,
    "start_time": "2021-10-28T10:48:30.725Z"
   },
   {
    "duration": 14,
    "start_time": "2021-10-28T10:48:31.462Z"
   },
   {
    "duration": 39,
    "start_time": "2021-10-28T10:48:31.478Z"
   },
   {
    "duration": 816,
    "start_time": "2021-10-28T10:48:31.520Z"
   },
   {
    "duration": 5,
    "start_time": "2021-10-28T10:48:32.342Z"
   },
   {
    "duration": 1054,
    "start_time": "2021-10-28T10:48:32.350Z"
   },
   {
    "duration": 950,
    "start_time": "2021-10-28T10:48:33.407Z"
   },
   {
    "duration": 22,
    "start_time": "2021-10-28T10:48:34.359Z"
   },
   {
    "duration": 29,
    "start_time": "2021-10-28T10:48:34.402Z"
   },
   {
    "duration": 25,
    "start_time": "2021-10-28T10:48:34.433Z"
   },
   {
    "duration": 128,
    "start_time": "2021-10-28T10:48:34.460Z"
   },
   {
    "duration": 66,
    "start_time": "2021-10-28T10:48:34.591Z"
   },
   {
    "duration": 676,
    "start_time": "2021-10-28T10:48:34.660Z"
   },
   {
    "duration": 8162,
    "start_time": "2021-10-28T10:48:35.338Z"
   },
   {
    "duration": 18,
    "start_time": "2021-10-28T10:48:43.504Z"
   },
   {
    "duration": 1198,
    "start_time": "2021-10-28T10:48:43.525Z"
   },
   {
    "duration": 6,
    "start_time": "2021-10-28T10:48:44.726Z"
   },
   {
    "duration": 1426,
    "start_time": "2021-10-28T10:48:44.734Z"
   },
   {
    "duration": 1474,
    "start_time": "2021-10-28T10:48:46.163Z"
   },
   {
    "duration": 1504,
    "start_time": "2021-10-28T10:48:47.639Z"
   },
   {
    "duration": 687,
    "start_time": "2021-10-28T10:48:49.146Z"
   },
   {
    "duration": 10,
    "start_time": "2021-10-28T10:48:49.835Z"
   },
   {
    "duration": 10,
    "start_time": "2021-10-28T10:48:49.847Z"
   },
   {
    "duration": 1124,
    "start_time": "2021-10-28T10:48:49.859Z"
   },
   {
    "duration": 1178,
    "start_time": "2021-10-28T10:48:50.985Z"
   },
   {
    "duration": 1052,
    "start_time": "2021-10-28T10:48:52.166Z"
   },
   {
    "duration": 18,
    "start_time": "2021-10-28T10:48:53.220Z"
   },
   {
    "duration": 36,
    "start_time": "2021-10-28T10:48:53.240Z"
   },
   {
    "duration": 20,
    "start_time": "2021-10-28T10:48:53.303Z"
   },
   {
    "duration": 30,
    "start_time": "2021-10-28T10:48:53.326Z"
   }
  ],
  "kernelspec": {
   "display_name": "Python 3 (ipykernel)",
   "language": "python",
   "name": "python3"
  },
  "language_info": {
   "codemirror_mode": {
    "name": "ipython",
    "version": 3
   },
   "file_extension": ".py",
   "mimetype": "text/x-python",
   "name": "python",
   "nbconvert_exporter": "python",
   "pygments_lexer": "ipython3",
   "version": "3.10.1"
  },
  "toc": {
   "base_numbering": 1,
   "nav_menu": {},
   "number_sections": true,
   "sideBar": true,
   "skip_h1_title": true,
   "title_cell": "Оглавление",
   "title_sidebar": "Contents",
   "toc_cell": true,
   "toc_position": {
    "height": "calc(100% - 180px)",
    "left": "10px",
    "top": "150px",
    "width": "318.391px"
   },
   "toc_section_display": true,
   "toc_window_display": true
  }
 },
 "nbformat": 4,
 "nbformat_minor": 2
}
