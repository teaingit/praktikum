{
 "cells": [
  {
   "cell_type": "markdown",
   "metadata": {
    "toc": true
   },
   "source": [
    "<h1>Оглавление<span class=\"tocSkip\"></span></h1>\n",
    "<div class=\"toc\"><ul class=\"toc-item\"><li><span><a href=\"#Подготовка-данных\" data-toc-modified-id=\"Подготовка-данных-1\"><span class=\"toc-item-num\">1&nbsp;&nbsp;</span>Подготовка данных</a></span></li><li><span><a href=\"#Обучение-моделей\" data-toc-modified-id=\"Обучение-моделей-2\"><span class=\"toc-item-num\">2&nbsp;&nbsp;</span>Обучение моделей</a></span></li><li><span><a href=\"#Анализ-моделей\" data-toc-modified-id=\"Анализ-моделей-3\"><span class=\"toc-item-num\">3&nbsp;&nbsp;</span>Анализ моделей</a></span></li><li><span><a href=\"#Вывод\" data-toc-modified-id=\"Вывод-4\"><span class=\"toc-item-num\">4&nbsp;&nbsp;</span>Вывод</a></span></li></ul></div>"
   ]
  },
  {
   "cell_type": "markdown",
   "metadata": {},
   "source": [
    "# Определение стоимости автомобилей"
   ]
  },
  {
   "cell_type": "markdown",
   "metadata": {},
   "source": [
    "Сервис по продаже автомобилей с пробегом «Не бит, не крашен» разрабатывает приложение для привлечения новых клиентов. В нём можно быстро узнать рыночную стоимость своего автомобиля. В вашем распоряжении исторические данные: технические характеристики, комплектации и цены автомобилей. Вам нужно построить модель для определения стоимости. \n",
    "\n",
    "Заказчику важны:\n",
    "\n",
    "- качество предсказания;\n",
    "- скорость предсказания;\n",
    "- время обучения."
   ]
  },
  {
   "cell_type": "markdown",
   "metadata": {},
   "source": [
    "## Подготовка данных"
   ]
  },
  {
   "cell_type": "code",
   "execution_count": 1,
   "metadata": {},
   "outputs": [],
   "source": [
    "# импортируем библиотеку пандас\n",
    "import pandas as pd \n",
    "# импортируем библиотеку для работы с датой и временем\n",
    "import datetime as dt\n",
    "# импорптируем библиотеку для работы с графиками\n",
    "import matplotlib.pyplot as plt \n",
    "#Импортируем библиотеку сеаборн для построения множественных графиков.\n",
    "import seaborn as sns\n",
    "# импортируем библиотеку для расчета дисперсии и стандартного отклонения\n",
    "import numpy as np \n",
    "# импортируем библиотеку для метрики\n",
    "from sklearn.metrics import mean_squared_error, make_scorer\n",
    "# импортируем библиотеку для разделение на выборки, кроссвалидацию \n",
    "from sklearn.model_selection import train_test_split, cross_val_score, GridSearchCV, KFold\n",
    "# импортируем библиотеку для решающего дерева\n",
    "from sklearn.tree import DecisionTreeRegressor\n",
    "# импортируем библиотеку для градиентного бустинга\n",
    "from lightgbm import LGBMRegressor\n",
    "# импортируем библиотеку для кодировки категорий\n",
    "from sklearn.preprocessing import OrdinalEncoder, StandardScaler  "
   ]
  },
  {
   "cell_type": "code",
   "execution_count": 2,
   "metadata": {},
   "outputs": [
    {
     "name": "stdout",
     "output_type": "stream",
     "text": [
      "<class 'pandas.core.frame.DataFrame'>\n",
      "RangeIndex: 354369 entries, 0 to 354368\n",
      "Data columns (total 16 columns):\n",
      "DateCrawled          354369 non-null object\n",
      "Price                354369 non-null int64\n",
      "VehicleType          316879 non-null object\n",
      "RegistrationYear     354369 non-null int64\n",
      "Gearbox              334536 non-null object\n",
      "Power                354369 non-null int64\n",
      "Model                334664 non-null object\n",
      "Kilometer            354369 non-null int64\n",
      "RegistrationMonth    354369 non-null int64\n",
      "FuelType             321474 non-null object\n",
      "Brand                354369 non-null object\n",
      "NotRepaired          283215 non-null object\n",
      "DateCreated          354369 non-null object\n",
      "NumberOfPictures     354369 non-null int64\n",
      "PostalCode           354369 non-null int64\n",
      "LastSeen             354369 non-null object\n",
      "dtypes: int64(7), object(9)\n",
      "memory usage: 43.3+ MB\n",
      "None\n"
     ]
    },
    {
     "data": {
      "text/html": [
       "<div>\n",
       "<style scoped>\n",
       "    .dataframe tbody tr th:only-of-type {\n",
       "        vertical-align: middle;\n",
       "    }\n",
       "\n",
       "    .dataframe tbody tr th {\n",
       "        vertical-align: top;\n",
       "    }\n",
       "\n",
       "    .dataframe thead th {\n",
       "        text-align: right;\n",
       "    }\n",
       "</style>\n",
       "<table border=\"1\" class=\"dataframe\">\n",
       "  <thead>\n",
       "    <tr style=\"text-align: right;\">\n",
       "      <th></th>\n",
       "      <th>DateCrawled</th>\n",
       "      <th>Price</th>\n",
       "      <th>VehicleType</th>\n",
       "      <th>RegistrationYear</th>\n",
       "      <th>Gearbox</th>\n",
       "      <th>Power</th>\n",
       "      <th>Model</th>\n",
       "      <th>Kilometer</th>\n",
       "      <th>RegistrationMonth</th>\n",
       "      <th>FuelType</th>\n",
       "      <th>Brand</th>\n",
       "      <th>NotRepaired</th>\n",
       "      <th>DateCreated</th>\n",
       "      <th>NumberOfPictures</th>\n",
       "      <th>PostalCode</th>\n",
       "      <th>LastSeen</th>\n",
       "    </tr>\n",
       "  </thead>\n",
       "  <tbody>\n",
       "    <tr>\n",
       "      <td>0</td>\n",
       "      <td>2016-03-24 11:52:17</td>\n",
       "      <td>480</td>\n",
       "      <td>NaN</td>\n",
       "      <td>1993</td>\n",
       "      <td>manual</td>\n",
       "      <td>0</td>\n",
       "      <td>golf</td>\n",
       "      <td>150000</td>\n",
       "      <td>0</td>\n",
       "      <td>petrol</td>\n",
       "      <td>volkswagen</td>\n",
       "      <td>NaN</td>\n",
       "      <td>2016-03-24 00:00:00</td>\n",
       "      <td>0</td>\n",
       "      <td>70435</td>\n",
       "      <td>2016-04-07 03:16:57</td>\n",
       "    </tr>\n",
       "    <tr>\n",
       "      <td>1</td>\n",
       "      <td>2016-03-24 10:58:45</td>\n",
       "      <td>18300</td>\n",
       "      <td>coupe</td>\n",
       "      <td>2011</td>\n",
       "      <td>manual</td>\n",
       "      <td>190</td>\n",
       "      <td>NaN</td>\n",
       "      <td>125000</td>\n",
       "      <td>5</td>\n",
       "      <td>gasoline</td>\n",
       "      <td>audi</td>\n",
       "      <td>yes</td>\n",
       "      <td>2016-03-24 00:00:00</td>\n",
       "      <td>0</td>\n",
       "      <td>66954</td>\n",
       "      <td>2016-04-07 01:46:50</td>\n",
       "    </tr>\n",
       "    <tr>\n",
       "      <td>2</td>\n",
       "      <td>2016-03-14 12:52:21</td>\n",
       "      <td>9800</td>\n",
       "      <td>suv</td>\n",
       "      <td>2004</td>\n",
       "      <td>auto</td>\n",
       "      <td>163</td>\n",
       "      <td>grand</td>\n",
       "      <td>125000</td>\n",
       "      <td>8</td>\n",
       "      <td>gasoline</td>\n",
       "      <td>jeep</td>\n",
       "      <td>NaN</td>\n",
       "      <td>2016-03-14 00:00:00</td>\n",
       "      <td>0</td>\n",
       "      <td>90480</td>\n",
       "      <td>2016-04-05 12:47:46</td>\n",
       "    </tr>\n",
       "    <tr>\n",
       "      <td>3</td>\n",
       "      <td>2016-03-17 16:54:04</td>\n",
       "      <td>1500</td>\n",
       "      <td>small</td>\n",
       "      <td>2001</td>\n",
       "      <td>manual</td>\n",
       "      <td>75</td>\n",
       "      <td>golf</td>\n",
       "      <td>150000</td>\n",
       "      <td>6</td>\n",
       "      <td>petrol</td>\n",
       "      <td>volkswagen</td>\n",
       "      <td>no</td>\n",
       "      <td>2016-03-17 00:00:00</td>\n",
       "      <td>0</td>\n",
       "      <td>91074</td>\n",
       "      <td>2016-03-17 17:40:17</td>\n",
       "    </tr>\n",
       "    <tr>\n",
       "      <td>4</td>\n",
       "      <td>2016-03-31 17:25:20</td>\n",
       "      <td>3600</td>\n",
       "      <td>small</td>\n",
       "      <td>2008</td>\n",
       "      <td>manual</td>\n",
       "      <td>69</td>\n",
       "      <td>fabia</td>\n",
       "      <td>90000</td>\n",
       "      <td>7</td>\n",
       "      <td>gasoline</td>\n",
       "      <td>skoda</td>\n",
       "      <td>no</td>\n",
       "      <td>2016-03-31 00:00:00</td>\n",
       "      <td>0</td>\n",
       "      <td>60437</td>\n",
       "      <td>2016-04-06 10:17:21</td>\n",
       "    </tr>\n",
       "  </tbody>\n",
       "</table>\n",
       "</div>"
      ],
      "text/plain": [
       "           DateCrawled  Price VehicleType  RegistrationYear Gearbox  Power  \\\n",
       "0  2016-03-24 11:52:17    480         NaN              1993  manual      0   \n",
       "1  2016-03-24 10:58:45  18300       coupe              2011  manual    190   \n",
       "2  2016-03-14 12:52:21   9800         suv              2004    auto    163   \n",
       "3  2016-03-17 16:54:04   1500       small              2001  manual     75   \n",
       "4  2016-03-31 17:25:20   3600       small              2008  manual     69   \n",
       "\n",
       "   Model  Kilometer  RegistrationMonth  FuelType       Brand NotRepaired  \\\n",
       "0   golf     150000                  0    petrol  volkswagen         NaN   \n",
       "1    NaN     125000                  5  gasoline        audi         yes   \n",
       "2  grand     125000                  8  gasoline        jeep         NaN   \n",
       "3   golf     150000                  6    petrol  volkswagen          no   \n",
       "4  fabia      90000                  7  gasoline       skoda          no   \n",
       "\n",
       "           DateCreated  NumberOfPictures  PostalCode             LastSeen  \n",
       "0  2016-03-24 00:00:00                 0       70435  2016-04-07 03:16:57  \n",
       "1  2016-03-24 00:00:00                 0       66954  2016-04-07 01:46:50  \n",
       "2  2016-03-14 00:00:00                 0       90480  2016-04-05 12:47:46  \n",
       "3  2016-03-17 00:00:00                 0       91074  2016-03-17 17:40:17  \n",
       "4  2016-03-31 00:00:00                 0       60437  2016-04-06 10:17:21  "
      ]
     },
     "metadata": {},
     "output_type": "display_data"
    },
    {
     "data": {
      "text/html": [
       "<div>\n",
       "<style scoped>\n",
       "    .dataframe tbody tr th:only-of-type {\n",
       "        vertical-align: middle;\n",
       "    }\n",
       "\n",
       "    .dataframe tbody tr th {\n",
       "        vertical-align: top;\n",
       "    }\n",
       "\n",
       "    .dataframe thead th {\n",
       "        text-align: right;\n",
       "    }\n",
       "</style>\n",
       "<table border=\"1\" class=\"dataframe\">\n",
       "  <thead>\n",
       "    <tr style=\"text-align: right;\">\n",
       "      <th></th>\n",
       "      <th>Price</th>\n",
       "      <th>RegistrationYear</th>\n",
       "      <th>Power</th>\n",
       "      <th>Kilometer</th>\n",
       "      <th>RegistrationMonth</th>\n",
       "      <th>NumberOfPictures</th>\n",
       "      <th>PostalCode</th>\n",
       "    </tr>\n",
       "  </thead>\n",
       "  <tbody>\n",
       "    <tr>\n",
       "      <td>count</td>\n",
       "      <td>354369.000000</td>\n",
       "      <td>354369.000000</td>\n",
       "      <td>354369.000000</td>\n",
       "      <td>354369.000000</td>\n",
       "      <td>354369.000000</td>\n",
       "      <td>354369.0</td>\n",
       "      <td>354369.000000</td>\n",
       "    </tr>\n",
       "    <tr>\n",
       "      <td>mean</td>\n",
       "      <td>4416.656776</td>\n",
       "      <td>2004.234448</td>\n",
       "      <td>110.094337</td>\n",
       "      <td>128211.172535</td>\n",
       "      <td>5.714645</td>\n",
       "      <td>0.0</td>\n",
       "      <td>50508.689087</td>\n",
       "    </tr>\n",
       "    <tr>\n",
       "      <td>std</td>\n",
       "      <td>4514.158514</td>\n",
       "      <td>90.227958</td>\n",
       "      <td>189.850405</td>\n",
       "      <td>37905.341530</td>\n",
       "      <td>3.726421</td>\n",
       "      <td>0.0</td>\n",
       "      <td>25783.096248</td>\n",
       "    </tr>\n",
       "    <tr>\n",
       "      <td>min</td>\n",
       "      <td>0.000000</td>\n",
       "      <td>1000.000000</td>\n",
       "      <td>0.000000</td>\n",
       "      <td>5000.000000</td>\n",
       "      <td>0.000000</td>\n",
       "      <td>0.0</td>\n",
       "      <td>1067.000000</td>\n",
       "    </tr>\n",
       "    <tr>\n",
       "      <td>25%</td>\n",
       "      <td>1050.000000</td>\n",
       "      <td>1999.000000</td>\n",
       "      <td>69.000000</td>\n",
       "      <td>125000.000000</td>\n",
       "      <td>3.000000</td>\n",
       "      <td>0.0</td>\n",
       "      <td>30165.000000</td>\n",
       "    </tr>\n",
       "    <tr>\n",
       "      <td>50%</td>\n",
       "      <td>2700.000000</td>\n",
       "      <td>2003.000000</td>\n",
       "      <td>105.000000</td>\n",
       "      <td>150000.000000</td>\n",
       "      <td>6.000000</td>\n",
       "      <td>0.0</td>\n",
       "      <td>49413.000000</td>\n",
       "    </tr>\n",
       "    <tr>\n",
       "      <td>75%</td>\n",
       "      <td>6400.000000</td>\n",
       "      <td>2008.000000</td>\n",
       "      <td>143.000000</td>\n",
       "      <td>150000.000000</td>\n",
       "      <td>9.000000</td>\n",
       "      <td>0.0</td>\n",
       "      <td>71083.000000</td>\n",
       "    </tr>\n",
       "    <tr>\n",
       "      <td>max</td>\n",
       "      <td>20000.000000</td>\n",
       "      <td>9999.000000</td>\n",
       "      <td>20000.000000</td>\n",
       "      <td>150000.000000</td>\n",
       "      <td>12.000000</td>\n",
       "      <td>0.0</td>\n",
       "      <td>99998.000000</td>\n",
       "    </tr>\n",
       "  </tbody>\n",
       "</table>\n",
       "</div>"
      ],
      "text/plain": [
       "               Price  RegistrationYear          Power      Kilometer  \\\n",
       "count  354369.000000     354369.000000  354369.000000  354369.000000   \n",
       "mean     4416.656776       2004.234448     110.094337  128211.172535   \n",
       "std      4514.158514         90.227958     189.850405   37905.341530   \n",
       "min         0.000000       1000.000000       0.000000    5000.000000   \n",
       "25%      1050.000000       1999.000000      69.000000  125000.000000   \n",
       "50%      2700.000000       2003.000000     105.000000  150000.000000   \n",
       "75%      6400.000000       2008.000000     143.000000  150000.000000   \n",
       "max     20000.000000       9999.000000   20000.000000  150000.000000   \n",
       "\n",
       "       RegistrationMonth  NumberOfPictures     PostalCode  \n",
       "count      354369.000000          354369.0  354369.000000  \n",
       "mean            5.714645               0.0   50508.689087  \n",
       "std             3.726421               0.0   25783.096248  \n",
       "min             0.000000               0.0    1067.000000  \n",
       "25%             3.000000               0.0   30165.000000  \n",
       "50%             6.000000               0.0   49413.000000  \n",
       "75%             9.000000               0.0   71083.000000  \n",
       "max            12.000000               0.0   99998.000000  "
      ]
     },
     "metadata": {},
     "output_type": "display_data"
    },
    {
     "name": "stdout",
     "output_type": "stream",
     "text": [
      "Уникальные значения\n"
     ]
    },
    {
     "data": {
      "text/plain": [
       "DateCrawled          271174\n",
       "Price                  3731\n",
       "VehicleType               8\n",
       "RegistrationYear        151\n",
       "Gearbox                   2\n",
       "Power                   712\n",
       "Model                   250\n",
       "Kilometer                13\n",
       "RegistrationMonth        13\n",
       "FuelType                  7\n",
       "Brand                    40\n",
       "NotRepaired               2\n",
       "DateCreated             109\n",
       "NumberOfPictures          1\n",
       "PostalCode             8143\n",
       "LastSeen             179150\n",
       "dtype: int64"
      ]
     },
     "metadata": {},
     "output_type": "display_data"
    },
    {
     "name": "stdout",
     "output_type": "stream",
     "text": [
      "Пропуски\n"
     ]
    },
    {
     "data": {
      "text/plain": [
       "DateCrawled              0\n",
       "Price                    0\n",
       "VehicleType          37490\n",
       "RegistrationYear         0\n",
       "Gearbox              19833\n",
       "Power                    0\n",
       "Model                19705\n",
       "Kilometer                0\n",
       "RegistrationMonth        0\n",
       "FuelType             32895\n",
       "Brand                    0\n",
       "NotRepaired          71154\n",
       "DateCreated              0\n",
       "NumberOfPictures         0\n",
       "PostalCode               0\n",
       "LastSeen                 0\n",
       "dtype: int64"
      ]
     },
     "metadata": {},
     "output_type": "display_data"
    }
   ],
   "source": [
    "df = pd.read_csv('https://code.s3.yandex.net/datasets/autos.csv')\n",
    "print(df.info())\n",
    "display(df.head())\n",
    "display(df.describe())\n",
    "print('Уникальные значения')\n",
    "display(df.nunique())\n",
    "print('Пропуски')\n",
    "display(df.isnull().sum())"
   ]
  },
  {
   "cell_type": "markdown",
   "metadata": {},
   "source": [
    "Для определения цены (Price) у нас есть следующие параметры:\n",
    " - DateCrawled — дата скачивания анкеты из базы\n",
    " - VehicleType — тип автомобильного кузова\n",
    " - RegistrationYear — год регистрации автомобиля\n",
    " - Gearbox — тип коробки передач\n",
    " - Power — мощность (л. с.)\n",
    " - Model — модель автомобиля\n",
    " - Kilometer — пробег (км)\n",
    " - RegistrationMonth — месяц регистрации автомобиля\n",
    " - FuelType — тип топлива\n",
    " - Brand — марка автомобиля\n",
    " - NotRepaired — была машина в ремонте или нет\n",
    " - DateCreated — дата создания анкеты\n",
    " - NumberOfPictures — количество фотографий автомобиля\n",
    " - PostalCode — почтовый индекс владельца анкеты (пользователя)\n",
    " - LastSeen — дата последней активности пользователя \n",
    "\n",
    "Все параметры, кроме параметров дат и времени, имеют правильные форматы. \n",
    "\n",
    "Параметры *DateCrawled, DateCreated, PostalCode, LastSeen* не влияют на цену автомобиля. Параметр NumberOfPictures содержит одно уникальное значение, которое равняется 0, то есть тоже можно откинуть для увеличения скорости и точности обучения.\n",
    "Параметр *DateCrawled* и *DateCreated* переведем в тип date_time чтобы отсеять выбросы по году регистрации авто.\n",
    "\n",
    "Параматры *VehicleType, Gearbox, Model, FuelType, NotRepaired* содержат пропуски и их практически невозможно восстановить. Например, некоторые машины шли в разных кузовах под одним названием, коробка передач могла быть разная для одного двигателя, как и сам двигатель мог быть разный для одинаковой мощности и коробки. Но часть данных попытаемся восстановить.\n",
    "\n",
    "У 'Price', 'RegistrationYear', 'Power' есть аномальные значения."
   ]
  },
  {
   "cell_type": "code",
   "execution_count": 3,
   "metadata": {},
   "outputs": [
    {
     "data": {
      "text/plain": [
       "(354369, 13)"
      ]
     },
     "execution_count": 3,
     "metadata": {},
     "output_type": "execute_result"
    }
   ],
   "source": [
    "data = df.drop(['NumberOfPictures', 'LastSeen', 'PostalCode'], axis=1)\n",
    "data['DateCrawled'] = pd.to_datetime(data['DateCrawled'], format='%Y-%m-%d')\n",
    "data['DateCreated'] = pd.to_datetime(data['DateCreated'], format='%Y-%m-%d')\n",
    "data.shape"
   ]
  },
  {
   "cell_type": "code",
   "execution_count": 4,
   "metadata": {},
   "outputs": [
    {
     "data": {
      "text/plain": [
       "(334609, 13)"
      ]
     },
     "execution_count": 4,
     "metadata": {},
     "output_type": "execute_result"
    }
   ],
   "source": [
    "# Отсеям объявления с датой и времнем регистрации более позднее выгрузки \n",
    "# и объявления с годом выпуска авто позднее даты регистрации объявления\n",
    "data = data.query(\n",
    "    '(DateCreated <= DateCrawled) and ((DateCreated.dt.year > RegistrationYear) or ((DateCreated.dt.year == RegistrationYear) and (DateCreated.dt.month >= RegistrationMonth)))')\n",
    "data.shape"
   ]
  },
  {
   "cell_type": "code",
   "execution_count": 5,
   "metadata": {},
   "outputs": [
    {
     "data": {
      "text/plain": [
       "(334609, 10)"
      ]
     },
     "execution_count": 5,
     "metadata": {},
     "output_type": "execute_result"
    }
   ],
   "source": [
    "# Удалим DateCrawled и DateCreated за ненадобностью\n",
    "data = data.drop(['DateCreated', 'DateCrawled', 'RegistrationMonth'], axis=1)\n",
    "data.shape"
   ]
  },
  {
   "cell_type": "code",
   "execution_count": 6,
   "metadata": {
    "scrolled": false
   },
   "outputs": [
    {
     "data": {
      "image/png": "[encoded data removed]",
      "text/plain": [
       "<Figure size 720x720 with 1 Axes>"
      ]
     },
     "metadata": {
      "needs_background": "light"
     },
     "output_type": "display_data"
    },
    {
     "data": {
      "image/png": "[encoded data removed]",
      "text/plain": [
       "<Figure size 720x720 with 1 Axes>"
      ]
     },
     "metadata": {
      "needs_background": "light"
     },
     "output_type": "display_data"
    },
    {
     "data": {
      "image/png": "[encoded data removed]",
      "text/plain": [
       "<Figure size 720x720 with 1 Axes>"
      ]
     },
     "metadata": {
      "needs_background": "light"
     },
     "output_type": "display_data"
    }
   ],
   "source": [
    "# Посмотрим на выбросы в данных\n",
    "names = ['Price', 'RegistrationYear', 'Power']\n",
    "\n",
    "for i in names:\n",
    "    plt.figure(figsize=(10,10))\n",
    "    sns.boxplot(data=data, y=i)\n",
    "    plt.show()\n",
    "    "
   ]
  },
  {
   "cell_type": "markdown",
   "metadata": {},
   "source": [
    "По цене аномальными можно считать цены, которые менее 100 у.е.\n",
    "У года регистрации все таже остаются аномальные значения.\n",
    "Мощность тоже имеет аномальные значения, возможно это из-за ошибки заполнения анкеты, или сбоя форматов данных (то есть вместо 20000 должно быть 200,00 л.с.). А вот значения мощности с нулевыми значениями нужно отсечь, так как это либо машины на запчасти, что нам не интересно, либо ошибка в данных. Мощность двигателя важна, она сильно влияет на цену, например, в россии цена на авто с мощность двигателя более 250 л.с. ниже, чем цена такого же автомобиля но с мощностью менее 250 л.с. из-за транспортного налога."
   ]
  },
  {
   "cell_type": "code",
   "execution_count": 7,
   "metadata": {},
   "outputs": [
    {
     "name": "stdout",
     "output_type": "stream",
     "text": [
      "Потеряли данных 17.70%\n"
     ]
    }
   ],
   "source": [
    "# отбросим данные с годом регистрации менее 1910\n",
    "# так как год регистрации невозможно восстановить по другим показателям\n",
    "# отбросим данные с мощностью двигателя\n",
    "# Отсчем нулевые значения мощности, максимальная 600 у бмв M\n",
    "# так как мощность невозможно восстановить по другим данным из-за разных значений у одной модели одного года с одним двигателем \n",
    "data = data.query('1910 <= RegistrationYear and 0 < Power < 600 and Price > 99')\n",
    "print('Потеряли данных {:.2%}'.format(1- data.shape[0] / df.shape[0]))"
   ]
  },
  {
   "cell_type": "markdown",
   "metadata": {},
   "source": [
    "Данных потеряли слишком много, но ничего не поделать, такие данные можно восстановить только вручную."
   ]
  },
  {
   "cell_type": "code",
   "execution_count": 8,
   "metadata": {},
   "outputs": [
    {
     "data": {
      "text/plain": [
       "array(['gasoline', 'petrol', nan, 'lpg', 'other', 'hybrid', 'cng',\n",
       "       'electric'], dtype=object)"
      ]
     },
     "execution_count": 8,
     "metadata": {},
     "output_type": "execute_result"
    }
   ],
   "source": [
    "# Посмотрим типы топлива\n",
    "data['FuelType'].unique()"
   ]
  },
  {
   "cell_type": "markdown",
   "metadata": {},
   "source": [
    "gasoline и petrol - это одно и тоже бензин"
   ]
  },
  {
   "cell_type": "code",
   "execution_count": 9,
   "metadata": {},
   "outputs": [
    {
     "data": {
      "text/plain": [
       "array(['petrol', nan, 'lpg', 'other', 'hybrid', 'cng', 'electric'],\n",
       "      dtype=object)"
      ]
     },
     "execution_count": 9,
     "metadata": {},
     "output_type": "execute_result"
    }
   ],
   "source": [
    "# заменим gasoline на petrol\n",
    "data['FuelType'] = data['FuelType'].replace('gasoline', 'petrol') \n",
    "data['FuelType'].unique()"
   ]
  },
  {
   "cell_type": "code",
   "execution_count": 10,
   "metadata": {},
   "outputs": [
    {
     "data": {
      "text/plain": [
       "Price                   0\n",
       "VehicleType          7121\n",
       "RegistrationYear        0\n",
       "Gearbox              5065\n",
       "Power                   0\n",
       "Model               10638\n",
       "Kilometer               0\n",
       "FuelType            13714\n",
       "Brand                   0\n",
       "NotRepaired         41058\n",
       "dtype: int64"
      ]
     },
     "metadata": {},
     "output_type": "display_data"
    }
   ],
   "source": [
    "display(data.isnull().sum())"
   ]
  },
  {
   "cell_type": "code",
   "execution_count": 11,
   "metadata": {},
   "outputs": [
    {
     "data": {
      "image/png": "[encoded data removed]",
      "text/plain": [
       "<Figure size 720x720 with 20 Axes>"
      ]
     },
     "metadata": {
      "needs_background": "light"
     },
     "output_type": "display_data"
    }
   ],
   "source": [
    "# Построим матрицу зависимостей\n",
    "sns.pairplot(data)\n",
    "plt.show()"
   ]
  },
  {
   "cell_type": "code",
   "execution_count": 12,
   "metadata": {
    "scrolled": false
   },
   "outputs": [
    {
     "data": {
      "image/png": "[encoded data removed]",
      "text/plain": [
       "<Figure size 720x720 with 1 Axes>"
      ]
     },
     "metadata": {
      "needs_background": "light"
     },
     "output_type": "display_data"
    }
   ],
   "source": [
    "# Построим матрицу корреляций\n",
    "plt.figure(figsize=(10,10))\n",
    "sns.heatmap(data.corr(), cbar=False, annot=True, cmap='viridis')\n",
    "plt.show()"
   ]
  },
  {
   "cell_type": "code",
   "execution_count": 13,
   "metadata": {
    "scrolled": false
   },
   "outputs": [
    {
     "data": {
      "image/png": "[encoded data removed]",
      "text/plain": [
       "<Figure size 1080x1080 with 6 Axes>"
      ]
     },
     "metadata": {
      "needs_background": "light"
     },
     "output_type": "display_data"
    }
   ],
   "source": [
    "#Зависимость цены от категориальных переменных\n",
    "data_col_obj = data.select_dtypes(include='object').columns\n",
    "fig, axs = plt.subplots(3, 2, figsize=(15, 15))\n",
    "fig.suptitle('Распределение цены от признаков', fontsize=15)\n",
    "axs = axs.ravel()\n",
    "for i, col in enumerate(data_col_obj):\n",
    "    data_top = data[col].value_counts().head(6).index.array\n",
    "    sns.boxplot(x=col, y='Price', data=data.query(col + ' in @data_top'), ax=axs[i])\n",
    "    axs[i].set_xlabel('')\n",
    "    axs[i].set_title(col, fontsize=12)\n",
    "    axs[i].set_ylabel('Стоимость')\n",
    "plt.show()"
   ]
  },
  {
   "cell_type": "markdown",
   "metadata": {},
   "source": [
    "**Вывод**\n",
    "\n",
    "Начальные данные слишком \"сырые\". В них много пропусков и аномалий. Явные аномалии, влияющие на цену, мы удалили. Пропуски мы оставили, изменив на nan. Такие данные крайне сложно восстановить из-за того что автомобили выпускаются годами, а то и десятилетиями, на одном авто одного года могут быть установленные разные двигатели по типу топлива или по мощности, так и кузов автомобиля может быть разный у автомобиля с одной маркой, названием и годом выпуска.\n",
    "\n",
    "На цену сильнее всего влияют: год регистрации, мощность, тип кпп, тип топлива, бренд и отсутствие ремонтов.\n",
    "\n",
    "Чем моложе автомобиль, тем он дороже, так же и с мощностью. Авто на автомате дороже, чем на механической кпп. Гибридны авто самы дорогие, далее идут электрические автомобили и потом все остальные, это объясняется желанием снизить вред окружающей среде но недостаточной инфраструктурой для электротранспорта. Немецка тройка Ауди, Бмв и Мерседес-Бенц является самой дорогой, но между собой они имеют похожий разброс цен. Ожидаемо авто без ремонтов стоят ощутимо дороже ремонтированных.\n",
    "\n",
    "Таким образом гибридное авто немецкой тройки без ремонтов является самым дорогим."
   ]
  },
  {
   "cell_type": "code",
   "execution_count": 14,
   "metadata": {},
   "outputs": [
    {
     "data": {
      "text/plain": [
       "Price                   0\n",
       "VehicleType          7121\n",
       "RegistrationYear        0\n",
       "Gearbox              5065\n",
       "Power                   0\n",
       "Model               10638\n",
       "Kilometer               0\n",
       "FuelType            13714\n",
       "Brand                   0\n",
       "NotRepaired         41058\n",
       "dtype: int64"
      ]
     },
     "metadata": {},
     "output_type": "display_data"
    }
   ],
   "source": [
    "display(data.isnull().sum())"
   ]
  },
  {
   "cell_type": "markdown",
   "metadata": {},
   "source": [
    "## Обучение моделей"
   ]
  },
  {
   "cell_type": "markdown",
   "metadata": {},
   "source": [
    "Возьмем 2 модели: LightGBM и дерево решений.\n",
    "\n",
    "LightGBM является моделью градиентного бустинга, мощная и сложная модель предсказывания. А в противовес её дерево решений как относительно быстрый метод предсказывания."
   ]
  },
  {
   "cell_type": "code",
   "execution_count": 15,
   "metadata": {},
   "outputs": [
    {
     "name": "stdout",
     "output_type": "stream",
     "text": [
      "Количество объектов в обучающей выборке 218742\n",
      "Количество объектов в тестовой выборке 72914\n"
     ]
    }
   ],
   "source": [
    "# Для начала разобьем данные на признаки и цель\n",
    "features = data.drop(['Price'], axis=1)\n",
    "target = data['Price']\n",
    "# Разобъем данные на 2 выборки: обучающую (75%) и тестовую (25%). То есть 3:1. \n",
    "features_train, features_test, target_train, target_test = train_test_split(\n",
    "    features, target, train_size=0.75, random_state=12345) \n",
    "print('Количество объектов в обучающей выборке', len(features_train))\n",
    "print('Количество объектов в тестовой выборке', len(features_test))"
   ]
  },
  {
   "cell_type": "code",
   "execution_count": 16,
   "metadata": {},
   "outputs": [
    {
     "data": {
      "text/html": [
       "<div>\n",
       "<style scoped>\n",
       "    .dataframe tbody tr th:only-of-type {\n",
       "        vertical-align: middle;\n",
       "    }\n",
       "\n",
       "    .dataframe tbody tr th {\n",
       "        vertical-align: top;\n",
       "    }\n",
       "\n",
       "    .dataframe thead th {\n",
       "        text-align: right;\n",
       "    }\n",
       "</style>\n",
       "<table border=\"1\" class=\"dataframe\">\n",
       "  <thead>\n",
       "    <tr style=\"text-align: right;\">\n",
       "      <th></th>\n",
       "      <th>VehicleType</th>\n",
       "      <th>RegistrationYear</th>\n",
       "      <th>Gearbox</th>\n",
       "      <th>Power</th>\n",
       "      <th>Model</th>\n",
       "      <th>Kilometer</th>\n",
       "      <th>FuelType</th>\n",
       "      <th>Brand</th>\n",
       "      <th>NotRepaired</th>\n",
       "    </tr>\n",
       "  </thead>\n",
       "  <tbody>\n",
       "    <tr>\n",
       "      <td>231443</td>\n",
       "      <td>wagon</td>\n",
       "      <td>2009</td>\n",
       "      <td>manual</td>\n",
       "      <td>105</td>\n",
       "      <td>logan</td>\n",
       "      <td>150000</td>\n",
       "      <td>petrol</td>\n",
       "      <td>dacia</td>\n",
       "      <td>no</td>\n",
       "    </tr>\n",
       "    <tr>\n",
       "      <td>291650</td>\n",
       "      <td>bus</td>\n",
       "      <td>2010</td>\n",
       "      <td>manual</td>\n",
       "      <td>140</td>\n",
       "      <td>touran</td>\n",
       "      <td>80000</td>\n",
       "      <td>petrol</td>\n",
       "      <td>volkswagen</td>\n",
       "      <td>no</td>\n",
       "    </tr>\n",
       "    <tr>\n",
       "      <td>243815</td>\n",
       "      <td>wagon</td>\n",
       "      <td>2003</td>\n",
       "      <td>manual</td>\n",
       "      <td>135</td>\n",
       "      <td>laguna</td>\n",
       "      <td>150000</td>\n",
       "      <td>lpg</td>\n",
       "      <td>renault</td>\n",
       "      <td>no</td>\n",
       "    </tr>\n",
       "    <tr>\n",
       "      <td>215577</td>\n",
       "      <td>NaN</td>\n",
       "      <td>2005</td>\n",
       "      <td>manual</td>\n",
       "      <td>140</td>\n",
       "      <td>a3</td>\n",
       "      <td>150000</td>\n",
       "      <td>NaN</td>\n",
       "      <td>audi</td>\n",
       "      <td>NaN</td>\n",
       "    </tr>\n",
       "    <tr>\n",
       "      <td>264777</td>\n",
       "      <td>wagon</td>\n",
       "      <td>2009</td>\n",
       "      <td>auto</td>\n",
       "      <td>170</td>\n",
       "      <td>c_klasse</td>\n",
       "      <td>80000</td>\n",
       "      <td>petrol</td>\n",
       "      <td>mercedes_benz</td>\n",
       "      <td>no</td>\n",
       "    </tr>\n",
       "  </tbody>\n",
       "</table>\n",
       "</div>"
      ],
      "text/plain": [
       "       VehicleType  RegistrationYear Gearbox  Power     Model  Kilometer  \\\n",
       "231443       wagon              2009  manual    105     logan     150000   \n",
       "291650         bus              2010  manual    140    touran      80000   \n",
       "243815       wagon              2003  manual    135    laguna     150000   \n",
       "215577         NaN              2005  manual    140        a3     150000   \n",
       "264777       wagon              2009    auto    170  c_klasse      80000   \n",
       "\n",
       "       FuelType          Brand NotRepaired  \n",
       "231443   petrol          dacia          no  \n",
       "291650   petrol     volkswagen          no  \n",
       "243815      lpg        renault          no  \n",
       "215577      NaN           audi         NaN  \n",
       "264777   petrol  mercedes_benz          no  "
      ]
     },
     "execution_count": 16,
     "metadata": {},
     "output_type": "execute_result"
    }
   ],
   "source": [
    "features_train.head()"
   ]
  },
  {
   "cell_type": "code",
   "execution_count": 17,
   "metadata": {},
   "outputs": [
    {
     "data": {
      "text/html": [
       "<div>\n",
       "<style scoped>\n",
       "    .dataframe tbody tr th:only-of-type {\n",
       "        vertical-align: middle;\n",
       "    }\n",
       "\n",
       "    .dataframe tbody tr th {\n",
       "        vertical-align: top;\n",
       "    }\n",
       "\n",
       "    .dataframe thead th {\n",
       "        text-align: right;\n",
       "    }\n",
       "</style>\n",
       "<table border=\"1\" class=\"dataframe\">\n",
       "  <thead>\n",
       "    <tr style=\"text-align: right;\">\n",
       "      <th></th>\n",
       "      <th>VehicleType</th>\n",
       "      <th>RegistrationYear</th>\n",
       "      <th>Gearbox</th>\n",
       "      <th>Power</th>\n",
       "      <th>Model</th>\n",
       "      <th>Kilometer</th>\n",
       "      <th>FuelType</th>\n",
       "      <th>Brand</th>\n",
       "      <th>NotRepaired</th>\n",
       "    </tr>\n",
       "  </thead>\n",
       "  <tbody>\n",
       "    <tr>\n",
       "      <td>231443</td>\n",
       "      <td>8.0</td>\n",
       "      <td>2009</td>\n",
       "      <td>1.0</td>\n",
       "      <td>105</td>\n",
       "      <td>142.0</td>\n",
       "      <td>150000</td>\n",
       "      <td>6.0</td>\n",
       "      <td>6.0</td>\n",
       "      <td>1.0</td>\n",
       "    </tr>\n",
       "    <tr>\n",
       "      <td>291650</td>\n",
       "      <td>0.0</td>\n",
       "      <td>2010</td>\n",
       "      <td>1.0</td>\n",
       "      <td>140</td>\n",
       "      <td>222.0</td>\n",
       "      <td>80000</td>\n",
       "      <td>6.0</td>\n",
       "      <td>38.0</td>\n",
       "      <td>1.0</td>\n",
       "    </tr>\n",
       "    <tr>\n",
       "      <td>243815</td>\n",
       "      <td>8.0</td>\n",
       "      <td>2003</td>\n",
       "      <td>1.0</td>\n",
       "      <td>135</td>\n",
       "      <td>136.0</td>\n",
       "      <td>150000</td>\n",
       "      <td>3.0</td>\n",
       "      <td>27.0</td>\n",
       "      <td>1.0</td>\n",
       "    </tr>\n",
       "    <tr>\n",
       "      <td>215577</td>\n",
       "      <td>3.0</td>\n",
       "      <td>2005</td>\n",
       "      <td>1.0</td>\n",
       "      <td>140</td>\n",
       "      <td>28.0</td>\n",
       "      <td>150000</td>\n",
       "      <td>4.0</td>\n",
       "      <td>1.0</td>\n",
       "      <td>0.0</td>\n",
       "    </tr>\n",
       "    <tr>\n",
       "      <td>264777</td>\n",
       "      <td>8.0</td>\n",
       "      <td>2009</td>\n",
       "      <td>0.0</td>\n",
       "      <td>170</td>\n",
       "      <td>59.0</td>\n",
       "      <td>80000</td>\n",
       "      <td>6.0</td>\n",
       "      <td>20.0</td>\n",
       "      <td>1.0</td>\n",
       "    </tr>\n",
       "  </tbody>\n",
       "</table>\n",
       "</div>"
      ],
      "text/plain": [
       "        VehicleType  RegistrationYear  Gearbox  Power  Model  Kilometer  \\\n",
       "231443          8.0              2009      1.0    105  142.0     150000   \n",
       "291650          0.0              2010      1.0    140  222.0      80000   \n",
       "243815          8.0              2003      1.0    135  136.0     150000   \n",
       "215577          3.0              2005      1.0    140   28.0     150000   \n",
       "264777          8.0              2009      0.0    170   59.0      80000   \n",
       "\n",
       "        FuelType  Brand  NotRepaired  \n",
       "231443       6.0    6.0          1.0  \n",
       "291650       6.0   38.0          1.0  \n",
       "243815       3.0   27.0          1.0  \n",
       "215577       4.0    1.0          0.0  \n",
       "264777       6.0   20.0          1.0  "
      ]
     },
     "execution_count": 17,
     "metadata": {},
     "output_type": "execute_result"
    }
   ],
   "source": [
    "# Так как дерево решений не умеет работать с категориальными данными напрямую, то преобразуем их\n",
    "col = data.select_dtypes(include='object').columns\n",
    "encoder = OrdinalEncoder() \n",
    "features_enc = features.copy().fillna('nan')\n",
    "encoder.fit(features_enc[col]) \n",
    "features_enc[col] = pd.DataFrame(encoder.transform(features_enc[col]), columns=col, index = features_enc.index)\n",
    "features_train_enc = features_train.copy().fillna('nan')\n",
    "features_train_enc[col] = pd.DataFrame(encoder.transform(features_train_enc[col]), columns=col, index = features_train_enc.index)\n",
    "features_test_enc = features_test.copy().fillna('nan')\n",
    "features_test_enc[col] = pd.DataFrame(encoder.transform(features_test_enc[col]), columns=col, index = features_test_enc.index)\n",
    "features_train_enc.head()"
   ]
  },
  {
   "cell_type": "code",
   "execution_count": 18,
   "metadata": {},
   "outputs": [
    {
     "data": {
      "text/html": [
       "<div>\n",
       "<style scoped>\n",
       "    .dataframe tbody tr th:only-of-type {\n",
       "        vertical-align: middle;\n",
       "    }\n",
       "\n",
       "    .dataframe tbody tr th {\n",
       "        vertical-align: top;\n",
       "    }\n",
       "\n",
       "    .dataframe thead th {\n",
       "        text-align: right;\n",
       "    }\n",
       "</style>\n",
       "<table border=\"1\" class=\"dataframe\">\n",
       "  <thead>\n",
       "    <tr style=\"text-align: right;\">\n",
       "      <th></th>\n",
       "      <th>VehicleType</th>\n",
       "      <th>RegistrationYear</th>\n",
       "      <th>Gearbox</th>\n",
       "      <th>Power</th>\n",
       "      <th>Model</th>\n",
       "      <th>Kilometer</th>\n",
       "      <th>FuelType</th>\n",
       "      <th>Brand</th>\n",
       "      <th>NotRepaired</th>\n",
       "    </tr>\n",
       "  </thead>\n",
       "  <tbody>\n",
       "    <tr>\n",
       "      <td>231443</td>\n",
       "      <td>wagon</td>\n",
       "      <td>0.988048</td>\n",
       "      <td>manual</td>\n",
       "      <td>-0.294318</td>\n",
       "      <td>logan</td>\n",
       "      <td>0.593074</td>\n",
       "      <td>petrol</td>\n",
       "      <td>dacia</td>\n",
       "      <td>no</td>\n",
       "    </tr>\n",
       "    <tr>\n",
       "      <td>291650</td>\n",
       "      <td>bus</td>\n",
       "      <td>1.143975</td>\n",
       "      <td>manual</td>\n",
       "      <td>0.355390</td>\n",
       "      <td>touran</td>\n",
       "      <td>-1.308265</td>\n",
       "      <td>petrol</td>\n",
       "      <td>volkswagen</td>\n",
       "      <td>no</td>\n",
       "    </tr>\n",
       "    <tr>\n",
       "      <td>243815</td>\n",
       "      <td>wagon</td>\n",
       "      <td>0.052485</td>\n",
       "      <td>manual</td>\n",
       "      <td>0.262574</td>\n",
       "      <td>laguna</td>\n",
       "      <td>0.593074</td>\n",
       "      <td>lpg</td>\n",
       "      <td>renault</td>\n",
       "      <td>no</td>\n",
       "    </tr>\n",
       "    <tr>\n",
       "      <td>215577</td>\n",
       "      <td>NaN</td>\n",
       "      <td>0.364339</td>\n",
       "      <td>manual</td>\n",
       "      <td>0.355390</td>\n",
       "      <td>a3</td>\n",
       "      <td>0.593074</td>\n",
       "      <td>NaN</td>\n",
       "      <td>audi</td>\n",
       "      <td>NaN</td>\n",
       "    </tr>\n",
       "    <tr>\n",
       "      <td>264777</td>\n",
       "      <td>wagon</td>\n",
       "      <td>0.988048</td>\n",
       "      <td>auto</td>\n",
       "      <td>0.912282</td>\n",
       "      <td>c_klasse</td>\n",
       "      <td>-1.308265</td>\n",
       "      <td>petrol</td>\n",
       "      <td>mercedes_benz</td>\n",
       "      <td>no</td>\n",
       "    </tr>\n",
       "  </tbody>\n",
       "</table>\n",
       "</div>"
      ],
      "text/plain": [
       "       VehicleType  RegistrationYear Gearbox     Power     Model  Kilometer  \\\n",
       "231443       wagon          0.988048  manual -0.294318     logan   0.593074   \n",
       "291650         bus          1.143975  manual  0.355390    touran  -1.308265   \n",
       "243815       wagon          0.052485  manual  0.262574    laguna   0.593074   \n",
       "215577         NaN          0.364339  manual  0.355390        a3   0.593074   \n",
       "264777       wagon          0.988048    auto  0.912282  c_klasse  -1.308265   \n",
       "\n",
       "       FuelType          Brand NotRepaired  \n",
       "231443   petrol          dacia          no  \n",
       "291650   petrol     volkswagen          no  \n",
       "243815      lpg        renault          no  \n",
       "215577      NaN           audi         NaN  \n",
       "264777   petrol  mercedes_benz          no  "
      ]
     },
     "metadata": {},
     "output_type": "display_data"
    },
    {
     "data": {
      "text/html": [
       "<div>\n",
       "<style scoped>\n",
       "    .dataframe tbody tr th:only-of-type {\n",
       "        vertical-align: middle;\n",
       "    }\n",
       "\n",
       "    .dataframe tbody tr th {\n",
       "        vertical-align: top;\n",
       "    }\n",
       "\n",
       "    .dataframe thead th {\n",
       "        text-align: right;\n",
       "    }\n",
       "</style>\n",
       "<table border=\"1\" class=\"dataframe\">\n",
       "  <thead>\n",
       "    <tr style=\"text-align: right;\">\n",
       "      <th></th>\n",
       "      <th>VehicleType</th>\n",
       "      <th>RegistrationYear</th>\n",
       "      <th>Gearbox</th>\n",
       "      <th>Power</th>\n",
       "      <th>Model</th>\n",
       "      <th>Kilometer</th>\n",
       "      <th>FuelType</th>\n",
       "      <th>Brand</th>\n",
       "      <th>NotRepaired</th>\n",
       "    </tr>\n",
       "  </thead>\n",
       "  <tbody>\n",
       "    <tr>\n",
       "      <td>231443</td>\n",
       "      <td>1.216952</td>\n",
       "      <td>0.988048</td>\n",
       "      <td>0.425835</td>\n",
       "      <td>-0.294318</td>\n",
       "      <td>0.453705</td>\n",
       "      <td>0.593074</td>\n",
       "      <td>0.251778</td>\n",
       "      <td>-1.097651</td>\n",
       "      <td>0.091372</td>\n",
       "    </tr>\n",
       "    <tr>\n",
       "      <td>291650</td>\n",
       "      <td>-2.038358</td>\n",
       "      <td>1.143975</td>\n",
       "      <td>0.425835</td>\n",
       "      <td>0.355390</td>\n",
       "      <td>1.589855</td>\n",
       "      <td>-1.308265</td>\n",
       "      <td>0.251778</td>\n",
       "      <td>1.294148</td>\n",
       "      <td>0.091372</td>\n",
       "    </tr>\n",
       "    <tr>\n",
       "      <td>243815</td>\n",
       "      <td>1.216952</td>\n",
       "      <td>0.052485</td>\n",
       "      <td>0.425835</td>\n",
       "      <td>0.262574</td>\n",
       "      <td>0.368493</td>\n",
       "      <td>0.593074</td>\n",
       "      <td>-4.594613</td>\n",
       "      <td>0.471967</td>\n",
       "      <td>0.091372</td>\n",
       "    </tr>\n",
       "    <tr>\n",
       "      <td>215577</td>\n",
       "      <td>-0.817617</td>\n",
       "      <td>0.364339</td>\n",
       "      <td>0.425835</td>\n",
       "      <td>0.355390</td>\n",
       "      <td>-1.165309</td>\n",
       "      <td>0.593074</td>\n",
       "      <td>-2.979149</td>\n",
       "      <td>-1.471370</td>\n",
       "      <td>-1.970298</td>\n",
       "    </tr>\n",
       "    <tr>\n",
       "      <td>264777</td>\n",
       "      <td>1.216952</td>\n",
       "      <td>0.988048</td>\n",
       "      <td>-1.905152</td>\n",
       "      <td>0.912282</td>\n",
       "      <td>-0.725051</td>\n",
       "      <td>-1.308265</td>\n",
       "      <td>0.251778</td>\n",
       "      <td>-0.051239</td>\n",
       "      <td>0.091372</td>\n",
       "    </tr>\n",
       "  </tbody>\n",
       "</table>\n",
       "</div>"
      ],
      "text/plain": [
       "        VehicleType  RegistrationYear   Gearbox     Power     Model  \\\n",
       "231443     1.216952          0.988048  0.425835 -0.294318  0.453705   \n",
       "291650    -2.038358          1.143975  0.425835  0.355390  1.589855   \n",
       "243815     1.216952          0.052485  0.425835  0.262574  0.368493   \n",
       "215577    -0.817617          0.364339  0.425835  0.355390 -1.165309   \n",
       "264777     1.216952          0.988048 -1.905152  0.912282 -0.725051   \n",
       "\n",
       "        Kilometer  FuelType     Brand  NotRepaired  \n",
       "231443   0.593074  0.251778 -1.097651     0.091372  \n",
       "291650  -1.308265  0.251778  1.294148     0.091372  \n",
       "243815   0.593074 -4.594613  0.471967     0.091372  \n",
       "215577   0.593074 -2.979149 -1.471370    -1.970298  \n",
       "264777  -1.308265  0.251778 -0.051239     0.091372  "
      ]
     },
     "metadata": {},
     "output_type": "display_data"
    }
   ],
   "source": [
    "# Масштабируем все признаки так как разброс по километражу значительно больше разброса по мощности\n",
    "# Для LightGBM только численные признаки\n",
    "col = ['RegistrationYear', 'Power', 'Kilometer']\n",
    "pd.options.mode.chained_assignment = None\n",
    "scaler = StandardScaler()\n",
    "scaler.fit(features[col]) \n",
    "features_train[col] = scaler.transform(features_train[col])\n",
    "features_test[col] = scaler.transform(features_test[col])\n",
    "display(features_train.head())\n",
    "\n",
    "# Для решающего дерева все признаки\n",
    "scaler_enc = StandardScaler()\n",
    "scaler_enc.fit(features_enc)\n",
    "features_train_enc = pd.DataFrame(\n",
    "    scaler_enc.transform(features_train_enc), columns=features_enc.columns, index = features_train.index)\n",
    "features_test_enc = pd.DataFrame(\n",
    "    scaler_enc.transform(features_test_enc), columns=features_enc.columns, index = features_test.index)\n",
    "display(features_train_enc.head())"
   ]
  },
  {
   "cell_type": "code",
   "execution_count": 19,
   "metadata": {},
   "outputs": [],
   "source": [
    "# Создадим функцию для метрики RMSE, которая явлется квадратным корнем из MSE\n",
    "def rmse(real, predictions):\n",
    "    return mean_squared_error(real, predictions) ** .5"
   ]
  },
  {
   "cell_type": "code",
   "execution_count": 20,
   "metadata": {},
   "outputs": [],
   "source": [
    "# Переведенным данные типа object в категории для адекватной работы LightGBM\n",
    "data_col_obj = data.select_dtypes(include='object').columns\n",
    "for col in data_col_obj:\n",
    "    features_train[col] = features_train[col].astype('category')\n",
    "    features_test[col] = features_test[col].astype('category')"
   ]
  },
  {
   "cell_type": "markdown",
   "metadata": {},
   "source": [
    "**LGBMRegressor**"
   ]
  },
  {
   "cell_type": "code",
   "execution_count": 21,
   "metadata": {},
   "outputs": [],
   "source": [
    "# создадим модель градиентного бустинга\n",
    "lgbmr = LGBMRegressor(metric='rmse', verbose_eval=0, seed=12345)\n",
    "\n",
    "# добавим кросс-валидацию\n",
    "cv = KFold(n_splits=5, shuffle=True, random_state=12345)\n",
    "params = {\n",
    "    'learning_rate': np.logspace(-3, 2, 3),\n",
    "    'max_depth': [20, 23, 25],\n",
    "    'num_leaves': [20, 36, 61],\n",
    "}\n",
    "\n",
    "grid_lgbmr = GridSearchCV(lgbmr,\n",
    "                        params,\n",
    "                        cv=cv,\n",
    "                        scoring=make_scorer(rmse, greater_is_better=False),\n",
    "                        n_jobs=2\n",
    "                       )"
   ]
  },
  {
   "cell_type": "code",
   "execution_count": 22,
   "metadata": {
    "scrolled": true
   },
   "outputs": [
    {
     "name": "stdout",
     "output_type": "stream",
     "text": [
      "Параметры лучшей модели: {'learning_rate': 0.31622776601683794, 'max_depth': 23, 'num_leaves': 61}\n",
      "RMSE лучшей модели: 1552.184137418364\n",
      "Время выполнения\n",
      "CPU times: user 10.1 s, sys: 616 ms, total: 10.7 s\n",
      "Wall time: 5min 18s\n"
     ]
    }
   ],
   "source": [
    "%%time\n",
    "# обучим модель и выведем время обучения\n",
    "grid_lgbmr.fit(features_train, target_train)\n",
    "print('Параметры лучшей модели:', grid_lgbmr.best_params_) \n",
    "print('RMSE лучшей модели:', -grid_lgbmr.best_score_)\n",
    "print('Время выполнения')"
   ]
  },
  {
   "cell_type": "markdown",
   "metadata": {},
   "source": [
    "**DecisionTreeRegressor**"
   ]
  },
  {
   "cell_type": "code",
   "execution_count": 23,
   "metadata": {},
   "outputs": [],
   "source": [
    "# Создадим модель решающего дерева, параметры кросс валидации оставим прежними\n",
    "dtr = DecisionTreeRegressor(random_state=12345)\n",
    "\n",
    "params_dtr = {\n",
    "    'max_depth': range (27, 33, 1),\n",
    "    'min_samples_leaf': range (6, 10, 1),\n",
    "}\n",
    "\n",
    "grid_dtr = GridSearchCV(dtr,\n",
    "                        params_dtr,\n",
    "                        cv=cv,\n",
    "                        scoring=make_scorer(rmse, greater_is_better=False),\n",
    "                        n_jobs=2\n",
    "                        )"
   ]
  },
  {
   "cell_type": "code",
   "execution_count": 24,
   "metadata": {},
   "outputs": [
    {
     "name": "stdout",
     "output_type": "stream",
     "text": [
      "Параметры лучшей модели: {'max_depth': 30, 'min_samples_leaf': 7}\n",
      "RMSE лучшей модели: 1749.6201674529864\n",
      "Время выполнения\n",
      "CPU times: user 1.74 s, sys: 273 ms, total: 2.01 s\n",
      "Wall time: 1min 33s\n"
     ]
    }
   ],
   "source": [
    "%%time\n",
    "# обучим модель и выведем время обучения\n",
    "grid_dtr.fit(features_train_enc, target_train)\n",
    "print('Параметры лучшей модели:', grid_dtr.best_params_) \n",
    "print('RMSE лучшей модели:', -grid_dtr.best_score_)\n",
    "print('Время выполнения')"
   ]
  },
  {
   "cell_type": "markdown",
   "metadata": {},
   "source": [
    "**Вывод**\n",
    "\n",
    "                      RMSE\t  Время\n",
    "        LightGBM \t1552.2\t 12.5с\n",
    "    DecisionTree\t 1749.6\t 2.1с\n",
    "\n",
    "Градиентный бустинг показывает лучше результат, чем решающее дерево. Однако, время обучения и нахождения гипер параметров сильно больше. Необходимо узнать у заказчика максимальное время обучения. Если время его не удовлетворит, то можно использовать более мощное железо, чтобы снизить время."
   ]
  },
  {
   "cell_type": "markdown",
   "metadata": {},
   "source": [
    "## Анализ моделей"
   ]
  },
  {
   "cell_type": "markdown",
   "metadata": {},
   "source": [
    "Проверим наши модели на тестовых выборках"
   ]
  },
  {
   "cell_type": "markdown",
   "metadata": {},
   "source": [
    "**LGBMRegressor**"
   ]
  },
  {
   "cell_type": "code",
   "execution_count": 25,
   "metadata": {},
   "outputs": [
    {
     "name": "stdout",
     "output_type": "stream",
     "text": [
      "RMSE: 1544.0816887632589\n",
      "CPU times: user 1.03 s, sys: 4.74 ms, total: 1.03 s\n",
      "Wall time: 1.01 s\n"
     ]
    }
   ],
   "source": [
    "%%time\n",
    "lgbmr_pred = grid_lgbmr.best_estimator_.predict(features_test)\n",
    "print('RMSE:', rmse(target_test, lgbmr_pred))"
   ]
  },
  {
   "cell_type": "markdown",
   "metadata": {},
   "source": [
    "**DecisionTreeRegressor**"
   ]
  },
  {
   "cell_type": "code",
   "execution_count": 26,
   "metadata": {},
   "outputs": [
    {
     "name": "stdout",
     "output_type": "stream",
     "text": [
      "RMSE: 1729.417286392074\n",
      "CPU times: user 22.4 ms, sys: 7.68 ms, total: 30.1 ms\n",
      "Wall time: 76.4 ms\n"
     ]
    }
   ],
   "source": [
    "%%time\n",
    "dtr_pred = grid_dtr.best_estimator_.predict(features_test_enc)\n",
    "print('RMSE:', rmse(target_test, dtr_pred))"
   ]
  },
  {
   "cell_type": "markdown",
   "metadata": {},
   "source": [
    "**Адекватность модели**"
   ]
  },
  {
   "cell_type": "code",
   "execution_count": 27,
   "metadata": {},
   "outputs": [
    {
     "name": "stdout",
     "output_type": "stream",
     "text": [
      "RMSE: 4596.841400166543\n",
      "CPU times: user 4.19 ms, sys: 8.08 ms, total: 12.3 ms\n",
      "Wall time: 10.6 ms\n"
     ]
    }
   ],
   "source": [
    "%%time\n",
    "# Посчитаем RMSE на средних данных данных \n",
    "pred = [target.mean()] * len(target_test)\n",
    "print('RMSE:', rmse(target_test, pred))"
   ]
  },
  {
   "cell_type": "markdown",
   "metadata": {},
   "source": [
    "**Вывод**\n",
    "\n",
    "                      RMSE\t  Время\n",
    "        LightGBM \t1544.1\t 0.933с\n",
    "    DecisionTree\t 1729.4\t 0.031с\n",
    "            mean     4596.8     0.011c\n",
    "    \n",
    "Ожидаемо градиентный бустинг показывает результат лучше. Однако на предсказывания уходит практически в 5 раз большее времени.\n",
    "Чтобы снизить время, требуется увеличение мощности или уменьшить величену  гиперпаматеров, что снизит качество предсказаний.\n",
    "\n",
    "Для снижения RMSE требуется увеличение количества признаков, например, цвет авто, количество владельцев, также нужно увеличить качество самих данных. Или же усложнить модель, но есть риск переобучения. Наши модели обучены хорошо и адекватно, переобучени не наблюдается и RMSE намного меньше чем у простой модели с заполнением данных средним значением."
   ]
  },
  {
   "cell_type": "markdown",
   "metadata": {},
   "source": [
    "## Вывод"
   ]
  },
  {
   "cell_type": "code",
   "execution_count": 28,
   "metadata": {},
   "outputs": [
    {
     "data": {
      "image/png": "[encoded data removed]",
      "text/plain": [
       "<Figure size 432x288 with 1 Axes>"
      ]
     },
     "metadata": {
      "needs_background": "light"
     },
     "output_type": "display_data"
    },
    {
     "data": {
      "image/png": "[encoded data removed]",
      "text/plain": [
       "<Figure size 432x288 with 1 Axes>"
      ]
     },
     "metadata": {
      "needs_background": "light"
     },
     "output_type": "display_data"
    }
   ],
   "source": [
    "# Посмотрим какие признаки оказались\n",
    "importances = grid_lgbmr.best_estimator_.feature_importances_\n",
    "feature_list = list(features.columns)\n",
    "feature_results = pd.DataFrame({'feature': feature_list,'importance': importances})\n",
    "feature_results = feature_results.sort_values('importance',ascending = False).reset_index(drop=True)\n",
    "\n",
    "plt.barh(y = range(feature_results.shape[0]),      # значение шкалы оси Y гистограммы\n",
    "        width = feature_results['importance'],               # значение оси x гистограммы\n",
    "        tick_label = feature_results['feature'],     # метку шкалы для оси Y гистограммы\n",
    "        color = 'orange',               # цвет заливки гистограммы\n",
    "       )\n",
    "\n",
    "plt.title('Важность Признаков градиентного бустинга')\n",
    "plt.show() \n",
    "\n",
    "importances1 = grid_dtr.best_estimator_.feature_importances_\n",
    "feature_results1 = pd.DataFrame({'feature': feature_list,'importance': importances1})\n",
    "feature_results1 = feature_results1.sort_values('importance',ascending = False).reset_index(drop=True)\n",
    "plt.barh(y = range(feature_results1.shape[0]),      # значение шкалы оси Y гистограммы\n",
    "        width = feature_results1['importance'],               # значение оси x гистограммы\n",
    "        tick_label = feature_results1['feature'],     # метку шкалы для оси Y гистограммы\n",
    "        color = 'blue',               # цвет заливки гистограммы\n",
    "       )\n",
    "\n",
    "plt.title('Важность Признаков решающего дерева')\n",
    "plt.show() "
   ]
  },
  {
   "cell_type": "markdown",
   "metadata": {},
   "source": [
    "В данном проекте мы построили 2 модели предсказания стоимости автомобиля, для этого нам потребовалось провести глубокую предобработку входных данных из-за огромного содержания пропусков и аномальных значений. Пропуски и аномалии встречаются даже в самых важных, на мой взгляд, параметров, которые непосредственно влияют на цену, например, тип КПП, мощность.\n",
    "\n",
    "В основном мы удаляли данные, однако существуют способы их частичного восстановления, но требуется подключение каталога всех автомобилей. Однако полностью данные восстановить не получится, потому что, например, автомобиль BMW 3er был сразу в 4х типах кузова: седан, купе, универсал, кабриолет, а также имел бензиновый и дизельный двигатели одной мощности но с разными КПП. Однако Opel Corsa выпускался только в 1 кузове small (или хэтчбек), но опять же КПП с одним двигателем могла идти разная.\n",
    "\n",
    "Для текущих данных мы получили:\n",
    "\n",
    "                      RMSE\t  Время     RMSE(обуч.)\tВремя обучения\n",
    "        LightGBM \t1544.1\t 0.933с     1552.2\t        12.5с\n",
    "    DecisionTree\t 1729.4\t 0.031с     1749.6\t         2.1с\n",
    "            mean     4596.8     0.011c\n",
    "\n",
    "Самыми важными признаками оказались: мощность и год регистрации в обоих моделях. Для градиентного бустинга дополнительно важны модель и пробег, остальные признаки менее важны, а вот тип топлива практически не влияет, хотя электрические модели и гибридные значительно дороже остальных, но ввиду малого количества в выборке не оказывают заметного влияния.\n",
    "\n",
    "Чтобы снизить RMSE можно пойти 2мя путями:\n",
    " 1. Увеличить значение гипер параметров, но увеличится время предсказания и обучения и возможно начнется переобучение.\n",
    " 2. Улучшить качество входных данных и колчество признаков.\n",
    "\n",
    "Для снижения времени обучения и предсказания требуется либо увеличение мощности железа, на котором происходит обучение, либо снижение величины гиперпараметров, но снизится качество модели и повысится RMSE.\n",
    "\n",
    "Для снижения влияния человеческого фактора требуется заводить vin авто. По vin можно можно сразу однозначно сказать цвет автомобиля, тип кузова, силовую установку, количество владльцев, дату выпуска авто, количество аварий (оффициальных) и даже пробег и комплектацию. Пользователю нужно будет загрузить только фотографии и подправить данные, например если не удалось найти пробег в базах автомастерских и неофициальные ремонты."
   ]
  }
 ],
 "metadata": {
  "ExecuteTimeLog": [
   {
    "duration": 1175,
    "start_time": "2022-01-25T12:10:18.554Z"
   },
   {
    "duration": 1182,
    "start_time": "2022-01-25T12:11:09.089Z"
   },
   {
    "duration": 28,
    "start_time": "2022-01-25T12:11:12.585Z"
   },
   {
    "duration": 68,
    "start_time": "2022-01-25T12:13:33.442Z"
   },
   {
    "duration": 807,
    "start_time": "2022-01-25T12:13:35.138Z"
   },
   {
    "duration": 34,
    "start_time": "2022-01-25T12:13:35.947Z"
   },
   {
    "duration": 1575,
    "start_time": "2022-01-25T12:13:50.602Z"
   },
   {
    "duration": 4,
    "start_time": "2022-01-25T13:35:41.723Z"
   },
   {
    "duration": 1598,
    "start_time": "2022-01-25T13:35:44.775Z"
   },
   {
    "duration": 1608,
    "start_time": "2022-01-25T14:32:39.671Z"
   },
   {
    "duration": 5409,
    "start_time": "2022-01-25T15:02:44.498Z"
   },
   {
    "duration": 15,
    "start_time": "2022-01-25T15:03:00.410Z"
   },
   {
    "duration": 218,
    "start_time": "2022-01-25T15:03:14.288Z"
   },
   {
    "duration": 213,
    "start_time": "2022-01-25T15:03:27.867Z"
   },
   {
    "duration": 1051,
    "start_time": "2022-01-25T15:03:52.892Z"
   },
   {
    "duration": 17,
    "start_time": "2022-01-25T15:04:58.817Z"
   },
   {
    "duration": 9,
    "start_time": "2022-01-25T15:05:05.280Z"
   },
   {
    "duration": 10,
    "start_time": "2022-01-25T15:07:01.526Z"
   },
   {
    "duration": 1159,
    "start_time": "2022-01-25T15:07:11.536Z"
   },
   {
    "duration": 443,
    "start_time": "2022-01-25T15:07:24.357Z"
   },
   {
    "duration": 915,
    "start_time": "2022-01-25T15:10:51.946Z"
   },
   {
    "duration": 858,
    "start_time": "2022-01-25T15:11:37.837Z"
   },
   {
    "duration": 753,
    "start_time": "2022-01-25T15:11:51.922Z"
   },
   {
    "duration": 239,
    "start_time": "2022-01-25T15:14:44.239Z"
   },
   {
    "duration": 204,
    "start_time": "2022-01-25T15:16:07.518Z"
   },
   {
    "duration": 261,
    "start_time": "2022-01-25T15:16:13.844Z"
   },
   {
    "duration": 497,
    "start_time": "2022-01-25T15:17:09.258Z"
   },
   {
    "duration": 423,
    "start_time": "2022-01-25T15:17:58.283Z"
   },
   {
    "duration": 635,
    "start_time": "2022-01-25T15:18:27.624Z"
   },
   {
    "duration": 1027,
    "start_time": "2022-01-25T15:18:47.182Z"
   },
   {
    "duration": 722,
    "start_time": "2022-01-25T15:19:10.363Z"
   },
   {
    "duration": 216,
    "start_time": "2022-01-25T15:22:40.108Z"
   },
   {
    "duration": 21,
    "start_time": "2022-01-25T15:22:50.112Z"
   },
   {
    "duration": 212,
    "start_time": "2022-01-25T15:23:02.153Z"
   },
   {
    "duration": 28,
    "start_time": "2022-01-25T15:23:13.652Z"
   },
   {
    "duration": 11,
    "start_time": "2022-01-25T15:24:42.536Z"
   },
   {
    "duration": 22,
    "start_time": "2022-01-25T15:24:46.490Z"
   },
   {
    "duration": 33,
    "start_time": "2022-01-25T15:25:22.463Z"
   },
   {
    "duration": 34,
    "start_time": "2022-01-25T15:25:26.963Z"
   },
   {
    "duration": 35,
    "start_time": "2022-01-25T15:29:59.749Z"
   },
   {
    "duration": 11,
    "start_time": "2022-01-25T15:30:09.212Z"
   },
   {
    "duration": 11,
    "start_time": "2022-01-25T15:30:11.868Z"
   },
   {
    "duration": 11,
    "start_time": "2022-01-25T15:30:14.074Z"
   },
   {
    "duration": 14,
    "start_time": "2022-01-25T15:30:16.640Z"
   },
   {
    "duration": 12,
    "start_time": "2022-01-25T15:30:19.006Z"
   },
   {
    "duration": 12,
    "start_time": "2022-01-25T15:30:26.654Z"
   },
   {
    "duration": 28,
    "start_time": "2022-01-25T15:30:59.777Z"
   },
   {
    "duration": 13,
    "start_time": "2022-01-25T15:31:07.484Z"
   },
   {
    "duration": 26,
    "start_time": "2022-01-25T15:31:16.044Z"
   },
   {
    "duration": 13,
    "start_time": "2022-01-25T15:31:56.398Z"
   },
   {
    "duration": 16,
    "start_time": "2022-01-25T15:32:15.311Z"
   },
   {
    "duration": 30,
    "start_time": "2022-01-25T15:32:34.145Z"
   },
   {
    "duration": 39,
    "start_time": "2022-01-25T15:36:35.615Z"
   },
   {
    "duration": 39,
    "start_time": "2022-01-25T15:36:56.774Z"
   },
   {
    "duration": 45,
    "start_time": "2022-01-25T15:41:49.020Z"
   },
   {
    "duration": 62,
    "start_time": "2022-01-25T15:41:54.741Z"
   },
   {
    "duration": 28,
    "start_time": "2022-01-25T15:42:55.015Z"
   },
   {
    "duration": 26,
    "start_time": "2022-01-25T15:43:16.491Z"
   },
   {
    "duration": 26,
    "start_time": "2022-01-25T15:46:33.921Z"
   },
   {
    "duration": 25,
    "start_time": "2022-01-25T15:47:21.857Z"
   },
   {
    "duration": 27,
    "start_time": "2022-01-25T15:48:09.428Z"
   },
   {
    "duration": 223,
    "start_time": "2022-01-25T15:59:15.321Z"
   },
   {
    "duration": 26,
    "start_time": "2022-01-25T15:59:48.433Z"
   },
   {
    "duration": 7,
    "start_time": "2022-01-25T16:00:02.416Z"
   },
   {
    "duration": 13,
    "start_time": "2022-01-25T16:00:06.111Z"
   },
   {
    "duration": 53,
    "start_time": "2022-01-25T16:00:22.321Z"
   },
   {
    "duration": 7,
    "start_time": "2022-01-25T16:00:23.097Z"
   },
   {
    "duration": 3,
    "start_time": "2022-01-25T16:00:24.984Z"
   },
   {
    "duration": 40,
    "start_time": "2022-01-25T16:00:25.265Z"
   },
   {
    "duration": 51,
    "start_time": "2022-01-25T16:05:23.173Z"
   },
   {
    "duration": 12,
    "start_time": "2022-01-25T16:05:32.756Z"
   },
   {
    "duration": 37,
    "start_time": "2022-01-25T16:05:42.140Z"
   },
   {
    "duration": 49,
    "start_time": "2022-01-25T16:06:46.606Z"
   },
   {
    "duration": 58,
    "start_time": "2022-01-25T16:07:34.641Z"
   },
   {
    "duration": 52,
    "start_time": "2022-01-25T16:10:22.240Z"
   },
   {
    "duration": 53,
    "start_time": "2022-01-25T16:10:29.860Z"
   },
   {
    "duration": 59,
    "start_time": "2022-01-25T16:10:36.128Z"
   },
   {
    "duration": 53,
    "start_time": "2022-01-25T16:10:48.305Z"
   },
   {
    "duration": 54,
    "start_time": "2022-01-25T16:10:52.197Z"
   },
   {
    "duration": 54,
    "start_time": "2022-01-25T16:10:55.722Z"
   },
   {
    "duration": 54,
    "start_time": "2022-01-25T16:10:59.521Z"
   },
   {
    "duration": 55,
    "start_time": "2022-01-25T16:11:03.528Z"
   },
   {
    "duration": 53,
    "start_time": "2022-01-25T16:11:12.718Z"
   },
   {
    "duration": 53,
    "start_time": "2022-01-25T16:11:18.408Z"
   },
   {
    "duration": 53,
    "start_time": "2022-01-25T16:11:25.141Z"
   },
   {
    "duration": 51,
    "start_time": "2022-01-25T16:11:29.284Z"
   },
   {
    "duration": 57,
    "start_time": "2022-01-25T16:11:36.197Z"
   },
   {
    "duration": 62,
    "start_time": "2022-01-25T16:11:41.206Z"
   },
   {
    "duration": 11,
    "start_time": "2022-01-25T16:13:42.193Z"
   },
   {
    "duration": 10,
    "start_time": "2022-01-25T16:13:48.065Z"
   },
   {
    "duration": 18,
    "start_time": "2022-01-25T16:13:51.498Z"
   },
   {
    "duration": 51,
    "start_time": "2022-01-25T16:13:55.188Z"
   },
   {
    "duration": 18,
    "start_time": "2022-01-25T16:13:56.012Z"
   },
   {
    "duration": 26,
    "start_time": "2022-01-25T16:14:07.544Z"
   },
   {
    "duration": 17,
    "start_time": "2022-01-25T16:14:33.256Z"
   },
   {
    "duration": 20,
    "start_time": "2022-01-25T16:15:01.408Z"
   },
   {
    "duration": 15,
    "start_time": "2022-01-25T16:22:11.535Z"
   },
   {
    "duration": 28,
    "start_time": "2022-01-25T16:22:19.655Z"
   },
   {
    "duration": 1109,
    "start_time": "2022-01-26T04:38:45.734Z"
   },
   {
    "duration": 1567,
    "start_time": "2022-01-26T04:38:46.845Z"
   },
   {
    "duration": 702,
    "start_time": "2022-01-26T04:38:48.415Z"
   },
   {
    "duration": 59,
    "start_time": "2022-01-26T04:38:49.119Z"
   },
   {
    "duration": 18,
    "start_time": "2022-01-26T04:38:49.180Z"
   },
   {
    "duration": 30,
    "start_time": "2022-01-26T04:38:49.200Z"
   },
   {
    "duration": 55,
    "start_time": "2022-01-26T05:36:00.947Z"
   },
   {
    "duration": 432,
    "start_time": "2022-01-26T05:39:18.949Z"
   },
   {
    "duration": 437,
    "start_time": "2022-01-26T05:40:00.127Z"
   },
   {
    "duration": 182,
    "start_time": "2022-01-26T05:40:16.871Z"
   },
   {
    "duration": 1198,
    "start_time": "2022-01-26T05:41:23.735Z"
   },
   {
    "duration": 1432,
    "start_time": "2022-01-26T05:41:54.463Z"
   },
   {
    "duration": 183,
    "start_time": "2022-01-26T05:42:28.892Z"
   },
   {
    "duration": 690,
    "start_time": "2022-01-26T05:42:59.707Z"
   },
   {
    "duration": 421,
    "start_time": "2022-01-26T05:43:29.935Z"
   },
   {
    "duration": 391,
    "start_time": "2022-01-26T05:44:23.230Z"
   },
   {
    "duration": 209,
    "start_time": "2022-01-26T05:45:01.893Z"
   },
   {
    "duration": 138,
    "start_time": "2022-01-26T05:45:55.548Z"
   },
   {
    "duration": 388,
    "start_time": "2022-01-26T05:46:08.028Z"
   },
   {
    "duration": 420,
    "start_time": "2022-01-26T05:51:58.873Z"
   },
   {
    "duration": 158,
    "start_time": "2022-01-26T05:52:12.792Z"
   },
   {
    "duration": 135,
    "start_time": "2022-01-26T05:52:24.413Z"
   },
   {
    "duration": 133,
    "start_time": "2022-01-26T05:52:30.757Z"
   },
   {
    "duration": 129,
    "start_time": "2022-01-26T05:54:12.913Z"
   },
   {
    "duration": 132,
    "start_time": "2022-01-26T05:57:55.408Z"
   },
   {
    "duration": 31,
    "start_time": "2022-01-26T05:58:15.522Z"
   },
   {
    "duration": 125,
    "start_time": "2022-01-26T05:58:20.025Z"
   },
   {
    "duration": 293,
    "start_time": "2022-01-26T06:02:43.687Z"
   },
   {
    "duration": 287,
    "start_time": "2022-01-26T06:03:42.903Z"
   },
   {
    "duration": 267,
    "start_time": "2022-01-26T06:03:50.792Z"
   },
   {
    "duration": 55,
    "start_time": "2022-01-26T06:06:24.313Z"
   },
   {
    "duration": 44,
    "start_time": "2022-01-26T06:07:07.810Z"
   },
   {
    "duration": 103,
    "start_time": "2022-01-26T06:07:31.920Z"
   },
   {
    "duration": 25,
    "start_time": "2022-01-26T06:13:53.216Z"
   },
   {
    "duration": 694,
    "start_time": "2022-01-26T06:14:20.471Z"
   },
   {
    "duration": 126,
    "start_time": "2022-01-26T06:19:16.821Z"
   },
   {
    "duration": 106,
    "start_time": "2022-01-26T06:19:17.462Z"
   },
   {
    "duration": 18,
    "start_time": "2022-01-26T06:19:18.230Z"
   },
   {
    "duration": 780,
    "start_time": "2022-01-26T06:19:22.565Z"
   },
   {
    "duration": 39,
    "start_time": "2022-01-26T06:19:27.517Z"
   },
   {
    "duration": 133,
    "start_time": "2022-01-26T06:23:37.605Z"
   },
   {
    "duration": 120,
    "start_time": "2022-01-26T06:23:38.028Z"
   },
   {
    "duration": 18,
    "start_time": "2022-01-26T06:23:38.596Z"
   },
   {
    "duration": 713,
    "start_time": "2022-01-26T06:23:39.173Z"
   },
   {
    "duration": 29,
    "start_time": "2022-01-26T06:23:43.051Z"
   },
   {
    "duration": 42,
    "start_time": "2022-01-26T06:24:49.075Z"
   },
   {
    "duration": 69,
    "start_time": "2022-01-26T06:24:55.415Z"
   },
   {
    "duration": 56,
    "start_time": "2022-01-26T06:25:02.999Z"
   },
   {
    "duration": 29,
    "start_time": "2022-01-26T06:26:08.901Z"
   },
   {
    "duration": 135,
    "start_time": "2022-01-26T06:30:58.018Z"
   },
   {
    "duration": 116,
    "start_time": "2022-01-26T06:30:58.435Z"
   },
   {
    "duration": 19,
    "start_time": "2022-01-26T06:30:58.986Z"
   },
   {
    "duration": 727,
    "start_time": "2022-01-26T06:30:59.659Z"
   },
   {
    "duration": 26,
    "start_time": "2022-01-26T06:31:01.547Z"
   },
   {
    "duration": 17,
    "start_time": "2022-01-26T06:31:08.447Z"
   },
   {
    "duration": 32,
    "start_time": "2022-01-26T06:31:13.050Z"
   },
   {
    "duration": 199,
    "start_time": "2022-01-26T06:31:28.970Z"
   },
   {
    "duration": 70,
    "start_time": "2022-01-26T06:31:51.962Z"
   },
   {
    "duration": 41359,
    "start_time": "2022-01-26T06:35:54.683Z"
   },
   {
    "duration": 41698,
    "start_time": "2022-01-26T06:37:04.048Z"
   },
   {
    "duration": 54372,
    "start_time": "2022-01-26T06:38:18.175Z"
   },
   {
    "duration": 248,
    "start_time": "2022-01-26T06:39:31.601Z"
   },
   {
    "duration": 363,
    "start_time": "2022-01-26T06:40:26.432Z"
   },
   {
    "duration": 346,
    "start_time": "2022-01-26T06:41:43.263Z"
   },
   {
    "duration": 42604,
    "start_time": "2022-01-26T06:41:56.555Z"
   },
   {
    "duration": 142,
    "start_time": "2022-01-26T06:46:32.624Z"
   },
   {
    "duration": 126,
    "start_time": "2022-01-26T06:46:33.090Z"
   },
   {
    "duration": 19,
    "start_time": "2022-01-26T06:46:33.736Z"
   },
   {
    "duration": 706,
    "start_time": "2022-01-26T06:46:34.601Z"
   },
   {
    "duration": 27,
    "start_time": "2022-01-26T06:46:37.208Z"
   },
   {
    "duration": 16,
    "start_time": "2022-01-26T06:46:41.330Z"
   },
   {
    "duration": 26,
    "start_time": "2022-01-26T06:46:42.616Z"
   },
   {
    "duration": 60,
    "start_time": "2022-01-26T06:46:43.600Z"
   },
   {
    "duration": 351,
    "start_time": "2022-01-26T06:46:47.384Z"
   },
   {
    "duration": 37787,
    "start_time": "2022-01-26T06:46:52.993Z"
   },
   {
    "duration": 37186,
    "start_time": "2022-01-26T06:53:29.677Z"
   },
   {
    "duration": 273,
    "start_time": "2022-01-26T06:54:09.669Z"
   },
   {
    "duration": 9454,
    "start_time": "2022-01-26T06:56:10.325Z"
   },
   {
    "duration": 37159,
    "start_time": "2022-01-26T07:00:01.934Z"
   },
   {
    "duration": 331,
    "start_time": "2022-01-26T07:01:31.388Z"
   },
   {
    "duration": 1213,
    "start_time": "2022-01-26T07:27:55.896Z"
   },
   {
    "duration": 1186,
    "start_time": "2022-01-26T07:28:09.706Z"
   },
   {
    "duration": 28,
    "start_time": "2022-01-26T07:30:02.583Z"
   },
   {
    "duration": 262,
    "start_time": "2022-01-26T07:30:46.484Z"
   },
   {
    "duration": 36,
    "start_time": "2022-01-26T07:32:33.352Z"
   },
   {
    "duration": 16,
    "start_time": "2022-01-26T07:32:34.599Z"
   },
   {
    "duration": 23,
    "start_time": "2022-01-26T07:32:35.623Z"
   },
   {
    "duration": 71,
    "start_time": "2022-01-26T07:32:36.214Z"
   },
   {
    "duration": 1197,
    "start_time": "2022-01-26T07:33:41.079Z"
   },
   {
    "duration": 1238,
    "start_time": "2022-01-26T07:34:01.104Z"
   },
   {
    "duration": 1378,
    "start_time": "2022-01-26T07:34:15.869Z"
   },
   {
    "duration": 1668,
    "start_time": "2022-01-26T07:34:26.893Z"
   },
   {
    "duration": 45,
    "start_time": "2022-01-26T07:35:13.524Z"
   },
   {
    "duration": 30,
    "start_time": "2022-01-26T07:35:22.108Z"
   },
   {
    "duration": 28,
    "start_time": "2022-01-26T07:35:30.115Z"
   },
   {
    "duration": 9465,
    "start_time": "2022-01-26T07:36:51.574Z"
   },
   {
    "duration": 338,
    "start_time": "2022-01-26T07:38:23.356Z"
   },
   {
    "duration": 82,
    "start_time": "2022-01-26T07:58:14.944Z"
   },
   {
    "duration": 31,
    "start_time": "2022-01-26T07:58:20.448Z"
   },
   {
    "duration": 35,
    "start_time": "2022-01-26T07:58:25.952Z"
   },
   {
    "duration": 33,
    "start_time": "2022-01-26T07:58:34.473Z"
   },
   {
    "duration": 272,
    "start_time": "2022-01-26T07:58:42.288Z"
   },
   {
    "duration": 29,
    "start_time": "2022-01-26T07:58:52.503Z"
   },
   {
    "duration": 27,
    "start_time": "2022-01-26T07:59:58.894Z"
   },
   {
    "duration": 30,
    "start_time": "2022-01-26T08:00:42.777Z"
   },
   {
    "duration": 9520,
    "start_time": "2022-01-26T08:00:42.829Z"
   },
   {
    "duration": 31,
    "start_time": "2022-01-26T08:01:19.992Z"
   },
   {
    "duration": 27,
    "start_time": "2022-01-26T08:01:50.505Z"
   },
   {
    "duration": 33,
    "start_time": "2022-01-26T08:01:57.272Z"
   },
   {
    "duration": 35,
    "start_time": "2022-01-26T08:02:07.561Z"
   },
   {
    "duration": 31,
    "start_time": "2022-01-26T08:02:44.855Z"
   },
   {
    "duration": 52,
    "start_time": "2022-01-26T08:04:15.502Z"
   },
   {
    "duration": 136,
    "start_time": "2022-01-26T08:04:37.525Z"
   },
   {
    "duration": 117,
    "start_time": "2022-01-26T08:04:37.949Z"
   },
   {
    "duration": 18,
    "start_time": "2022-01-26T08:04:38.621Z"
   },
   {
    "duration": 703,
    "start_time": "2022-01-26T08:04:39.541Z"
   },
   {
    "duration": 35,
    "start_time": "2022-01-26T08:04:41.485Z"
   },
   {
    "duration": 22,
    "start_time": "2022-01-26T08:04:42.468Z"
   },
   {
    "duration": 38,
    "start_time": "2022-01-26T08:04:43.348Z"
   },
   {
    "duration": 73,
    "start_time": "2022-01-26T08:04:43.856Z"
   },
   {
    "duration": -468,
    "start_time": "2022-01-26T08:05:17.008Z"
   },
   {
    "duration": -473,
    "start_time": "2022-01-26T08:05:17.014Z"
   },
   {
    "duration": -480,
    "start_time": "2022-01-26T08:05:17.022Z"
   },
   {
    "duration": 63474,
    "start_time": "2022-01-26T08:05:26.468Z"
   },
   {
    "duration": 349,
    "start_time": "2022-01-26T08:06:40.783Z"
   },
   {
    "duration": 64,
    "start_time": "2022-01-26T08:06:44.879Z"
   },
   {
    "duration": 5902,
    "start_time": "2022-01-26T08:07:15.007Z"
   },
   {
    "duration": 2009,
    "start_time": "2022-01-26T08:39:44.696Z"
   },
   {
    "duration": 2383,
    "start_time": "2022-01-26T08:40:56.319Z"
   },
   {
    "duration": 1886,
    "start_time": "2022-01-26T08:41:34.518Z"
   },
   {
    "duration": 2027,
    "start_time": "2022-01-26T08:41:44.333Z"
   },
   {
    "duration": 1775,
    "start_time": "2022-01-26T08:41:56.534Z"
   },
   {
    "duration": 1892,
    "start_time": "2022-01-26T08:42:07.773Z"
   },
   {
    "duration": 1978,
    "start_time": "2022-01-26T08:42:44.764Z"
   },
   {
    "duration": 1753,
    "start_time": "2022-01-26T08:42:56.793Z"
   },
   {
    "duration": 1115,
    "start_time": "2022-01-26T09:24:07.430Z"
   },
   {
    "duration": 1625,
    "start_time": "2022-01-26T09:24:08.547Z"
   },
   {
    "duration": 185,
    "start_time": "2022-01-26T09:24:10.177Z"
   },
   {
    "duration": 128,
    "start_time": "2022-01-26T09:24:10.372Z"
   },
   {
    "duration": 19,
    "start_time": "2022-01-26T09:24:10.501Z"
   },
   {
    "duration": 737,
    "start_time": "2022-01-26T09:24:10.522Z"
   },
   {
    "duration": 38,
    "start_time": "2022-01-26T09:24:11.261Z"
   },
   {
    "duration": 15,
    "start_time": "2022-01-26T09:24:11.301Z"
   },
   {
    "duration": 29,
    "start_time": "2022-01-26T09:24:11.318Z"
   },
   {
    "duration": 75,
    "start_time": "2022-01-26T09:24:11.349Z"
   },
   {
    "duration": 36603,
    "start_time": "2022-01-26T09:24:11.426Z"
   },
   {
    "duration": 392,
    "start_time": "2022-01-26T09:24:48.031Z"
   },
   {
    "duration": 74,
    "start_time": "2022-01-26T09:24:48.425Z"
   },
   {
    "duration": 1916,
    "start_time": "2022-01-26T09:24:48.501Z"
   },
   {
    "duration": 326,
    "start_time": "2022-01-26T09:37:32.372Z"
   },
   {
    "duration": 104,
    "start_time": "2022-01-26T09:40:19.313Z"
   },
   {
    "duration": 64,
    "start_time": "2022-01-26T09:40:30.321Z"
   },
   {
    "duration": 351,
    "start_time": "2022-01-26T09:40:40.353Z"
   },
   {
    "duration": 1811,
    "start_time": "2022-01-26T09:40:49.633Z"
   },
   {
    "duration": 1854,
    "start_time": "2022-01-26T09:42:29.564Z"
   },
   {
    "duration": 108,
    "start_time": "2022-01-26T09:46:45.250Z"
   },
   {
    "duration": 13,
    "start_time": "2022-01-26T09:46:46.074Z"
   },
   {
    "duration": 1139,
    "start_time": "2022-01-26T09:47:03.805Z"
   },
   {
    "duration": 1599,
    "start_time": "2022-01-26T09:47:04.945Z"
   },
   {
    "duration": 173,
    "start_time": "2022-01-26T09:47:06.545Z"
   },
   {
    "duration": 128,
    "start_time": "2022-01-26T09:47:06.719Z"
   },
   {
    "duration": 28,
    "start_time": "2022-01-26T09:47:06.848Z"
   },
   {
    "duration": 685,
    "start_time": "2022-01-26T09:47:06.878Z"
   },
   {
    "duration": 33,
    "start_time": "2022-01-26T09:47:07.564Z"
   },
   {
    "duration": 16,
    "start_time": "2022-01-26T09:47:07.599Z"
   },
   {
    "duration": 28,
    "start_time": "2022-01-26T09:47:07.616Z"
   },
   {
    "duration": 81,
    "start_time": "2022-01-26T09:47:07.646Z"
   },
   {
    "duration": 141,
    "start_time": "2022-01-26T09:47:07.728Z"
   },
   {
    "duration": 12,
    "start_time": "2022-01-26T09:47:07.871Z"
   },
   {
    "duration": 35846,
    "start_time": "2022-01-26T09:47:07.885Z"
   },
   {
    "duration": 370,
    "start_time": "2022-01-26T09:47:43.733Z"
   },
   {
    "duration": 3813,
    "start_time": "2022-01-26T09:47:44.104Z"
   },
   {
    "duration": 1151,
    "start_time": "2022-01-26T09:48:44.031Z"
   },
   {
    "duration": 1674,
    "start_time": "2022-01-26T09:48:45.184Z"
   },
   {
    "duration": 275,
    "start_time": "2022-01-26T09:48:46.860Z"
   },
   {
    "duration": 128,
    "start_time": "2022-01-26T09:48:47.137Z"
   },
   {
    "duration": 23,
    "start_time": "2022-01-26T09:48:47.267Z"
   },
   {
    "duration": 805,
    "start_time": "2022-01-26T09:48:47.291Z"
   },
   {
    "duration": 35,
    "start_time": "2022-01-26T09:48:48.098Z"
   },
   {
    "duration": 45,
    "start_time": "2022-01-26T09:48:48.136Z"
   },
   {
    "duration": 28,
    "start_time": "2022-01-26T09:48:48.183Z"
   },
   {
    "duration": 79,
    "start_time": "2022-01-26T09:48:48.213Z"
   },
   {
    "duration": 77,
    "start_time": "2022-01-26T09:48:48.294Z"
   },
   {
    "duration": 39268,
    "start_time": "2022-01-26T09:48:48.373Z"
   },
   {
    "duration": 373,
    "start_time": "2022-01-26T09:49:27.643Z"
   },
   {
    "duration": 881,
    "start_time": "2022-01-26T09:49:28.018Z"
   },
   {
    "duration": 1764,
    "start_time": "2022-01-26T09:49:45.370Z"
   },
   {
    "duration": 118,
    "start_time": "2022-01-26T10:19:34.057Z"
   },
   {
    "duration": 431,
    "start_time": "2022-01-26T10:21:50.694Z"
   },
   {
    "duration": 4,
    "start_time": "2022-01-26T10:21:56.759Z"
   },
   {
    "duration": 366,
    "start_time": "2022-01-26T10:22:01.670Z"
   },
   {
    "duration": 228,
    "start_time": "2022-01-26T10:22:21.535Z"
   },
   {
    "duration": 65,
    "start_time": "2022-01-26T10:22:29.094Z"
   },
   {
    "duration": 510,
    "start_time": "2022-01-26T10:22:31.999Z"
   },
   {
    "duration": 558,
    "start_time": "2022-01-26T10:23:27.521Z"
   },
   {
    "duration": 575,
    "start_time": "2022-01-26T10:23:38.961Z"
   },
   {
    "duration": 404,
    "start_time": "2022-01-26T10:25:35.246Z"
   },
   {
    "duration": 330,
    "start_time": "2022-01-26T10:25:56.342Z"
   },
   {
    "duration": 348,
    "start_time": "2022-01-26T10:26:48.589Z"
   },
   {
    "duration": 469,
    "start_time": "2022-01-26T10:30:49.108Z"
   },
   {
    "duration": 404,
    "start_time": "2022-01-26T10:32:27.214Z"
   },
   {
    "duration": 367,
    "start_time": "2022-01-26T10:33:46.612Z"
   },
   {
    "duration": 6,
    "start_time": "2022-01-26T10:34:14.100Z"
   },
   {
    "duration": 71,
    "start_time": "2022-01-26T10:34:17.972Z"
   },
   {
    "duration": 479,
    "start_time": "2022-01-26T10:34:19.300Z"
   },
   {
    "duration": 423,
    "start_time": "2022-01-26T10:34:26.307Z"
   },
   {
    "duration": 403,
    "start_time": "2022-01-26T10:34:28.508Z"
   },
   {
    "duration": 428,
    "start_time": "2022-01-26T10:34:30.508Z"
   },
   {
    "duration": 170,
    "start_time": "2022-01-26T10:35:00.532Z"
   },
   {
    "duration": 137,
    "start_time": "2022-01-26T10:35:00.930Z"
   },
   {
    "duration": 17,
    "start_time": "2022-01-26T10:35:01.453Z"
   },
   {
    "duration": 724,
    "start_time": "2022-01-26T10:35:03.643Z"
   },
   {
    "duration": 34,
    "start_time": "2022-01-26T10:35:06.571Z"
   },
   {
    "duration": 16,
    "start_time": "2022-01-26T10:35:07.483Z"
   },
   {
    "duration": 27,
    "start_time": "2022-01-26T10:35:08.627Z"
   },
   {
    "duration": 68,
    "start_time": "2022-01-26T10:35:09.338Z"
   },
   {
    "duration": 2130,
    "start_time": "2022-01-26T10:35:14.679Z"
   },
   {
    "duration": 147,
    "start_time": "2022-01-26T10:35:20.370Z"
   },
   {
    "duration": 59,
    "start_time": "2022-01-26T10:35:25.998Z"
   },
   {
    "duration": 1401,
    "start_time": "2022-01-26T10:35:29.787Z"
   },
   {
    "duration": 148,
    "start_time": "2022-01-26T10:35:51.790Z"
   },
   {
    "duration": 127,
    "start_time": "2022-01-26T10:35:51.996Z"
   },
   {
    "duration": 18,
    "start_time": "2022-01-26T10:35:52.205Z"
   },
   {
    "duration": 715,
    "start_time": "2022-01-26T10:35:53.013Z"
   },
   {
    "duration": 27,
    "start_time": "2022-01-26T10:35:53.824Z"
   },
   {
    "duration": 18,
    "start_time": "2022-01-26T10:35:54.997Z"
   },
   {
    "duration": 29,
    "start_time": "2022-01-26T10:35:55.789Z"
   },
   {
    "duration": 63,
    "start_time": "2022-01-26T10:35:56.782Z"
   },
   {
    "duration": 2016,
    "start_time": "2022-01-26T10:36:02.982Z"
   },
   {
    "duration": 213,
    "start_time": "2022-01-26T10:36:07.365Z"
   },
   {
    "duration": 4064,
    "start_time": "2022-01-26T10:36:22.454Z"
   },
   {
    "duration": 1212,
    "start_time": "2022-01-26T10:37:19.605Z"
   },
   {
    "duration": 1830,
    "start_time": "2022-01-26T10:37:20.819Z"
   },
   {
    "duration": 193,
    "start_time": "2022-01-26T10:37:22.651Z"
   },
   {
    "duration": 147,
    "start_time": "2022-01-26T10:37:22.846Z"
   },
   {
    "duration": 22,
    "start_time": "2022-01-26T10:37:22.996Z"
   },
   {
    "duration": 752,
    "start_time": "2022-01-26T10:37:23.020Z"
   },
   {
    "duration": 32,
    "start_time": "2022-01-26T10:37:23.776Z"
   },
   {
    "duration": 16,
    "start_time": "2022-01-26T10:37:23.810Z"
   },
   {
    "duration": 57,
    "start_time": "2022-01-26T10:37:23.828Z"
   },
   {
    "duration": 60,
    "start_time": "2022-01-26T10:37:23.888Z"
   },
   {
    "duration": 36380,
    "start_time": "2022-01-26T10:37:23.950Z"
   },
   {
    "duration": 365,
    "start_time": "2022-01-26T10:38:00.332Z"
   },
   {
    "duration": 950,
    "start_time": "2022-01-26T10:38:00.698Z"
   },
   {
    "duration": 106,
    "start_time": "2022-01-26T10:38:01.650Z"
   },
   {
    "duration": 2,
    "start_time": "2022-01-26T10:38:01.758Z"
   },
   {
    "duration": 113,
    "start_time": "2022-01-26T10:38:01.762Z"
   },
   {
    "duration": 14,
    "start_time": "2022-01-26T10:38:01.878Z"
   },
   {
    "duration": 2055,
    "start_time": "2022-01-26T10:38:13.482Z"
   },
   {
    "duration": 100,
    "start_time": "2022-01-26T10:38:20.106Z"
   },
   {
    "duration": 3,
    "start_time": "2022-01-26T10:39:05.441Z"
   },
   {
    "duration": 540,
    "start_time": "2022-01-26T10:40:33.997Z"
   },
   {
    "duration": 529,
    "start_time": "2022-01-26T10:40:40.620Z"
   },
   {
    "duration": 101,
    "start_time": "2022-01-26T10:41:08.133Z"
   },
   {
    "duration": 139,
    "start_time": "2022-01-26T10:41:23.155Z"
   },
   {
    "duration": 3,
    "start_time": "2022-01-26T10:41:25.675Z"
   },
   {
    "duration": 105,
    "start_time": "2022-01-26T10:41:27.172Z"
   },
   {
    "duration": 99,
    "start_time": "2022-01-26T10:41:29.337Z"
   },
   {
    "duration": 367,
    "start_time": "2022-01-26T10:42:05.414Z"
   },
   {
    "duration": 17,
    "start_time": "2022-01-26T10:45:06.507Z"
   },
   {
    "duration": 97,
    "start_time": "2022-01-26T10:45:52.778Z"
   },
   {
    "duration": 23,
    "start_time": "2022-01-26T10:45:55.866Z"
   },
   {
    "duration": 348,
    "start_time": "2022-01-26T10:46:01.460Z"
   },
   {
    "duration": 102,
    "start_time": "2022-01-26T10:50:28.394Z"
   },
   {
    "duration": 358,
    "start_time": "2022-01-26T10:50:35.507Z"
   },
   {
    "duration": 417,
    "start_time": "2022-01-26T10:55:01.177Z"
   },
   {
    "duration": 122,
    "start_time": "2022-01-26T10:55:38.167Z"
   },
   {
    "duration": 690,
    "start_time": "2022-01-26T10:55:44.998Z"
   },
   {
    "duration": 438,
    "start_time": "2022-01-26T10:55:51.007Z"
   },
   {
    "duration": 345,
    "start_time": "2022-01-26T10:56:04.655Z"
   },
   {
    "duration": 374,
    "start_time": "2022-01-26T10:56:37.653Z"
   },
   {
    "duration": 90,
    "start_time": "2022-01-26T10:57:40.688Z"
   },
   {
    "duration": 358,
    "start_time": "2022-01-26T10:57:43.393Z"
   },
   {
    "duration": 361,
    "start_time": "2022-01-26T10:58:01.148Z"
   },
   {
    "duration": 51,
    "start_time": "2022-01-26T10:58:45.200Z"
   },
   {
    "duration": 102,
    "start_time": "2022-01-26T10:58:59.399Z"
   },
   {
    "duration": 475,
    "start_time": "2022-01-26T10:59:36.263Z"
   },
   {
    "duration": 132,
    "start_time": "2022-01-26T10:59:57.125Z"
   },
   {
    "duration": 18,
    "start_time": "2022-01-26T11:00:17.038Z"
   },
   {
    "duration": 493,
    "start_time": "2022-01-26T11:01:24.617Z"
   },
   {
    "duration": 465,
    "start_time": "2022-01-26T11:02:03.039Z"
   },
   {
    "duration": 96,
    "start_time": "2022-01-26T11:02:05.335Z"
   },
   {
    "duration": 496,
    "start_time": "2022-01-26T11:02:06.192Z"
   },
   {
    "duration": 302,
    "start_time": "2022-01-26T11:02:26.263Z"
   },
   {
    "duration": 479,
    "start_time": "2022-01-26T11:02:58.646Z"
   },
   {
    "duration": 320,
    "start_time": "2022-01-26T11:03:37.405Z"
   },
   {
    "duration": 360,
    "start_time": "2022-01-26T11:03:49.382Z"
   },
   {
    "duration": 356,
    "start_time": "2022-01-26T11:04:02.509Z"
   },
   {
    "duration": 100,
    "start_time": "2022-01-26T11:04:11.085Z"
   },
   {
    "duration": 335,
    "start_time": "2022-01-26T11:04:11.864Z"
   },
   {
    "duration": 24,
    "start_time": "2022-01-26T11:04:33.207Z"
   },
   {
    "duration": 95,
    "start_time": "2022-01-26T11:04:53.152Z"
   },
   {
    "duration": 16,
    "start_time": "2022-01-26T11:04:54.144Z"
   },
   {
    "duration": 290,
    "start_time": "2022-01-26T11:04:57.077Z"
   },
   {
    "duration": 18,
    "start_time": "2022-01-26T11:05:02.087Z"
   },
   {
    "duration": 93,
    "start_time": "2022-01-26T11:05:19.840Z"
   },
   {
    "duration": 16,
    "start_time": "2022-01-26T11:05:20.463Z"
   },
   {
    "duration": 7,
    "start_time": "2022-01-26T11:05:40.535Z"
   },
   {
    "duration": 20,
    "start_time": "2022-01-26T11:05:45.702Z"
   },
   {
    "duration": 369,
    "start_time": "2022-01-26T11:06:00.794Z"
   },
   {
    "duration": 320,
    "start_time": "2022-01-26T11:06:28.864Z"
   },
   {
    "duration": 16,
    "start_time": "2022-01-26T11:06:32.790Z"
   },
   {
    "duration": 311,
    "start_time": "2022-01-26T11:06:35.383Z"
   },
   {
    "duration": 343,
    "start_time": "2022-01-26T11:07:26.158Z"
   },
   {
    "duration": 319,
    "start_time": "2022-01-26T11:07:49.981Z"
   },
   {
    "duration": 94,
    "start_time": "2022-01-26T11:07:55.013Z"
   },
   {
    "duration": 16,
    "start_time": "2022-01-26T11:07:55.644Z"
   },
   {
    "duration": 313,
    "start_time": "2022-01-26T11:07:57.285Z"
   },
   {
    "duration": 17,
    "start_time": "2022-01-26T11:08:36.580Z"
   },
   {
    "duration": 325,
    "start_time": "2022-01-26T11:09:50.895Z"
   },
   {
    "duration": 426,
    "start_time": "2022-01-26T11:10:53.677Z"
   },
   {
    "duration": 502,
    "start_time": "2022-01-26T11:11:40.964Z"
   },
   {
    "duration": 494,
    "start_time": "2022-01-26T11:11:54.251Z"
   },
   {
    "duration": 10,
    "start_time": "2022-01-26T11:12:13.371Z"
   },
   {
    "duration": 347,
    "start_time": "2022-01-26T11:14:31.525Z"
   },
   {
    "duration": 354,
    "start_time": "2022-01-26T11:14:51.357Z"
   },
   {
    "duration": 413,
    "start_time": "2022-01-26T11:16:10.891Z"
   },
   {
    "duration": 363,
    "start_time": "2022-01-26T11:22:54.891Z"
   },
   {
    "duration": 455,
    "start_time": "2022-01-26T11:23:45.299Z"
   },
   {
    "duration": 776,
    "start_time": "2022-01-26T11:24:37.546Z"
   },
   {
    "duration": 426,
    "start_time": "2022-01-26T11:24:58.811Z"
   },
   {
    "duration": 1206,
    "start_time": "2022-01-26T11:30:41.853Z"
   },
   {
    "duration": 1599,
    "start_time": "2022-01-26T11:30:43.060Z"
   },
   {
    "duration": 184,
    "start_time": "2022-01-26T11:30:44.671Z"
   },
   {
    "duration": 130,
    "start_time": "2022-01-26T11:30:44.857Z"
   },
   {
    "duration": 19,
    "start_time": "2022-01-26T11:30:44.989Z"
   },
   {
    "duration": 716,
    "start_time": "2022-01-26T11:30:45.010Z"
   },
   {
    "duration": 29,
    "start_time": "2022-01-26T11:30:45.729Z"
   },
   {
    "duration": 17,
    "start_time": "2022-01-26T11:30:45.771Z"
   },
   {
    "duration": 29,
    "start_time": "2022-01-26T11:30:45.790Z"
   },
   {
    "duration": 75,
    "start_time": "2022-01-26T11:30:45.821Z"
   },
   {
    "duration": 35379,
    "start_time": "2022-01-26T11:30:45.898Z"
   },
   {
    "duration": 319,
    "start_time": "2022-01-26T11:31:21.279Z"
   },
   {
    "duration": 2023,
    "start_time": "2022-01-26T11:31:21.600Z"
   },
   {
    "duration": 103,
    "start_time": "2022-01-26T11:31:23.625Z"
   },
   {
    "duration": 2,
    "start_time": "2022-01-26T11:31:23.730Z"
   },
   {
    "duration": 106,
    "start_time": "2022-01-26T11:31:23.733Z"
   },
   {
    "duration": 10,
    "start_time": "2022-01-26T11:31:23.841Z"
   },
   {
    "duration": 527,
    "start_time": "2022-01-26T11:31:23.852Z"
   },
   {
    "duration": 104,
    "start_time": "2022-01-26T11:37:11.253Z"
   },
   {
    "duration": 59,
    "start_time": "2022-01-26T11:37:12.174Z"
   },
   {
    "duration": 12,
    "start_time": "2022-01-26T11:37:13.110Z"
   },
   {
    "duration": 22,
    "start_time": "2022-01-26T11:37:18.454Z"
   },
   {
    "duration": 361,
    "start_time": "2022-01-26T11:38:53.073Z"
   },
   {
    "duration": 460,
    "start_time": "2022-01-26T11:42:27.991Z"
   },
   {
    "duration": 4,
    "start_time": "2022-01-26T11:42:50.056Z"
   },
   {
    "duration": 123,
    "start_time": "2022-01-26T11:42:54.423Z"
   },
   {
    "duration": 129,
    "start_time": "2022-01-26T11:43:08.463Z"
   },
   {
    "duration": 120,
    "start_time": "2022-01-26T11:43:45.454Z"
   },
   {
    "duration": 908,
    "start_time": "2022-01-26T11:45:38.780Z"
   },
   {
    "duration": 533,
    "start_time": "2022-01-26T11:46:40.823Z"
   },
   {
    "duration": 622,
    "start_time": "2022-01-26T11:47:30.718Z"
   },
   {
    "duration": 13,
    "start_time": "2022-01-26T11:47:33.205Z"
   },
   {
    "duration": 592,
    "start_time": "2022-01-26T11:47:58.230Z"
   },
   {
    "duration": 12,
    "start_time": "2022-01-26T11:48:05.021Z"
   },
   {
    "duration": 1462,
    "start_time": "2022-01-26T11:48:14.493Z"
   },
   {
    "duration": 2517,
    "start_time": "2022-01-26T11:48:15.957Z"
   },
   {
    "duration": 174,
    "start_time": "2022-01-26T11:48:18.476Z"
   },
   {
    "duration": 234,
    "start_time": "2022-01-26T11:48:18.651Z"
   },
   {
    "duration": 19,
    "start_time": "2022-01-26T11:48:18.887Z"
   },
   {
    "duration": 840,
    "start_time": "2022-01-26T11:48:18.908Z"
   },
   {
    "duration": 40,
    "start_time": "2022-01-26T11:48:19.750Z"
   },
   {
    "duration": 18,
    "start_time": "2022-01-26T11:48:19.792Z"
   },
   {
    "duration": 30,
    "start_time": "2022-01-26T11:48:19.812Z"
   },
   {
    "duration": 79,
    "start_time": "2022-01-26T11:48:19.844Z"
   },
   {
    "duration": 50480,
    "start_time": "2022-01-26T11:48:19.925Z"
   },
   {
    "duration": 389,
    "start_time": "2022-01-26T11:49:10.407Z"
   },
   {
    "duration": 2668,
    "start_time": "2022-01-26T11:49:10.798Z"
   },
   {
    "duration": 133,
    "start_time": "2022-01-26T11:49:13.472Z"
   },
   {
    "duration": 152,
    "start_time": "2022-01-26T11:49:13.608Z"
   },
   {
    "duration": 84,
    "start_time": "2022-01-26T11:49:13.762Z"
   },
   {
    "duration": 28,
    "start_time": "2022-01-26T11:49:13.848Z"
   },
   {
    "duration": 955,
    "start_time": "2022-01-26T11:49:13.878Z"
   },
   {
    "duration": 15,
    "start_time": "2022-01-26T11:49:14.835Z"
   },
   {
    "duration": 718,
    "start_time": "2022-01-26T11:49:14.853Z"
   },
   {
    "duration": 613,
    "start_time": "2022-01-26T11:49:43.078Z"
   },
   {
    "duration": 19,
    "start_time": "2022-01-26T11:50:17.341Z"
   },
   {
    "duration": 564,
    "start_time": "2022-01-26T11:50:24.941Z"
   },
   {
    "duration": 18,
    "start_time": "2022-01-26T11:51:27.415Z"
   },
   {
    "duration": 558,
    "start_time": "2022-01-26T11:52:21.447Z"
   },
   {
    "duration": 19,
    "start_time": "2022-01-26T11:52:35.254Z"
   },
   {
    "duration": 588,
    "start_time": "2022-01-26T11:54:01.055Z"
   },
   {
    "duration": 426,
    "start_time": "2022-01-26T11:55:04.096Z"
   },
   {
    "duration": 384,
    "start_time": "2022-01-26T11:55:19.696Z"
   },
   {
    "duration": 625,
    "start_time": "2022-01-26T11:56:26.134Z"
   },
   {
    "duration": 18,
    "start_time": "2022-01-26T11:56:31.038Z"
   },
   {
    "duration": 385,
    "start_time": "2022-01-26T11:56:35.894Z"
   },
   {
    "duration": 996,
    "start_time": "2022-01-26T11:57:31.284Z"
   },
   {
    "duration": 27,
    "start_time": "2022-01-26T11:57:33.324Z"
   },
   {
    "duration": 513,
    "start_time": "2022-01-26T11:57:47.917Z"
   },
   {
    "duration": 178,
    "start_time": "2022-01-26T11:58:23.348Z"
   },
   {
    "duration": 496,
    "start_time": "2022-01-26T11:59:36.950Z"
   },
   {
    "duration": 497,
    "start_time": "2022-01-26T11:59:45.038Z"
   },
   {
    "duration": 518,
    "start_time": "2022-01-26T12:00:00.802Z"
   },
   {
    "duration": 498,
    "start_time": "2022-01-26T12:00:16.678Z"
   },
   {
    "duration": 538,
    "start_time": "2022-01-26T12:00:41.549Z"
   },
   {
    "duration": 560,
    "start_time": "2022-01-26T12:02:40.611Z"
   },
   {
    "duration": 495,
    "start_time": "2022-01-26T12:02:48.499Z"
   },
   {
    "duration": 475,
    "start_time": "2022-01-26T12:03:17.142Z"
   },
   {
    "duration": 548,
    "start_time": "2022-01-26T12:03:45.102Z"
   },
   {
    "duration": 491,
    "start_time": "2022-01-26T12:07:52.556Z"
   },
   {
    "duration": 549,
    "start_time": "2022-01-26T12:08:06.557Z"
   },
   {
    "duration": 526,
    "start_time": "2022-01-26T12:08:22.492Z"
   },
   {
    "duration": 492,
    "start_time": "2022-01-26T12:08:41.043Z"
   },
   {
    "duration": 177,
    "start_time": "2022-01-26T12:08:55.971Z"
   },
   {
    "duration": 205,
    "start_time": "2022-01-26T12:09:32.067Z"
   },
   {
    "duration": 166,
    "start_time": "2022-01-26T12:10:11.401Z"
   },
   {
    "duration": 170,
    "start_time": "2022-01-26T12:10:56.449Z"
   },
   {
    "duration": 1149,
    "start_time": "2022-01-26T13:47:00.209Z"
   },
   {
    "duration": 1556,
    "start_time": "2022-01-26T13:47:01.360Z"
   },
   {
    "duration": 174,
    "start_time": "2022-01-26T13:47:02.919Z"
   },
   {
    "duration": 132,
    "start_time": "2022-01-26T13:47:03.095Z"
   },
   {
    "duration": 19,
    "start_time": "2022-01-26T13:47:03.229Z"
   },
   {
    "duration": 703,
    "start_time": "2022-01-26T13:47:03.250Z"
   },
   {
    "duration": 37,
    "start_time": "2022-01-26T13:47:03.954Z"
   },
   {
    "duration": 16,
    "start_time": "2022-01-26T13:47:03.993Z"
   },
   {
    "duration": 28,
    "start_time": "2022-01-26T13:47:04.011Z"
   },
   {
    "duration": 85,
    "start_time": "2022-01-26T13:47:04.041Z"
   },
   {
    "duration": 34793,
    "start_time": "2022-01-26T13:47:04.127Z"
   },
   {
    "duration": 334,
    "start_time": "2022-01-26T13:47:38.922Z"
   },
   {
    "duration": 1859,
    "start_time": "2022-01-26T13:47:39.257Z"
   },
   {
    "duration": 96,
    "start_time": "2022-01-26T13:47:41.119Z"
   },
   {
    "duration": 113,
    "start_time": "2022-01-26T13:47:41.217Z"
   },
   {
    "duration": 64,
    "start_time": "2022-01-26T13:47:41.332Z"
   },
   {
    "duration": 12,
    "start_time": "2022-01-26T13:47:41.398Z"
   },
   {
    "duration": 581,
    "start_time": "2022-01-26T13:47:41.412Z"
   },
   {
    "duration": 17,
    "start_time": "2022-01-26T13:47:41.994Z"
   },
   {
    "duration": 226,
    "start_time": "2022-01-26T13:47:42.013Z"
   },
   {
    "duration": 40,
    "start_time": "2022-01-26T14:30:51.842Z"
   },
   {
    "duration": 12,
    "start_time": "2022-01-26T14:30:57.375Z"
   },
   {
    "duration": 1045,
    "start_time": "2022-01-26T14:31:15.589Z"
   },
   {
    "duration": 287,
    "start_time": "2022-01-26T14:31:39.317Z"
   },
   {
    "duration": 1747,
    "start_time": "2022-01-26T14:35:38.343Z"
   },
   {
    "duration": 3,
    "start_time": "2022-01-26T14:35:54.111Z"
   },
   {
    "duration": 347,
    "start_time": "2022-01-26T14:54:58.181Z"
   },
   {
    "duration": 276,
    "start_time": "2022-01-26T14:59:25.446Z"
   },
   {
    "duration": 4,
    "start_time": "2022-01-26T15:01:14.729Z"
   },
   {
    "duration": 5,
    "start_time": "2022-01-26T15:01:21.736Z"
   },
   {
    "duration": 4,
    "start_time": "2022-01-26T15:02:43.097Z"
   },
   {
    "duration": 4,
    "start_time": "2022-01-26T15:02:51.953Z"
   },
   {
    "duration": 5,
    "start_time": "2022-01-26T15:02:58.171Z"
   },
   {
    "duration": 298,
    "start_time": "2022-01-26T15:03:07.990Z"
   },
   {
    "duration": 4,
    "start_time": "2022-01-26T15:03:30.993Z"
   },
   {
    "duration": 4,
    "start_time": "2022-01-26T15:03:35.363Z"
   },
   {
    "duration": 275,
    "start_time": "2022-01-26T15:03:37.558Z"
   },
   {
    "duration": 272,
    "start_time": "2022-01-26T15:03:53.367Z"
   },
   {
    "duration": 3,
    "start_time": "2022-01-26T15:08:48.823Z"
   },
   {
    "duration": 3,
    "start_time": "2022-01-26T15:09:28.371Z"
   },
   {
    "duration": 284,
    "start_time": "2022-01-26T15:09:29.919Z"
   },
   {
    "duration": 4,
    "start_time": "2022-01-26T15:10:20.533Z"
   },
   {
    "duration": 4,
    "start_time": "2022-01-26T15:10:29.479Z"
   },
   {
    "duration": 260149,
    "start_time": "2022-01-26T15:10:34.479Z"
   },
   {
    "duration": 4,
    "start_time": "2022-01-26T15:15:24.460Z"
   },
   {
    "duration": 59184,
    "start_time": "2022-01-26T15:15:25.991Z"
   },
   {
    "duration": 4,
    "start_time": "2022-01-26T15:16:26.629Z"
   },
   {
    "duration": 127003,
    "start_time": "2022-01-26T15:16:28.225Z"
   },
   {
    "duration": 5,
    "start_time": "2022-01-26T15:18:35.230Z"
   },
   {
    "duration": 4,
    "start_time": "2022-01-26T15:18:37.230Z"
   },
   {
    "duration": 4,
    "start_time": "2022-01-26T15:18:45.143Z"
   },
   {
    "duration": 19636,
    "start_time": "2022-01-26T15:18:50.943Z"
   },
   {
    "duration": 5,
    "start_time": "2022-01-26T15:20:15.521Z"
   },
   {
    "duration": 8167,
    "start_time": "2022-01-26T15:20:17.260Z"
   },
   {
    "duration": 5,
    "start_time": "2022-01-26T15:20:26.915Z"
   },
   {
    "duration": 15104,
    "start_time": "2022-01-26T15:20:27.976Z"
   },
   {
    "duration": 5,
    "start_time": "2022-01-26T15:21:15.655Z"
   },
   {
    "duration": 22421,
    "start_time": "2022-01-26T15:21:16.652Z"
   },
   {
    "duration": 4,
    "start_time": "2022-01-26T15:21:43.699Z"
   },
   {
    "duration": 14506,
    "start_time": "2022-01-26T15:21:44.679Z"
   },
   {
    "duration": 5,
    "start_time": "2022-01-26T15:22:52.949Z"
   },
   {
    "duration": 1015766,
    "start_time": "2022-01-26T15:22:54.316Z"
   },
   {
    "duration": 278,
    "start_time": "2022-01-26T15:44:24.388Z"
   },
   {
    "duration": 18,
    "start_time": "2022-01-26T15:44:32.705Z"
   },
   {
    "duration": 4,
    "start_time": "2022-01-26T15:44:37.390Z"
   },
   {
    "duration": 1281,
    "start_time": "2022-01-26T15:44:38.506Z"
   },
   {
    "duration": 3207,
    "start_time": "2022-01-26T15:44:48.600Z"
   },
   {
    "duration": 4,
    "start_time": "2022-01-26T15:46:50.029Z"
   },
   {
    "duration": 157549,
    "start_time": "2022-01-26T15:46:50.960Z"
   },
   {
    "duration": 4417,
    "start_time": "2022-01-26T15:59:49.886Z"
   },
   {
    "duration": 4430,
    "start_time": "2022-01-26T16:00:14.312Z"
   },
   {
    "duration": 4169,
    "start_time": "2022-01-26T16:00:35.736Z"
   },
   {
    "duration": 21186,
    "start_time": "2022-01-26T16:01:09.193Z"
   },
   {
    "duration": 22608,
    "start_time": "2022-01-26T16:02:08.790Z"
   },
   {
    "duration": 389,
    "start_time": "2022-01-26T16:02:52.978Z"
   },
   {
    "duration": 20823,
    "start_time": "2022-01-26T16:03:08.073Z"
   },
   {
    "duration": 21569,
    "start_time": "2022-01-26T16:04:23.119Z"
   },
   {
    "duration": 4262,
    "start_time": "2022-01-26T16:05:06.431Z"
   },
   {
    "duration": 4814,
    "start_time": "2022-01-26T16:05:47.710Z"
   },
   {
    "duration": 3,
    "start_time": "2022-01-26T16:06:18.874Z"
   },
   {
    "duration": 14880,
    "start_time": "2022-01-26T16:06:23.255Z"
   },
   {
    "duration": 4,
    "start_time": "2022-01-26T16:06:40.066Z"
   },
   {
    "duration": 149935,
    "start_time": "2022-01-26T16:06:40.668Z"
   },
   {
    "duration": 164716,
    "start_time": "2022-01-26T16:12:56.802Z"
   },
   {
    "duration": 146843,
    "start_time": "2022-01-26T16:16:51.845Z"
   },
   {
    "duration": 1942,
    "start_time": "2022-01-27T04:03:30.204Z"
   },
   {
    "duration": 4076,
    "start_time": "2022-01-27T04:03:32.149Z"
   },
   {
    "duration": 263,
    "start_time": "2022-01-27T04:03:36.232Z"
   },
   {
    "duration": 198,
    "start_time": "2022-01-27T04:03:36.497Z"
   },
   {
    "duration": 46,
    "start_time": "2022-01-27T04:03:36.697Z"
   },
   {
    "duration": 1148,
    "start_time": "2022-01-27T04:03:36.746Z"
   },
   {
    "duration": 61,
    "start_time": "2022-01-27T04:03:37.896Z"
   },
   {
    "duration": 23,
    "start_time": "2022-01-27T04:03:37.961Z"
   },
   {
    "duration": 59,
    "start_time": "2022-01-27T04:03:37.987Z"
   },
   {
    "duration": 89,
    "start_time": "2022-01-27T04:03:38.049Z"
   },
   {
    "duration": 52922,
    "start_time": "2022-01-27T04:03:38.141Z"
   },
   {
    "duration": 501,
    "start_time": "2022-01-27T04:04:31.066Z"
   },
   {
    "duration": 2991,
    "start_time": "2022-01-27T04:04:31.569Z"
   },
   {
    "duration": 140,
    "start_time": "2022-01-27T04:04:34.563Z"
   },
   {
    "duration": 193,
    "start_time": "2022-01-27T04:04:34.705Z"
   },
   {
    "duration": 68,
    "start_time": "2022-01-27T04:04:34.900Z"
   },
   {
    "duration": 19,
    "start_time": "2022-01-27T04:04:34.971Z"
   },
   {
    "duration": 1029,
    "start_time": "2022-01-27T04:04:34.993Z"
   },
   {
    "duration": 314,
    "start_time": "2022-01-27T04:04:36.025Z"
   },
   {
    "duration": 5,
    "start_time": "2022-01-27T04:04:36.342Z"
   },
   {
    "duration": 25,
    "start_time": "2022-01-27T04:04:36.350Z"
   },
   {
    "duration": 28,
    "start_time": "2022-01-27T04:04:36.378Z"
   },
   {
    "duration": -23,
    "start_time": "2022-01-27T04:04:36.432Z"
   },
   {
    "duration": -27,
    "start_time": "2022-01-27T04:04:36.438Z"
   },
   {
    "duration": -28,
    "start_time": "2022-01-27T04:04:36.441Z"
   },
   {
    "duration": -28,
    "start_time": "2022-01-27T04:04:36.443Z"
   },
   {
    "duration": 3215,
    "start_time": "2022-01-27T04:07:06.406Z"
   },
   {
    "duration": 267,
    "start_time": "2022-01-27T04:07:09.910Z"
   },
   {
    "duration": 5,
    "start_time": "2022-01-27T04:07:59.545Z"
   },
   {
    "duration": 182429,
    "start_time": "2022-01-27T04:08:01.605Z"
   },
   {
    "duration": 5,
    "start_time": "2022-01-27T04:11:04.037Z"
   },
   {
    "duration": 183505,
    "start_time": "2022-01-27T04:12:31.967Z"
   },
   {
    "duration": 6,
    "start_time": "2022-01-27T04:16:32.679Z"
   },
   {
    "duration": 3518147,
    "start_time": "2022-01-27T04:16:37.321Z"
   },
   {
    "duration": 6,
    "start_time": "2022-01-27T05:16:03.562Z"
   },
   {
    "duration": 11877,
    "start_time": "2022-01-27T05:16:04.597Z"
   },
   {
    "duration": 7,
    "start_time": "2022-01-27T05:16:27.603Z"
   },
   {
    "duration": 165031,
    "start_time": "2022-01-27T05:16:28.531Z"
   },
   {
    "duration": 8,
    "start_time": "2022-01-27T05:19:30.540Z"
   },
   {
    "duration": 69464,
    "start_time": "2022-01-27T05:19:31.076Z"
   },
   {
    "duration": 6,
    "start_time": "2022-01-27T05:20:58.546Z"
   },
   {
    "duration": 77835,
    "start_time": "2022-01-27T05:20:59.306Z"
   },
   {
    "duration": 7,
    "start_time": "2022-01-27T05:26:02.167Z"
   },
   {
    "duration": 151005,
    "start_time": "2022-01-27T05:26:02.648Z"
   },
   {
    "duration": 240,
    "start_time": "2022-01-27T05:29:15.466Z"
   },
   {
    "duration": 194,
    "start_time": "2022-01-27T05:29:16.641Z"
   },
   {
    "duration": 37,
    "start_time": "2022-01-27T05:29:17.657Z"
   },
   {
    "duration": 1453,
    "start_time": "2022-01-27T05:29:18.882Z"
   },
   {
    "duration": 58,
    "start_time": "2022-01-27T05:29:24.058Z"
   },
   {
    "duration": 36,
    "start_time": "2022-01-27T05:29:38.144Z"
   },
   {
    "duration": 39,
    "start_time": "2022-01-27T05:29:39.344Z"
   },
   {
    "duration": 81,
    "start_time": "2022-01-27T05:29:40.639Z"
   },
   {
    "duration": 3109,
    "start_time": "2022-01-27T05:29:48.504Z"
   },
   {
    "duration": 202,
    "start_time": "2022-01-27T05:29:59.655Z"
   },
   {
    "duration": 65,
    "start_time": "2022-01-27T05:30:03.175Z"
   },
   {
    "duration": 19,
    "start_time": "2022-01-27T05:30:06.478Z"
   },
   {
    "duration": 320,
    "start_time": "2022-01-27T05:30:53.011Z"
   },
   {
    "duration": 341,
    "start_time": "2022-01-27T05:31:23.414Z"
   },
   {
    "duration": 10,
    "start_time": "2022-01-27T05:34:22.782Z"
   },
   {
    "duration": 211,
    "start_time": "2022-01-27T05:41:09.444Z"
   },
   {
    "duration": 181,
    "start_time": "2022-01-27T05:41:10.375Z"
   },
   {
    "duration": 35,
    "start_time": "2022-01-27T05:41:11.045Z"
   },
   {
    "duration": 48,
    "start_time": "2022-01-27T05:41:14.766Z"
   },
   {
    "duration": 24,
    "start_time": "2022-01-27T05:41:16.318Z"
   },
   {
    "duration": 38,
    "start_time": "2022-01-27T05:41:17.525Z"
   },
   {
    "duration": 81,
    "start_time": "2022-01-27T05:41:19.822Z"
   },
   {
    "duration": 157,
    "start_time": "2022-01-27T05:41:28.438Z"
   },
   {
    "duration": 16,
    "start_time": "2022-01-27T05:41:32.405Z"
   },
   {
    "duration": 22,
    "start_time": "2022-01-27T05:41:41.213Z"
   },
   {
    "duration": 1581,
    "start_time": "2022-01-27T05:41:52.745Z"
   },
   {
    "duration": 287,
    "start_time": "2022-01-27T05:42:56.213Z"
   },
   {
    "duration": 4,
    "start_time": "2022-01-27T05:43:02.532Z"
   },
   {
    "duration": 217,
    "start_time": "2022-01-27T05:43:03.779Z"
   },
   {
    "duration": 6,
    "start_time": "2022-01-27T05:43:31.948Z"
   },
   {
    "duration": 147643,
    "start_time": "2022-01-27T05:43:40.004Z"
   },
   {
    "duration": 6,
    "start_time": "2022-01-27T05:46:33.884Z"
   },
   {
    "duration": 188830,
    "start_time": "2022-01-27T05:46:47.899Z"
   },
   {
    "duration": 6,
    "start_time": "2022-01-27T05:52:07.446Z"
   },
   {
    "duration": 132286,
    "start_time": "2022-01-27T05:52:09.258Z"
   },
   {
    "duration": 7,
    "start_time": "2022-01-27T05:56:40.900Z"
   },
   {
    "duration": 399517,
    "start_time": "2022-01-27T05:56:49.020Z"
   },
   {
    "duration": 5,
    "start_time": "2022-01-27T06:03:28.540Z"
   },
   {
    "duration": 192871,
    "start_time": "2022-01-27T06:03:28.548Z"
   },
   {
    "duration": 5,
    "start_time": "2022-01-27T06:07:54.878Z"
   },
   {
    "duration": 93588,
    "start_time": "2022-01-27T06:07:55.070Z"
   },
   {
    "duration": 5,
    "start_time": "2022-01-27T06:12:35.237Z"
   },
   {
    "duration": 147229,
    "start_time": "2022-01-27T06:12:35.709Z"
   },
   {
    "duration": 6,
    "start_time": "2022-01-27T06:15:52.728Z"
   },
   {
    "duration": 204481,
    "start_time": "2022-01-27T06:15:57.599Z"
   },
   {
    "duration": 5,
    "start_time": "2022-01-27T06:20:57.483Z"
   },
   {
    "duration": 172273,
    "start_time": "2022-01-27T06:20:57.931Z"
   },
   {
    "duration": 5,
    "start_time": "2022-01-27T06:26:27.197Z"
   },
   {
    "duration": 87053,
    "start_time": "2022-01-27T06:26:29.812Z"
   },
   {
    "duration": 7,
    "start_time": "2022-01-27T06:28:37.546Z"
   },
   {
    "duration": 186054,
    "start_time": "2022-01-27T06:28:38.538Z"
   },
   {
    "duration": 5,
    "start_time": "2022-01-27T06:32:18.730Z"
   },
   {
    "duration": 96775,
    "start_time": "2022-01-27T06:32:23.005Z"
   },
   {
    "duration": 7,
    "start_time": "2022-01-27T06:35:31.362Z"
   },
   {
    "duration": 1231265,
    "start_time": "2022-01-27T06:35:33.289Z"
   },
   {
    "duration": 7,
    "start_time": "2022-01-27T06:58:32.349Z"
   },
   {
    "duration": 2170542,
    "start_time": "2022-01-27T06:58:33.109Z"
   },
   {
    "duration": 8,
    "start_time": "2022-01-27T07:36:44.828Z"
   },
   {
    "duration": 2431182,
    "start_time": "2022-01-27T07:36:45.872Z"
   },
   {
    "duration": 7,
    "start_time": "2022-01-27T08:22:03.114Z"
   },
   {
    "duration": 2630744,
    "start_time": "2022-01-27T08:22:10.091Z"
   },
   {
    "duration": 7,
    "start_time": "2022-01-27T09:10:30.217Z"
   },
   {
    "duration": 2064444,
    "start_time": "2022-01-27T09:10:38.801Z"
   },
   {
    "duration": 7,
    "start_time": "2022-01-27T09:52:41.404Z"
   },
   {
    "duration": 6,
    "start_time": "2022-01-27T09:52:58.909Z"
   },
   {
    "duration": 7,
    "start_time": "2022-01-27T09:54:16.780Z"
   },
   {
    "duration": 233,
    "start_time": "2022-01-27T09:54:33.017Z"
   },
   {
    "duration": 37,
    "start_time": "2022-01-27T09:54:38.264Z"
   },
   {
    "duration": 1641,
    "start_time": "2022-01-27T09:54:55.268Z"
   },
   {
    "duration": 2854,
    "start_time": "2022-01-27T09:54:56.912Z"
   },
   {
    "duration": 315,
    "start_time": "2022-01-27T09:54:59.769Z"
   },
   {
    "duration": 223,
    "start_time": "2022-01-27T09:55:00.088Z"
   },
   {
    "duration": 45,
    "start_time": "2022-01-27T09:55:00.313Z"
   },
   {
    "duration": 1310,
    "start_time": "2022-01-27T09:55:00.364Z"
   },
   {
    "duration": 61,
    "start_time": "2022-01-27T09:55:01.677Z"
   },
   {
    "duration": 44,
    "start_time": "2022-01-27T09:55:01.744Z"
   },
   {
    "duration": 65,
    "start_time": "2022-01-27T09:55:01.792Z"
   },
   {
    "duration": 121,
    "start_time": "2022-01-27T09:55:01.860Z"
   },
   {
    "duration": 70026,
    "start_time": "2022-01-27T09:55:01.984Z"
   },
   {
    "duration": 545,
    "start_time": "2022-01-27T09:56:12.012Z"
   },
   {
    "duration": 4016,
    "start_time": "2022-01-27T09:56:12.559Z"
   },
   {
    "duration": 180,
    "start_time": "2022-01-27T09:56:16.580Z"
   },
   {
    "duration": 19,
    "start_time": "2022-01-27T09:56:16.769Z"
   },
   {
    "duration": 1830,
    "start_time": "2022-01-27T09:56:16.791Z"
   },
   {
    "duration": 458,
    "start_time": "2022-01-27T09:56:18.624Z"
   },
   {
    "duration": 5,
    "start_time": "2022-01-27T09:56:19.085Z"
   },
   {
    "duration": 385,
    "start_time": "2022-01-27T09:56:19.093Z"
   },
   {
    "duration": 6,
    "start_time": "2022-01-27T09:56:19.484Z"
   },
   {
    "duration": 945546,
    "start_time": "2022-01-27T09:56:19.492Z"
   },
   {
    "duration": 13,
    "start_time": "2022-01-27T10:12:05.041Z"
   },
   {
    "duration": 119845,
    "start_time": "2022-01-27T10:12:05.059Z"
   },
   {
    "duration": 1032,
    "start_time": "2022-01-27T10:14:04.907Z"
   },
   {
    "duration": 35,
    "start_time": "2022-01-27T10:14:05.941Z"
   },
   {
    "duration": 126,
    "start_time": "2022-01-27T10:31:31.663Z"
   },
   {
    "duration": 16,
    "start_time": "2022-01-27T10:37:37.739Z"
   },
   {
    "duration": 859,
    "start_time": "2022-01-27T10:37:48.158Z"
   },
   {
    "duration": 7,
    "start_time": "2022-01-27T10:41:26.353Z"
   },
   {
    "duration": 676,
    "start_time": "2022-01-27T10:41:40.681Z"
   },
   {
    "duration": 319,
    "start_time": "2022-01-27T10:46:16.506Z"
   },
   {
    "duration": 5,
    "start_time": "2022-01-27T10:46:25.304Z"
   },
   {
    "duration": 49,
    "start_time": "2022-01-27T10:46:30.720Z"
   },
   {
    "duration": 35,
    "start_time": "2022-01-27T10:46:40.024Z"
   },
   {
    "duration": 25,
    "start_time": "2022-01-27T10:46:55.051Z"
   },
   {
    "duration": 15,
    "start_time": "2022-01-27T10:47:26.687Z"
   },
   {
    "duration": 1670,
    "start_time": "2022-01-27T10:50:23.974Z"
   },
   {
    "duration": 2659,
    "start_time": "2022-01-27T10:50:25.647Z"
   },
   {
    "duration": 321,
    "start_time": "2022-01-27T10:50:28.309Z"
   },
   {
    "duration": 214,
    "start_time": "2022-01-27T10:50:28.636Z"
   },
   {
    "duration": 35,
    "start_time": "2022-01-27T10:50:28.853Z"
   },
   {
    "duration": 1284,
    "start_time": "2022-01-27T10:50:28.890Z"
   },
   {
    "duration": 59,
    "start_time": "2022-01-27T10:50:30.177Z"
   },
   {
    "duration": 39,
    "start_time": "2022-01-27T10:50:30.242Z"
   },
   {
    "duration": 62,
    "start_time": "2022-01-27T10:50:30.284Z"
   },
   {
    "duration": 105,
    "start_time": "2022-01-27T10:50:30.350Z"
   },
   {
    "duration": 66450,
    "start_time": "2022-01-27T10:50:30.465Z"
   },
   {
    "duration": 496,
    "start_time": "2022-01-27T10:51:36.918Z"
   },
   {
    "duration": 3501,
    "start_time": "2022-01-27T10:51:37.416Z"
   },
   {
    "duration": 199,
    "start_time": "2022-01-27T10:51:40.920Z"
   },
   {
    "duration": 26,
    "start_time": "2022-01-27T10:51:41.122Z"
   },
   {
    "duration": 1832,
    "start_time": "2022-01-27T10:51:41.151Z"
   },
   {
    "duration": 357,
    "start_time": "2022-01-27T10:51:42.986Z"
   },
   {
    "duration": 3,
    "start_time": "2022-01-27T10:51:43.350Z"
   },
   {
    "duration": 282,
    "start_time": "2022-01-27T10:51:43.356Z"
   },
   {
    "duration": 15,
    "start_time": "2022-01-27T10:51:43.645Z"
   },
   {
    "duration": 1017796,
    "start_time": "2022-01-27T10:51:43.663Z"
   },
   {
    "duration": 6,
    "start_time": "2022-01-27T11:08:41.462Z"
   },
   {
    "duration": 113767,
    "start_time": "2022-01-27T11:08:41.477Z"
   },
   {
    "duration": 1004,
    "start_time": "2022-01-27T11:10:35.248Z"
   },
   {
    "duration": 35,
    "start_time": "2022-01-27T11:10:36.255Z"
   },
   {
    "duration": 61,
    "start_time": "2022-01-27T11:10:36.293Z"
   },
   {
    "duration": 1623,
    "start_time": "2022-01-27T13:32:48.449Z"
   },
   {
    "duration": 2419,
    "start_time": "2022-01-27T13:32:50.075Z"
   },
   {
    "duration": 252,
    "start_time": "2022-01-27T13:33:19.384Z"
   },
   {
    "duration": 206,
    "start_time": "2022-01-27T13:33:21.640Z"
   },
   {
    "duration": 36,
    "start_time": "2022-01-27T13:33:46.111Z"
   },
   {
    "duration": 1165,
    "start_time": "2022-01-27T13:33:47.036Z"
   },
   {
    "duration": 26,
    "start_time": "2022-01-27T13:35:39.507Z"
   },
   {
    "duration": 52,
    "start_time": "2022-01-27T13:35:45.500Z"
   },
   {
    "duration": 38,
    "start_time": "2022-01-27T13:35:49.502Z"
   },
   {
    "duration": 84,
    "start_time": "2022-01-27T13:35:50.501Z"
   },
   {
    "duration": 59140,
    "start_time": "2022-01-27T13:35:51.670Z"
   },
   {
    "duration": 518,
    "start_time": "2022-01-27T13:36:50.813Z"
   },
   {
    "duration": 3385,
    "start_time": "2022-01-27T13:36:51.334Z"
   },
   {
    "duration": 86,
    "start_time": "2022-01-27T13:37:50.584Z"
   },
   {
    "duration": 150,
    "start_time": "2022-01-27T13:39:36.981Z"
   },
   {
    "duration": 23,
    "start_time": "2022-01-27T13:39:38.642Z"
   },
   {
    "duration": 1717,
    "start_time": "2022-01-27T13:39:40.344Z"
   },
   {
    "duration": 318,
    "start_time": "2022-01-27T13:39:42.064Z"
   },
   {
    "duration": 4,
    "start_time": "2022-01-27T13:39:42.385Z"
   },
   {
    "duration": 247,
    "start_time": "2022-01-27T13:39:42.392Z"
   },
   {
    "duration": 6,
    "start_time": "2022-01-27T13:42:29.948Z"
   },
   {
    "duration": 403490,
    "start_time": "2022-01-27T13:42:30.571Z"
   },
   {
    "duration": 6,
    "start_time": "2022-01-27T13:49:14.064Z"
   },
   {
    "duration": 91488,
    "start_time": "2022-01-27T13:49:14.073Z"
   },
   {
    "duration": 927,
    "start_time": "2022-01-27T13:50:45.564Z"
   },
   {
    "duration": 86,
    "start_time": "2022-01-27T13:50:46.494Z"
   },
   {
    "duration": 15,
    "start_time": "2022-01-27T13:50:46.582Z"
   },
   {
    "duration": 456,
    "start_time": "2022-01-27T14:47:20.056Z"
   },
   {
    "duration": 1589,
    "start_time": "2022-01-27T14:47:42.733Z"
   },
   {
    "duration": 6060,
    "start_time": "2022-01-27T14:47:44.325Z"
   },
   {
    "duration": 267,
    "start_time": "2022-01-27T14:47:50.388Z"
   },
   {
    "duration": 202,
    "start_time": "2022-01-27T14:47:50.658Z"
   },
   {
    "duration": 38,
    "start_time": "2022-01-27T14:47:50.862Z"
   },
   {
    "duration": 1196,
    "start_time": "2022-01-27T14:47:50.902Z"
   },
   {
    "duration": 111,
    "start_time": "2022-01-27T14:47:52.101Z"
   },
   {
    "duration": -34,
    "start_time": "2022-01-27T14:47:52.250Z"
   },
   {
    "duration": -40,
    "start_time": "2022-01-27T14:47:52.257Z"
   },
   {
    "duration": -44,
    "start_time": "2022-01-27T14:47:52.263Z"
   },
   {
    "duration": -48,
    "start_time": "2022-01-27T14:47:52.268Z"
   },
   {
    "duration": -53,
    "start_time": "2022-01-27T14:47:52.275Z"
   },
   {
    "duration": -57,
    "start_time": "2022-01-27T14:47:52.280Z"
   },
   {
    "duration": -60,
    "start_time": "2022-01-27T14:47:52.285Z"
   },
   {
    "duration": -65,
    "start_time": "2022-01-27T14:47:52.291Z"
   },
   {
    "duration": -68,
    "start_time": "2022-01-27T14:47:52.295Z"
   },
   {
    "duration": -71,
    "start_time": "2022-01-27T14:47:52.300Z"
   },
   {
    "duration": -72,
    "start_time": "2022-01-27T14:47:52.303Z"
   },
   {
    "duration": -78,
    "start_time": "2022-01-27T14:47:52.310Z"
   },
   {
    "duration": -83,
    "start_time": "2022-01-27T14:47:52.316Z"
   },
   {
    "duration": -96,
    "start_time": "2022-01-27T14:47:52.331Z"
   },
   {
    "duration": -104,
    "start_time": "2022-01-27T14:47:52.340Z"
   },
   {
    "duration": -108,
    "start_time": "2022-01-27T14:47:52.346Z"
   },
   {
    "duration": -116,
    "start_time": "2022-01-27T14:47:52.355Z"
   },
   {
    "duration": -123,
    "start_time": "2022-01-27T14:47:52.363Z"
   },
   {
    "duration": -129,
    "start_time": "2022-01-27T14:47:52.371Z"
   },
   {
    "duration": -135,
    "start_time": "2022-01-27T14:47:52.379Z"
   },
   {
    "duration": -137,
    "start_time": "2022-01-27T14:47:52.383Z"
   },
   {
    "duration": -141,
    "start_time": "2022-01-27T14:47:52.388Z"
   },
   {
    "duration": 1598,
    "start_time": "2022-01-27T14:48:30.724Z"
   },
   {
    "duration": 2344,
    "start_time": "2022-01-27T14:48:32.325Z"
   },
   {
    "duration": 263,
    "start_time": "2022-01-27T14:48:34.672Z"
   },
   {
    "duration": 206,
    "start_time": "2022-01-27T14:48:34.938Z"
   },
   {
    "duration": 48,
    "start_time": "2022-01-27T14:48:35.146Z"
   },
   {
    "duration": 1540,
    "start_time": "2022-01-27T14:48:35.196Z"
   },
   {
    "duration": 62,
    "start_time": "2022-01-27T14:48:36.739Z"
   },
   {
    "duration": 25,
    "start_time": "2022-01-27T14:48:36.805Z"
   },
   {
    "duration": 55,
    "start_time": "2022-01-27T14:48:36.832Z"
   },
   {
    "duration": 100,
    "start_time": "2022-01-27T14:48:36.890Z"
   },
   {
    "duration": 58810,
    "start_time": "2022-01-27T14:48:36.993Z"
   },
   {
    "duration": 534,
    "start_time": "2022-01-27T14:49:35.805Z"
   },
   {
    "duration": 3138,
    "start_time": "2022-01-27T14:49:36.342Z"
   },
   {
    "duration": 92,
    "start_time": "2022-01-27T14:49:39.482Z"
   },
   {
    "duration": 168,
    "start_time": "2022-01-27T14:49:39.576Z"
   },
   {
    "duration": 23,
    "start_time": "2022-01-27T14:49:39.746Z"
   },
   {
    "duration": 1540,
    "start_time": "2022-01-27T14:49:39.772Z"
   },
   {
    "duration": 304,
    "start_time": "2022-01-27T14:49:41.314Z"
   },
   {
    "duration": 4,
    "start_time": "2022-01-27T14:49:41.621Z"
   },
   {
    "duration": 238,
    "start_time": "2022-01-27T14:49:41.627Z"
   },
   {
    "duration": 5,
    "start_time": "2022-01-27T14:49:41.869Z"
   },
   {
    "duration": 321399,
    "start_time": "2022-01-27T14:49:41.877Z"
   },
   {
    "duration": 4,
    "start_time": "2022-01-27T14:55:03.284Z"
   },
   {
    "duration": 90264,
    "start_time": "2022-01-27T14:55:03.291Z"
   },
   {
    "duration": 922,
    "start_time": "2022-01-27T14:56:33.558Z"
   },
   {
    "duration": 98,
    "start_time": "2022-01-27T14:56:34.483Z"
   },
   {
    "duration": 14,
    "start_time": "2022-01-27T14:56:34.583Z"
   },
   {
    "duration": 304,
    "start_time": "2022-01-27T14:56:34.600Z"
   },
   {
    "duration": 5,
    "start_time": "2022-01-27T15:04:28.393Z"
   },
   {
    "duration": 266,
    "start_time": "2022-01-27T15:05:17.925Z"
   },
   {
    "duration": 577,
    "start_time": "2022-01-27T15:08:08.526Z"
   },
   {
    "duration": 569,
    "start_time": "2022-01-27T15:08:37.452Z"
   },
   {
    "duration": 2235,
    "start_time": "2022-01-27T15:09:29.748Z"
   },
   {
    "duration": 3616,
    "start_time": "2022-01-27T15:09:31.987Z"
   },
   {
    "duration": 412,
    "start_time": "2022-01-27T15:09:35.605Z"
   },
   {
    "duration": 256,
    "start_time": "2022-01-27T15:09:36.021Z"
   },
   {
    "duration": 41,
    "start_time": "2022-01-27T15:09:36.280Z"
   },
   {
    "duration": 1203,
    "start_time": "2022-01-27T15:09:36.324Z"
   },
   {
    "duration": 58,
    "start_time": "2022-01-27T15:09:37.530Z"
   },
   {
    "duration": 30,
    "start_time": "2022-01-27T15:09:37.593Z"
   },
   {
    "duration": 64,
    "start_time": "2022-01-27T15:09:37.626Z"
   },
   {
    "duration": 95,
    "start_time": "2022-01-27T15:09:37.693Z"
   },
   {
    "duration": 56332,
    "start_time": "2022-01-27T15:09:37.791Z"
   },
   {
    "duration": 501,
    "start_time": "2022-01-27T15:10:34.126Z"
   },
   {
    "duration": 3225,
    "start_time": "2022-01-27T15:10:34.630Z"
   },
   {
    "duration": 91,
    "start_time": "2022-01-27T15:10:37.858Z"
   },
   {
    "duration": 179,
    "start_time": "2022-01-27T15:10:37.952Z"
   },
   {
    "duration": 15,
    "start_time": "2022-01-27T15:10:38.134Z"
   },
   {
    "duration": 1657,
    "start_time": "2022-01-27T15:10:38.152Z"
   },
   {
    "duration": 333,
    "start_time": "2022-01-27T15:10:39.812Z"
   },
   {
    "duration": 4,
    "start_time": "2022-01-27T15:10:40.147Z"
   },
   {
    "duration": 237,
    "start_time": "2022-01-27T15:10:40.153Z"
   },
   {
    "duration": 6,
    "start_time": "2022-01-27T15:10:40.393Z"
   },
   {
    "duration": 318970,
    "start_time": "2022-01-27T15:10:40.401Z"
   },
   {
    "duration": 5,
    "start_time": "2022-01-27T15:15:59.376Z"
   },
   {
    "duration": 93789,
    "start_time": "2022-01-27T15:15:59.384Z"
   },
   {
    "duration": 1014,
    "start_time": "2022-01-27T15:17:33.176Z"
   },
   {
    "duration": 82,
    "start_time": "2022-01-27T15:17:34.192Z"
   },
   {
    "duration": 16,
    "start_time": "2022-01-27T15:17:34.276Z"
   },
   {
    "duration": 603,
    "start_time": "2022-01-27T15:17:34.294Z"
   }
  ],
  "kernelspec": {
   "display_name": "Python 3 (ipykernel)",
   "language": "python",
   "name": "python3"
  },
  "language_info": {
   "codemirror_mode": {
    "name": "ipython",
    "version": 3
   },
   "file_extension": ".py",
   "mimetype": "text/x-python",
   "name": "python",
   "nbconvert_exporter": "python",
   "pygments_lexer": "ipython3",
   "version": "3.10.1"
  },
  "toc": {
   "base_numbering": 1,
   "nav_menu": {},
   "number_sections": true,
   "sideBar": true,
   "skip_h1_title": true,
   "title_cell": "Оглавление",
   "title_sidebar": "Оглавление",
   "toc_cell": true,
   "toc_position": {
    "height": "calc(100% - 180px)",
    "left": "10px",
    "top": "150px",
    "width": "366.375px"
   },
   "toc_section_display": true,
   "toc_window_display": true
  }
 },
 "nbformat": 4,
 "nbformat_minor": 2
}
